{
 "cells": [
  {
   "cell_type": "markdown",
   "metadata": {},
   "source": [
    "# We have used the Gender API to evaluate gender\n",
    "\n",
    "Now we want to assess its accuracy using a test set."
   ]
  },
  {
   "cell_type": "markdown",
   "metadata": {},
   "source": [
    "## Load the data\n",
    "\n",
    "Three datasets, each a csv file:\n",
    "- `test_set`\n",
    "- `auth`\n",
    "- `gender`"
   ]
  },
  {
   "cell_type": "code",
   "execution_count": 1,
   "metadata": {},
   "outputs": [],
   "source": [
    "import pandas as pd\n",
    "import numpy as np"
   ]
  },
  {
   "cell_type": "code",
   "execution_count": 2,
   "metadata": {},
   "outputs": [],
   "source": [
    "test_set = pd.read_csv('/home/rdora/femec/data/top_femec.csv')\n",
    "auth = pd.read_csv('/home/rdora/femec/data/author.csv')\n",
    "gender = pd.read_csv('/home/rdora/femec/data/gender.csv')"
   ]
  },
  {
   "cell_type": "code",
   "execution_count": 3,
   "metadata": {},
   "outputs": [
    {
     "name": "stdout",
     "output_type": "stream",
     "text": [
      "Shape of authors: 72,754\n",
      "Shape of test_set 1,481\n"
     ]
    }
   ],
   "source": [
    "print(f\"Shape of authors: {auth.shape[0]:,}\\nShape of test_set {test_set.shape[0]:,}\")"
   ]
  },
  {
   "cell_type": "markdown",
   "metadata": {},
   "source": [
    "We have 72,754 total authors without gender information. We know the gender of 1,481 women, this is the test set."
   ]
  },
  {
   "cell_type": "markdown",
   "metadata": {},
   "source": [
    "## Data processing\n",
    "\n",
    "In `gender` we have some name duplicates, we need to analyse further to know the reason."
   ]
  },
  {
   "cell_type": "code",
   "execution_count": 4,
   "metadata": {
    "scrolled": false
   },
   "outputs": [
    {
     "data": {
      "text/html": [
       "<div>\n",
       "<style scoped>\n",
       "    .dataframe tbody tr th:only-of-type {\n",
       "        vertical-align: middle;\n",
       "    }\n",
       "\n",
       "    .dataframe tbody tr th {\n",
       "        vertical-align: top;\n",
       "    }\n",
       "\n",
       "    .dataframe thead th {\n",
       "        text-align: right;\n",
       "    }\n",
       "</style>\n",
       "<table border=\"1\" class=\"dataframe\">\n",
       "  <thead>\n",
       "    <tr style=\"text-align: right;\">\n",
       "      <th></th>\n",
       "      <th>name</th>\n",
       "      <th>q</th>\n",
       "      <th>gender</th>\n",
       "      <th>total_names</th>\n",
       "      <th>probability</th>\n",
       "      <th>country</th>\n",
       "    </tr>\n",
       "  </thead>\n",
       "  <tbody>\n",
       "    <tr>\n",
       "      <th>56</th>\n",
       "      <td>muhammad</td>\n",
       "      <td>muhammad irwan padli</td>\n",
       "      <td>male</td>\n",
       "      <td>63762</td>\n",
       "      <td>99</td>\n",
       "      <td>ID</td>\n",
       "    </tr>\n",
       "    <tr>\n",
       "      <th>107</th>\n",
       "      <td>muhammad</td>\n",
       "      <td>muhammad</td>\n",
       "      <td>male</td>\n",
       "      <td>63762</td>\n",
       "      <td>99</td>\n",
       "      <td>ID</td>\n",
       "    </tr>\n",
       "    <tr>\n",
       "      <th>1758</th>\n",
       "      <td>muhammad</td>\n",
       "      <td>muhammad farooq</td>\n",
       "      <td>male</td>\n",
       "      <td>63762</td>\n",
       "      <td>99</td>\n",
       "      <td>ID</td>\n",
       "    </tr>\n",
       "    <tr>\n",
       "      <th>1789</th>\n",
       "      <td>muhammad</td>\n",
       "      <td>muhammad baqir</td>\n",
       "      <td>male</td>\n",
       "      <td>63762</td>\n",
       "      <td>99</td>\n",
       "      <td>ID</td>\n",
       "    </tr>\n",
       "    <tr>\n",
       "      <th>2331</th>\n",
       "      <td>muhammad</td>\n",
       "      <td>muhammad zammad</td>\n",
       "      <td>male</td>\n",
       "      <td>63762</td>\n",
       "      <td>99</td>\n",
       "      <td>ID</td>\n",
       "    </tr>\n",
       "  </tbody>\n",
       "</table>\n",
       "</div>"
      ],
      "text/plain": [
       "          name                     q gender  total_names  probability country\n",
       "56    muhammad  muhammad irwan padli   male        63762           99      ID\n",
       "107   muhammad              muhammad   male        63762           99      ID\n",
       "1758  muhammad       muhammad farooq   male        63762           99      ID\n",
       "1789  muhammad        muhammad baqir   male        63762           99      ID\n",
       "2331  muhammad       muhammad zammad   male        63762           99      ID"
      ]
     },
     "execution_count": 4,
     "metadata": {},
     "output_type": "execute_result"
    }
   ],
   "source": [
    "repeated_name = gender[gender.duplicated(subset=['name'])].iloc[0, 0]\n",
    "gender[gender.name==repeated_name].head()"
   ]
  },
  {
   "cell_type": "markdown",
   "metadata": {},
   "source": [
    "It is easy to see that repeated names come from different queries whose intersection is non-null."
   ]
  },
  {
   "cell_type": "code",
   "execution_count": 5,
   "metadata": {},
   "outputs": [],
   "source": [
    "# All names to lower capital letters\n",
    "auth['first_name'] = auth['Name-First'].str.lower()\n",
    "auth = auth.dropna(subset=['first_name'])"
   ]
  },
  {
   "cell_type": "code",
   "execution_count": 6,
   "metadata": {},
   "outputs": [],
   "source": [
    "# We only care about names we can have gender of, and remove duplicates.\n",
    "gender = gender.drop_duplicates(subset=['name'])\n",
    "\n",
    "gender = gender[~gender.gender.isna()]\n",
    "\n",
    "gender = gender[~gender.name.isna()].drop(['q', 'country'], axis=1)\n",
    "\n",
    "gender.rename(columns={'name': 'first_name'}, inplace=True)"
   ]
  },
  {
   "cell_type": "code",
   "execution_count": 7,
   "metadata": {},
   "outputs": [
    {
     "name": "stdout",
     "output_type": "stream",
     "text": [
      "Shape of gender: 16,105\n"
     ]
    }
   ],
   "source": [
    "print(f\"Shape of gender: {gender.shape[0]:,}\")"
   ]
  },
  {
   "cell_type": "code",
   "execution_count": 8,
   "metadata": {},
   "outputs": [],
   "source": [
    "auth_api = pd.merge(auth, gender, how='left', on='first_name')"
   ]
  },
  {
   "cell_type": "code",
   "execution_count": 9,
   "metadata": {},
   "outputs": [
    {
     "name": "stdout",
     "output_type": "stream",
     "text": [
      "Authors with gender: 90.32%\n"
     ]
    }
   ],
   "source": [
    "ngender = auth_api.gender.notna().sum()\n",
    "print(f\"Authors with gender: {ngender / auth_api.shape[0]:,.2%}\")"
   ]
  },
  {
   "cell_type": "markdown",
   "metadata": {},
   "source": [
    "The total number of unique names is not that large (16,105). However, 90.2% of all ~72k authors have a name in this list."
   ]
  },
  {
   "cell_type": "markdown",
   "metadata": {},
   "source": [
    "## Testing the results"
   ]
  },
  {
   "cell_type": "code",
   "execution_count": 10,
   "metadata": {},
   "outputs": [],
   "source": [
    "# Add gender data\n",
    "test_set = pd.merge(test_set, auth_api[['Short-Id', 'gender', 'probability']], how='left', on='Short-Id')"
   ]
  },
  {
   "cell_type": "markdown",
   "metadata": {},
   "source": [
    "Let's compute the precision and recall of the whole sample."
   ]
  },
  {
   "cell_type": "code",
   "execution_count": 11,
   "metadata": {},
   "outputs": [
    {
     "name": "stdout",
     "output_type": "stream",
     "text": [
      "Precision = 0.96\n",
      "Recall = 0.91\n"
     ]
    }
   ],
   "source": [
    "true_positives = (test_set.gender_y=='female').sum()\n",
    "false_positives = (test_set.gender_y=='male').sum()\n",
    "false_negatives = (test_set.gender_y!='female').sum()\n",
    "\n",
    "print(f\"Precision = {true_positives / (true_positives + false_positives):,.2}\")\n",
    "print(f\"Recall = {true_positives / (true_positives + false_negatives):,.2}\")"
   ]
  },
  {
   "cell_type": "markdown",
   "metadata": {},
   "source": [
    "## Precision and recall\n",
    "\n",
    "We have high precision and recall overall, however, if we could obtain a better precision value at low recall cost, it would be even better. It is very important that our algorithm does well in women across our dataset."
   ]
  },
  {
   "cell_type": "code",
   "execution_count": 12,
   "metadata": {},
   "outputs": [
    {
     "name": "stdout",
     "output_type": "stream",
     "text": [
      "Precision = 0.99\n",
      "Recall = 0.9\n"
     ]
    }
   ],
   "source": [
    "# Keep only gender with a probability of 90 or higher\n",
    "test_set_90 = test_set[test_set.probability >= 90]\n",
    "\n",
    "true_positives = (test_set_90.gender_y=='female').sum()\n",
    "false_positives = (test_set_90.gender_y=='male').sum()\n",
    "false_negatives = (test_set.gender_y!='female').sum()\n",
    "\n",
    "print(f\"Precision = {true_positives / (true_positives + false_positives):,.2}\")\n",
    "print(f\"Recall = {true_positives / (true_positives + false_negatives):,.2}\")"
   ]
  },
  {
   "cell_type": "markdown",
   "metadata": {},
   "source": [
    "Using a gender probability of 90 or higher, we get almost the same recall (0.9 instead of 0.91) and get 0.99 precision!"
   ]
  },
  {
   "cell_type": "markdown",
   "metadata": {},
   "source": [
    "## Let's try with another gender guesser"
   ]
  },
  {
   "cell_type": "code",
   "execution_count": 13,
   "metadata": {},
   "outputs": [],
   "source": [
    "import gender_guesser.detector as gg"
   ]
  },
  {
   "cell_type": "code",
   "execution_count": 14,
   "metadata": {},
   "outputs": [],
   "source": [
    "guessed_gender = []\n",
    "names = auth['first_name'].unique()\n",
    "d = gg.Detector()\n",
    "for name in names:\n",
    "    guessed_gender.append(d.get_gender(name.capitalize()))\n",
    "df_guess = pd.DataFrame({'first_name': names, 'gender': guessed_gender})"
   ]
  },
  {
   "cell_type": "code",
   "execution_count": 15,
   "metadata": {},
   "outputs": [
    {
     "data": {
      "text/plain": [
       "unknown          0.592417\n",
       "male             0.223902\n",
       "female           0.147348\n",
       "andy             0.015647\n",
       "mostly_male      0.012479\n",
       "mostly_female    0.008207\n",
       "Name: gender, dtype: float64"
      ]
     },
     "execution_count": 15,
     "metadata": {},
     "output_type": "execute_result"
    }
   ],
   "source": [
    "df_guess.gender.value_counts(normalize=True)"
   ]
  },
  {
   "cell_type": "markdown",
   "metadata": {},
   "source": [
    "Recall is already not great with this API"
   ]
  },
  {
   "cell_type": "code",
   "execution_count": 16,
   "metadata": {},
   "outputs": [],
   "source": [
    "auth_api = pd.merge(auth, df_guess, how='left', on='first_name')\n",
    "test_2 = pd.merge(test_set, auth_api[['Short-Id', 'gender']], how='left', on='Short-Id')"
   ]
  },
  {
   "cell_type": "markdown",
   "metadata": {},
   "source": [
    "### Now let's evaluate that on the test set"
   ]
  },
  {
   "cell_type": "code",
   "execution_count": 17,
   "metadata": {},
   "outputs": [
    {
     "name": "stdout",
     "output_type": "stream",
     "text": [
      "Precision = 0.96\n",
      "Recall = 0.86\n"
     ]
    }
   ],
   "source": [
    "true_positives = ((test_2.gender=='female') | (test_2.gender=='mostly_female')).sum()\n",
    "false_positives = ((test_2.gender=='male') | (test_2.gender=='mostly_male') | (test_2.gender=='andy')).sum()\n",
    "false_negatives = ((test_2.gender!='female') & (test_2.gender!='mostly_female')).sum()\n",
    "\n",
    "print(f\"Precision = {true_positives / (true_positives + false_positives):,.2}\")\n",
    "print(f\"Recall = {true_positives / (true_positives + false_negatives):,.2}\")"
   ]
  },
  {
   "cell_type": "markdown",
   "metadata": {},
   "source": [
    "# Add gender to the author table\n",
    "\n",
    "In this last step we'll add the gender to the author table to create the new people table."
   ]
  },
  {
   "cell_type": "code",
   "execution_count": 19,
   "metadata": {},
   "outputs": [],
   "source": [
    "auth['last_name'] = auth['Name-Last'].str.lower()"
   ]
  },
  {
   "cell_type": "code",
   "execution_count": 20,
   "metadata": {},
   "outputs": [],
   "source": [
    "people = auth[['Short-Id',\n",
    "                 'Workplace-Institution',\n",
    "                 'first_name',\n",
    "                 'last_name']]"
   ]
  },
  {
   "cell_type": "code",
   "execution_count": 21,
   "metadata": {},
   "outputs": [],
   "source": [
    "top_femec = pd.read_csv('/home/rdora/femec/data/top_femec.csv')"
   ]
  },
  {
   "cell_type": "code",
   "execution_count": 22,
   "metadata": {},
   "outputs": [],
   "source": [
    "top_femec['gender'] = 'female'"
   ]
  },
  {
   "cell_type": "code",
   "execution_count": 23,
   "metadata": {},
   "outputs": [],
   "source": [
    "gender_90 = gender[gender.probability >= 90].drop(['total_names', 'probability'], axis=1)\n",
    "people = pd.merge(people, gender_90, on='first_name', how='left')\n",
    "people = people[people.gender.notna()]"
   ]
  },
  {
   "cell_type": "code",
   "execution_count": 24,
   "metadata": {},
   "outputs": [],
   "source": [
    "# Correct top femec gender\n",
    "people.loc[people['Short-Id'].isin(top_femec['Short-Id'].unique()), 'gender'] = 'female'"
   ]
  },
  {
   "cell_type": "code",
   "execution_count": 25,
   "metadata": {},
   "outputs": [
    {
     "data": {
      "text/plain": [
       "male      0.732679\n",
       "female    0.267321\n",
       "Name: gender, dtype: float64"
      ]
     },
     "execution_count": 25,
     "metadata": {},
     "output_type": "execute_result"
    }
   ],
   "source": [
    "people.gender.value_counts(normalize=True)"
   ]
  },
  {
   "cell_type": "code",
   "execution_count": 26,
   "metadata": {},
   "outputs": [],
   "source": [
    "people.to_csv('/home/rdora/femec/data/people.csv', index=False)"
   ]
  }
 ],
 "metadata": {
  "kernelspec": {
   "display_name": "Python 3",
   "language": "python",
   "name": "python3"
  },
  "language_info": {
   "codemirror_mode": {
    "name": "ipython",
    "version": 3
   },
   "file_extension": ".py",
   "mimetype": "text/x-python",
   "name": "python",
   "nbconvert_exporter": "python",
   "pygments_lexer": "ipython3",
   "version": "3.6.9"
  }
 },
 "nbformat": 4,
 "nbformat_minor": 4
}
