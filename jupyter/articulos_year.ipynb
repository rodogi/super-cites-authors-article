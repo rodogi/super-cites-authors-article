{
 "cells": [
  {
   "cell_type": "code",
   "execution_count": 1,
   "metadata": {},
   "outputs": [],
   "source": [
    "import pandas as pd\n",
    "import re\n",
    "import numpy as np"
   ]
  },
  {
   "cell_type": "code",
   "execution_count": 34,
   "metadata": {},
   "outputs": [
    {
     "name": "stderr",
     "output_type": "stream",
     "text": [
      "/home/rdora/miniconda3/envs/femec/lib/python3.8/site-packages/IPython/core/interactiveshell.py:3145: DtypeWarning: Columns (2,3,5) have mixed types.Specify dtype option on import or set low_memory=False.\n",
      "  has_raised = await self.run_ast_nodes(code_ast.body, cell_name,\n"
     ]
    }
   ],
   "source": [
    "df = pd.read_csv('../data/articles_supp.csv')"
   ]
  },
  {
   "cell_type": "code",
   "execution_count": 135,
   "metadata": {},
   "outputs": [],
   "source": [
    "article = pd.read_csv('../data/article.csv')"
   ]
  },
  {
   "cell_type": "code",
   "execution_count": 136,
   "metadata": {},
   "outputs": [
    {
     "data": {
      "text/html": [
       "<div>\n",
       "<style scoped>\n",
       "    .dataframe tbody tr th:only-of-type {\n",
       "        vertical-align: middle;\n",
       "    }\n",
       "\n",
       "    .dataframe tbody tr th {\n",
       "        vertical-align: top;\n",
       "    }\n",
       "\n",
       "    .dataframe thead th {\n",
       "        text-align: right;\n",
       "    }\n",
       "</style>\n",
       "<table border=\"1\" class=\"dataframe\">\n",
       "  <thead>\n",
       "    <tr style=\"text-align: right;\">\n",
       "      <th></th>\n",
       "      <th>Author-Handle</th>\n",
       "      <th>Short-Id</th>\n",
       "      <th>Item-Type</th>\n",
       "      <th>Item-Id</th>\n",
       "    </tr>\n",
       "  </thead>\n",
       "  <tbody>\n",
       "    <tr>\n",
       "      <th>0</th>\n",
       "      <td>repec:per:2017-11-30:stephen_nei</td>\n",
       "      <td>pne333</td>\n",
       "      <td>paper</td>\n",
       "      <td>repec:fem:femwpa:2014.46</td>\n",
       "    </tr>\n",
       "    <tr>\n",
       "      <th>1</th>\n",
       "      <td>repec:per:2017-11-30:stephen_nei</td>\n",
       "      <td>pne333</td>\n",
       "      <td>paper</td>\n",
       "      <td>repec:ecl:stabus:3097</td>\n",
       "    </tr>\n",
       "    <tr>\n",
       "      <th>2</th>\n",
       "      <td>repec:per:2017-11-30:stephen_nei</td>\n",
       "      <td>pne333</td>\n",
       "      <td>paper</td>\n",
       "      <td>repec:arx:papers:1405.6400</td>\n",
       "    </tr>\n",
       "    <tr>\n",
       "      <th>3</th>\n",
       "      <td>repec:per:2017-11-30:stephen_nei</td>\n",
       "      <td>pne333</td>\n",
       "      <td>paper</td>\n",
       "      <td>repec:ags:feemcl:172702</td>\n",
       "    </tr>\n",
       "    <tr>\n",
       "      <th>4</th>\n",
       "      <td>repec:per:2004-04-21:leonce_ndikumana</td>\n",
       "      <td>pnd1</td>\n",
       "      <td>paper</td>\n",
       "      <td>repec:uma:periwp:wp5</td>\n",
       "    </tr>\n",
       "  </tbody>\n",
       "</table>\n",
       "</div>"
      ],
      "text/plain": [
       "                           Author-Handle Short-Id Item-Type  \\\n",
       "0       repec:per:2017-11-30:stephen_nei   pne333     paper   \n",
       "1       repec:per:2017-11-30:stephen_nei   pne333     paper   \n",
       "2       repec:per:2017-11-30:stephen_nei   pne333     paper   \n",
       "3       repec:per:2017-11-30:stephen_nei   pne333     paper   \n",
       "4  repec:per:2004-04-21:leonce_ndikumana     pnd1     paper   \n",
       "\n",
       "                      Item-Id  \n",
       "0    repec:fem:femwpa:2014.46  \n",
       "1       repec:ecl:stabus:3097  \n",
       "2  repec:arx:papers:1405.6400  \n",
       "3     repec:ags:feemcl:172702  \n",
       "4        repec:uma:periwp:wp5  "
      ]
     },
     "execution_count": 136,
     "metadata": {},
     "output_type": "execute_result"
    }
   ],
   "source": [
    "article.head()"
   ]
  },
  {
   "cell_type": "markdown",
   "metadata": {},
   "source": [
    "# Add number of authors"
   ]
  },
  {
   "cell_type": "code",
   "execution_count": 36,
   "metadata": {},
   "outputs": [],
   "source": [
    "nauthors = df.groupby('handle').size().rename('n_authors').reset_index()"
   ]
  },
  {
   "cell_type": "code",
   "execution_count": 37,
   "metadata": {},
   "outputs": [],
   "source": [
    "df = pd.merge(df, nauthors, how='left')"
   ]
  },
  {
   "cell_type": "markdown",
   "metadata": {},
   "source": [
    "# Articles"
   ]
  },
  {
   "cell_type": "code",
   "execution_count": 53,
   "metadata": {},
   "outputs": [],
   "source": [
    "df['year'] = df.year.astype(str)"
   ]
  },
  {
   "cell_type": "code",
   "execution_count": 58,
   "metadata": {},
   "outputs": [],
   "source": [
    "def remove_zero(x):\n",
    "    if x[-2:] == '.0':\n",
    "        return x[:-2]\n",
    "    else:\n",
    "        return x"
   ]
  },
  {
   "cell_type": "code",
   "execution_count": 59,
   "metadata": {},
   "outputs": [],
   "source": [
    "df['year'] = df['year'].apply(remove_zero)"
   ]
  },
  {
   "cell_type": "code",
   "execution_count": 81,
   "metadata": {},
   "outputs": [],
   "source": [
    "def remove_hyphen(x):\n",
    "    if \"-\" in x:\n",
    "        s = x.split('-')\n",
    "        if len(s[0]) == 4:\n",
    "            return s[0]\n",
    "        else:\n",
    "            return x\n",
    "    else:\n",
    "        return x"
   ]
  },
  {
   "cell_type": "code",
   "execution_count": 82,
   "metadata": {},
   "outputs": [],
   "source": [
    "df['year'] = df['year'].apply(remove_hyphen)"
   ]
  },
  {
   "cell_type": "code",
   "execution_count": 101,
   "metadata": {},
   "outputs": [],
   "source": [
    "def remove_romans(x):\n",
    "    r = re.compile(r'\\d{4}(?= *\\()')\n",
    "    m = r.match(x)\n",
    "    if m:\n",
    "        return m.group()\n",
    "    else:\n",
    "        return x"
   ]
  },
  {
   "cell_type": "code",
   "execution_count": 103,
   "metadata": {},
   "outputs": [],
   "source": [
    "df['year'] = df['year'].apply(remove_romans)"
   ]
  },
  {
   "cell_type": "code",
   "execution_count": 114,
   "metadata": {},
   "outputs": [],
   "source": [
    "def remove_nondigit(x):\n",
    "    r = re.compile(r'\\d{4}(?!=\\d)')\n",
    "    m = r.match(x)\n",
    "    if m:\n",
    "        return m.group(0)\n",
    "    else:\n",
    "        return x"
   ]
  },
  {
   "cell_type": "code",
   "execution_count": 116,
   "metadata": {},
   "outputs": [],
   "source": [
    "df['year'] = df['year'].apply(remove_nondigit)"
   ]
  },
  {
   "cell_type": "code",
   "execution_count": 127,
   "metadata": {},
   "outputs": [],
   "source": [
    "def apply_nan(x):\n",
    "    r = re.compile(r'^\\d{4}$')\n",
    "    if r.match(x):\n",
    "        return x\n",
    "    else:\n",
    "        return np.nan"
   ]
  },
  {
   "cell_type": "code",
   "execution_count": 128,
   "metadata": {},
   "outputs": [],
   "source": [
    "df['year'] = df['year'].apply(apply_nan)"
   ]
  },
  {
   "cell_type": "markdown",
   "metadata": {},
   "source": [
    "## Replace weird stuff\n",
    "\n",
    "By hand"
   ]
  },
  {
   "cell_type": "code",
   "execution_count": 139,
   "metadata": {},
   "outputs": [],
   "source": [
    "df['year'] = df['year'].replace({'2917': '2017'})"
   ]
  },
  {
   "cell_type": "code",
   "execution_count": 142,
   "metadata": {},
   "outputs": [],
   "source": [
    "df['year'] = df['year'].replace({'2952': '2010'})"
   ]
  },
  {
   "cell_type": "code",
   "execution_count": 147,
   "metadata": {},
   "outputs": [],
   "source": [
    "df['year'] = df['year'].replace({'1000': '1999'})"
   ]
  },
  {
   "cell_type": "code",
   "execution_count": 150,
   "metadata": {},
   "outputs": [],
   "source": [
    "df = df[df.year.notna()]"
   ]
  },
  {
   "cell_type": "code",
   "execution_count": 156,
   "metadata": {},
   "outputs": [],
   "source": [
    "df = df.drop_duplicates(subset='handle')"
   ]
  },
  {
   "cell_type": "markdown",
   "metadata": {},
   "source": [
    "# Add gender"
   ]
  },
  {
   "cell_type": "code",
   "execution_count": 162,
   "metadata": {},
   "outputs": [
    {
     "data": {
      "text/html": [
       "<div>\n",
       "<style scoped>\n",
       "    .dataframe tbody tr th:only-of-type {\n",
       "        vertical-align: middle;\n",
       "    }\n",
       "\n",
       "    .dataframe tbody tr th {\n",
       "        vertical-align: top;\n",
       "    }\n",
       "\n",
       "    .dataframe thead th {\n",
       "        text-align: right;\n",
       "    }\n",
       "</style>\n",
       "<table border=\"1\" class=\"dataframe\">\n",
       "  <thead>\n",
       "    <tr style=\"text-align: right;\">\n",
       "      <th></th>\n",
       "      <th>Author-Handle</th>\n",
       "      <th>Short-Id</th>\n",
       "      <th>Item-Type</th>\n",
       "      <th>Item-Id</th>\n",
       "    </tr>\n",
       "  </thead>\n",
       "  <tbody>\n",
       "    <tr>\n",
       "      <th>0</th>\n",
       "      <td>repec:per:2017-11-30:stephen_nei</td>\n",
       "      <td>pne333</td>\n",
       "      <td>paper</td>\n",
       "      <td>repec:fem:femwpa:2014.46</td>\n",
       "    </tr>\n",
       "    <tr>\n",
       "      <th>1</th>\n",
       "      <td>repec:per:2017-11-30:stephen_nei</td>\n",
       "      <td>pne333</td>\n",
       "      <td>paper</td>\n",
       "      <td>repec:ecl:stabus:3097</td>\n",
       "    </tr>\n",
       "    <tr>\n",
       "      <th>2</th>\n",
       "      <td>repec:per:2017-11-30:stephen_nei</td>\n",
       "      <td>pne333</td>\n",
       "      <td>paper</td>\n",
       "      <td>repec:arx:papers:1405.6400</td>\n",
       "    </tr>\n",
       "    <tr>\n",
       "      <th>3</th>\n",
       "      <td>repec:per:2017-11-30:stephen_nei</td>\n",
       "      <td>pne333</td>\n",
       "      <td>paper</td>\n",
       "      <td>repec:ags:feemcl:172702</td>\n",
       "    </tr>\n",
       "    <tr>\n",
       "      <th>4</th>\n",
       "      <td>repec:per:2004-04-21:leonce_ndikumana</td>\n",
       "      <td>pnd1</td>\n",
       "      <td>paper</td>\n",
       "      <td>repec:uma:periwp:wp5</td>\n",
       "    </tr>\n",
       "  </tbody>\n",
       "</table>\n",
       "</div>"
      ],
      "text/plain": [
       "                           Author-Handle Short-Id Item-Type  \\\n",
       "0       repec:per:2017-11-30:stephen_nei   pne333     paper   \n",
       "1       repec:per:2017-11-30:stephen_nei   pne333     paper   \n",
       "2       repec:per:2017-11-30:stephen_nei   pne333     paper   \n",
       "3       repec:per:2017-11-30:stephen_nei   pne333     paper   \n",
       "4  repec:per:2004-04-21:leonce_ndikumana     pnd1     paper   \n",
       "\n",
       "                      Item-Id  \n",
       "0    repec:fem:femwpa:2014.46  \n",
       "1       repec:ecl:stabus:3097  \n",
       "2  repec:arx:papers:1405.6400  \n",
       "3     repec:ags:feemcl:172702  \n",
       "4        repec:uma:periwp:wp5  "
      ]
     },
     "execution_count": 162,
     "metadata": {},
     "output_type": "execute_result"
    }
   ],
   "source": [
    "article.head()"
   ]
  },
  {
   "cell_type": "code",
   "execution_count": 163,
   "metadata": {},
   "outputs": [],
   "source": [
    "df_us = df[['handle', 'year', 'n_authors']].rename(columns={'handle': 'Item-Id',\n",
    "                                                            'n_authors': 'n_authors_base'})"
   ]
  },
  {
   "cell_type": "code",
   "execution_count": 171,
   "metadata": {},
   "outputs": [],
   "source": [
    "df_us['Item-Id'] = df_us['Item-Id'].str.lower().str.strip()"
   ]
  },
  {
   "cell_type": "code",
   "execution_count": 173,
   "metadata": {},
   "outputs": [],
   "source": [
    "article_2 = pd.merge(article,\n",
    "                     df_us,\n",
    "                     how=\"left\")"
   ]
  },
  {
   "cell_type": "code",
   "execution_count": 183,
   "metadata": {},
   "outputs": [],
   "source": [
    "article_2 = article_2[article_2['Item-Type']=='article']"
   ]
  },
  {
   "cell_type": "markdown",
   "metadata": {},
   "source": [
    "## Add year with parsing"
   ]
  },
  {
   "cell_type": "code",
   "execution_count": 186,
   "metadata": {},
   "outputs": [],
   "source": [
    "article_2_good = article_2[article_2.year.notna()]"
   ]
  },
  {
   "cell_type": "code",
   "execution_count": 187,
   "metadata": {},
   "outputs": [],
   "source": [
    "article_2_bad = article_2[article_2.year.isna()]"
   ]
  },
  {
   "cell_type": "code",
   "execution_count": 188,
   "metadata": {},
   "outputs": [],
   "source": [
    "article_2_bad = article_2_bad.drop('year', axis=1)"
   ]
  },
  {
   "cell_type": "code",
   "execution_count": 199,
   "metadata": {},
   "outputs": [],
   "source": [
    "article_2_bad['year'] = article_2_bad['Item-Id'].str.extract(r'((?<=y:)\\d{4}(?=:))')"
   ]
  },
  {
   "cell_type": "code",
   "execution_count": 200,
   "metadata": {},
   "outputs": [],
   "source": [
    "article_3 = pd.concat([article_2_good, article_2_bad])"
   ]
  },
  {
   "cell_type": "markdown",
   "metadata": {},
   "source": [
    "## N authors"
   ]
  },
  {
   "cell_type": "code",
   "execution_count": 203,
   "metadata": {},
   "outputs": [],
   "source": [
    "n_authors = article_3.groupby('Item-Id').size().rename('n_authors').reset_index()"
   ]
  },
  {
   "cell_type": "code",
   "execution_count": 204,
   "metadata": {},
   "outputs": [],
   "source": [
    "article_3 = pd.merge(article_3, n_authors, how='left')"
   ]
  },
  {
   "cell_type": "code",
   "execution_count": 207,
   "metadata": {},
   "outputs": [],
   "source": [
    "article_3 = article_3.drop('n_authors_base', axis=1)"
   ]
  },
  {
   "cell_type": "markdown",
   "metadata": {},
   "source": [
    "# Gender"
   ]
  },
  {
   "cell_type": "code",
   "execution_count": 212,
   "metadata": {},
   "outputs": [],
   "source": [
    "authors = pd.read_csv('../data/processed/people.csv')"
   ]
  },
  {
   "cell_type": "code",
   "execution_count": 215,
   "metadata": {},
   "outputs": [],
   "source": [
    "article_3 = pd.merge(article_3, authors, how='left')"
   ]
  },
  {
   "cell_type": "code",
   "execution_count": 219,
   "metadata": {},
   "outputs": [],
   "source": [
    "article_3.to_csv('../data/econometry/base_1_todos.csv', index=False)"
   ]
  }
 ],
 "metadata": {
  "kernelspec": {
   "display_name": "Python 3",
   "language": "python",
   "name": "python3"
  },
  "language_info": {
   "codemirror_mode": {
    "name": "ipython",
    "version": 3
   },
   "file_extension": ".py",
   "mimetype": "text/x-python",
   "name": "python",
   "nbconvert_exporter": "python",
   "pygments_lexer": "ipython3",
   "version": "3.8.5"
  }
 },
 "nbformat": 4,
 "nbformat_minor": 4
}
