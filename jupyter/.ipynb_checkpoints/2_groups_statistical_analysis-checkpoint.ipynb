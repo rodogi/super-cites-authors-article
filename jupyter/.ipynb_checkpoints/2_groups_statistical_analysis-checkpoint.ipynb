{
 "cells": [
  {
   "cell_type": "code",
   "execution_count": 1,
   "metadata": {},
   "outputs": [],
   "source": [
    "import pandas as pd\n",
    "import networkx as nx"
   ]
  },
  {
   "cell_type": "code",
   "execution_count": 51,
   "metadata": {},
   "outputs": [],
   "source": [
    "import seaborn as sns; sns.set(style='white')"
   ]
  },
  {
   "cell_type": "code",
   "execution_count": 3,
   "metadata": {},
   "outputs": [],
   "source": [
    "import matplotlib.pyplot as plt"
   ]
  },
  {
   "cell_type": "code",
   "execution_count": 4,
   "metadata": {},
   "outputs": [],
   "source": [
    "import string"
   ]
  },
  {
   "cell_type": "code",
   "execution_count": 48,
   "metadata": {},
   "outputs": [],
   "source": [
    "colors = [\"#34495e\", \"#cd853f\"]"
   ]
  },
  {
   "cell_type": "markdown",
   "metadata": {},
   "source": [
    "# Journals\n",
    "\n",
    "First, let us make some ranking measures on the journals of our database depending on the decile they are using the citation network."
   ]
  },
  {
   "cell_type": "code",
   "execution_count": 5,
   "metadata": {},
   "outputs": [],
   "source": [
    "cite = pd.read_csv(\"../data/processed/cites.csv\")"
   ]
  },
  {
   "cell_type": "code",
   "execution_count": 6,
   "metadata": {},
   "outputs": [],
   "source": [
    "cite = cite[(cite.t_year >= 1990) & (cite.t_year < 2020)]"
   ]
  },
  {
   "cell_type": "code",
   "execution_count": 7,
   "metadata": {},
   "outputs": [],
   "source": [
    "jnls = cite.groupby('t_journal').size().rename(\"cites\").reset_index()"
   ]
  },
  {
   "cell_type": "code",
   "execution_count": 8,
   "metadata": {},
   "outputs": [],
   "source": [
    "jnls = pd.merge(jnls,\n",
    "                cite.groupby('s_journal').size().rename(\"papers\"),\n",
    "                left_on=\"t_journal\",\n",
    "                right_index=True,\n",
    "                how=\"left\")"
   ]
  },
  {
   "cell_type": "code",
   "execution_count": 9,
   "metadata": {},
   "outputs": [],
   "source": [
    "jnls['i'] = jnls['cites'] / jnls['papers']"
   ]
  },
  {
   "cell_type": "code",
   "execution_count": 10,
   "metadata": {},
   "outputs": [],
   "source": [
    "jnls['j'] = pd.qcut(jnls.cites, q=10, labels=list(reversed(string.ascii_uppercase))[-10:])"
   ]
  },
  {
   "cell_type": "markdown",
   "metadata": {},
   "source": [
    "## Research groups"
   ]
  },
  {
   "cell_type": "code",
   "execution_count": 11,
   "metadata": {},
   "outputs": [],
   "source": [
    "people = pd.read_csv(\"../data/processed/network_people.csv\")"
   ]
  },
  {
   "cell_type": "code",
   "execution_count": 68,
   "metadata": {},
   "outputs": [],
   "source": [
    "all_people = pd.read_csv(\"../data/processed/people.csv\")"
   ]
  },
  {
   "cell_type": "markdown",
   "metadata": {},
   "source": [
    "## Add place of work"
   ]
  },
  {
   "cell_type": "code",
   "execution_count": 12,
   "metadata": {},
   "outputs": [],
   "source": [
    "places = pd.read_csv(\"../data/processed/institution.csv\")"
   ]
  },
  {
   "cell_type": "code",
   "execution_count": 13,
   "metadata": {},
   "outputs": [],
   "source": [
    "places = places[['Handle', 'Primary-Name', 'alpha-3', 'region', 'sub-region']].set_index(\"Handle\")"
   ]
  },
  {
   "cell_type": "code",
   "execution_count": 14,
   "metadata": {},
   "outputs": [],
   "source": [
    "people = pd.merge(people,\n",
    "                  places,\n",
    "                  left_on=\"Workplace-Institution\",\n",
    "                  right_index=True,\n",
    "                  how=\"left\")"
   ]
  },
  {
   "cell_type": "markdown",
   "metadata": {},
   "source": [
    "## Add number of papers"
   ]
  },
  {
   "cell_type": "code",
   "execution_count": 15,
   "metadata": {},
   "outputs": [],
   "source": [
    "source = cite.groupby('source').size().rename('papers')"
   ]
  },
  {
   "cell_type": "code",
   "execution_count": 16,
   "metadata": {},
   "outputs": [],
   "source": [
    "people = pd.merge(people,\n",
    "                  source,\n",
    "                  how=\"left\",\n",
    "                  left_on=\"Short-Id\",\n",
    "                  right_index=True)"
   ]
  },
  {
   "cell_type": "code",
   "execution_count": 23,
   "metadata": {},
   "outputs": [],
   "source": [
    "freq = people.groupby(['gender', 'group'])[\"sub-region\"].value_counts(normalize=True).rename('frequency').reset_index()"
   ]
  },
  {
   "cell_type": "code",
   "execution_count": 24,
   "metadata": {},
   "outputs": [],
   "source": [
    "region = people.groupby(['gender', 'group', 'sub-region']).agg({'cites': [('cites', 'sum')],\n",
    "                                                   'papers': [('papers', 'sum')]}\n",
    "                                                 ).droplevel(axis=1, level=0\n",
    "                                                 ).reset_index(\n",
    "                                                 )\n",
    "\n",
    "region = pd.merge(region, freq, how='left')\n",
    "region = region.melt(id_vars=['gender', 'group', 'sub-region'],\n",
    "                                                        value_vars=['cites', 'frequency', 'papers'],\n",
    "                                                        value_name='value'\n",
    "                                                       )"
   ]
  },
  {
   "cell_type": "code",
   "execution_count": 60,
   "metadata": {},
   "outputs": [
    {
     "data": {
      "image/png": "[encoded data removed]",
      "text/plain": [
       "<Figure size 797.975x360 with 2 Axes>"
      ]
     },
     "metadata": {},
     "output_type": "display_data"
    }
   ],
   "source": [
    "with sns.color_palette(colors):\n",
    "    g = sns.catplot(col=\"group\", y=\"region\",\n",
    "            hue=\"gender\", data=people,\n",
    "            kind=\"count\", sharex=\"col\")\n",
    "    g.axes[0,0].set_xlabel('Number of researchers');\n",
    "    g.axes[0,1].set_xlabel('Number of researchers');\n",
    "g.savefig(\"../figures/gender_region.png\", dpi=300)"
   ]
  },
  {
   "cell_type": "markdown",
   "metadata": {},
   "source": [
    "## Let us take a look at the networks"
   ]
  },
  {
   "cell_type": "code",
   "execution_count": 62,
   "metadata": {},
   "outputs": [],
   "source": [
    "G_i = nx.from_pandas_edgelist(cite, source=\"source\",\n",
    "                            target=\"target\",\n",
    "                            create_using=nx.DiGraph)"
   ]
  },
  {
   "cell_type": "code",
   "execution_count": 71,
   "metadata": {},
   "outputs": [],
   "source": [
    "genders = dict(zip(all_people['Short-Id'], all_people['gender']))"
   ]
  },
  {
   "cell_type": "code",
   "execution_count": 76,
   "metadata": {},
   "outputs": [],
   "source": [
    "nx.set_node_attributes(G_i, genders, name=\"gender\")"
   ]
  },
  {
   "cell_type": "code",
   "execution_count": 81,
   "metadata": {},
   "outputs": [],
   "source": [
    "A_m = people[(people.group=='A') & (people.gender=='male')]['Short-Id'].values\n",
    "A_f = people[(people.group=='A') & (people.gender=='female')]['Short-Id'].values\n",
    "B_m = people[(people.group=='B') & (people.gender=='male')]['Short-Id'].values\n",
    "B_f = people[(people.group=='B') & (people.gender=='female')]['Short-Id'].values"
   ]
  },
  {
   "cell_type": "markdown",
   "metadata": {},
   "source": [
    "## Let's create the first neighbors graph for each gender and group"
   ]
  },
  {
   "cell_type": "code",
   "execution_count": 83,
   "metadata": {},
   "outputs": [],
   "source": [
    "nx.neighbors?"
   ]
  },
  {
   "cell_type": "code",
   "execution_count": 99,
   "metadata": {},
   "outputs": [],
   "source": [
    "def get_neighbors(group):\n",
    "    neighbors = list(group)\n",
    "    for node in group:\n",
    "        neighbors.extend(nx.neighbors(G_i, node))\n",
    "    neighbors = set(neighbors)\n",
    "    \n",
    "    return neighbors"
   ]
  },
  {
   "cell_type": "code",
   "execution_count": 100,
   "metadata": {},
   "outputs": [],
   "source": [
    "NA_m = get_neighbors(A_m)\n",
    "NA_f = get_neighbors(A_f)\n",
    "NB_m = get_neighbors(B_m)\n",
    "NB_f = get_neighbors(B_f)"
   ]
  },
  {
   "cell_type": "code",
   "execution_count": 101,
   "metadata": {},
   "outputs": [],
   "source": [
    "GA_m = nx.induced_subgraph(G_i, NA_m)\n",
    "GA_f = nx.induced_subgraph(G_i, NA_f)\n",
    "GB_m = nx.induced_subgraph(G_i, NB_m)\n",
    "GB_f = nx.induced_subgraph(G_i, NB_f)"
   ]
  }
 ],
 "metadata": {
  "kernelspec": {
   "display_name": "Python 3",
   "language": "python",
   "name": "python3"
  },
  "language_info": {
   "codemirror_mode": {
    "name": "ipython",
    "version": 3
   },
   "file_extension": ".py",
   "mimetype": "text/x-python",
   "name": "python",
   "nbconvert_exporter": "python",
   "pygments_lexer": "ipython3",
   "version": "3.6.9"
  }
 },
 "nbformat": 4,
 "nbformat_minor": 4
}
