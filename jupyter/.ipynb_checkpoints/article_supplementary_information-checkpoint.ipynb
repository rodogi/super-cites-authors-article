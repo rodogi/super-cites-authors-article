{
 "cells": [
  {
   "cell_type": "markdown",
   "metadata": {},
   "source": [
    "# Article, its date and its journal\n",
    "\n",
    "In this jupyter notebook, we want to add the date and the journal for each article we have.\n",
    "To do this, we ran two different scripts previously to obtain journal and date information:\n",
    "\n",
    "- `article_information.py`\n",
    "- `journals.py`\n",
    "\n",
    "What we need now is to append this new information to our already created `article.csv` file."
   ]
  },
  {
   "cell_type": "code",
   "execution_count": 1,
   "metadata": {},
   "outputs": [],
   "source": [
    "import pandas as pd"
   ]
  },
  {
   "cell_type": "code",
   "execution_count": null,
   "metadata": {},
   "outputs": [],
   "source": [
    "art = pd.read_csv('/home/rdora/femec/data/article.csv')\n",
    "art_supp = pd.read_csv('/home/rdora/femec/data/articles_supp.csv')\n",
    "jnls = pd.read_csv('/home/rdora/femec/data/journals.csv')"
   ]
  },
  {
   "cell_type": "code",
   "execution_count": null,
   "metadata": {},
   "outputs": [],
   "source": []
  }
 ],
 "metadata": {
  "kernelspec": {
   "display_name": "Python 3",
   "language": "python",
   "name": "python3"
  },
  "language_info": {
   "codemirror_mode": {
    "name": "ipython",
    "version": 3
   },
   "file_extension": ".py",
   "mimetype": "text/x-python",
   "name": "python",
   "nbconvert_exporter": "python",
   "pygments_lexer": "ipython3",
   "version": "3.6.9"
  }
 },
 "nbformat": 4,
 "nbformat_minor": 4
}
