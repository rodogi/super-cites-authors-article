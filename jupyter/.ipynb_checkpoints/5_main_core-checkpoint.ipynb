{
 "cells": [
  {
   "cell_type": "markdown",
   "metadata": {},
   "source": [
    "# Main core through time\n",
    "\n",
    "Explore the main core of the citation network at different time windows."
   ]
  },
  {
   "cell_type": "code",
   "execution_count": 2,
   "metadata": {},
   "outputs": [],
   "source": [
    "import pandas as pd\n",
    "import networkx as nx\n",
    "import seaborn as sns\n",
    "import matplotlib.pyplot as plt"
   ]
  },
  {
   "cell_type": "code",
   "execution_count": 3,
   "metadata": {
    "slideshow": {
     "slide_type": "slide"
    }
   },
   "outputs": [],
   "source": [
    "cite = pd.read_csv(\"../data/processed/cites.csv\")\n",
    "\n",
    "cite = cite[(cite.t_year >= 1990) & (cite.t_year < 2020)]\n",
    "cite = cite[(cite.s_year >= 1990) & (cite.s_year < 2020)]"
   ]
  },
  {
   "cell_type": "code",
   "execution_count": 4,
   "metadata": {
    "slideshow": {
     "slide_type": "skip"
    }
   },
   "outputs": [],
   "source": [
    "people = pd.read_csv(\"../data/processed/network_people.csv\")\n",
    "all_people = pd.read_csv(\"../data/processed/people.csv\")"
   ]
  },
  {
   "cell_type": "code",
   "execution_count": 5,
   "metadata": {},
   "outputs": [],
   "source": [
    "genders = dict(zip(all_people['Short-Id'], all_people['gender']))"
   ]
  },
  {
   "cell_type": "code",
   "execution_count": 15,
   "metadata": {},
   "outputs": [],
   "source": [
    "places = pd.read_csv(\"../data/processed/institution.csv\")\n",
    "\n",
    "places = places[['Handle', 'Primary-Name', 'alpha-3', 'region', 'sub-region']].set_index(\"Handle\")"
   ]
  },
  {
   "cell_type": "code",
   "execution_count": 16,
   "metadata": {},
   "outputs": [],
   "source": [
    "all_people = pd.merge(all_people,\n",
    "                  places,\n",
    "                  left_on=\"Workplace-Institution\",\n",
    "                  right_index=True,\n",
    "                  how=\"left\")"
   ]
  },
  {
   "cell_type": "code",
   "execution_count": 19,
   "metadata": {},
   "outputs": [],
   "source": [
    "all_people = all_people[all_people.region.notna()]"
   ]
  },
  {
   "cell_type": "markdown",
   "metadata": {},
   "source": [
    "## Yearly time windows"
   ]
  },
  {
   "cell_type": "code",
   "execution_count": 21,
   "metadata": {},
   "outputs": [],
   "source": [
    "graphs = []\n",
    "for year in [2000, 2003] + list(range(2005, 2020)):\n",
    "    if year == 2000:\n",
    "        chunk = cite[cite.s_year <= year]\n",
    "    elif year == 2003:\n",
    "        chunk = cite[(cite.s_year > 2000) & (cite.s_year <= 2003)]\n",
    "    elif year == 2005:\n",
    "        chunk = cite[(cite.s_year > 2003) & (cite.s_year <= 2005)]\n",
    "    else:\n",
    "        chunk = cite[cite.s_year == year]\n",
    "    G = nx.from_pandas_edgelist(chunk,\n",
    "                                source=\"source\",\n",
    "                                target=\"target\",\n",
    "                                create_using=nx.DiGraph)\n",
    "    G.remove_edges_from(nx.selfloop_edges(G))\n",
    "    graphs.append(G)"
   ]
  },
  {
   "cell_type": "code",
   "execution_count": 22,
   "metadata": {},
   "outputs": [],
   "source": [
    "core_nodes = []\n",
    "for g in graphs:\n",
    "    core_nodes.append(list(nx.k_core(g)))"
   ]
  },
  {
   "cell_type": "code",
   "execution_count": 23,
   "metadata": {},
   "outputs": [
    {
     "name": "stdout",
     "output_type": "stream",
     "text": [
      "2000\n",
      "male      0.918919\n",
      "female    0.081081\n",
      "Name: gender, dtype: float64\n",
      "--------------------\n",
      "2003\n",
      "male      0.944134\n",
      "female    0.055866\n",
      "Name: gender, dtype: float64\n",
      "--------------------\n",
      "2005\n",
      "male      0.921429\n",
      "female    0.078571\n",
      "Name: gender, dtype: float64\n",
      "--------------------\n",
      "2006\n",
      "male      0.906706\n",
      "female    0.093294\n",
      "Name: gender, dtype: float64\n",
      "--------------------\n",
      "2007\n",
      "male      0.911894\n",
      "female    0.088106\n",
      "Name: gender, dtype: float64\n",
      "--------------------\n",
      "2008\n",
      "male      0.906883\n",
      "female    0.093117\n",
      "Name: gender, dtype: float64\n",
      "--------------------\n",
      "2009\n",
      "male      0.876953\n",
      "female    0.123047\n",
      "Name: gender, dtype: float64\n",
      "--------------------\n",
      "2010\n",
      "male      0.876016\n",
      "female    0.123984\n",
      "Name: gender, dtype: float64\n",
      "--------------------\n",
      "2011\n",
      "male      0.91019\n",
      "female    0.08981\n",
      "Name: gender, dtype: float64\n",
      "--------------------\n",
      "2012\n",
      "male      0.883578\n",
      "female    0.116422\n",
      "Name: gender, dtype: float64\n",
      "--------------------\n",
      "2013\n",
      "male      0.858966\n",
      "female    0.141034\n",
      "Name: gender, dtype: float64\n",
      "--------------------\n",
      "2014\n",
      "male      0.877479\n",
      "female    0.122521\n",
      "Name: gender, dtype: float64\n",
      "--------------------\n",
      "2015\n",
      "male      0.865458\n",
      "female    0.134542\n",
      "Name: gender, dtype: float64\n",
      "--------------------\n",
      "2016\n",
      "male      0.87554\n",
      "female    0.12446\n",
      "Name: gender, dtype: float64\n",
      "--------------------\n",
      "2017\n",
      "male      0.888122\n",
      "female    0.111878\n",
      "Name: gender, dtype: float64\n",
      "--------------------\n",
      "2018\n",
      "male      0.897959\n",
      "female    0.102041\n",
      "Name: gender, dtype: float64\n",
      "--------------------\n",
      "2019\n",
      "male      0.938776\n",
      "female    0.061224\n",
      "Name: gender, dtype: float64\n",
      "--------------------\n"
     ]
    }
   ],
   "source": [
    "for i, cn in enumerate(core_nodes):\n",
    "    if i == 0:\n",
    "        year = 2000\n",
    "    elif i == 1:\n",
    "        year = 2003\n",
    "    else:\n",
    "        year = 2005 + (i - 2)\n",
    "    print(year)\n",
    "    print(all_people[all_people[\"Short-Id\"].isin(cn)].gender.value_counts(normalize=True))\n",
    "    print(\"-\" * 20)"
   ]
  },
  {
   "cell_type": "markdown",
   "metadata": {},
   "source": [
    "Let's now observe the outliers "
   ]
  },
  {
   "cell_type": "code",
   "execution_count": 24,
   "metadata": {},
   "outputs": [],
   "source": [
    "outliers = []\n",
    "edges = []\n",
    "edges_out = []\n",
    "nodes = []\n",
    "for g in graphs:\n",
    "    degree = pd.DataFrame(g.in_degree,\n",
    "                         columns=['a', 'd'])\n",
    "    mu = degree['d'].mean()\n",
    "    iqr = (degree['d'].quantile(.75) - degree['d'].quantile(.25))\n",
    "    outs = list(degree[degree.d >= mu + 1.5 * iqr].a)\n",
    "    outliers.append(outs)\n",
    "    edges.append(degree.d.sum())\n",
    "    edges_out.append(degree[degree.a.isin(outs)].d.sum())\n",
    "    nodes.append(len(g))"
   ]
  },
  {
   "cell_type": "code",
   "execution_count": 25,
   "metadata": {},
   "outputs": [
    {
     "name": "stdout",
     "output_type": "stream",
     "text": [
      "2000\n",
      "Proportion of nodes 0.10374551051821447\n",
      "Edges in 2000: 100,910\n",
      "Proportion of edges 0.6160142701417104\n",
      "number of people 811\n",
      "male      0.938348\n",
      "female    0.061652\n",
      "Name: gender, dtype: float64\n",
      "--------------------\n",
      "2003\n",
      "Proportion of nodes 0.11205211726384365\n",
      "Edges in 2003: 125,754\n",
      "Proportion of edges 0.6253160933250632\n",
      "number of people 1117\n",
      "male      0.917637\n",
      "female    0.082363\n",
      "Name: gender, dtype: float64\n",
      "--------------------\n",
      "2005\n",
      "Proportion of nodes 0.10747229174115124\n",
      "Edges in 2005: 131,197\n",
      "Proportion of edges 0.6045031517488967\n",
      "number of people 1224\n",
      "male      0.916667\n",
      "female    0.083333\n",
      "Name: gender, dtype: float64\n",
      "--------------------\n",
      "2006\n",
      "Proportion of nodes 0.10677278870701307\n",
      "Edges in 2006: 95,316\n",
      "Proportion of edges 0.5629799823744177\n",
      "number of people 1180\n",
      "male      0.913559\n",
      "female    0.086441\n",
      "Name: gender, dtype: float64\n",
      "--------------------\n",
      "2007\n",
      "Proportion of nodes 0.10001379500620776\n",
      "Edges in 2007: 110,571\n",
      "Proportion of edges 0.5618290510169937\n",
      "number of people 1198\n",
      "male      0.915693\n",
      "female    0.084307\n",
      "Name: gender, dtype: float64\n",
      "--------------------\n",
      "2008\n",
      "Proportion of nodes 0.10321347509258152\n",
      "Edges in 2008: 148,990\n",
      "Proportion of edges 0.5704476810524196\n",
      "number of people 1432\n",
      "male      0.907821\n",
      "female    0.092179\n",
      "Name: gender, dtype: float64\n",
      "--------------------\n",
      "2009\n",
      "Proportion of nodes 0.10606474152519242\n",
      "Edges in 2009: 172,784\n",
      "Proportion of edges 0.5776460783405871\n",
      "number of people 1611\n",
      "male      0.903166\n",
      "female    0.096834\n",
      "Name: gender, dtype: float64\n",
      "--------------------\n",
      "2010\n",
      "Proportion of nodes 0.0982538182179991\n",
      "Edges in 2010: 197,909\n",
      "Proportion of edges 0.560449499517455\n",
      "number of people 1638\n",
      "male      0.901709\n",
      "female    0.098291\n",
      "Name: gender, dtype: float64\n",
      "--------------------\n",
      "2011\n",
      "Proportion of nodes 0.10407261098570354\n",
      "Edges in 2011: 201,479\n",
      "Proportion of edges 0.5699452548404549\n",
      "number of people 1823\n",
      "male      0.902359\n",
      "female    0.097641\n",
      "Name: gender, dtype: float64\n",
      "--------------------\n",
      "2012\n",
      "Proportion of nodes 0.10749490142760028\n",
      "Edges in 2012: 246,770\n",
      "Proportion of edges 0.5830854641974308\n",
      "number of people 2074\n",
      "male      0.903568\n",
      "female    0.096432\n",
      "Name: gender, dtype: float64\n",
      "--------------------\n",
      "2013\n",
      "Proportion of nodes 0.10508434864104967\n",
      "Edges in 2013: 300,858\n",
      "Proportion of edges 0.5829793457378564\n",
      "number of people 2236\n",
      "male      0.896691\n",
      "female    0.103309\n",
      "Name: gender, dtype: float64\n",
      "--------------------\n",
      "2014\n",
      "Proportion of nodes 0.10084992089480849\n",
      "Edges in 2014: 332,303\n",
      "Proportion of edges 0.5704582865637686\n",
      "number of people 2264\n",
      "male      0.892226\n",
      "female    0.107774\n",
      "Name: gender, dtype: float64\n",
      "--------------------\n",
      "2015\n",
      "Proportion of nodes 0.10015994313133109\n",
      "Edges in 2015: 339,543\n",
      "Proportion of edges 0.5659842788689503\n",
      "number of people 2353\n",
      "male      0.887803\n",
      "female    0.112197\n",
      "Name: gender, dtype: float64\n",
      "--------------------\n",
      "2016\n",
      "Proportion of nodes 0.10590624354649962\n",
      "Edges in 2016: 344,641\n",
      "Proportion of edges 0.5786078847264254\n",
      "number of people 2545\n",
      "male      0.882122\n",
      "female    0.117878\n",
      "Name: gender, dtype: float64\n",
      "--------------------\n",
      "2017\n",
      "Proportion of nodes 0.09928413728507393\n",
      "Edges in 2017: 359,137\n",
      "Proportion of edges 0.5593158042752487\n",
      "number of people 2454\n",
      "male      0.885086\n",
      "female    0.114914\n",
      "Name: gender, dtype: float64\n",
      "--------------------\n",
      "2018\n",
      "Proportion of nodes 0.10887450266369951\n",
      "Edges in 2018: 333,523\n",
      "Proportion of edges 0.5655232172893624\n",
      "number of people 2678\n",
      "male      0.878641\n",
      "female    0.121359\n",
      "Name: gender, dtype: float64\n",
      "--------------------\n",
      "2019\n",
      "Proportion of nodes 0.10020328959526889\n",
      "Edges in 2019: 242,029\n",
      "Proportion of edges 0.5330022435327998\n",
      "number of people 2271\n",
      "male      0.88155\n",
      "female    0.11845\n",
      "Name: gender, dtype: float64\n",
      "--------------------\n"
     ]
    }
   ],
   "source": [
    "years = []\n",
    "females = []\n",
    "for i, out in enumerate(outliers):\n",
    "    if i == 0:\n",
    "        year = 2000\n",
    "    elif i == 1:\n",
    "        year = 2003\n",
    "    else:\n",
    "        year = 2005 + (i - 2)\n",
    "    print(year)\n",
    "    print(\"Proportion of nodes\", len(out) / nodes[i])\n",
    "    print(f\"Edges in {year}:\", f\"{edges[i]:,}\")\n",
    "    print(\"Proportion of edges\", edges_out[i] / edges[i])\n",
    "    print(\"number of people\", all_people[all_people[\"Short-Id\"].isin(out)].shape[0])\n",
    "    print(all_people[all_people[\"Short-Id\"].isin(out)].gender.value_counts(normalize=True))\n",
    "    print(\"-\" * 20)\n",
    "    years.append(year)\n",
    "    females.append(all_people[all_people[\"Short-Id\"].isin(out)].gender.value_counts(normalize=True).iloc[1])"
   ]
  },
  {
   "cell_type": "code",
   "execution_count": 26,
   "metadata": {},
   "outputs": [],
   "source": [
    "prop = pd.DataFrame({\"Women\": females, \"Year\": years})"
   ]
  },
  {
   "cell_type": "code",
   "execution_count": 27,
   "metadata": {},
   "outputs": [],
   "source": [
    "prop['Year'] = prop.Year.astype(str)"
   ]
  },
  {
   "cell_type": "code",
   "execution_count": 28,
   "metadata": {},
   "outputs": [
    {
     "data": {
      "text/plain": [
       "<matplotlib.axes._subplots.AxesSubplot at 0x7f7693321ac8>"
      ]
     },
     "execution_count": 28,
     "metadata": {},
     "output_type": "execute_result"
    },
    {
     "data": {
      "image/png": "[encoded data removed]",
      "text/plain": [
       "<Figure size 792x432 with 1 Axes>"
      ]
     },
     "metadata": {
      "needs_background": "light"
     },
     "output_type": "display_data"
    }
   ],
   "source": [
    "fig, ax = plt.subplots(figsize=(11, 6))\n",
    "sns.scatterplot(x=\"Year\", y=\"Women\", data=prop, ax=ax)"
   ]
  },
  {
   "cell_type": "markdown",
   "metadata": {},
   "source": [
    "## Femec development by region"
   ]
  },
  {
   "cell_type": "code",
   "execution_count": 33,
   "metadata": {},
   "outputs": [
    {
     "data": {
      "text/plain": [
       "Europe      26066\n",
       "Americas    13746\n",
       "Asia         5810\n",
       "Oceania      1419\n",
       "Africa       1349\n",
       "Name: region, dtype: int64"
      ]
     },
     "execution_count": 33,
     "metadata": {},
     "output_type": "execute_result"
    }
   ],
   "source": [
    "all_people.region.value_counts()"
   ]
  },
  {
   "cell_type": "code",
   "execution_count": null,
   "metadata": {},
   "outputs": [],
   "source": []
  },
  {
   "cell_type": "code",
   "execution_count": 35,
   "metadata": {},
   "outputs": [
    {
     "data": {
      "text/html": [
       "<div>\n",
       "<style scoped>\n",
       "    .dataframe tbody tr th:only-of-type {\n",
       "        vertical-align: middle;\n",
       "    }\n",
       "\n",
       "    .dataframe tbody tr th {\n",
       "        vertical-align: top;\n",
       "    }\n",
       "\n",
       "    .dataframe thead th {\n",
       "        text-align: right;\n",
       "    }\n",
       "</style>\n",
       "<table border=\"1\" class=\"dataframe\">\n",
       "  <thead>\n",
       "    <tr style=\"text-align: right;\">\n",
       "      <th></th>\n",
       "      <th>target</th>\n",
       "      <th>t_year</th>\n",
       "      <th>t_journal</th>\n",
       "      <th>source</th>\n",
       "      <th>s_year</th>\n",
       "      <th>s_journal</th>\n",
       "    </tr>\n",
       "  </thead>\n",
       "  <tbody>\n",
       "    <tr>\n",
       "      <th>0</th>\n",
       "      <td>pdi377</td>\n",
       "      <td>2013.0</td>\n",
       "      <td>repec:aad:ejbejj</td>\n",
       "      <td>pdi377</td>\n",
       "      <td>2015.0</td>\n",
       "      <td>repec:egr:ejge00</td>\n",
       "    </tr>\n",
       "    <tr>\n",
       "      <th>1</th>\n",
       "      <td>pal66</td>\n",
       "      <td>2018.0</td>\n",
       "      <td>repec:aag:wpaper</td>\n",
       "      <td>pal66</td>\n",
       "      <td>2019.0</td>\n",
       "      <td>repec:gam:jsusta</td>\n",
       "    </tr>\n",
       "    <tr>\n",
       "      <th>2</th>\n",
       "      <td>pal66</td>\n",
       "      <td>2018.0</td>\n",
       "      <td>repec:aag:wpaper</td>\n",
       "      <td>pmc90</td>\n",
       "      <td>2019.0</td>\n",
       "      <td>repec:gam:jsusta</td>\n",
       "    </tr>\n",
       "    <tr>\n",
       "      <th>3</th>\n",
       "      <td>pmc90</td>\n",
       "      <td>2018.0</td>\n",
       "      <td>repec:aag:wpaper</td>\n",
       "      <td>pal66</td>\n",
       "      <td>2019.0</td>\n",
       "      <td>repec:gam:jsusta</td>\n",
       "    </tr>\n",
       "    <tr>\n",
       "      <th>4</th>\n",
       "      <td>pmc90</td>\n",
       "      <td>2018.0</td>\n",
       "      <td>repec:aag:wpaper</td>\n",
       "      <td>pmc90</td>\n",
       "      <td>2019.0</td>\n",
       "      <td>repec:gam:jsusta</td>\n",
       "    </tr>\n",
       "  </tbody>\n",
       "</table>\n",
       "</div>"
      ],
      "text/plain": [
       "   target  t_year         t_journal  source  s_year         s_journal\n",
       "0  pdi377  2013.0  repec:aad:ejbejj  pdi377  2015.0  repec:egr:ejge00\n",
       "1   pal66  2018.0  repec:aag:wpaper   pal66  2019.0  repec:gam:jsusta\n",
       "2   pal66  2018.0  repec:aag:wpaper   pmc90  2019.0  repec:gam:jsusta\n",
       "3   pmc90  2018.0  repec:aag:wpaper   pal66  2019.0  repec:gam:jsusta\n",
       "4   pmc90  2018.0  repec:aag:wpaper   pmc90  2019.0  repec:gam:jsusta"
      ]
     },
     "execution_count": 35,
     "metadata": {},
     "output_type": "execute_result"
    }
   ],
   "source": [
    "cite."
   ]
  },
  {
   "cell_type": "code",
   "execution_count": 34,
   "metadata": {},
   "outputs": [
    {
     "ename": "AttributeError",
     "evalue": "'DataFrame' object has no attribute 'region'",
     "output_type": "error",
     "traceback": [
      "\u001b[0;31m---------------------------------------------------------------------------\u001b[0m",
      "\u001b[0;31mAttributeError\u001b[0m                            Traceback (most recent call last)",
      "\u001b[0;32m<ipython-input-34-bc548c3988b5>\u001b[0m in \u001b[0;36m<module>\u001b[0;34m\u001b[0m\n\u001b[1;32m      5\u001b[0m     \u001b[0;32mfor\u001b[0m \u001b[0myear\u001b[0m \u001b[0;32min\u001b[0m \u001b[0;34m[\u001b[0m\u001b[0;36m2000\u001b[0m\u001b[0;34m,\u001b[0m \u001b[0;36m2003\u001b[0m\u001b[0;34m]\u001b[0m \u001b[0;34m+\u001b[0m \u001b[0mlist\u001b[0m\u001b[0;34m(\u001b[0m\u001b[0mrange\u001b[0m\u001b[0;34m(\u001b[0m\u001b[0;36m2005\u001b[0m\u001b[0;34m,\u001b[0m \u001b[0;36m2020\u001b[0m\u001b[0;34m)\u001b[0m\u001b[0;34m)\u001b[0m\u001b[0;34m:\u001b[0m\u001b[0;34m\u001b[0m\u001b[0;34m\u001b[0m\u001b[0m\n\u001b[1;32m      6\u001b[0m         \u001b[0;32mif\u001b[0m \u001b[0myear\u001b[0m \u001b[0;34m==\u001b[0m \u001b[0;36m2000\u001b[0m\u001b[0;34m:\u001b[0m\u001b[0;34m\u001b[0m\u001b[0;34m\u001b[0m\u001b[0m\n\u001b[0;32m----> 7\u001b[0;31m             \u001b[0mchunk\u001b[0m \u001b[0;34m=\u001b[0m \u001b[0mcite\u001b[0m\u001b[0;34m[\u001b[0m\u001b[0;34m(\u001b[0m\u001b[0mcite\u001b[0m\u001b[0;34m.\u001b[0m\u001b[0ms_year\u001b[0m \u001b[0;34m<=\u001b[0m \u001b[0myear\u001b[0m\u001b[0;34m)\u001b[0m \u001b[0;34m&\u001b[0m \u001b[0;34m(\u001b[0m\u001b[0mcite\u001b[0m\u001b[0;34m.\u001b[0m\u001b[0mregion\u001b[0m\u001b[0;34m==\u001b[0m\u001b[0mregion\u001b[0m\u001b[0;34m)\u001b[0m\u001b[0;34m]\u001b[0m\u001b[0;34m\u001b[0m\u001b[0;34m\u001b[0m\u001b[0m\n\u001b[0m\u001b[1;32m      8\u001b[0m         \u001b[0;32melif\u001b[0m \u001b[0myear\u001b[0m \u001b[0;34m==\u001b[0m \u001b[0;36m2003\u001b[0m\u001b[0;34m:\u001b[0m\u001b[0;34m\u001b[0m\u001b[0;34m\u001b[0m\u001b[0m\n\u001b[1;32m      9\u001b[0m             \u001b[0mchunk\u001b[0m \u001b[0;34m=\u001b[0m \u001b[0mcite\u001b[0m\u001b[0;34m[\u001b[0m\u001b[0;34m(\u001b[0m\u001b[0mcite\u001b[0m\u001b[0;34m.\u001b[0m\u001b[0ms_year\u001b[0m \u001b[0;34m>\u001b[0m \u001b[0;36m2000\u001b[0m\u001b[0;34m)\u001b[0m \u001b[0;34m&\u001b[0m \u001b[0;34m(\u001b[0m\u001b[0mcite\u001b[0m\u001b[0;34m.\u001b[0m\u001b[0ms_year\u001b[0m \u001b[0;34m<=\u001b[0m \u001b[0;36m2003\u001b[0m\u001b[0;34m)\u001b[0m \u001b[0;34m&\u001b[0m \u001b[0;34m(\u001b[0m\u001b[0mcite\u001b[0m\u001b[0;34m.\u001b[0m\u001b[0mregion\u001b[0m\u001b[0;34m==\u001b[0m\u001b[0mregion\u001b[0m\u001b[0;34m)\u001b[0m\u001b[0;34m]\u001b[0m\u001b[0;34m\u001b[0m\u001b[0;34m\u001b[0m\u001b[0m\n",
      "\u001b[0;32m~/.local/lib/python3.6/site-packages/pandas/core/generic.py\u001b[0m in \u001b[0;36m__getattr__\u001b[0;34m(self, name)\u001b[0m\n\u001b[1;32m   5272\u001b[0m             \u001b[0;32mif\u001b[0m \u001b[0mself\u001b[0m\u001b[0;34m.\u001b[0m\u001b[0m_info_axis\u001b[0m\u001b[0;34m.\u001b[0m\u001b[0m_can_hold_identifiers_and_holds_name\u001b[0m\u001b[0;34m(\u001b[0m\u001b[0mname\u001b[0m\u001b[0;34m)\u001b[0m\u001b[0;34m:\u001b[0m\u001b[0;34m\u001b[0m\u001b[0;34m\u001b[0m\u001b[0m\n\u001b[1;32m   5273\u001b[0m                 \u001b[0;32mreturn\u001b[0m \u001b[0mself\u001b[0m\u001b[0;34m[\u001b[0m\u001b[0mname\u001b[0m\u001b[0;34m]\u001b[0m\u001b[0;34m\u001b[0m\u001b[0;34m\u001b[0m\u001b[0m\n\u001b[0;32m-> 5274\u001b[0;31m             \u001b[0;32mreturn\u001b[0m \u001b[0mobject\u001b[0m\u001b[0;34m.\u001b[0m\u001b[0m__getattribute__\u001b[0m\u001b[0;34m(\u001b[0m\u001b[0mself\u001b[0m\u001b[0;34m,\u001b[0m \u001b[0mname\u001b[0m\u001b[0;34m)\u001b[0m\u001b[0;34m\u001b[0m\u001b[0;34m\u001b[0m\u001b[0m\n\u001b[0m\u001b[1;32m   5275\u001b[0m \u001b[0;34m\u001b[0m\u001b[0m\n\u001b[1;32m   5276\u001b[0m     \u001b[0;32mdef\u001b[0m \u001b[0m__setattr__\u001b[0m\u001b[0;34m(\u001b[0m\u001b[0mself\u001b[0m\u001b[0;34m,\u001b[0m \u001b[0mname\u001b[0m\u001b[0;34m:\u001b[0m \u001b[0mstr\u001b[0m\u001b[0;34m,\u001b[0m \u001b[0mvalue\u001b[0m\u001b[0;34m)\u001b[0m \u001b[0;34m->\u001b[0m \u001b[0;32mNone\u001b[0m\u001b[0;34m:\u001b[0m\u001b[0;34m\u001b[0m\u001b[0;34m\u001b[0m\u001b[0m\n",
      "\u001b[0;31mAttributeError\u001b[0m: 'DataFrame' object has no attribute 'region'"
     ]
    }
   ],
   "source": [
    "graphs = []\n",
    "regions = []\n",
    "for region in all_people.region.unique():\n",
    "    regions.append(region)\n",
    "    for year in [2000, 2003] + list(range(2005, 2020)):\n",
    "        if year == 2000:\n",
    "            chunk = cite[(cite.s_year <= year) & (cite.region==region)]\n",
    "        elif year == 2003:\n",
    "            chunk = cite[(cite.s_year > 2000) & (cite.s_year <= 2003) & (cite.region==region)]\n",
    "        elif year == 2005:\n",
    "            chunk = cite[(cite.s_year > 2003) & (cite.s_year <= 2005) & (cite.region==region)]\n",
    "        else:\n",
    "            chunk = cite[(cite.s_year == year) & (cite.region==region)]\n",
    "        G = nx.from_pandas_edgelist(chunk,\n",
    "                                    source=\"source\",\n",
    "                                    target=\"target\",\n",
    "                                    create_using=nx.DiGraph)\n",
    "        G.remove_edges_from(nx.selfloop_edges(G))\n",
    "        graphs.append(G)"
   ]
  },
  {
   "cell_type": "code",
   "execution_count": 29,
   "metadata": {},
   "outputs": [],
   "source": [
    "outliers = []\n",
    "edges = []\n",
    "edges_out = []\n",
    "nodes = []\n",
    "for g in graphs:\n",
    "    degree = pd.DataFrame(g.in_degree,\n",
    "                         columns=['a', 'd'])\n",
    "    mu = degree['d'].mean()\n",
    "    iqr = (degree['d'].quantile(.75) - degree['d'].quantile(.25))\n",
    "    outs = list(degree[degree.d >= mu + 1.5 * iqr].a)\n",
    "    outliers.append(outs)\n",
    "    edges.append(degree.d.sum())\n",
    "    edges_out.append(degree[degree.a.isin(outs)].d.sum())\n",
    "    nodes.append(len(g))"
   ]
  }
 ],
 "metadata": {
  "kernelspec": {
   "display_name": "Python 3",
   "language": "python",
   "name": "python3"
  },
  "language_info": {
   "codemirror_mode": {
    "name": "ipython",
    "version": 3
   },
   "file_extension": ".py",
   "mimetype": "text/x-python",
   "name": "python",
   "nbconvert_exporter": "python",
   "pygments_lexer": "ipython3",
   "version": "3.6.9"
  }
 },
 "nbformat": 4,
 "nbformat_minor": 4
}
