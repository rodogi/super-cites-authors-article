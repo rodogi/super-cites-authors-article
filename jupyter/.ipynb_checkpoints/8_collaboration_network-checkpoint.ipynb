{
 "cells": [
  {
   "cell_type": "markdown",
   "metadata": {},
   "source": [
    "# The collaboration network"
   ]
  },
  {
   "cell_type": "code",
   "execution_count": 1,
   "metadata": {},
   "outputs": [],
   "source": [
    "import seaborn as sns\n",
    "import matplotlib.pyplot as plt\n",
    "\n",
    "import pandas as pd\n",
    "import networkx as nx\n",
    "import numpy as np"
   ]
  },
  {
   "cell_type": "markdown",
   "metadata": {},
   "source": [
    "### Citation table\n",
    "\n",
    "We take cites from 1990 to 2019 avoiding self-cites."
   ]
  },
  {
   "cell_type": "code",
   "execution_count": 2,
   "metadata": {},
   "outputs": [],
   "source": [
    "cite = pd.read_csv(\"../data/processed/cites.csv\")\n",
    "\n",
    "cite = cite[(cite.t_year >= 1990) & (cite.t_year < 2020)]\n",
    "cite = cite[(cite.s_year >= 1990) & (cite.s_year < 2020)]\n",
    "\n",
    "cite = cite[cite.target != cite.source]"
   ]
  },
  {
   "cell_type": "code",
   "execution_count": 3,
   "metadata": {},
   "outputs": [],
   "source": [
    "papers = pd.read_csv(\"../data/processed/adjacency_papers.csv\")\n",
    "\n",
    "papers = papers[(papers.t_year >= 1990) & (papers.t_year < 2020)]\n",
    "papers = papers[(papers.s_year >= 1990) & (papers.s_year < 2020)]\n",
    "\n",
    "papers = papers[papers.target != papers.source]"
   ]
  },
  {
   "cell_type": "markdown",
   "metadata": {},
   "source": [
    "### Authors table\n",
    "\n",
    "There are two author tables: \n",
    "\n",
    "1. One with the comparable groups A and B (`people`) and \n",
    "2. the one with the all the authors found in the RePEc repository (`all_people`)."
   ]
  },
  {
   "cell_type": "code",
   "execution_count": 4,
   "metadata": {},
   "outputs": [],
   "source": [
    "people = pd.read_csv(\"../data/processed/network_people.csv\")\n",
    "all_people = pd.read_csv(\"../data/processed/people.csv\")"
   ]
  },
  {
   "cell_type": "markdown",
   "metadata": {},
   "source": [
    "### Places table\n",
    "\n",
    "We use the institution to infer the place of work of the authors. We have:\n",
    "\n",
    "1. The region (continent)\n",
    "2. The sub-region (sub-continent)\n",
    "3. Country 3-letter code\n",
    "4. The institution's name"
   ]
  },
  {
   "cell_type": "code",
   "execution_count": 5,
   "metadata": {},
   "outputs": [],
   "source": [
    "places = pd.read_csv(\"../data/processed/institution.csv\")\n",
    "\n",
    "places = places[['Handle', 'Primary-Name', 'alpha-3', 'region', 'sub-region']].set_index(\"Handle\")"
   ]
  },
  {
   "cell_type": "markdown",
   "metadata": {},
   "source": [
    "### Adding place of work to people"
   ]
  },
  {
   "cell_type": "code",
   "execution_count": 6,
   "metadata": {},
   "outputs": [],
   "source": [
    "all_people = pd.merge(all_people,\n",
    "                  places,\n",
    "                  left_on=\"Workplace-Institution\",\n",
    "                  right_index=True,\n",
    "                  how=\"left\")\n",
    "\n",
    "# all_people = all_people[all_people.region.notna()]"
   ]
  },
  {
   "cell_type": "markdown",
   "metadata": {},
   "source": [
    "### Adding gender to the citation table\n",
    "\n",
    "We have two genders for each cite:\n",
    "\n",
    "1. Gender of the source (`gender_s`)\n",
    "3. Gender of the target (`gender`)"
   ]
  },
  {
   "cell_type": "code",
   "execution_count": 7,
   "metadata": {},
   "outputs": [],
   "source": [
    "cite = pd.merge(cite,\n",
    "                all_people[[\"Short-Id\", \"gender\"]],\n",
    "                how=\"left\",\n",
    "                left_on=\"target\",\n",
    "                right_on=\"Short-Id\")\n",
    "\n",
    "cite = pd.merge(cite,\n",
    "                all_people[[\"Short-Id\", \"gender\"]].rename(columns={\"gender\":\"gender_s\"}),\n",
    "                how=\"left\",\n",
    "                left_on=\"source\",\n",
    "                right_on=\"Short-Id\")"
   ]
  },
  {
   "cell_type": "markdown",
   "metadata": {},
   "source": [
    "Let's remove the citations without the gender of the target from the table."
   ]
  },
  {
   "cell_type": "code",
   "execution_count": 8,
   "metadata": {},
   "outputs": [],
   "source": [
    "cite = cite[cite.gender.notna()]\n",
    "cite = cite[cite.gender_s.notna()]"
   ]
  },
  {
   "cell_type": "code",
   "execution_count": 35,
   "metadata": {},
   "outputs": [
    {
     "data": {
      "text/html": [
       "<div>\n",
       "<style scoped>\n",
       "    .dataframe tbody tr th:only-of-type {\n",
       "        vertical-align: middle;\n",
       "    }\n",
       "\n",
       "    .dataframe tbody tr th {\n",
       "        vertical-align: top;\n",
       "    }\n",
       "\n",
       "    .dataframe thead th {\n",
       "        text-align: right;\n",
       "    }\n",
       "</style>\n",
       "<table border=\"1\" class=\"dataframe\">\n",
       "  <thead>\n",
       "    <tr style=\"text-align: right;\">\n",
       "      <th></th>\n",
       "      <th>Short-Id</th>\n",
       "      <th>Workplace-Institution</th>\n",
       "      <th>first_name</th>\n",
       "      <th>last_name</th>\n",
       "      <th>gender</th>\n",
       "      <th>cites</th>\n",
       "      <th>q</th>\n",
       "      <th>group</th>\n",
       "    </tr>\n",
       "  </thead>\n",
       "  <tbody>\n",
       "    <tr>\n",
       "      <th>0</th>\n",
       "      <td>pne135</td>\n",
       "      <td>RePEc:edi:laborfr</td>\n",
       "      <td>rabia</td>\n",
       "      <td>nessah</td>\n",
       "      <td>female</td>\n",
       "      <td>16.0</td>\n",
       "      <td>6</td>\n",
       "      <td>A</td>\n",
       "    </tr>\n",
       "    <tr>\n",
       "      <th>1</th>\n",
       "      <td>pne268</td>\n",
       "      <td>RePEc:edi:euckede</td>\n",
       "      <td>sarah</td>\n",
       "      <td>necker</td>\n",
       "      <td>female</td>\n",
       "      <td>33.0</td>\n",
       "      <td>8</td>\n",
       "      <td>A</td>\n",
       "    </tr>\n",
       "    <tr>\n",
       "      <th>2</th>\n",
       "      <td>png38</td>\n",
       "      <td>RePEc:edi:kipprke</td>\n",
       "      <td>dianah</td>\n",
       "      <td>ngui</td>\n",
       "      <td>female</td>\n",
       "      <td>9.0</td>\n",
       "      <td>3</td>\n",
       "      <td>A</td>\n",
       "    </tr>\n",
       "    <tr>\n",
       "      <th>3</th>\n",
       "      <td>pne281</td>\n",
       "      <td>RePEc:edi:frbslus</td>\n",
       "      <td>michelle</td>\n",
       "      <td>neely</td>\n",
       "      <td>female</td>\n",
       "      <td>27.0</td>\n",
       "      <td>8</td>\n",
       "      <td>A</td>\n",
       "    </tr>\n",
       "    <tr>\n",
       "      <th>4</th>\n",
       "      <td>png172</td>\n",
       "      <td>RePEc:edi:imfffus</td>\n",
       "      <td>huong</td>\n",
       "      <td>nguyen</td>\n",
       "      <td>female</td>\n",
       "      <td>15.0</td>\n",
       "      <td>5</td>\n",
       "      <td>A</td>\n",
       "    </tr>\n",
       "  </tbody>\n",
       "</table>\n",
       "</div>"
      ],
      "text/plain": [
       "  Short-Id Workplace-Institution first_name last_name  gender  cites  q group\n",
       "0   pne135     RePEc:edi:laborfr      rabia    nessah  female   16.0  6     A\n",
       "1   pne268     RePEc:edi:euckede      sarah    necker  female   33.0  8     A\n",
       "2    png38     RePEc:edi:kipprke     dianah      ngui  female    9.0  3     A\n",
       "3   pne281     RePEc:edi:frbslus   michelle     neely  female   27.0  8     A\n",
       "4   png172     RePEc:edi:imfffus      huong    nguyen  female   15.0  5     A"
      ]
     },
     "execution_count": 35,
     "metadata": {},
     "output_type": "execute_result"
    }
   ],
   "source": [
    "people.head()"
   ]
  },
  {
   "cell_type": "code",
   "execution_count": 34,
   "metadata": {},
   "outputs": [
    {
     "data": {
      "text/html": [
       "<div>\n",
       "<style scoped>\n",
       "    .dataframe tbody tr th:only-of-type {\n",
       "        vertical-align: middle;\n",
       "    }\n",
       "\n",
       "    .dataframe tbody tr th {\n",
       "        vertical-align: top;\n",
       "    }\n",
       "\n",
       "    .dataframe thead th {\n",
       "        text-align: right;\n",
       "    }\n",
       "</style>\n",
       "<table border=\"1\" class=\"dataframe\">\n",
       "  <thead>\n",
       "    <tr style=\"text-align: right;\">\n",
       "      <th></th>\n",
       "      <th>Short-Id</th>\n",
       "      <th>Workplace-Institution</th>\n",
       "      <th>first_name</th>\n",
       "      <th>last_name</th>\n",
       "      <th>gender</th>\n",
       "      <th>Primary-Name</th>\n",
       "      <th>alpha-3</th>\n",
       "      <th>region</th>\n",
       "      <th>sub-region</th>\n",
       "    </tr>\n",
       "  </thead>\n",
       "  <tbody>\n",
       "    <tr>\n",
       "      <th>0</th>\n",
       "      <td>pne333</td>\n",
       "      <td>RePEc:edi:sfeixuk</td>\n",
       "      <td>stephen</td>\n",
       "      <td>nei</td>\n",
       "      <td>male</td>\n",
       "      <td>Oxford University</td>\n",
       "      <td>GBR</td>\n",
       "      <td>Europe</td>\n",
       "      <td>Northern Europe</td>\n",
       "    </tr>\n",
       "    <tr>\n",
       "      <th>1</th>\n",
       "      <td>pnd1</td>\n",
       "      <td>RePEc:edi:permaus</td>\n",
       "      <td>leonce</td>\n",
       "      <td>ndikumana</td>\n",
       "      <td>male</td>\n",
       "      <td>University of Massachusetts-Amherst</td>\n",
       "      <td>USA</td>\n",
       "      <td>Americas</td>\n",
       "      <td>Northern America</td>\n",
       "    </tr>\n",
       "    <tr>\n",
       "      <th>2</th>\n",
       "      <td>pnd33</td>\n",
       "      <td>RePEc:edi:cbngvng</td>\n",
       "      <td>obiageri</td>\n",
       "      <td>ndukwe</td>\n",
       "      <td>female</td>\n",
       "      <td>Central Bank of Nigeria</td>\n",
       "      <td>NGA</td>\n",
       "      <td>Africa</td>\n",
       "      <td>Sub-Saharan Africa</td>\n",
       "    </tr>\n",
       "    <tr>\n",
       "      <th>3</th>\n",
       "      <td>pno11</td>\n",
       "      <td>NaN</td>\n",
       "      <td>douglass</td>\n",
       "      <td>north</td>\n",
       "      <td>male</td>\n",
       "      <td>NaN</td>\n",
       "      <td>NaN</td>\n",
       "      <td>NaN</td>\n",
       "      <td>NaN</td>\n",
       "    </tr>\n",
       "    <tr>\n",
       "      <th>4</th>\n",
       "      <td>pni74</td>\n",
       "      <td>RePEc:edi:cetorit</td>\n",
       "      <td>giovanna</td>\n",
       "      <td>nicodano</td>\n",
       "      <td>female</td>\n",
       "      <td>University of Turin</td>\n",
       "      <td>ITA</td>\n",
       "      <td>Europe</td>\n",
       "      <td>Southern Europe</td>\n",
       "    </tr>\n",
       "  </tbody>\n",
       "</table>\n",
       "</div>"
      ],
      "text/plain": [
       "  Short-Id Workplace-Institution first_name  last_name  gender  \\\n",
       "0   pne333     RePEc:edi:sfeixuk    stephen        nei    male   \n",
       "1     pnd1     RePEc:edi:permaus     leonce  ndikumana    male   \n",
       "2    pnd33     RePEc:edi:cbngvng   obiageri     ndukwe  female   \n",
       "3    pno11                   NaN   douglass      north    male   \n",
       "4    pni74     RePEc:edi:cetorit   giovanna   nicodano  female   \n",
       "\n",
       "                          Primary-Name alpha-3    region          sub-region  \n",
       "0                    Oxford University     GBR    Europe     Northern Europe  \n",
       "1  University of Massachusetts-Amherst     USA  Americas    Northern America  \n",
       "2              Central Bank of Nigeria     NGA    Africa  Sub-Saharan Africa  \n",
       "3                                  NaN     NaN       NaN                 NaN  \n",
       "4                  University of Turin     ITA    Europe     Southern Europe  "
      ]
     },
     "execution_count": 34,
     "metadata": {},
     "output_type": "execute_result"
    }
   ],
   "source": [
    "all_people.head()"
   ]
  },
  {
   "cell_type": "markdown",
   "metadata": {},
   "source": [
    "## Super-cited researchers\n",
    "\n",
    "Let's get some basic statistics of the super-cited researchers in our citation network."
   ]
  },
  {
   "cell_type": "code",
   "execution_count": 9,
   "metadata": {},
   "outputs": [],
   "source": [
    "G = nx.from_pandas_edgelist(cite,\n",
    "                            source='source',\n",
    "                            target='target',\n",
    "                            create_using=nx.DiGraph)"
   ]
  },
  {
   "cell_type": "code",
   "execution_count": 10,
   "metadata": {},
   "outputs": [
    {
     "data": {
      "text/plain": [
       "36665"
      ]
     },
     "execution_count": 10,
     "metadata": {},
     "output_type": "execute_result"
    }
   ],
   "source": [
    "len(G)"
   ]
  },
  {
   "cell_type": "code",
   "execution_count": 11,
   "metadata": {},
   "outputs": [],
   "source": [
    "degree = pd.DataFrame(G.in_degree(), columns=[\"author\", \"degree\"])\n",
    "mu = degree.degree.mean()\n",
    "r = degree.degree.quantile(.75) - degree.degree.quantile(.25)"
   ]
  },
  {
   "cell_type": "code",
   "execution_count": 12,
   "metadata": {},
   "outputs": [],
   "source": [
    "super_cited = degree[degree.degree >= mu + 1.5 * r].author.unique()\n",
    "cite_sc = cite[cite.target.isin(super_cited)]"
   ]
  },
  {
   "cell_type": "markdown",
   "metadata": {},
   "source": [
    "## Collaboration network"
   ]
  },
  {
   "cell_type": "code",
   "execution_count": 13,
   "metadata": {},
   "outputs": [],
   "source": [
    "col = pd.read_csv(\"../data/processed/co_author.csv\")"
   ]
  },
  {
   "cell_type": "markdown",
   "metadata": {},
   "source": [
    "## Add gender to collaboration network"
   ]
  },
  {
   "cell_type": "code",
   "execution_count": 14,
   "metadata": {},
   "outputs": [],
   "source": [
    "col = pd.merge(col,\n",
    "               all_people[['Short-Id', 'gender']],\n",
    "               left_on='author1',\n",
    "               right_on='Short-Id',\n",
    "               how='left')\n",
    "col = pd.merge(col,\n",
    "               all_people[['Short-Id', 'gender']],\n",
    "               left_on='author2',\n",
    "               right_on='Short-Id',\n",
    "               suffixes=[\"_1\", \"_2\"],\n",
    "               how='left')"
   ]
  },
  {
   "cell_type": "code",
   "execution_count": 15,
   "metadata": {},
   "outputs": [],
   "source": [
    "col = col.dropna(subset=['gender_1', 'gender_2'])"
   ]
  },
  {
   "cell_type": "markdown",
   "metadata": {},
   "source": [
    "## Let's look at the network structure of the super_cited"
   ]
  },
  {
   "cell_type": "code",
   "execution_count": 16,
   "metadata": {},
   "outputs": [],
   "source": [
    "genders = dict(zip(all_people['Short-Id'], all_people['gender']))"
   ]
  },
  {
   "cell_type": "code",
   "execution_count": 17,
   "metadata": {},
   "outputs": [],
   "source": [
    "G = nx.from_pandas_edgelist(col,\n",
    "                            source='author1',\n",
    "                            target='author2')"
   ]
  },
  {
   "cell_type": "code",
   "execution_count": 18,
   "metadata": {},
   "outputs": [],
   "source": [
    "nx.set_node_attributes(G, genders, 'gender')"
   ]
  },
  {
   "cell_type": "code",
   "execution_count": 19,
   "metadata": {},
   "outputs": [
    {
     "data": {
      "text/plain": [
       "0.11244157708010813"
      ]
     },
     "execution_count": 19,
     "metadata": {},
     "output_type": "execute_result"
    }
   ],
   "source": [
    "nx.attribute_assortativity_coefficient(G, 'gender')"
   ]
  },
  {
   "cell_type": "code",
   "execution_count": 20,
   "metadata": {},
   "outputs": [],
   "source": [
    "G_sc = G.subgraph(super_cited)"
   ]
  },
  {
   "cell_type": "markdown",
   "metadata": {},
   "source": [
    "## Compare the degree of the super cited"
   ]
  },
  {
   "cell_type": "code",
   "execution_count": 21,
   "metadata": {},
   "outputs": [
    {
     "name": "stdout",
     "output_type": "stream",
     "text": [
      "6.0\n"
     ]
    }
   ],
   "source": [
    "deg = pd.DataFrame(G_sc.degree, columns=['author', 'degree'])\n",
    "print(deg.degree.median())"
   ]
  },
  {
   "cell_type": "code",
   "execution_count": 22,
   "metadata": {},
   "outputs": [],
   "source": [
    "nodes = list(G)"
   ]
  },
  {
   "cell_type": "code",
   "execution_count": 23,
   "metadata": {},
   "outputs": [],
   "source": [
    "means = []\n",
    "medians = []\n",
    "for i in range(1000):\n",
    "    sample = np.random.choice(nodes, len(super_cited))\n",
    "    G_ = G.subgraph(sample)\n",
    "    d = pd.DataFrame(G_.degree, columns=['author', 'degree'])\n",
    "    means.append(d.degree.mean())\n",
    "    medians.append(d.degree.median())"
   ]
  },
  {
   "cell_type": "code",
   "execution_count": 24,
   "metadata": {},
   "outputs": [
    {
     "data": {
      "text/plain": [
       "<matplotlib.axes._subplots.AxesSubplot at 0x7f41a2b552e8>"
      ]
     },
     "execution_count": 24,
     "metadata": {},
     "output_type": "execute_result"
    },
    {
     "data": {
      "image/png": "[encoded data removed]",
      "text/plain": [
       "<Figure size 432x288 with 1 Axes>"
      ]
     },
     "metadata": {
      "needs_background": "light"
     },
     "output_type": "display_data"
    }
   ],
   "source": [
    "sns.distplot(means)"
   ]
  },
  {
   "cell_type": "markdown",
   "metadata": {},
   "source": [
    "## Let's see if through the years this pattern repeats"
   ]
  },
  {
   "cell_type": "code",
   "execution_count": 25,
   "metadata": {},
   "outputs": [],
   "source": [
    "scs = []\n",
    "years = []\n",
    "super_cited = []\n",
    "for year in [2000, 2003] + list(range(2005, 2020)):\n",
    "    years.append(year)\n",
    "    if year == 2000:\n",
    "        chunk = cite[cite.s_year <= year]\n",
    "    elif year == 2003:\n",
    "        chunk = cite[(cite.s_year > 2000) & (cite.s_year <= 2003)]\n",
    "    elif year == 2005:\n",
    "        chunk = cite[(cite.s_year > 2003) & (cite.s_year <= 2005)]\n",
    "    else:\n",
    "        chunk = cite[cite.s_year == year]\n",
    "    G_year = nx.from_pandas_edgelist(chunk,\n",
    "                                     source=\"source\",\n",
    "                                     target=\"target\",\n",
    "                                     create_using=nx.DiGraph)\n",
    "    degree = pd.DataFrame(G_year.in_degree(), columns=[\"author\", \"degree\"])\n",
    "    mu = degree.degree.mean()\n",
    "    r = degree.degree.quantile(.75) - degree.degree.quantile(.25)\n",
    "    scited = degree[degree.degree >= mu + 1.5 * r].author.unique()\n",
    "    super_cited.append(scited)"
   ]
  },
  {
   "cell_type": "code",
   "execution_count": 26,
   "metadata": {},
   "outputs": [
    {
     "data": {
      "text/plain": [
       "2112"
      ]
     },
     "execution_count": 26,
     "metadata": {},
     "output_type": "execute_result"
    }
   ],
   "source": [
    "len(super_cited[-1])"
   ]
  },
  {
   "cell_type": "code",
   "execution_count": 27,
   "metadata": {},
   "outputs": [],
   "source": [
    "G_2019 = G.subgraph(super_cited[-1])"
   ]
  },
  {
   "cell_type": "code",
   "execution_count": 28,
   "metadata": {},
   "outputs": [
    {
     "name": "stdout",
     "output_type": "stream",
     "text": [
      "6.118708452041785\n"
     ]
    }
   ],
   "source": [
    "deg = pd.DataFrame(G_2019.degree, columns=['author', 'degree'])\n",
    "print(deg.degree.mean())"
   ]
  },
  {
   "cell_type": "code",
   "execution_count": 29,
   "metadata": {},
   "outputs": [],
   "source": [
    "means = []\n",
    "medians = []\n",
    "for i in range(1000):\n",
    "    sample = np.random.choice(nodes, len(super_cited[-1]))\n",
    "    G_ = G.subgraph(sample)\n",
    "    d = pd.DataFrame(G_.degree, columns=['author', 'degree'])\n",
    "    means.append(d.degree.mean())\n",
    "    medians.append(d.degree.median())"
   ]
  },
  {
   "cell_type": "code",
   "execution_count": 30,
   "metadata": {},
   "outputs": [
    {
     "data": {
      "text/plain": [
       "<matplotlib.axes._subplots.AxesSubplot at 0x7f41a25cdc18>"
      ]
     },
     "execution_count": 30,
     "metadata": {},
     "output_type": "execute_result"
    },
    {
     "data": {
      "image/png": "[encoded data removed]",
      "text/plain": [
       "<Figure size 432x288 with 1 Axes>"
      ]
     },
     "metadata": {
      "needs_background": "light"
     },
     "output_type": "display_data"
    }
   ],
   "source": [
    "sns.distplot(means)"
   ]
  },
  {
   "cell_type": "markdown",
   "metadata": {},
   "source": [
    "## Let's see if this happens all years"
   ]
  },
  {
   "cell_type": "code",
   "execution_count": 31,
   "metadata": {},
   "outputs": [],
   "source": [
    "sc_mean = []\n",
    "ran_mean = []\n",
    "ran_year = []\n",
    "for i, year in enumerate(years):\n",
    "    if year == 2000:\n",
    "        chunk = col[col.year <= year]\n",
    "    elif year == 2003:\n",
    "        chunk = col[(col.year > 2000) & (col.year <= 2003)]\n",
    "    elif year == 2005:\n",
    "        chunk = col[(col.year > 2003) & (col.year <= 2005)]\n",
    "    else:\n",
    "        chunk = col[col.year == year]\n",
    "    G_year = nx.from_pandas_edgelist(chunk,\n",
    "                                     source=\"author1\",\n",
    "                                     target=\"author2\")\n",
    "    G_ = G_year.subgraph(super_cited[i])\n",
    "    deg = pd.DataFrame(G_.degree, columns=['author', 'degree'])\n",
    "    sc_mean.append(deg.degree.mean())\n",
    "    for j in range(1000):\n",
    "        ran_year.append(year)\n",
    "        sample = np.random.choice(nodes, len(super_cited[i]))\n",
    "        _G = G_year.subgraph(sample)\n",
    "        d = pd.DataFrame(_G.degree, columns=['a', 'degree'])\n",
    "        ran_mean.append(d.degree.mean())"
   ]
  },
  {
   "cell_type": "code",
   "execution_count": 32,
   "metadata": {},
   "outputs": [],
   "source": [
    "df = pd.DataFrame({\"Mean\": ran_mean, \"Year\": ran_year})"
   ]
  },
  {
   "cell_type": "code",
   "execution_count": 33,
   "metadata": {},
   "outputs": [
    {
     "data": {
      "text/plain": [
       "<seaborn.axisgrid.FacetGrid at 0x7f41a1ec14a8>"
      ]
     },
     "execution_count": 33,
     "metadata": {},
     "output_type": "execute_result"
    },
    {
     "data": {
      "image/png": "[encoded data removed]",
      "text/plain": [
       "<Figure size 1080x864 with 17 Axes>"
      ]
     },
     "metadata": {
      "needs_background": "light"
     },
     "output_type": "display_data"
    }
   ],
   "source": [
    "g = sns.FacetGrid(col=\"Year\", col_wrap=5, data=df)\n",
    "g.map(sns.distplot, \"Mean\")"
   ]
  }
 ],
 "metadata": {
  "kernelspec": {
   "display_name": "Python 3",
   "language": "python",
   "name": "python3"
  },
  "language_info": {
   "codemirror_mode": {
    "name": "ipython",
    "version": 3
   },
   "file_extension": ".py",
   "mimetype": "text/x-python",
   "name": "python",
   "nbconvert_exporter": "python",
   "pygments_lexer": "ipython3",
   "version": "3.6.9"
  }
 },
 "nbformat": 4,
 "nbformat_minor": 4
}
