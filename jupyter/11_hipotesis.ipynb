{
 "cells": [
  {
   "cell_type": "markdown",
   "metadata": {},
   "source": [
    "# Hipótesis\n",
    "\n",
    "Tenemos:\n",
    "\n",
    "1) Hay privilegio para los grupos de conectar con SC\n",
    "2) Éste privilegio está sesgado en favor de los hombres\n",
    "\n",
    "Tenemos tres hipótesis\n",
    " 1) Las mujeres se salen de la carrera\n",
    " \n",
    " 2) Hay una diferencia de conexión local a SC entre hombres y mujeres\n",
    " \n",
    " 3) Hay otro sesgo de género presente que no tiene que ver con estructurada de redes"
   ]
  },
  {
   "cell_type": "markdown",
   "metadata": {},
   "source": [
    "# Hipotesis 2\n",
    "\n",
    "Hay una diferencia en la conectividad local entre los que están conectados con SC:\n",
    "\n",
    "1. Los exitosos 5 años después tienen más conexiones\n",
    "2. Los exitosos 5 años después tienen más colaboraciones"
   ]
  },
  {
   "cell_type": "code",
   "execution_count": 1,
   "metadata": {},
   "outputs": [],
   "source": [
    "import pandas as pd\n",
    "import networkx as nx\n",
    "import numpy as np\n",
    "import seaborn as sns"
   ]
  },
  {
   "cell_type": "code",
   "execution_count": 2,
   "metadata": {},
   "outputs": [],
   "source": [
    "import matplotlib.pyplot as plt"
   ]
  },
  {
   "cell_type": "code",
   "execution_count": 3,
   "metadata": {},
   "outputs": [],
   "source": [
    "from sklearn.impute import SimpleImputer"
   ]
  },
  {
   "cell_type": "markdown",
   "metadata": {},
   "source": [
    "### Citation table\n",
    "\n",
    "We take cites from 1990 to 2019 avoiding self-cites."
   ]
  },
  {
   "cell_type": "code",
   "execution_count": 4,
   "metadata": {},
   "outputs": [],
   "source": [
    "cite = pd.read_csv(\"../data/processed/cites.csv\")\n",
    "\n",
    "cite = cite[(cite.t_year >= 1990) & (cite.t_year < 2020)]\n",
    "cite = cite[(cite.s_year >= 1990) & (cite.s_year < 2020)]\n",
    "\n",
    "cite = cite[cite.target != cite.source]"
   ]
  },
  {
   "cell_type": "code",
   "execution_count": 5,
   "metadata": {},
   "outputs": [],
   "source": [
    "papers = pd.read_csv(\"../data/processed/adjacency_papers.csv\")\n",
    "\n",
    "papers = papers[(papers.t_year >= 1990) & (papers.t_year < 2020)]\n",
    "papers = papers[(papers.s_year >= 1990) & (papers.s_year < 2020)]\n",
    "\n",
    "papers = papers[papers.target != papers.source]"
   ]
  },
  {
   "cell_type": "markdown",
   "metadata": {},
   "source": [
    "### Authors table\n",
    "\n",
    "There are two author tables: \n",
    "\n",
    "1. One with the comparable groups A and B (`people`) and \n",
    "2. the one with the all the authors found in the RePEc repository (`all_people`)."
   ]
  },
  {
   "cell_type": "code",
   "execution_count": 90,
   "metadata": {},
   "outputs": [],
   "source": [
    "people = pd.read_csv(\"../data/processed/network_people.csv\")\n",
    "all_people = pd.read_csv(\"../data/processed/people.csv\")"
   ]
  },
  {
   "cell_type": "markdown",
   "metadata": {},
   "source": [
    "### Places table\n",
    "\n",
    "We use the institution to infer the place of work of the authors. We have:\n",
    "\n",
    "1. The region (continent)\n",
    "2. The sub-region (sub-continent)\n",
    "3. Country 3-letter code\n",
    "4. The institution's name"
   ]
  },
  {
   "cell_type": "code",
   "execution_count": 7,
   "metadata": {},
   "outputs": [],
   "source": [
    "places = pd.read_csv(\"../data/processed/institution.csv\")\n",
    "\n",
    "places = places[['Handle', 'Primary-Name', 'alpha-3', 'region', 'sub-region']].set_index(\"Handle\")"
   ]
  },
  {
   "cell_type": "markdown",
   "metadata": {},
   "source": [
    "### Adding place of work to people"
   ]
  },
  {
   "cell_type": "code",
   "execution_count": 91,
   "metadata": {},
   "outputs": [],
   "source": [
    "all_people = pd.merge(all_people,\n",
    "                  places,\n",
    "                  left_on=\"Workplace-Institution\",\n",
    "                  right_index=True,\n",
    "                  how=\"left\")\n",
    "\n",
    "# all_people = all_people[all_people.region.notna()]"
   ]
  },
  {
   "cell_type": "markdown",
   "metadata": {},
   "source": [
    "### Adding gender to the citation table\n",
    "\n",
    "We have two genders for each cite:\n",
    "\n",
    "1. Gender of the source (`gender_s`)\n",
    "3. Gender of the target (`gender`)"
   ]
  },
  {
   "cell_type": "code",
   "execution_count": 9,
   "metadata": {},
   "outputs": [],
   "source": [
    "cite = pd.merge(cite,\n",
    "                all_people[[\"Short-Id\", \"gender\"]],\n",
    "                how=\"left\",\n",
    "                left_on=\"target\",\n",
    "                right_on=\"Short-Id\")\n",
    "\n",
    "cite = pd.merge(cite,\n",
    "                all_people[[\"Short-Id\", \"gender\"]].rename(columns={\"gender\":\"gender_s\"}),\n",
    "                how=\"left\",\n",
    "                left_on=\"source\",\n",
    "                right_on=\"Short-Id\")"
   ]
  },
  {
   "cell_type": "markdown",
   "metadata": {},
   "source": [
    "Let's remove the citations without the gender of the target from the table."
   ]
  },
  {
   "cell_type": "code",
   "execution_count": 10,
   "metadata": {},
   "outputs": [],
   "source": [
    "cite = cite[cite.gender.notna()]\n",
    "cite = cite[cite.gender_s.notna()]"
   ]
  },
  {
   "cell_type": "markdown",
   "metadata": {},
   "source": [
    "## Super-cited researchers\n",
    "\n",
    "Let's get some basic statistics of the super-cited researchers in our citation network."
   ]
  },
  {
   "cell_type": "code",
   "execution_count": 11,
   "metadata": {},
   "outputs": [],
   "source": [
    "G_cite = nx.from_pandas_edgelist(cite,\n",
    "                            source='source',\n",
    "                            target='target',\n",
    "                            create_using=nx.DiGraph)"
   ]
  },
  {
   "cell_type": "code",
   "execution_count": 12,
   "metadata": {},
   "outputs": [],
   "source": [
    "degree = pd.DataFrame(G_cite.in_degree(), columns=[\"author\", \"degree\"])\n",
    "mu = degree.degree.mean()\n",
    "r = degree.degree.quantile(.75) - degree.degree.quantile(.25)"
   ]
  },
  {
   "cell_type": "code",
   "execution_count": 13,
   "metadata": {},
   "outputs": [],
   "source": [
    "super_cited = degree[degree.degree >= mu + 1.5 * r].author.unique()\n",
    "cite_sc = cite[cite.target.isin(super_cited)]"
   ]
  },
  {
   "cell_type": "markdown",
   "metadata": {},
   "source": [
    "## Collaboration network"
   ]
  },
  {
   "cell_type": "code",
   "execution_count": 14,
   "metadata": {},
   "outputs": [],
   "source": [
    "col = pd.read_csv(\"../data/processed/co_author.csv\")\n",
    "\n",
    "col = col[(col.year >= 1990) & (col.year < 2020)]\n",
    "\n",
    "col = col.drop_duplicates(subset=['author1', 'author2'])"
   ]
  },
  {
   "cell_type": "markdown",
   "metadata": {},
   "source": [
    "## Add gender to collaboration network"
   ]
  },
  {
   "cell_type": "code",
   "execution_count": 15,
   "metadata": {},
   "outputs": [],
   "source": [
    "col = pd.merge(col,\n",
    "               all_people[['Short-Id', 'gender']],\n",
    "               left_on='author1',\n",
    "               right_on='Short-Id',\n",
    "               how='left')\n",
    "col = pd.merge(col,\n",
    "               all_people[['Short-Id', 'gender']],\n",
    "               left_on='author2',\n",
    "               right_on='Short-Id',\n",
    "               suffixes=[\"_1\", \"_2\"],\n",
    "               how='left')"
   ]
  },
  {
   "cell_type": "code",
   "execution_count": 16,
   "metadata": {},
   "outputs": [],
   "source": [
    "col = col.dropna(subset=['gender_1', 'gender_2'])"
   ]
  },
  {
   "cell_type": "markdown",
   "metadata": {},
   "source": [
    "# Super cited by year"
   ]
  },
  {
   "cell_type": "code",
   "execution_count": 17,
   "metadata": {},
   "outputs": [],
   "source": [
    "years = []\n",
    "super_cited = []\n",
    "for year in [2000, 2003] + list(range(2005, 2020)):\n",
    "    years.append(year)\n",
    "    if year == 2000:\n",
    "        chunk = cite[cite.s_year <= year]\n",
    "    elif year == 2003:\n",
    "        chunk = cite[(cite.s_year > 2000) & (cite.s_year <= 2003)]\n",
    "    elif year == 2005:\n",
    "        chunk = cite[(cite.s_year > 2003) & (cite.s_year <= 2005)]\n",
    "    else:\n",
    "        chunk = cite[cite.s_year == year]\n",
    "    G_year = nx.from_pandas_edgelist(chunk,\n",
    "                                     source=\"source\",\n",
    "                                     target=\"target\",\n",
    "                                     create_using=nx.DiGraph)\n",
    "    degree = pd.DataFrame(G_year.in_degree(), columns=[\"author\", \"degree\"])\n",
    "    mu = degree.degree.mean()\n",
    "    r = degree.degree.quantile(.75) - degree.degree.quantile(.25)\n",
    "    scited = degree[degree.degree >= mu + 1.5 * r].author.unique()\n",
    "    super_cited.append(set(scited))"
   ]
  },
  {
   "cell_type": "markdown",
   "metadata": {},
   "source": [
    "## Neighbors by year"
   ]
  },
  {
   "cell_type": "code",
   "execution_count": 18,
   "metadata": {},
   "outputs": [],
   "source": [
    "genders = dict(zip(all_people['Short-Id'], all_people['gender']))"
   ]
  },
  {
   "cell_type": "code",
   "execution_count": 151,
   "metadata": {},
   "outputs": [],
   "source": [
    "neighbors = []\n",
    "women_neighbors = []\n",
    "succ_neighbors = []\n",
    "women_succ_neighbors = []\n",
    "not_neighbors = []\n",
    "women_not_neighbors = []\n",
    "succ_not_neighbors = []\n",
    "women_succ_not_neighbors = []\n",
    "for i, year in enumerate(years[:-5]):\n",
    "    if year == 2000:\n",
    "        chunk = col[col.year <= year]\n",
    "    elif year == 2003:\n",
    "        chunk = col[(col.year > 2000) & (col.year <= 2003)]\n",
    "    elif year == 2005:\n",
    "        chunk = col[(col.year > 2003) & (col.year <= 2005)]\n",
    "    else:\n",
    "        chunk = col[col.year == year]\n",
    "    G_year = nx.from_pandas_edgelist(chunk,\n",
    "                                     source=\"author1\",\n",
    "                                     target=\"author2\",\n",
    "                                     create_using=nx.Graph)\n",
    "    n = []\n",
    "    for sc in super_cited[i]:\n",
    "        if sc in G_year:\n",
    "            n.extend(list(G_year[sc]))\n",
    "    n = set(n)\n",
    "    not_n = set(list(G_year)) - n\n",
    "    if i == 0:\n",
    "        n = n - super_cited[i]\n",
    "        not_n = not_n - super_cited[i]\n",
    "    else:\n",
    "        for j in range(0, i+1):\n",
    "            n = n - super_cited[j]\n",
    "            not_n = not_n - super_cited[j]\n",
    "    n_w = set([x for x in n if genders[x]=='female'])\n",
    "    not_n_w = set([x for x in not_n if genders[x]=='female'])\n",
    "    neighbors.append(n)\n",
    "    not_neighbors.append(not_n)\n",
    "    women_neighbors.append(n_w)\n",
    "    women_not_neighbors.append(not_n_w)\n",
    "    succ_neighbors.append(n & super_cited[i+5])\n",
    "    succ_not_neighbors.append(not_n & super_cited[i+5])\n",
    "    women_succ_neighbors.append(n_w & super_cited[i+5])\n",
    "    women_succ_not_neighbors.append(not_n_w & super_cited[i+5])"
   ]
  },
  {
   "cell_type": "markdown",
   "metadata": {},
   "source": [
    "# Networks by year"
   ]
  },
  {
   "cell_type": "code",
   "execution_count": 20,
   "metadata": {},
   "outputs": [],
   "source": [
    "def order_authors1(x):\n",
    "    return sorted(x)[0]"
   ]
  },
  {
   "cell_type": "code",
   "execution_count": 21,
   "metadata": {},
   "outputs": [],
   "source": [
    "def order_authors2(x):\n",
    "    return sorted(x)[1]"
   ]
  },
  {
   "cell_type": "code",
   "execution_count": 22,
   "metadata": {},
   "outputs": [],
   "source": [
    "author1 = col[['author1', 'author2']].apply(order_authors1, axis=1).values"
   ]
  },
  {
   "cell_type": "code",
   "execution_count": 23,
   "metadata": {},
   "outputs": [],
   "source": [
    "author2 = col[['author1', 'author2']].apply(order_authors2, axis=1).values"
   ]
  },
  {
   "cell_type": "code",
   "execution_count": 24,
   "metadata": {},
   "outputs": [],
   "source": [
    "col['author1'] = author1"
   ]
  },
  {
   "cell_type": "code",
   "execution_count": 25,
   "metadata": {},
   "outputs": [],
   "source": [
    "col['author2'] = author2"
   ]
  },
  {
   "cell_type": "code",
   "execution_count": 26,
   "metadata": {},
   "outputs": [],
   "source": [
    "graphs = []\n",
    "for i, year in enumerate(years[:-5]):\n",
    "    if year == 2000:\n",
    "        chunk = col[col.year <= year]\n",
    "    elif year == 2003:\n",
    "        chunk = col[(col.year > 2000) & (col.year <= 2003)]\n",
    "    elif year == 2005:\n",
    "        chunk = col[(col.year > 2003) & (col.year <= 2005)]\n",
    "    else:\n",
    "        chunk = col[col.year == year]\n",
    "    chunk = chunk.groupby(['author1', 'author2']).size().rename('weight').reset_index()\n",
    "    G_year = nx.from_pandas_edgelist(chunk,\n",
    "                                     source=\"author1\",\n",
    "                                     target=\"author2\",\n",
    "                                     edge_attr='weight',\n",
    "                                     create_using=nx.Graph)\n",
    "    graphs.append(G_year)"
   ]
  },
  {
   "cell_type": "markdown",
   "metadata": {},
   "source": [
    "## Structural parameters\n",
    "\n",
    "Induced subgraph (node and SC neighbors)\n",
    " 1. Clustering\n",
    " 2. Degree\n",
    " 3. Weighted degree\n",
    " \n",
    "First neighbors\n",
    " 1. Nodes\n",
    " 2. Edges\n",
    " 3. Weight"
   ]
  },
  {
   "cell_type": "code",
   "execution_count": 27,
   "metadata": {},
   "outputs": [],
   "source": [
    "data = []\n",
    "columns = ['clustering', 'nodes', 'edges', 'weight', 'diameter', 'successful']\n",
    "for i, graph in enumerate(graphs):\n",
    "    for node in neighbors[i]:\n",
    "        if node in succ_neighbors[i]:\n",
    "            first = set(nx.neighbors(graph, node))\n",
    "            first = list(first - neighbors[i])\n",
    "            G = graph.subgraph([node] + first)\n",
    "            c = nx.average_clustering(G)\n",
    "            order = len(G)\n",
    "            edges = len(G.edges)\n",
    "            weight = sum(dict(G.degree(weight='weight')).values())\n",
    "            diameter = nx.diameter(G)\n",
    "            data.append([c, order, edges, weight, diameter, 'Yes'])\n",
    "        else:\n",
    "            first = set(nx.neighbors(graph, node))\n",
    "            first = list(first - neighbors[i])\n",
    "            G = graph.subgraph([node] + first)\n",
    "            c = nx.average_clustering(G)\n",
    "            order = len(G)\n",
    "            edges = len(G.edges)\n",
    "            weight = sum(dict(G.degree(weight='weight')).values())\n",
    "            diameter = nx.diameter(G)\n",
    "            data.append([c, order, edges, weight, diameter, 'No'])            "
   ]
  },
  {
   "cell_type": "code",
   "execution_count": 28,
   "metadata": {},
   "outputs": [],
   "source": [
    "df_comp = pd.DataFrame(data, columns=columns)"
   ]
  },
  {
   "cell_type": "code",
   "execution_count": 29,
   "metadata": {},
   "outputs": [],
   "source": [
    "df_melt = df_comp.melt(id_vars='successful')"
   ]
  },
  {
   "cell_type": "code",
   "execution_count": 30,
   "metadata": {},
   "outputs": [
    {
     "data": {
      "text/plain": [
       "<seaborn.axisgrid.FacetGrid at 0x7fabd4d45e50>"
      ]
     },
     "execution_count": 30,
     "metadata": {},
     "output_type": "execute_result"
    },
    {
     "data": {
      "image/png": "[encoded data removed]",
      "text/plain": [
       "<Figure size 720x360 with 2 Axes>"
      ]
     },
     "metadata": {
      "needs_background": "light"
     },
     "output_type": "display_data"
    }
   ],
   "source": [
    "sns.displot(df_comp, x=\"clustering\", col=\"successful\", stat=\"probability\", common_norm=False)"
   ]
  },
  {
   "cell_type": "code",
   "execution_count": 31,
   "metadata": {},
   "outputs": [
    {
     "data": {
      "text/plain": [
       "(0.0, 20.0)"
      ]
     },
     "execution_count": 31,
     "metadata": {},
     "output_type": "execute_result"
    },
    {
     "data": {
      "image/png": "[encoded data removed]",
      "text/plain": [
       "<Figure size 720x360 with 2 Axes>"
      ]
     },
     "metadata": {
      "needs_background": "light"
     },
     "output_type": "display_data"
    }
   ],
   "source": [
    "sns.displot(df_comp, x=\"edges\", col=\"successful\", stat=\"probability\", common_norm=False)\n",
    "plt.xlim([0, 20])"
   ]
  },
  {
   "cell_type": "code",
   "execution_count": 32,
   "metadata": {},
   "outputs": [
    {
     "data": {
      "text/plain": [
       "(0.0, 20.0)"
      ]
     },
     "execution_count": 32,
     "metadata": {},
     "output_type": "execute_result"
    },
    {
     "data": {
      "image/png": "[encoded data removed]",
      "text/plain": [
       "<Figure size 720x360 with 2 Axes>"
      ]
     },
     "metadata": {
      "needs_background": "light"
     },
     "output_type": "display_data"
    }
   ],
   "source": [
    "sns.displot(df_comp, x=\"nodes\", col=\"successful\", stat=\"probability\", common_norm=False)\n",
    "plt.xlim([0, 20])"
   ]
  },
  {
   "cell_type": "code",
   "execution_count": 33,
   "metadata": {},
   "outputs": [
    {
     "data": {
      "text/html": [
       "<div>\n",
       "<style scoped>\n",
       "    .dataframe tbody tr th:only-of-type {\n",
       "        vertical-align: middle;\n",
       "    }\n",
       "\n",
       "    .dataframe tbody tr th {\n",
       "        vertical-align: top;\n",
       "    }\n",
       "\n",
       "    .dataframe thead th {\n",
       "        text-align: right;\n",
       "    }\n",
       "</style>\n",
       "<table border=\"1\" class=\"dataframe\">\n",
       "  <thead>\n",
       "    <tr style=\"text-align: right;\">\n",
       "      <th></th>\n",
       "      <th>clustering</th>\n",
       "      <th>nodes</th>\n",
       "      <th>edges</th>\n",
       "      <th>weight</th>\n",
       "      <th>diameter</th>\n",
       "    </tr>\n",
       "    <tr>\n",
       "      <th>successful</th>\n",
       "      <th></th>\n",
       "      <th></th>\n",
       "      <th></th>\n",
       "      <th></th>\n",
       "      <th></th>\n",
       "    </tr>\n",
       "  </thead>\n",
       "  <tbody>\n",
       "    <tr>\n",
       "      <th>No</th>\n",
       "      <td>0.098490</td>\n",
       "      <td>2.693385</td>\n",
       "      <td>1.936486</td>\n",
       "      <td>3.872972</td>\n",
       "      <td>1.368338</td>\n",
       "    </tr>\n",
       "    <tr>\n",
       "      <th>Yes</th>\n",
       "      <td>0.136375</td>\n",
       "      <td>3.106865</td>\n",
       "      <td>2.467617</td>\n",
       "      <td>4.935233</td>\n",
       "      <td>1.507772</td>\n",
       "    </tr>\n",
       "  </tbody>\n",
       "</table>\n",
       "</div>"
      ],
      "text/plain": [
       "            clustering     nodes     edges    weight  diameter\n",
       "successful                                                    \n",
       "No            0.098490  2.693385  1.936486  3.872972  1.368338\n",
       "Yes           0.136375  3.106865  2.467617  4.935233  1.507772"
      ]
     },
     "execution_count": 33,
     "metadata": {},
     "output_type": "execute_result"
    }
   ],
   "source": [
    "df_comp.groupby('successful').mean()"
   ]
  },
  {
   "cell_type": "markdown",
   "metadata": {},
   "source": [
    "# What about women"
   ]
  },
  {
   "cell_type": "code",
   "execution_count": 34,
   "metadata": {},
   "outputs": [],
   "source": [
    "data = []\n",
    "columns = ['clustering', 'nodes', 'edges', 'weight', 'diameter', 'successful']\n",
    "for i, graph in enumerate(graphs):\n",
    "    for node in women_neighbors[i]:\n",
    "        if node in women_succ_neighbors[i]:\n",
    "            first = set(nx.neighbors(graph, node))\n",
    "            first = list(first - neighbors[i])\n",
    "            G = graph.subgraph([node] + first)\n",
    "            c = nx.average_clustering(G)\n",
    "            order = len(G)\n",
    "            edges = len(G.edges)\n",
    "            weight = sum(dict(G.degree(weight='weight')).values())\n",
    "            diameter = nx.diameter(G)\n",
    "            data.append([c, order, edges, weight, diameter, 'Yes'])\n",
    "        else:\n",
    "            first = set(nx.neighbors(graph, node))\n",
    "            first = list(first - neighbors[i])\n",
    "            G = graph.subgraph([node] + first)\n",
    "            c = nx.average_clustering(G)\n",
    "            order = len(G)\n",
    "            edges = len(G.edges)\n",
    "            weight = sum(dict(G.degree(weight='weight')).values())\n",
    "            diameter = nx.diameter(G)\n",
    "            data.append([c, order, edges, weight, diameter, 'No'])"
   ]
  },
  {
   "cell_type": "code",
   "execution_count": 35,
   "metadata": {},
   "outputs": [],
   "source": [
    "df_comp_w = pd.DataFrame(data, columns=columns)"
   ]
  },
  {
   "cell_type": "code",
   "execution_count": 36,
   "metadata": {},
   "outputs": [
    {
     "data": {
      "text/html": [
       "<div>\n",
       "<style scoped>\n",
       "    .dataframe tbody tr th:only-of-type {\n",
       "        vertical-align: middle;\n",
       "    }\n",
       "\n",
       "    .dataframe tbody tr th {\n",
       "        vertical-align: top;\n",
       "    }\n",
       "\n",
       "    .dataframe thead th {\n",
       "        text-align: right;\n",
       "    }\n",
       "</style>\n",
       "<table border=\"1\" class=\"dataframe\">\n",
       "  <thead>\n",
       "    <tr style=\"text-align: right;\">\n",
       "      <th></th>\n",
       "      <th>clustering</th>\n",
       "      <th>nodes</th>\n",
       "      <th>edges</th>\n",
       "      <th>weight</th>\n",
       "      <th>diameter</th>\n",
       "    </tr>\n",
       "    <tr>\n",
       "      <th>successful</th>\n",
       "      <th></th>\n",
       "      <th></th>\n",
       "      <th></th>\n",
       "      <th></th>\n",
       "      <th></th>\n",
       "    </tr>\n",
       "  </thead>\n",
       "  <tbody>\n",
       "    <tr>\n",
       "      <th>No</th>\n",
       "      <td>0.097857</td>\n",
       "      <td>2.593796</td>\n",
       "      <td>1.812900</td>\n",
       "      <td>3.625800</td>\n",
       "      <td>1.340719</td>\n",
       "    </tr>\n",
       "    <tr>\n",
       "      <th>Yes</th>\n",
       "      <td>0.169249</td>\n",
       "      <td>3.028169</td>\n",
       "      <td>2.492958</td>\n",
       "      <td>4.985915</td>\n",
       "      <td>1.469484</td>\n",
       "    </tr>\n",
       "  </tbody>\n",
       "</table>\n",
       "</div>"
      ],
      "text/plain": [
       "            clustering     nodes     edges    weight  diameter\n",
       "successful                                                    \n",
       "No            0.097857  2.593796  1.812900  3.625800  1.340719\n",
       "Yes           0.169249  3.028169  2.492958  4.985915  1.469484"
      ]
     },
     "execution_count": 36,
     "metadata": {},
     "output_type": "execute_result"
    }
   ],
   "source": [
    "df_comp_w.groupby('successful').mean()"
   ]
  },
  {
   "cell_type": "markdown",
   "metadata": {},
   "source": [
    "## Men"
   ]
  },
  {
   "cell_type": "code",
   "execution_count": 37,
   "metadata": {},
   "outputs": [],
   "source": [
    "data = []\n",
    "columns = ['clustering', 'nodes', 'edges', 'weight', 'diameter', 'successful']\n",
    "for i, graph in enumerate(graphs):\n",
    "    for node in neighbors[i] - women_neighbors[i]:\n",
    "        if node in succ_neighbors[i]:\n",
    "            first = set(nx.neighbors(graph, node))\n",
    "            first = list(first - neighbors[i])\n",
    "            G = graph.subgraph([node] + first)\n",
    "            c = nx.average_clustering(G)\n",
    "            order = len(G)\n",
    "            edges = len(G.edges)\n",
    "            weight = sum(dict(G.degree(weight='weight')).values())\n",
    "            diameter = nx.diameter(G)\n",
    "            data.append([c, order, edges, weight, diameter, 'Yes'])\n",
    "        else:\n",
    "            first = set(nx.neighbors(graph, node))\n",
    "            first = list(first - neighbors[i])\n",
    "            G = graph.subgraph([node] + first)\n",
    "            c = nx.average_clustering(G)\n",
    "            order = len(G)\n",
    "            edges = len(G.edges)\n",
    "            weight = sum(dict(G.degree(weight='weight')).values())\n",
    "            diameter = nx.diameter(G)\n",
    "            data.append([c, order, edges, weight, diameter, 'No'])            "
   ]
  },
  {
   "cell_type": "code",
   "execution_count": 38,
   "metadata": {},
   "outputs": [],
   "source": [
    "df_comp_m = pd.DataFrame(data, columns=columns)"
   ]
  },
  {
   "cell_type": "code",
   "execution_count": 39,
   "metadata": {},
   "outputs": [
    {
     "data": {
      "text/html": [
       "<div>\n",
       "<style scoped>\n",
       "    .dataframe tbody tr th:only-of-type {\n",
       "        vertical-align: middle;\n",
       "    }\n",
       "\n",
       "    .dataframe tbody tr th {\n",
       "        vertical-align: top;\n",
       "    }\n",
       "\n",
       "    .dataframe thead th {\n",
       "        text-align: right;\n",
       "    }\n",
       "</style>\n",
       "<table border=\"1\" class=\"dataframe\">\n",
       "  <thead>\n",
       "    <tr style=\"text-align: right;\">\n",
       "      <th></th>\n",
       "      <th>clustering</th>\n",
       "      <th>nodes</th>\n",
       "      <th>edges</th>\n",
       "      <th>weight</th>\n",
       "      <th>diameter</th>\n",
       "    </tr>\n",
       "    <tr>\n",
       "      <th>successful</th>\n",
       "      <th></th>\n",
       "      <th></th>\n",
       "      <th></th>\n",
       "      <th></th>\n",
       "      <th></th>\n",
       "    </tr>\n",
       "  </thead>\n",
       "  <tbody>\n",
       "    <tr>\n",
       "      <th>No</th>\n",
       "      <td>0.098662</td>\n",
       "      <td>2.720488</td>\n",
       "      <td>1.970119</td>\n",
       "      <td>3.940239</td>\n",
       "      <td>1.375854</td>\n",
       "    </tr>\n",
       "    <tr>\n",
       "      <th>Yes</th>\n",
       "      <td>0.131114</td>\n",
       "      <td>3.119459</td>\n",
       "      <td>2.463561</td>\n",
       "      <td>4.927122</td>\n",
       "      <td>1.513899</td>\n",
       "    </tr>\n",
       "  </tbody>\n",
       "</table>\n",
       "</div>"
      ],
      "text/plain": [
       "            clustering     nodes     edges    weight  diameter\n",
       "successful                                                    \n",
       "No            0.098662  2.720488  1.970119  3.940239  1.375854\n",
       "Yes           0.131114  3.119459  2.463561  4.927122  1.513899"
      ]
     },
     "execution_count": 39,
     "metadata": {},
     "output_type": "execute_result"
    }
   ],
   "source": [
    "df_comp_m.groupby('successful').mean()"
   ]
  },
  {
   "cell_type": "markdown",
   "metadata": {},
   "source": [
    "## First neighbors"
   ]
  },
  {
   "cell_type": "code",
   "execution_count": 40,
   "metadata": {},
   "outputs": [],
   "source": [
    "data = []\n",
    "columns = ['clustering', 'nodes', 'edges', 'weight', 'diameter', 'successful']\n",
    "for i, graph in enumerate(graphs):\n",
    "    for node in neighbors[i]:\n",
    "        if node in succ_neighbors[i]:\n",
    "            first = set(nx.neighbors(graph, node))\n",
    "            first = list(first - neighbors[i])\n",
    "            first_neighbors = []\n",
    "            for f in first:\n",
    "                first_neighbors.extend(list(nx.neighbors(graph, f)) + [f])\n",
    "            first_neighbors = set(first_neighbors)\n",
    "            first_neighbors = list(first_neighbors - neighbors[i])\n",
    "            G = graph.subgraph([node] + first_neighbors)\n",
    "            c = nx.average_clustering(G)\n",
    "            order = len(G)\n",
    "            edges = len(G.edges)\n",
    "            weight = sum(dict(G.degree(weight='weight')).values())\n",
    "            diameter = nx.diameter(G)\n",
    "            data.append([c, order, edges, weight, diameter, 'Yes'])\n",
    "        else:\n",
    "            first = set(nx.neighbors(graph, node))\n",
    "            first = list(first - neighbors[i])\n",
    "            first_neighbors = []\n",
    "            for f in first:\n",
    "                first_neighbors.extend(list(nx.neighbors(graph, f)) + [f])\n",
    "            first_neighbors = set(first_neighbors)\n",
    "            first_neighbors = list(first_neighbors - neighbors[i])\n",
    "            G = graph.subgraph([node] + first_neighbors)\n",
    "            c = nx.average_clustering(G)\n",
    "            order = len(G)\n",
    "            edges = len(G.edges)\n",
    "            weight = sum(dict(G.degree(weight='weight')).values())\n",
    "            diameter = nx.diameter(G)\n",
    "            data.append([c, order, edges, weight, diameter, 'No'])            "
   ]
  },
  {
   "cell_type": "code",
   "execution_count": 41,
   "metadata": {},
   "outputs": [],
   "source": [
    "df_comp_fn = pd.DataFrame(data, columns=columns)"
   ]
  },
  {
   "cell_type": "code",
   "execution_count": 42,
   "metadata": {},
   "outputs": [
    {
     "data": {
      "text/html": [
       "<div>\n",
       "<style scoped>\n",
       "    .dataframe tbody tr th:only-of-type {\n",
       "        vertical-align: middle;\n",
       "    }\n",
       "\n",
       "    .dataframe tbody tr th {\n",
       "        vertical-align: top;\n",
       "    }\n",
       "\n",
       "    .dataframe thead th {\n",
       "        text-align: right;\n",
       "    }\n",
       "</style>\n",
       "<table border=\"1\" class=\"dataframe\">\n",
       "  <thead>\n",
       "    <tr style=\"text-align: right;\">\n",
       "      <th></th>\n",
       "      <th>clustering</th>\n",
       "      <th>nodes</th>\n",
       "      <th>edges</th>\n",
       "      <th>weight</th>\n",
       "      <th>diameter</th>\n",
       "    </tr>\n",
       "    <tr>\n",
       "      <th>successful</th>\n",
       "      <th></th>\n",
       "      <th></th>\n",
       "      <th></th>\n",
       "      <th></th>\n",
       "      <th></th>\n",
       "    </tr>\n",
       "  </thead>\n",
       "  <tbody>\n",
       "    <tr>\n",
       "      <th>No</th>\n",
       "      <td>0.111863</td>\n",
       "      <td>3.887192</td>\n",
       "      <td>3.530335</td>\n",
       "      <td>7.060670</td>\n",
       "      <td>1.933537</td>\n",
       "    </tr>\n",
       "    <tr>\n",
       "      <th>Yes</th>\n",
       "      <td>0.144007</td>\n",
       "      <td>4.932642</td>\n",
       "      <td>4.760363</td>\n",
       "      <td>9.520725</td>\n",
       "      <td>2.289508</td>\n",
       "    </tr>\n",
       "  </tbody>\n",
       "</table>\n",
       "</div>"
      ],
      "text/plain": [
       "            clustering     nodes     edges    weight  diameter\n",
       "successful                                                    \n",
       "No            0.111863  3.887192  3.530335  7.060670  1.933537\n",
       "Yes           0.144007  4.932642  4.760363  9.520725  2.289508"
      ]
     },
     "execution_count": 42,
     "metadata": {},
     "output_type": "execute_result"
    }
   ],
   "source": [
    "df_comp_fn.groupby('successful').mean()"
   ]
  },
  {
   "cell_type": "markdown",
   "metadata": {},
   "source": [
    "## Women"
   ]
  },
  {
   "cell_type": "code",
   "execution_count": 43,
   "metadata": {},
   "outputs": [],
   "source": [
    "data = []\n",
    "columns = ['clustering', 'nodes', 'edges', 'weight', 'diameter', 'successful']\n",
    "for i, graph in enumerate(graphs):\n",
    "    for node in women_neighbors[i]:\n",
    "        if node in women_succ_neighbors[i]:\n",
    "            first = set(nx.neighbors(graph, node))\n",
    "            first = list(first - neighbors[i])\n",
    "            first_neighbors = []\n",
    "            for f in first:\n",
    "                first_neighbors.extend(list(nx.neighbors(graph, f)) + [f])\n",
    "            first_neighbors = set(first_neighbors)\n",
    "            first_neighbors = list(first_neighbors - neighbors[i])\n",
    "            G = graph.subgraph([node] + first_neighbors)\n",
    "            c = nx.average_clustering(G)\n",
    "            order = len(G)\n",
    "            edges = len(G.edges)\n",
    "            weight = sum(dict(G.degree(weight='weight')).values())\n",
    "            diameter = nx.diameter(G)\n",
    "            data.append([c, order, edges, weight, diameter, 'Yes'])\n",
    "        else:\n",
    "            first = set(nx.neighbors(graph, node))\n",
    "            first = list(first - neighbors[i])\n",
    "            first_neighbors = []\n",
    "            for f in first:\n",
    "                first_neighbors.extend(list(nx.neighbors(graph, f)) + [f])\n",
    "            first_neighbors = set(first_neighbors)\n",
    "            first_neighbors = list(first_neighbors - neighbors[i])\n",
    "            G = graph.subgraph([node] + first_neighbors)\n",
    "            c = nx.average_clustering(G)\n",
    "            order = len(G)\n",
    "            edges = len(G.edges)\n",
    "            weight = sum(dict(G.degree(weight='weight')).values())\n",
    "            diameter = nx.diameter(G)\n",
    "            data.append([c, order, edges, weight, diameter, 'No'])            "
   ]
  },
  {
   "cell_type": "code",
   "execution_count": 44,
   "metadata": {},
   "outputs": [],
   "source": [
    "df_comp_fn_w = pd.DataFrame(data, columns=columns)"
   ]
  },
  {
   "cell_type": "code",
   "execution_count": 45,
   "metadata": {},
   "outputs": [
    {
     "data": {
      "text/html": [
       "<div>\n",
       "<style scoped>\n",
       "    .dataframe tbody tr th:only-of-type {\n",
       "        vertical-align: middle;\n",
       "    }\n",
       "\n",
       "    .dataframe tbody tr th {\n",
       "        vertical-align: top;\n",
       "    }\n",
       "\n",
       "    .dataframe thead th {\n",
       "        text-align: right;\n",
       "    }\n",
       "</style>\n",
       "<table border=\"1\" class=\"dataframe\">\n",
       "  <thead>\n",
       "    <tr style=\"text-align: right;\">\n",
       "      <th></th>\n",
       "      <th>clustering</th>\n",
       "      <th>nodes</th>\n",
       "      <th>edges</th>\n",
       "      <th>weight</th>\n",
       "      <th>diameter</th>\n",
       "    </tr>\n",
       "    <tr>\n",
       "      <th>successful</th>\n",
       "      <th></th>\n",
       "      <th></th>\n",
       "      <th></th>\n",
       "      <th></th>\n",
       "      <th></th>\n",
       "    </tr>\n",
       "  </thead>\n",
       "  <tbody>\n",
       "    <tr>\n",
       "      <th>No</th>\n",
       "      <td>0.112222</td>\n",
       "      <td>3.619399</td>\n",
       "      <td>3.220089</td>\n",
       "      <td>6.440177</td>\n",
       "      <td>1.850320</td>\n",
       "    </tr>\n",
       "    <tr>\n",
       "      <th>Yes</th>\n",
       "      <td>0.169881</td>\n",
       "      <td>4.643192</td>\n",
       "      <td>4.455399</td>\n",
       "      <td>8.910798</td>\n",
       "      <td>2.201878</td>\n",
       "    </tr>\n",
       "  </tbody>\n",
       "</table>\n",
       "</div>"
      ],
      "text/plain": [
       "            clustering     nodes     edges    weight  diameter\n",
       "successful                                                    \n",
       "No            0.112222  3.619399  3.220089  6.440177  1.850320\n",
       "Yes           0.169881  4.643192  4.455399  8.910798  2.201878"
      ]
     },
     "execution_count": 45,
     "metadata": {},
     "output_type": "execute_result"
    }
   ],
   "source": [
    "df_comp_fn_w.groupby('successful').mean()"
   ]
  },
  {
   "cell_type": "markdown",
   "metadata": {},
   "source": [
    "## Men"
   ]
  },
  {
   "cell_type": "code",
   "execution_count": 46,
   "metadata": {},
   "outputs": [],
   "source": [
    "data = []\n",
    "columns = ['clustering', 'nodes', 'edges', 'weight', 'diameter', 'successful']\n",
    "for i, graph in enumerate(graphs):\n",
    "    for node in neighbors[i] - women_neighbors[i]:\n",
    "        if node in succ_neighbors[i]:\n",
    "            first = set(nx.neighbors(graph, node))\n",
    "            first = list(first - neighbors[i])\n",
    "            first_neighbors = []\n",
    "            for f in first:\n",
    "                first_neighbors.extend(list(nx.neighbors(graph, f)) + [f])\n",
    "            first_neighbors = set(first_neighbors)\n",
    "            first_neighbors = list(first_neighbors - neighbors[i])\n",
    "            G = graph.subgraph([node] + first_neighbors)\n",
    "            c = nx.average_clustering(G)\n",
    "            order = len(G)\n",
    "            edges = len(G.edges)\n",
    "            weight = sum(dict(G.degree(weight='weight')).values())\n",
    "            diameter = nx.diameter(G)\n",
    "            data.append([c, order, edges, weight, diameter, 'Yes'])\n",
    "        else:\n",
    "            first = set(nx.neighbors(graph, node))\n",
    "            first = list(first - neighbors[i])\n",
    "            first_neighbors = []\n",
    "            for f in first:\n",
    "                first_neighbors.extend(list(nx.neighbors(graph, f)) + [f])\n",
    "            first_neighbors = set(first_neighbors)\n",
    "            first_neighbors = list(first_neighbors - neighbors[i])\n",
    "            G = graph.subgraph([node] + first_neighbors)\n",
    "            c = nx.average_clustering(G)\n",
    "            order = len(G)\n",
    "            edges = len(G.edges)\n",
    "            weight = sum(dict(G.degree(weight='weight')).values())\n",
    "            diameter = nx.diameter(G)\n",
    "            data.append([c, order, edges, weight, diameter, 'No'])            "
   ]
  },
  {
   "cell_type": "code",
   "execution_count": 47,
   "metadata": {},
   "outputs": [],
   "source": [
    "df_comp_fn_m = pd.DataFrame(data, columns=columns)"
   ]
  },
  {
   "cell_type": "code",
   "execution_count": 48,
   "metadata": {},
   "outputs": [
    {
     "data": {
      "text/html": [
       "<div>\n",
       "<style scoped>\n",
       "    .dataframe tbody tr th:only-of-type {\n",
       "        vertical-align: middle;\n",
       "    }\n",
       "\n",
       "    .dataframe tbody tr th {\n",
       "        vertical-align: top;\n",
       "    }\n",
       "\n",
       "    .dataframe thead th {\n",
       "        text-align: right;\n",
       "    }\n",
       "</style>\n",
       "<table border=\"1\" class=\"dataframe\">\n",
       "  <thead>\n",
       "    <tr style=\"text-align: right;\">\n",
       "      <th></th>\n",
       "      <th>clustering</th>\n",
       "      <th>nodes</th>\n",
       "      <th>edges</th>\n",
       "      <th>weight</th>\n",
       "      <th>diameter</th>\n",
       "    </tr>\n",
       "    <tr>\n",
       "      <th>successful</th>\n",
       "      <th></th>\n",
       "      <th></th>\n",
       "      <th></th>\n",
       "      <th></th>\n",
       "      <th></th>\n",
       "    </tr>\n",
       "  </thead>\n",
       "  <tbody>\n",
       "    <tr>\n",
       "      <th>No</th>\n",
       "      <td>0.111765</td>\n",
       "      <td>3.960070</td>\n",
       "      <td>3.614766</td>\n",
       "      <td>7.229532</td>\n",
       "      <td>1.956184</td>\n",
       "    </tr>\n",
       "    <tr>\n",
       "      <th>Yes</th>\n",
       "      <td>0.139866</td>\n",
       "      <td>4.978963</td>\n",
       "      <td>4.809166</td>\n",
       "      <td>9.618332</td>\n",
       "      <td>2.303531</td>\n",
       "    </tr>\n",
       "  </tbody>\n",
       "</table>\n",
       "</div>"
      ],
      "text/plain": [
       "            clustering     nodes     edges    weight  diameter\n",
       "successful                                                    \n",
       "No            0.111765  3.960070  3.614766  7.229532  1.956184\n",
       "Yes           0.139866  4.978963  4.809166  9.618332  2.303531"
      ]
     },
     "execution_count": 48,
     "metadata": {},
     "output_type": "execute_result"
    }
   ],
   "source": [
    "df_comp_fn_m.groupby('successful').mean()"
   ]
  },
  {
   "cell_type": "markdown",
   "metadata": {},
   "source": [
    "# All together now"
   ]
  },
  {
   "cell_type": "code",
   "execution_count": 49,
   "metadata": {},
   "outputs": [],
   "source": [
    "df_comp_fn_m['network'] = 'FN_male'\n",
    "df_comp_fn_w['network'] = 'FN_female'\n",
    "df_comp_fn['network'] = 'FN_all'\n",
    "df_comp_m['network'] = 'Local_male'\n",
    "df_comp_w['network'] = 'Local_female'\n",
    "df_comp['network'] = 'Local_all'"
   ]
  },
  {
   "cell_type": "code",
   "execution_count": 50,
   "metadata": {},
   "outputs": [],
   "source": [
    "df = pd.concat([df_comp, df_comp_w, df_comp_m, df_comp_fn,\n",
    "                df_comp_fn_w, df_comp_fn_m])"
   ]
  },
  {
   "cell_type": "code",
   "execution_count": 51,
   "metadata": {},
   "outputs": [
    {
     "data": {
      "text/plain": [
       "<seaborn.axisgrid.FacetGrid at 0x7faa12fe16d0>"
      ]
     },
     "execution_count": 51,
     "metadata": {},
     "output_type": "execute_result"
    },
    {
     "data": {
      "image/png": "[encoded data removed]",
      "text/plain": [
       "<Figure size 780.125x1080 with 6 Axes>"
      ]
     },
     "metadata": {
      "needs_background": "light"
     },
     "output_type": "display_data"
    }
   ],
   "source": [
    "sns.displot(df, x=\"clustering\", col='network', col_wrap=2, common_norm=False,\n",
    "           col_order=['Local_all', 'FN_all', 'Local_female', 'Local_male',\n",
    "                      'FN_female', 'FN_male'], hue='successful', kind='kde')"
   ]
  },
  {
   "cell_type": "code",
   "execution_count": 52,
   "metadata": {},
   "outputs": [],
   "source": [
    "df_gb = df.groupby(['network', 'successful']).mean().reset_index()"
   ]
  },
  {
   "cell_type": "code",
   "execution_count": 53,
   "metadata": {},
   "outputs": [],
   "source": [
    "df_gb_melt = df_gb.melt(id_vars=['network', 'successful'])"
   ]
  },
  {
   "cell_type": "code",
   "execution_count": 54,
   "metadata": {},
   "outputs": [
    {
     "data": {
      "text/plain": [
       "<seaborn.axisgrid.FacetGrid at 0x7faa1193a580>"
      ]
     },
     "execution_count": 54,
     "metadata": {},
     "output_type": "execute_result"
    },
    {
     "data": {
      "image/png": "[encoded data removed]",
      "text/plain": [
       "<Figure size 780.125x1080 with 5 Axes>"
      ]
     },
     "metadata": {
      "needs_background": "light"
     },
     "output_type": "display_data"
    }
   ],
   "source": [
    "sns.catplot(data=df_gb_melt, x=\"network\", y=\"value\", col=\"variable\", hue=\"successful\", col_wrap=2, sharey=False)"
   ]
  },
  {
   "cell_type": "markdown",
   "metadata": {},
   "source": [
    "# Hipótesis 2\n",
    "\n",
    "Las carreras de las mujeres terminan antes.\n",
    "\n",
    "Calculemos la proporción de mujeres que se encuentran en la red 5 años después."
   ]
  },
  {
   "cell_type": "code",
   "execution_count": 55,
   "metadata": {},
   "outputs": [],
   "source": [
    "article = pd.read_csv('../data/econometry/base_1_todos.csv')\n",
    "\n",
    "article = article.dropna(subset=['year', 'gender'])"
   ]
  },
  {
   "cell_type": "code",
   "execution_count": 56,
   "metadata": {},
   "outputs": [],
   "source": [
    "graphs = []\n",
    "for i, year in enumerate(years):\n",
    "    if year == 2000:\n",
    "        chunk = article[article.year <= year]\n",
    "    elif year == 2003:\n",
    "        chunk = article[(article.year > 2000) & (article.year <= 2003)]\n",
    "    elif year == 2005:\n",
    "        chunk = article[(article.year > 2003) & (article.year <= 2005)]\n",
    "    else:\n",
    "        chunk = article[article.year == year]\n",
    "    graphs.append(chunk['Short-Id'].unique())"
   ]
  },
  {
   "cell_type": "code",
   "execution_count": 57,
   "metadata": {},
   "outputs": [],
   "source": [
    "data = []\n",
    "columns = ['Kept', 'Female', 'Successful']\n",
    "for i, neighbor in enumerate(neighbors):\n",
    "    for node in neighbor:\n",
    "        kept = 0\n",
    "        women = False\n",
    "        success = 0\n",
    "        if node in graphs[i+5]:\n",
    "            kept = 1\n",
    "        if node in women_neighbors[i]:\n",
    "            women = True\n",
    "        if node in succ_neighbors[i]:\n",
    "            success = 1\n",
    "        data.append([kept, women, success])"
   ]
  },
  {
   "cell_type": "code",
   "execution_count": 58,
   "metadata": {},
   "outputs": [],
   "source": [
    "df_2 = pd.DataFrame(data, columns=columns)"
   ]
  },
  {
   "cell_type": "code",
   "execution_count": 59,
   "metadata": {},
   "outputs": [],
   "source": [
    "df_2_melt = df_2.melt(id_vars='Female')"
   ]
  },
  {
   "cell_type": "code",
   "execution_count": 60,
   "metadata": {},
   "outputs": [],
   "source": [
    "df_2_gb = df_2_melt.groupby(['Female', 'variable']).mean().reset_index()"
   ]
  },
  {
   "cell_type": "code",
   "execution_count": 61,
   "metadata": {},
   "outputs": [
    {
     "data": {
      "text/plain": [
       "<seaborn.axisgrid.FacetGrid at 0x7faa12922d00>"
      ]
     },
     "execution_count": 61,
     "metadata": {},
     "output_type": "execute_result"
    },
    {
     "data": {
      "image/png": "[encoded data removed]",
      "text/plain": [
       "<Figure size 449.125x360 with 1 Axes>"
      ]
     },
     "metadata": {
      "needs_background": "light"
     },
     "output_type": "display_data"
    }
   ],
   "source": [
    "sns.catplot(x='Female', y='value', kind='violin', hue='variable', data=df_2_melt, sharey=False)"
   ]
  },
  {
   "cell_type": "markdown",
   "metadata": {},
   "source": [
    "# Ages"
   ]
  },
  {
   "cell_type": "markdown",
   "metadata": {},
   "source": [
    "## Super cited"
   ]
  },
  {
   "cell_type": "code",
   "execution_count": 62,
   "metadata": {},
   "outputs": [],
   "source": [
    "article = article.sort_values(by='year')"
   ]
  },
  {
   "cell_type": "code",
   "execution_count": 63,
   "metadata": {},
   "outputs": [],
   "source": [
    "age = article.groupby('Short-Id').year.first().rename('age').reset_index()"
   ]
  },
  {
   "cell_type": "code",
   "execution_count": 92,
   "metadata": {},
   "outputs": [],
   "source": [
    "all_people = pd.merge(all_people, age, how='left')"
   ]
  },
  {
   "cell_type": "code",
   "execution_count": 93,
   "metadata": {},
   "outputs": [
    {
     "data": {
      "text/plain": [
       "<seaborn.axisgrid.FacetGrid at 0x7faa33c85910>"
      ]
     },
     "execution_count": 93,
     "metadata": {},
     "output_type": "execute_result"
    },
    {
     "data": {
      "image/png": "[encoded data removed]",
      "text/plain": [
       "<Figure size 360x360 with 1 Axes>"
      ]
     },
     "metadata": {
      "needs_background": "light"
     },
     "output_type": "display_data"
    }
   ],
   "source": [
    "sns.displot(all_people, x='age')"
   ]
  },
  {
   "cell_type": "code",
   "execution_count": 102,
   "metadata": {},
   "outputs": [
    {
     "name": "stderr",
     "output_type": "stream",
     "text": [
      "<ipython-input-102-ba26ebb16315>:6: SettingWithCopyWarning: \n",
      "A value is trying to be set on a copy of a slice from a DataFrame.\n",
      "Try using .loc[row_indexer,col_indexer] = value instead\n",
      "\n",
      "See the caveats in the documentation: https://pandas.pydata.org/pandas-docs/stable/user_guide/indexing.html#returning-a-view-versus-a-copy\n",
      "  chunk['age'] = years[i] - chunk['age']\n"
     ]
    }
   ],
   "source": [
    "age = []\n",
    "gender = []\n",
    "year = []\n",
    "for i, sc in enumerate(super_cited):\n",
    "    chunk = all_people[all_people['Short-Id'].isin(sc)]\n",
    "    chunk['age'] = years[i] - chunk['age']\n",
    "    year.extend([years[i]] * chunk.shape[0])\n",
    "    gender.extend(list(chunk.gender.values))\n",
    "    age.extend(list(chunk.age.values))"
   ]
  },
  {
   "cell_type": "code",
   "execution_count": 103,
   "metadata": {},
   "outputs": [],
   "source": [
    "df_age = pd.DataFrame({'age': age, 'gender': gender, 'year': year})"
   ]
  },
  {
   "cell_type": "code",
   "execution_count": 104,
   "metadata": {},
   "outputs": [],
   "source": [
    "df_age['year'] = df_age['year'].astype(str)"
   ]
  },
  {
   "cell_type": "code",
   "execution_count": 107,
   "metadata": {},
   "outputs": [],
   "source": [
    "df_age_gb = df_age.groupby(['year', 'gender']).mean().reset_index()"
   ]
  },
  {
   "cell_type": "code",
   "execution_count": 111,
   "metadata": {},
   "outputs": [
    {
     "data": {
      "image/png": "[encoded data removed]",
      "text/plain": [
       "<Figure size 430.5x360 with 1 Axes>"
      ]
     },
     "metadata": {
      "needs_background": "light"
     },
     "output_type": "display_data"
    }
   ],
   "source": [
    "sns.catplot(data=df_age_gb, x='year', y='age', hue='gender')\n",
    "plt.xticks(rotation=90);"
   ]
  },
  {
   "cell_type": "markdown",
   "metadata": {},
   "source": [
    "## Neighbors"
   ]
  },
  {
   "cell_type": "code",
   "execution_count": 114,
   "metadata": {},
   "outputs": [],
   "source": [
    "data = []\n",
    "columns = ['Kept', 'Female', 'Successful', 'Age', 'Year']\n",
    "for i, neighbor in enumerate(neighbors):\n",
    "    for node in neighbor:\n",
    "        age = all_people.loc[all_people['Short-Id']==node, 'age'].item()\n",
    "        kept = 0\n",
    "        women = False\n",
    "        success = 0\n",
    "        if node in graphs[i+5]:\n",
    "            kept = 1\n",
    "        if node in women_neighbors[i]:\n",
    "            women = True\n",
    "        if node in succ_neighbors[i]:\n",
    "            success = 1\n",
    "        data.append([kept, women, success, age, years[i]])"
   ]
  },
  {
   "cell_type": "code",
   "execution_count": 116,
   "metadata": {},
   "outputs": [],
   "source": [
    "df_age_2 = pd.DataFrame(data, columns=['Kept', 'Female', 'Successful', 'Age', 'Year'])"
   ]
  },
  {
   "cell_type": "code",
   "execution_count": 118,
   "metadata": {},
   "outputs": [],
   "source": [
    "df_age_2['Age'] = df_age_2['Year'] - df_age_2['Age']"
   ]
  },
  {
   "cell_type": "code",
   "execution_count": 147,
   "metadata": {},
   "outputs": [],
   "source": [
    "df_age_2_gb = df_age_2.groupby(['Year', 'Successful', 'Female']).median().reset_index()"
   ]
  },
  {
   "cell_type": "code",
   "execution_count": 148,
   "metadata": {},
   "outputs": [],
   "source": [
    "df_age_2_gb['Year'] = df_age_2_gb.Year.astype(str)"
   ]
  },
  {
   "cell_type": "code",
   "execution_count": 149,
   "metadata": {},
   "outputs": [
    {
     "data": {
      "text/plain": [
       "<seaborn.axisgrid.FacetGrid at 0x7faa2f4f2220>"
      ]
     },
     "execution_count": 149,
     "metadata": {},
     "output_type": "execute_result"
    },
    {
     "data": {
      "image/png": "[encoded data removed]",
      "text/plain": [
       "<Figure size 781.125x360 with 2 Axes>"
      ]
     },
     "metadata": {
      "needs_background": "light"
     },
     "output_type": "display_data"
    }
   ],
   "source": [
    "sns.catplot(x='Year', y='Age', col='Female', hue=\"Successful\", data=df_age_2_gb, sharey=True)"
   ]
  },
  {
   "cell_type": "code",
   "execution_count": 140,
   "metadata": {},
   "outputs": [
    {
     "data": {
      "text/plain": [
       "<seaborn.axisgrid.FacetGrid at 0x7faa2fa27a30>"
      ]
     },
     "execution_count": 140,
     "metadata": {},
     "output_type": "execute_result"
    },
    {
     "data": {
      "image/png": "[encoded data removed]",
      "text/plain": [
       "<Figure size 720x360 with 2 Axes>"
      ]
     },
     "metadata": {
      "needs_background": "light"
     },
     "output_type": "display_data"
    }
   ],
   "source": [
    "sns.catplot(x='Female', y='Age', kind='bar', col='Successful', data=df_age_2, sharey=True)"
   ]
  },
  {
   "cell_type": "markdown",
   "metadata": {},
   "source": [
    "## Not neighbors"
   ]
  },
  {
   "cell_type": "code",
   "execution_count": 152,
   "metadata": {},
   "outputs": [],
   "source": [
    "data = []\n",
    "columns = ['Kept', 'Female', 'Successful', 'Age', 'Year']\n",
    "for i, neighbor in enumerate(not_neighbors):\n",
    "    for node in neighbor:\n",
    "        age = all_people.loc[all_people['Short-Id']==node, 'age'].item()\n",
    "        kept = 0\n",
    "        women = False\n",
    "        success = 0\n",
    "        if node in graphs[i+5]:\n",
    "            kept = 1\n",
    "        if node in women_not_neighbors[i]:\n",
    "            women = True\n",
    "        if node in succ_not_neighbors[i]:\n",
    "            success = 1\n",
    "        data.append([kept, women, success, age, years[i]])"
   ]
  },
  {
   "cell_type": "code",
   "execution_count": 153,
   "metadata": {},
   "outputs": [],
   "source": [
    "df_age_3 = pd.DataFrame(data, columns=['Kept', 'Female', 'Successful', 'Age', 'Year'])"
   ]
  },
  {
   "cell_type": "code",
   "execution_count": 154,
   "metadata": {},
   "outputs": [],
   "source": [
    "df_age_3['Age'] = df_age_3['Year'] - df_age_3['Age']"
   ]
  },
  {
   "cell_type": "code",
   "execution_count": 158,
   "metadata": {},
   "outputs": [],
   "source": [
    "df_age_3_gb = df_age_3.groupby(['Year', 'Successful', 'Female']).mean().reset_index()"
   ]
  },
  {
   "cell_type": "code",
   "execution_count": 159,
   "metadata": {},
   "outputs": [],
   "source": [
    "df_age_3_gb['Year'] = df_age_3_gb.Year.astype(str)"
   ]
  },
  {
   "cell_type": "code",
   "execution_count": 160,
   "metadata": {},
   "outputs": [
    {
     "data": {
      "text/plain": [
       "<seaborn.axisgrid.FacetGrid at 0x7faa2f37b3a0>"
      ]
     },
     "execution_count": 160,
     "metadata": {},
     "output_type": "execute_result"
    },
    {
     "data": {
      "image/png": "[encoded data removed]",
      "text/plain": [
       "<Figure size 781.125x360 with 2 Axes>"
      ]
     },
     "metadata": {
      "needs_background": "light"
     },
     "output_type": "display_data"
    }
   ],
   "source": [
    "sns.catplot(x='Year', y='Age', col='Female', hue=\"Successful\", data=df_age_3_gb, sharey=True)"
   ]
  }
 ],
 "metadata": {
  "kernelspec": {
   "display_name": "Python 3",
   "language": "python",
   "name": "python3"
  },
  "language_info": {
   "codemirror_mode": {
    "name": "ipython",
    "version": 3
   },
   "file_extension": ".py",
   "mimetype": "text/x-python",
   "name": "python",
   "nbconvert_exporter": "python",
   "pygments_lexer": "ipython3",
   "version": "3.8.5"
  }
 },
 "nbformat": 4,
 "nbformat_minor": 4
}
