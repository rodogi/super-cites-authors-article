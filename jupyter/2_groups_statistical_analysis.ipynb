{
 "cells": [
  {
   "cell_type": "code",
   "execution_count": 74,
   "metadata": {},
   "outputs": [],
   "source": [
    "import pandas as pd\n",
    "import networkx as nx\n",
    "import numpy as np\n",
    "\n",
    "import seaborn as sns; sns.set(style='white')\n",
    "\n",
    "import matplotlib.pyplot as plt\n",
    "\n",
    "import string"
   ]
  },
  {
   "cell_type": "code",
   "execution_count": 75,
   "metadata": {},
   "outputs": [],
   "source": [
    "colors = [\"#34495e\", \"#cd853f\"]"
   ]
  },
  {
   "cell_type": "markdown",
   "metadata": {},
   "source": [
    "# Journals\n",
    "\n",
    "First, let us make some ranking measures on the journals of our database depending on the decile they are using the citation network."
   ]
  },
  {
   "cell_type": "code",
   "execution_count": 76,
   "metadata": {},
   "outputs": [],
   "source": [
    "cite = pd.read_csv(\"../data/processed/cites.csv\")\n",
    "\n",
    "cite = cite[(cite.t_year >= 1990) & (cite.t_year < 2020)]"
   ]
  },
  {
   "cell_type": "code",
   "execution_count": 77,
   "metadata": {},
   "outputs": [],
   "source": [
    "jnls = cite.groupby('t_journal').size().rename(\"cites\").reset_index()\n",
    "\n",
    "jnls = pd.merge(jnls,\n",
    "                cite.groupby('s_journal').size().rename(\"papers\"),\n",
    "                left_on=\"t_journal\",\n",
    "                right_index=True,\n",
    "                how=\"left\")"
   ]
  },
  {
   "cell_type": "markdown",
   "metadata": {},
   "source": [
    "Let us create a new variable $i$ defined as the ratio between \"cites\" and \"papers\"."
   ]
  },
  {
   "cell_type": "code",
   "execution_count": 78,
   "metadata": {},
   "outputs": [],
   "source": [
    "jnls['i'] = jnls['cites'] / jnls['papers']"
   ]
  },
  {
   "cell_type": "markdown",
   "metadata": {},
   "source": [
    "Another variable $j$ that represents the decile in which the researcher is."
   ]
  },
  {
   "cell_type": "code",
   "execution_count": 79,
   "metadata": {},
   "outputs": [],
   "source": [
    "jnls['j'] = pd.qcut(jnls.cites, q=10, labels=list(reversed(string.ascii_uppercase))[-10:])"
   ]
  },
  {
   "cell_type": "markdown",
   "metadata": {},
   "source": [
    "## Research groups"
   ]
  },
  {
   "cell_type": "code",
   "execution_count": 80,
   "metadata": {},
   "outputs": [],
   "source": [
    "people = pd.read_csv(\"../data/processed/network_people.csv\")"
   ]
  },
  {
   "cell_type": "markdown",
   "metadata": {},
   "source": [
    "Not all people are in the network as some people only have single-authored papers."
   ]
  },
  {
   "cell_type": "code",
   "execution_count": 81,
   "metadata": {},
   "outputs": [],
   "source": [
    "all_people = pd.read_csv(\"../data/processed/people.csv\")"
   ]
  },
  {
   "cell_type": "markdown",
   "metadata": {},
   "source": [
    "## Add place of work"
   ]
  },
  {
   "cell_type": "code",
   "execution_count": 82,
   "metadata": {},
   "outputs": [],
   "source": [
    "places = pd.read_csv(\"../data/processed/institution.csv\")\n",
    "\n",
    "places = places[['Handle', 'Primary-Name', 'alpha-3', 'region', 'sub-region']].set_index(\"Handle\")"
   ]
  },
  {
   "cell_type": "markdown",
   "metadata": {},
   "source": [
    "Let us add the place of work to the people."
   ]
  },
  {
   "cell_type": "code",
   "execution_count": 83,
   "metadata": {},
   "outputs": [],
   "source": [
    "people = pd.merge(people,\n",
    "                  places,\n",
    "                  left_on=\"Workplace-Institution\",\n",
    "                  right_index=True,\n",
    "                  how=\"left\")\n",
    "\n",
    "all_people = pd.merge(all_people,\n",
    "                  places,\n",
    "                  left_on=\"Workplace-Institution\",\n",
    "                  right_index=True,\n",
    "                  how=\"left\")"
   ]
  },
  {
   "cell_type": "markdown",
   "metadata": {},
   "source": [
    "## Add number of papers"
   ]
  },
  {
   "cell_type": "markdown",
   "metadata": {},
   "source": [
    "In order to define two groups of researchers, those most succesful and the rest we are going to take their number of papers."
   ]
  },
  {
   "cell_type": "code",
   "execution_count": 84,
   "metadata": {},
   "outputs": [],
   "source": [
    "source = cite.groupby('source').size().rename('papers')"
   ]
  },
  {
   "cell_type": "code",
   "execution_count": 85,
   "metadata": {},
   "outputs": [],
   "source": [
    "people = pd.merge(people,\n",
    "                  source,\n",
    "                  how=\"left\",\n",
    "                  left_on=\"Short-Id\",\n",
    "                  right_index=True)"
   ]
  },
  {
   "cell_type": "code",
   "execution_count": 86,
   "metadata": {},
   "outputs": [],
   "source": [
    "# Take the sub-region per gender and group\n",
    "freq = (people.groupby(['gender', 'group'])[\"sub-region\"]\n",
    "    .value_counts(normalize=True)\n",
    "    .rename('frequency')\n",
    "    .reset_index())"
   ]
  },
  {
   "cell_type": "code",
   "execution_count": 87,
   "metadata": {},
   "outputs": [],
   "source": [
    "# Get the number of citations and papers per gender, group and sub-region\n",
    "region = (people.groupby(['gender', 'group', 'sub-region'])\n",
    "          .agg({'cites': [('cites', 'sum')], 'papers': [('papers', 'sum')]})\n",
    "          .droplevel(axis=1, level=0)\n",
    "          .reset_index())\n",
    "# Add the number of people per sub-region\n",
    "region = pd.merge(region, freq, how='left')\n",
    "# Tidy the data\n",
    "region = (region\n",
    "          .melt(id_vars=['gender', 'group', 'sub-region'],\n",
    "                value_vars=['cites', 'frequency', 'papers'],\n",
    "                value_name='value'))"
   ]
  },
  {
   "cell_type": "code",
   "execution_count": 88,
   "metadata": {},
   "outputs": [
    {
     "data": {
      "image/png": "[encoded data removed]",
      "text/plain": [
       "<Figure size 432x288 with 1 Axes>"
      ]
     },
     "metadata": {},
     "output_type": "display_data"
    }
   ],
   "source": [
    "# Plot of all researchers (including single-author)\n",
    "with sns.color_palette(colors):\n",
    "    g = sns.countplot(y=\"region\", hue=\"gender\", data=all_people)\n",
    "    g.set_xlabel(\"Number of researchers\")\n",
    "    plt.legend(fancybox=True);\n",
    "plt.savefig(\"../figures/overall_gender_ratio.png\", dpi=300)"
   ]
  },
  {
   "cell_type": "code",
   "execution_count": 89,
   "metadata": {},
   "outputs": [
    {
     "data": {
      "image/png": "[encoded data removed]",
      "text/plain": [
       "<Figure size 648x432 with 2 Axes>"
      ]
     },
     "metadata": {},
     "output_type": "display_data"
    }
   ],
   "source": [
    "# Plot the people in the citation network\n",
    "with sns.color_palette(colors):\n",
    "    g = sns.catplot(col=\"group\", y=\"region\",\n",
    "            hue=\"gender\", data=people,\n",
    "            kind=\"count\", sharex=\"col\", legend=False)\n",
    "    g.axes[0,0].set_xlabel('Number of researchers');\n",
    "    g.axes[0,1].set_xlabel('Number of researchers');\n",
    "g.add_legend(frameon=True, fancybox=True)\n",
    "g.fig.set_size_inches(9, 6)\n",
    "g.savefig(\"../figures/gender_region.png\", dpi=300)"
   ]
  },
  {
   "cell_type": "markdown",
   "metadata": {},
   "source": [
    "## Let us take a look at the citation network\n",
    "\n",
    "We are interested in knowing if researchers cite more their gender in:\n",
    "\n",
    "1) The overall network\n",
    "\n",
    "2) The successful researchers network\n",
    "\n",
    "3) The average researchers network\n",
    "\n",
    "4) Networks A and B together"
   ]
  },
  {
   "cell_type": "code",
   "execution_count": 90,
   "metadata": {},
   "outputs": [],
   "source": [
    "# Overall network\n",
    "G_i = nx.from_pandas_edgelist(cite, source=\"source\",\n",
    "                            target=\"target\",\n",
    "                            create_using=nx.DiGraph)"
   ]
  },
  {
   "cell_type": "code",
   "execution_count": 91,
   "metadata": {},
   "outputs": [],
   "source": [
    "# Add genders to the overall network\n",
    "genders = dict(zip(all_people['Short-Id'], all_people['gender']))\n",
    "\n",
    "nx.set_node_attributes(G_i, genders, name=\"gender\")"
   ]
  },
  {
   "cell_type": "code",
   "execution_count": 92,
   "metadata": {},
   "outputs": [],
   "source": [
    "# Create the 4 sets of people, two genders on each group\n",
    "\n",
    "A_m = people[(people.group=='A') & (people.gender=='male')]['Short-Id'].values\n",
    "A_f = people[(people.group=='A') & (people.gender=='female')]['Short-Id'].values\n",
    "B_m = people[(people.group=='B') & (people.gender=='male')]['Short-Id'].values\n",
    "B_f = people[(people.group=='B') & (people.gender=='female')]['Short-Id'].values"
   ]
  },
  {
   "cell_type": "code",
   "execution_count": 93,
   "metadata": {},
   "outputs": [
    {
     "name": "stdout",
     "output_type": "stream",
     "text": [
      "Group A has 7556 researchers from which\n",
      "50.00% are males and 50.00% females.\n",
      "Group B has 1432 researchers from which\n",
      "50.00% are males and 50.00% females.\n"
     ]
    }
   ],
   "source": [
    "len_A = len(A_m) + len(A_f)\n",
    "len_B = len(B_m) + len(B_f)\n",
    "print(\n",
    "    f\"Group A has {len_A} researchers from which\\n\"\n",
    "    f\"{len(A_m)/len_A:.2%} are males and {len(A_f)/len_A:.2%} females.\")\n",
    "print(\n",
    "    f\"Group B has {len_B} researchers from which\\n\"\n",
    "    f\"{len(B_m)/len_B:.2%} are males and {len(B_f)/len_B:.2%} females.\")"
   ]
  },
  {
   "cell_type": "code",
   "execution_count": 116,
   "metadata": {},
   "outputs": [],
   "source": [
    "# Get the graphs induced by each group\n",
    "\n",
    "G_A = nx.subgraph(G_i, nbunch=np.concatenate([A_m, A_f])).copy()\n",
    "G_B = nx.induced_subgraph(G_i, nbunch=np.concatenate([B_m, B_f]))\n",
    "G_AB = nx.induced_subgraph(G_i, nbunch=np.concatenate([A_m, B_m, A_f, B_f]))"
   ]
  },
  {
   "cell_type": "markdown",
   "metadata": {},
   "source": [
    "## Gender assortativity\n",
    "\n",
    "Gender assortativity measure the level of assortative mixing in terms of gender of a network. The closer the value is from 0, the closer the network mixes in a random fashion. The closer the value is from 1, the more segregated the network is in terms of gender. A value of -1 indicates a perfect mixing."
   ]
  },
  {
   "cell_type": "code",
   "execution_count": 95,
   "metadata": {},
   "outputs": [
    {
     "name": "stdout",
     "output_type": "stream",
     "text": [
      "The gender assortativity in the overall network is 0.031\n"
     ]
    }
   ],
   "source": [
    "ass_overall = nx.attribute_assortativity_coefficient(G_i, 'gender')\n",
    "print(f\"The gender assortativity in the overall network is {ass_overall:0.2}\")"
   ]
  },
  {
   "cell_type": "code",
   "execution_count": 96,
   "metadata": {},
   "outputs": [
    {
     "name": "stdout",
     "output_type": "stream",
     "text": [
      "The gender assortativity in group A network is 0.25\n"
     ]
    }
   ],
   "source": [
    "ass_A = nx.attribute_assortativity_coefficient(G_A, 'gender')\n",
    "print(f\"The gender assortativity in group A network is {ass_A:0.2}\")"
   ]
  },
  {
   "cell_type": "code",
   "execution_count": 97,
   "metadata": {},
   "outputs": [
    {
     "name": "stdout",
     "output_type": "stream",
     "text": [
      "The gender assortativity in group B network is 0.12\n"
     ]
    }
   ],
   "source": [
    "ass_B = nx.attribute_assortativity_coefficient(G_B, 'gender')\n",
    "print(f\"The gender assortativity in group B network is {ass_B:0.2}\")"
   ]
  },
  {
   "cell_type": "code",
   "execution_count": 98,
   "metadata": {},
   "outputs": [
    {
     "name": "stdout",
     "output_type": "stream",
     "text": [
      "The gender assortativity in both groups network is 0.13\n"
     ]
    }
   ],
   "source": [
    "ass_AB = nx.attribute_assortativity_coefficient(G_AB, 'gender')\n",
    "print(f\"The gender assortativity in both groups network is {ass_AB:0.2}\")"
   ]
  },
  {
   "cell_type": "code",
   "execution_count": 118,
   "metadata": {},
   "outputs": [
    {
     "name": "stdout",
     "output_type": "stream",
     "text": [
      "The gender assortativity in group A network is 0.072\n"
     ]
    }
   ],
   "source": [
    "ass_A = nx.attribute_assortativity_coefficient(G_A, 'gender')\n",
    "print(f\"The gender assortativity in group A network is {ass_A:0.2}\")"
   ]
  },
  {
   "cell_type": "markdown",
   "metadata": {},
   "source": [
    "Oddly, assortativity is larger in the average researchers network (Group A) than in succesful researchers. Although we can see a bias in both group to cite people of their gender. The next question is what gender has a higher bias in both groups?\n",
    "\n",
    "To answer this question, we can count the number of in-degree (resp. out-degree) edges for each gender in each group and compare that number to the total number of in-degree (resp. out-degree) edges."
   ]
  },
  {
   "cell_type": "code",
   "execution_count": 26,
   "metadata": {},
   "outputs": [],
   "source": [
    "def in_degree_p(group, network):\n",
    "    overall_in = sum([d for v, d in G_i.in_degree(group)])\n",
    "    local_in = sum([d for v, d in network.in_degree(group)])\n",
    "    \n",
    "    return local_in / overall_in"
   ]
  },
  {
   "cell_type": "code",
   "execution_count": 27,
   "metadata": {},
   "outputs": [],
   "source": [
    "def out_degree_p(group, network):\n",
    "    overall_in = sum([d for v, d in G_i.out_degree(group)])\n",
    "    local_in = sum([d for v, d in network.out_degree(group)])\n",
    "    \n",
    "    return local_in / overall_in"
   ]
  },
  {
   "cell_type": "markdown",
   "metadata": {},
   "source": [
    "In degree"
   ]
  },
  {
   "cell_type": "code",
   "execution_count": 28,
   "metadata": {},
   "outputs": [
    {
     "name": "stdout",
     "output_type": "stream",
     "text": [
      "Proportion of in_degree edges of each group in each network\n",
      "Females A: 0.18\n",
      "Males A: 0.17\n",
      "Females B: 0.08\n",
      "Males B: 0.076\n",
      "\n"
     ]
    }
   ],
   "source": [
    "print(\"Proportion of in_degree edges of each group in each network\\n\"\n",
    "      f\"Females A: {in_degree_p(A_f, G_A):.2}\\n\"\n",
    "      f\"Males A: {in_degree_p(A_m, G_A):.2}\\n\"\n",
    "      f\"Females B: {in_degree_p(B_f, G_B):.2}\\n\"\n",
    "      f\"Males B: {in_degree_p(B_m, G_B):.2}\\n\")"
   ]
  },
  {
   "cell_type": "markdown",
   "metadata": {},
   "source": [
    "Out degree"
   ]
  },
  {
   "cell_type": "code",
   "execution_count": 29,
   "metadata": {},
   "outputs": [
    {
     "name": "stdout",
     "output_type": "stream",
     "text": [
      "Proportion of out_degree edges of each group in each network\n",
      "Females A: 0.061\n",
      "Males A: 0.055\n",
      "Females B: 0.11\n",
      "Males B: 0.1\n",
      "\n"
     ]
    }
   ],
   "source": [
    "print(\"Proportion of out_degree edges of each group in each network\\n\"\n",
    "      f\"Females A: {out_degree_p(A_f, G_A):.2}\\n\"\n",
    "      f\"Males A: {out_degree_p(A_m, G_A):.2}\\n\"\n",
    "      f\"Females B: {out_degree_p(B_f, G_B):.2}\\n\"\n",
    "      f\"Males B: {out_degree_p(B_m, G_B):.2}\\n\")"
   ]
  },
  {
   "cell_type": "markdown",
   "metadata": {},
   "source": [
    "There seems to be a slightly larger bias for females in both networks but the bias is pretty even. That could be by the number of in_degree and out_degree self-edges in each network. Let's see."
   ]
  },
  {
   "cell_type": "code",
   "execution_count": 30,
   "metadata": {},
   "outputs": [],
   "source": [
    "def in_degree_self_p(group, network):\n",
    "    all_edges = sum([d for v, d in network.in_degree(group)])\n",
    "    self_edges = len([e for e in network.in_edges(group) if e[0] == e[1]])\n",
    "    \n",
    "    return self_edges / all_edges"
   ]
  },
  {
   "cell_type": "code",
   "execution_count": 31,
   "metadata": {},
   "outputs": [],
   "source": [
    "def out_degree_self_p(group, network):\n",
    "    all_edges = sum([d for v, d in network.out_degree(group)])\n",
    "    self_edges = len([e for e in network.out_edges(group) if e[0] == e[1]])\n",
    "    \n",
    "    return self_edges / all_edges"
   ]
  },
  {
   "cell_type": "code",
   "execution_count": 32,
   "metadata": {},
   "outputs": [],
   "source": [
    "def in_degree_within_p(group, network):\n",
    "    all_self = len([e for e in G_i.in_edges(group) if e[0] == e[1]])\n",
    "    local_self = len([e for e in network.in_edges(group) if e[0] == e[1]])\n",
    "    \n",
    "    return local_self / all_self"
   ]
  },
  {
   "cell_type": "code",
   "execution_count": 33,
   "metadata": {},
   "outputs": [],
   "source": [
    "def out_degree_within_p(group, network):\n",
    "    all_self = len([e for e in G_i.out_edges(group) if e[0] == e[1]])\n",
    "    local_self = len([e for e in network.out_edges(group) if e[0] == e[1]])\n",
    "    \n",
    "    return local_self / all_self"
   ]
  },
  {
   "cell_type": "markdown",
   "metadata": {},
   "source": [
    "In degree"
   ]
  },
  {
   "cell_type": "code",
   "execution_count": 34,
   "metadata": {},
   "outputs": [
    {
     "name": "stdout",
     "output_type": "stream",
     "text": [
      "The proportion of in_degree self-edges in each group:\n",
      "Females A: 0.18\n",
      "Males A: 0.21\n",
      "Females B: 0.06\n",
      "Males A: 0.067\n"
     ]
    }
   ],
   "source": [
    "print(\"The proportion of in_degree self-edges in each group:\\n\"\n",
    "      f\"Females A: {in_degree_self_p(A_f, G_A):.2}\\n\"\n",
    "      f\"Males A: {in_degree_self_p(A_m, G_A):.2}\\n\"\n",
    "      f\"Females B: {in_degree_self_p(B_f, G_B):.2}\\n\"\n",
    "      f\"Males A: {in_degree_self_p(B_m, G_B):.2}\")"
   ]
  },
  {
   "cell_type": "markdown",
   "metadata": {},
   "source": [
    "Out degree"
   ]
  },
  {
   "cell_type": "code",
   "execution_count": 35,
   "metadata": {},
   "outputs": [
    {
     "name": "stdout",
     "output_type": "stream",
     "text": [
      "The proportion of out_degree self-edges in each group:\n",
      "Females A: 0.18\n",
      "Males A: 0.21\n",
      "Females B: 0.063\n",
      "Males A: 0.063\n"
     ]
    }
   ],
   "source": [
    "print(\"The proportion of out_degree self-edges in each group:\\n\"\n",
    "      f\"Females A: {out_degree_self_p(A_f, G_A):.2}\\n\"\n",
    "      f\"Males A: {out_degree_self_p(A_m, G_A):.2}\\n\"\n",
    "      f\"Females B: {out_degree_self_p(B_f, G_B):.2}\\n\"\n",
    "      f\"Males A: {out_degree_self_p(B_m, G_B):.2}\")"
   ]
  },
  {
   "cell_type": "markdown",
   "metadata": {},
   "source": [
    "Most cited reasearchers have a fewer self-cites in proportion than average cited researchers, which makes sense. Let's see what is the proportion of total self cites in the overall network and within the local networks. In general men tend to self-cite a bit more often."
   ]
  },
  {
   "cell_type": "markdown",
   "metadata": {},
   "source": [
    "In degree"
   ]
  },
  {
   "cell_type": "code",
   "execution_count": 36,
   "metadata": {},
   "outputs": [
    {
     "name": "stdout",
     "output_type": "stream",
     "text": [
      "The proportion of in_degree self-edges in each group:\n",
      "Females A: 1.0\n",
      "Males A: 1.0\n",
      "Females B: 1.0\n",
      "Males A: 1.0\n"
     ]
    }
   ],
   "source": [
    "print(\"The proportion of in_degree self-edges in each group:\\n\"\n",
    "      f\"Females A: {in_degree_within_p(A_f, G_A):.2}\\n\"\n",
    "      f\"Males A: {in_degree_within_p(A_m, G_A):.2}\\n\"\n",
    "      f\"Females B: {in_degree_within_p(B_f, G_B):.2}\\n\"\n",
    "      f\"Males A: {in_degree_within_p(B_m, G_B):.2}\")"
   ]
  },
  {
   "cell_type": "markdown",
   "metadata": {},
   "source": [
    "Out degree"
   ]
  },
  {
   "cell_type": "code",
   "execution_count": 37,
   "metadata": {},
   "outputs": [
    {
     "name": "stdout",
     "output_type": "stream",
     "text": [
      "The proportion of out_degree self-edges in each group:\n",
      "Females A: 1.0\n",
      "Males A: 1.0\n",
      "Females B: 1.0\n",
      "Males A: 1.0\n"
     ]
    }
   ],
   "source": [
    "print(\"The proportion of out_degree self-edges in each group:\\n\"\n",
    "      f\"Females A: {out_degree_within_p(A_f, G_A):.2}\\n\"\n",
    "      f\"Males A: {out_degree_within_p(A_m, G_A):.2}\\n\"\n",
    "      f\"Females B: {out_degree_within_p(B_f, G_B):.2}\\n\"\n",
    "      f\"Males A: {out_degree_within_p(B_m, G_B):.2}\")"
   ]
  },
  {
   "cell_type": "markdown",
   "metadata": {},
   "source": [
    "All self-citations are there by definition."
   ]
  },
  {
   "cell_type": "markdown",
   "metadata": {},
   "source": [
    "## Let's create the first neighbors graph for each gender and group"
   ]
  },
  {
   "cell_type": "code",
   "execution_count": 38,
   "metadata": {},
   "outputs": [],
   "source": [
    "self_Af = [e for e in G_i.in_edges(A_f) if e[0] == e[1]]\n",
    "self_Bf = [e for e in G_i.in_edges(B_f) if e[0] == e[1]]\n",
    "self_Am = [e for e in G_i.in_edges(A_m) if e[0] == e[1]]\n",
    "self_Bm = [e for e in G_i.in_edges(B_m) if e[0] == e[1]]"
   ]
  },
  {
   "cell_type": "code",
   "execution_count": 39,
   "metadata": {},
   "outputs": [],
   "source": [
    "self_out_Af = [e for e in G_i.out_edges(A_f) if e[0] == e[1]]\n",
    "self_out_Bf = [e for e in G_i.out_edges(B_f) if e[0] == e[1]]\n",
    "self_out_Am = [e for e in G_i.out_edges(A_m) if e[0] == e[1]]\n",
    "self_out_Bm = [e for e in G_i.out_edges(B_m) if e[0] == e[1]]"
   ]
  },
  {
   "cell_type": "code",
   "execution_count": 40,
   "metadata": {},
   "outputs": [],
   "source": [
    "def get_neighbors(group):\n",
    "    neighbors = list(group)\n",
    "    for node in group:\n",
    "        neighbors.extend(nx.neighbors(G_i, node))\n",
    "    neighbors = set(neighbors)\n",
    "    \n",
    "    return neighbors"
   ]
  },
  {
   "cell_type": "code",
   "execution_count": 41,
   "metadata": {},
   "outputs": [],
   "source": [
    "NA_m = get_neighbors(A_m)\n",
    "NA_f = get_neighbors(A_f)\n",
    "NB_m = get_neighbors(B_m)\n",
    "NB_f = get_neighbors(B_f)"
   ]
  },
  {
   "cell_type": "code",
   "execution_count": 42,
   "metadata": {},
   "outputs": [],
   "source": [
    "GA_m = nx.induced_subgraph(G_i, NA_m)\n",
    "GA_f = nx.induced_subgraph(G_i, NA_f)\n",
    "GB_m = nx.induced_subgraph(G_i, NB_m)\n",
    "GB_f = nx.induced_subgraph(G_i, NB_f)"
   ]
  },
  {
   "cell_type": "code",
   "execution_count": 43,
   "metadata": {},
   "outputs": [],
   "source": [
    "GIA_m = nx.induced_subgraph(G_i, A_m)\n",
    "GIA_f = nx.induced_subgraph(G_i, A_f)\n",
    "GIB_m = nx.induced_subgraph(G_i, B_m)\n",
    "GIB_f = nx.induced_subgraph(G_i, B_f)"
   ]
  },
  {
   "cell_type": "code",
   "execution_count": 44,
   "metadata": {},
   "outputs": [],
   "source": [
    "GIA = nx.induced_subgraph(G_i, people[people.group=='A']['Short-Id'].values)"
   ]
  },
  {
   "cell_type": "code",
   "execution_count": 45,
   "metadata": {},
   "outputs": [],
   "source": [
    "GIB = nx.induced_subgraph(G_i, people[people.group=='B']['Short-Id'].values)"
   ]
  },
  {
   "cell_type": "markdown",
   "metadata": {},
   "source": [
    "## In degree Homofilia"
   ]
  },
  {
   "cell_type": "code",
   "execution_count": 46,
   "metadata": {},
   "outputs": [],
   "source": [
    "G_i.remove_edges_from(self_Af + self_Am + self_Bf + self_Bm)"
   ]
  },
  {
   "cell_type": "code",
   "execution_count": 47,
   "metadata": {},
   "outputs": [],
   "source": [
    "GIA_m = nx.induced_subgraph(G_i, A_m)\n",
    "GIA_f = nx.induced_subgraph(G_i, A_f)\n",
    "GIB_m = nx.induced_subgraph(G_i, B_m)\n",
    "GIB_f = nx.induced_subgraph(G_i, B_f)"
   ]
  },
  {
   "cell_type": "code",
   "execution_count": 48,
   "metadata": {},
   "outputs": [
    {
     "name": "stdout",
     "output_type": "stream",
     "text": [
      "In degree edges in overall network: 60,502\n",
      "In degree edges within females of group A: 5,108\n",
      "Proportion of Af in degree edges within Af: 0.084\n"
     ]
    }
   ],
   "source": [
    "sum_inaf = sum([d for n, d in G_i.in_degree(nbunch=A_f)])\n",
    "sum_outinaf = len(GIA_f.in_edges)\n",
    "print(f\"In degree edges in overall network: {sum_inaf:,}\")\n",
    "print(f\"In degree edges within females of group A: {sum_outinaf:,}\")\n",
    "print(f\"Proportion of Af in degree edges within Af: {sum_outinaf / sum_inaf:.2}\")"
   ]
  },
  {
   "cell_type": "code",
   "execution_count": 49,
   "metadata": {},
   "outputs": [
    {
     "name": "stdout",
     "output_type": "stream",
     "text": [
      "In degree edges in overall network 59,593\n",
      "In degree edges within males of group A: 4,289\n",
      "Proportion of Am in degree edges within Am: 0.072\n"
     ]
    }
   ],
   "source": [
    "sum_inam = sum([d for n, d in G_i.in_degree(nbunch=A_m)])\n",
    "sum_outinam = len(GIA_m.edges)\n",
    "print(f\"In degree edges in overall network {sum_inam:,}\")\n",
    "print(f\"In degree edges within males of group A: {sum_outinam:,}\")\n",
    "print(f\"Proportion of Am in degree edges within Am: {sum_outinam / sum_inam:.2}\")"
   ]
  },
  {
   "cell_type": "code",
   "execution_count": 50,
   "metadata": {},
   "outputs": [
    {
     "name": "stdout",
     "output_type": "stream",
     "text": [
      "In degree edges in overall network: 140,739\n",
      "In degree edges within females of group B: 5,568\n",
      "Proportion of Bf in degree edges within Bf 0.04\n"
     ]
    }
   ],
   "source": [
    "sum_inbf = sum([d for n, d in G_i.in_degree(nbunch=B_f)])\n",
    "sum_outinbf = len(GIB_f.edges)\n",
    "print(f\"In degree edges in overall network: {sum_inbf:,}\")\n",
    "print(f\"In degree edges within females of group B: {sum_outinbf:,}\")\n",
    "print(f\"Proportion of Bf in degree edges within Bf {sum_outinbf / sum_inbf:.2}\")"
   ]
  },
  {
   "cell_type": "code",
   "execution_count": 51,
   "metadata": {},
   "outputs": [
    {
     "name": "stdout",
     "output_type": "stream",
     "text": [
      "In degree edgesin the overall network: 135,229\n",
      "In degree edges within males of group B: 5,110\n",
      "Proportion of Bm in degree edges within Bm 0.038\n"
     ]
    }
   ],
   "source": [
    "sum_inbm = sum([d for n, d in G_i.in_degree(nbunch=B_m)])\n",
    "sum_outinbm = len(GIB_m.edges)\n",
    "print(f\"In degree edgesin the overall network: {sum_inbm:,}\")\n",
    "print(f\"In degree edges within males of group B: {sum_outinbm:,}\")\n",
    "print(f\"Proportion of Bm in degree edges within Bm {sum_outinbm / sum_inbm:.2}\")"
   ]
  },
  {
   "cell_type": "markdown",
   "metadata": {},
   "source": [
    "### In degree heterofilia"
   ]
  },
  {
   "cell_type": "code",
   "execution_count": 52,
   "metadata": {},
   "outputs": [
    {
     "name": "stdout",
     "output_type": "stream",
     "text": [
      "In degree edges 4105\n",
      "In degree edges within Af 60502\n",
      "Proportion of Af in degree edges within Af 0.06784899672738091\n"
     ]
    }
   ],
   "source": [
    "sum_inaf = sum([1 for u, v  in G_i.in_edges(nbunch=A_f) if u in A_m])\n",
    "sum_outinaf = len(G_i.in_edges(nbunch=A_f))\n",
    "print(\"In degree edges\", sum_inaf)\n",
    "print(\"In degree edges within Af\", sum_outinaf)\n",
    "print(\"Proportion of Af in degree edges within Af\", sum_inaf / sum_outinaf)"
   ]
  },
  {
   "cell_type": "code",
   "execution_count": 53,
   "metadata": {},
   "outputs": [
    {
     "name": "stdout",
     "output_type": "stream",
     "text": [
      "In degree edges 3992\n",
      "In degree edges within Am 59593\n",
      "Proportion of Am in degree edges within Am 0.06698773345862769\n"
     ]
    }
   ],
   "source": [
    "sum_inam = sum([1 for u, v  in G_i.in_edges(nbunch=A_m) if u in A_f])\n",
    "sum_outinam = len(G_i.in_edges(nbunch=A_m))\n",
    "print(\"In degree edges\", sum_inam)\n",
    "print(\"In degree edges within Am\", sum_outinam)\n",
    "print(\"Proportion of Am in degree edges within Am\", sum_inam / sum_outinam)"
   ]
  },
  {
   "cell_type": "code",
   "execution_count": 54,
   "metadata": {},
   "outputs": [
    {
     "name": "stdout",
     "output_type": "stream",
     "text": [
      "In degree edges 5033\n",
      "In degree edges within Bf 140739\n",
      "Proportion of Bf in degree edges within Bf 0.03576123178365627\n"
     ]
    }
   ],
   "source": [
    "sum_inbf = sum([1 for u, v  in G_i.in_edges(nbunch=B_f) if u in B_m])\n",
    "sum_outinbf = len(G_i.in_edges(nbunch=B_f))\n",
    "print(\"In degree edges\", sum_inbf)\n",
    "print(\"In degree edges within Bf\", sum_outinbf)\n",
    "print(\"Proportion of Bf in degree edges within Bf\", sum_inbf / sum_outinbf)"
   ]
  },
  {
   "cell_type": "code",
   "execution_count": 55,
   "metadata": {},
   "outputs": [
    {
     "name": "stdout",
     "output_type": "stream",
     "text": [
      "In degree edges 4476\n",
      "In degree edges within Bm 135229\n",
      "Proportion of Bm in degree edges within Bm 0.03309940915040413\n"
     ]
    }
   ],
   "source": [
    "sum_inbm = sum([1 for u, v  in G_i.in_edges(nbunch=B_m) if u in B_f])\n",
    "sum_outinbm = len(G_i.in_edges(nbunch=B_m))\n",
    "print(\"In degree edges\", sum_inbm)\n",
    "print(\"In degree edges within Bm\", sum_outinbm)\n",
    "print(\"Proportion of Bm in degree edges within Bm\", sum_inbm / sum_outinbm)"
   ]
  },
  {
   "cell_type": "markdown",
   "metadata": {},
   "source": [
    "### Out degree"
   ]
  },
  {
   "cell_type": "code",
   "execution_count": 56,
   "metadata": {},
   "outputs": [
    {
     "name": "stdout",
     "output_type": "stream",
     "text": [
      "Out degree edges 179866\n",
      "Out degree edges within Af 5108\n",
      "Proportion of Af in degree edges within Af 0.02839891919540102\n"
     ]
    }
   ],
   "source": [
    "sum_inaf = sum([d for n, d in G_i.out_degree(nbunch=A_f)])\n",
    "sum_outinaf = len(GIA_f.edges)\n",
    "print(\"Out degree edges\", sum_inaf)\n",
    "print(\"Out degree edges within Af\", sum_outinaf)\n",
    "print(\"Proportion of Af in degree edges within Af\", sum_outinaf / sum_inaf)"
   ]
  },
  {
   "cell_type": "code",
   "execution_count": 57,
   "metadata": {},
   "outputs": [
    {
     "name": "stdout",
     "output_type": "stream",
     "text": [
      "Out degree edges 190981\n",
      "Out degree edges within Am 4289\n",
      "Proportion of Am in degree edges within Am 0.022457731397364136\n"
     ]
    }
   ],
   "source": [
    "sum_inam = sum([d for n, d in G_i.out_degree(nbunch=A_m)])\n",
    "sum_outinam = len(GIA_m.edges)\n",
    "print(\"Out degree edges\", sum_inam)\n",
    "print(\"Out degree edges within Am\", sum_outinam)\n",
    "print(\"Proportion of Am in degree edges within Am\", sum_outinam / sum_inam)"
   ]
  },
  {
   "cell_type": "code",
   "execution_count": 58,
   "metadata": {},
   "outputs": [
    {
     "name": "stdout",
     "output_type": "stream",
     "text": [
      "Out degree edges 97159\n",
      "Out degree edges within Bf 5568\n",
      "Proportion of Bf in degree edges within Bf 0.057308123797074895\n"
     ]
    }
   ],
   "source": [
    "sum_inbf = sum([d for n, d in G_i.out_degree(nbunch=B_f)])\n",
    "sum_outinbf = len(GIB_f.edges)\n",
    "print(\"Out degree edges\", sum_inbf)\n",
    "print(\"Out degree edges within Bf\", sum_outinbf)\n",
    "print(\"Proportion of Bf in degree edges within Bf\", sum_outinbf / sum_inbf)"
   ]
  },
  {
   "cell_type": "code",
   "execution_count": 59,
   "metadata": {},
   "outputs": [
    {
     "name": "stdout",
     "output_type": "stream",
     "text": [
      "Out degree edges 108147\n",
      "Out degree edges within Bm 5110\n",
      "Proportion of Bm in degree edges within Bm 0.047250501632037874\n"
     ]
    }
   ],
   "source": [
    "sum_inbm = sum([d for n, d in G_i.out_degree(nbunch=B_m)])\n",
    "sum_outinbm = len(GIB_m.edges)\n",
    "print(\"Out degree edges\", sum_inbm)\n",
    "print(\"Out degree edges within Bm\", sum_outinbm)\n",
    "print(\"Proportion of Bm in degree edges within Bm\", sum_outinbm / sum_inbm)"
   ]
  },
  {
   "cell_type": "markdown",
   "metadata": {},
   "source": [
    "# Assortativity"
   ]
  }
 ],
 "metadata": {
  "kernelspec": {
   "display_name": "Python 3",
   "language": "python",
   "name": "python3"
  },
  "language_info": {
   "codemirror_mode": {
    "name": "ipython",
    "version": 3
   },
   "file_extension": ".py",
   "mimetype": "text/x-python",
   "name": "python",
   "nbconvert_exporter": "python",
   "pygments_lexer": "ipython3",
   "version": "3.6.9"
  }
 },
 "nbformat": 4,
 "nbformat_minor": 4
}
