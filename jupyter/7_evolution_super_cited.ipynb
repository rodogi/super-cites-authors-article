{
 "cells": [
  {
   "cell_type": "markdown",
   "metadata": {},
   "source": [
    "# The evolution of the super-cited"
   ]
  },
  {
   "cell_type": "code",
   "execution_count": 1,
   "metadata": {},
   "outputs": [],
   "source": [
    "import pandas as pd\n",
    "import networkx as nx\n",
    "import matplotlib.pyplot as plt\n",
    "import seaborn as sns\n",
    "import numpy as np"
   ]
  },
  {
   "cell_type": "markdown",
   "metadata": {},
   "source": [
    "### Citation table\n",
    "\n",
    "We take cites from 1990 to 2019 avoiding self-cites."
   ]
  },
  {
   "cell_type": "code",
   "execution_count": 2,
   "metadata": {},
   "outputs": [],
   "source": [
    "cite = pd.read_csv(\"../data/processed/cites.csv\")\n",
    "\n",
    "cite = cite[(cite.t_year >= 1990) & (cite.t_year < 2020)]\n",
    "cite = cite[(cite.s_year >= 1990) & (cite.s_year < 2020)]\n",
    "\n",
    "cite = cite[cite.target != cite.source]"
   ]
  },
  {
   "cell_type": "code",
   "execution_count": 3,
   "metadata": {},
   "outputs": [],
   "source": [
    "papers = pd.read_csv(\"../data/processed/adjacency_papers.csv\")\n",
    "\n",
    "papers = papers[(papers.t_year >= 1990) & (papers.t_year < 2020)]\n",
    "papers = papers[(papers.s_year >= 1990) & (papers.s_year < 2020)]\n",
    "\n",
    "papers = papers[papers.target != papers.source]"
   ]
  },
  {
   "cell_type": "markdown",
   "metadata": {},
   "source": [
    "### Authors table\n",
    "\n",
    "There are two author tables: \n",
    "\n",
    "1. One with the comparable groups A and B (`people`) and \n",
    "2. the one with the all the authors found in the RePEc repository (`all_people`)."
   ]
  },
  {
   "cell_type": "code",
   "execution_count": 4,
   "metadata": {},
   "outputs": [],
   "source": [
    "people = pd.read_csv(\"../data/processed/network_people.csv\")\n",
    "all_people = pd.read_csv(\"../data/processed/people.csv\")"
   ]
  },
  {
   "cell_type": "markdown",
   "metadata": {},
   "source": [
    "### Places table\n",
    "\n",
    "We use the institution to infer the place of work of the authors. We have:\n",
    "\n",
    "1. The region (continent)\n",
    "2. The sub-region (sub-continent)\n",
    "3. Country 3-letter code\n",
    "4. The institution's name"
   ]
  },
  {
   "cell_type": "code",
   "execution_count": 5,
   "metadata": {},
   "outputs": [],
   "source": [
    "places = pd.read_csv(\"../data/processed/institution.csv\")\n",
    "\n",
    "places = places[['Handle', 'Primary-Name', 'alpha-3', 'region', 'sub-region']].set_index(\"Handle\")"
   ]
  },
  {
   "cell_type": "markdown",
   "metadata": {},
   "source": [
    "### Adding place of work to people"
   ]
  },
  {
   "cell_type": "code",
   "execution_count": 6,
   "metadata": {},
   "outputs": [],
   "source": [
    "all_people = pd.merge(all_people,\n",
    "                  places,\n",
    "                  left_on=\"Workplace-Institution\",\n",
    "                  right_index=True,\n",
    "                  how=\"left\")\n",
    "\n",
    "# all_people = all_people[all_people.region.notna()]"
   ]
  },
  {
   "cell_type": "markdown",
   "metadata": {},
   "source": [
    "### Adding gender to the citation table\n",
    "\n",
    "We have two genders for each cite:\n",
    "\n",
    "1. Gender of the source (`gender_s`)\n",
    "3. Gender of the target (`gender`)"
   ]
  },
  {
   "cell_type": "code",
   "execution_count": 7,
   "metadata": {},
   "outputs": [],
   "source": [
    "cite = pd.merge(cite,\n",
    "                all_people[[\"Short-Id\", \"gender\"]],\n",
    "                how=\"left\",\n",
    "                left_on=\"target\",\n",
    "                right_on=\"Short-Id\")\n",
    "\n",
    "cite = pd.merge(cite,\n",
    "                all_people[[\"Short-Id\", \"gender\"]].rename(columns={\"gender\":\"gender_s\"}),\n",
    "                how=\"left\",\n",
    "                left_on=\"source\",\n",
    "                right_on=\"Short-Id\")"
   ]
  },
  {
   "cell_type": "markdown",
   "metadata": {},
   "source": [
    "Let's remove the citations without the gender of the target from the table."
   ]
  },
  {
   "cell_type": "code",
   "execution_count": 8,
   "metadata": {},
   "outputs": [],
   "source": [
    "cite = cite[cite.gender.notna()]\n",
    "cite = cite[cite.gender_s.notna()]"
   ]
  },
  {
   "cell_type": "markdown",
   "metadata": {},
   "source": [
    "## Super-cited researchers\n",
    "\n",
    "Let's get some basic statistics of the super-cited researchers in our citation network."
   ]
  },
  {
   "cell_type": "code",
   "execution_count": 9,
   "metadata": {},
   "outputs": [],
   "source": [
    "G = nx.from_pandas_edgelist(cite,\n",
    "                            source='source',\n",
    "                            target='target',\n",
    "                            create_using=nx.DiGraph)"
   ]
  },
  {
   "cell_type": "code",
   "execution_count": 10,
   "metadata": {},
   "outputs": [
    {
     "data": {
      "text/plain": [
       "36665"
      ]
     },
     "execution_count": 10,
     "metadata": {},
     "output_type": "execute_result"
    }
   ],
   "source": [
    "len(G)"
   ]
  },
  {
   "cell_type": "code",
   "execution_count": 11,
   "metadata": {},
   "outputs": [],
   "source": [
    "degree = pd.DataFrame(G.in_degree(), columns=[\"author\", \"degree\"])\n",
    "mu = degree.degree.mean()\n",
    "r = degree.degree.quantile(.75) - degree.degree.quantile(.25)"
   ]
  },
  {
   "cell_type": "code",
   "execution_count": 12,
   "metadata": {},
   "outputs": [],
   "source": [
    "super_cited = degree[degree.degree >= mu + 1.5 * r].author.unique()\n",
    "cite_sc = cite[cite.target.isin(super_cited)]"
   ]
  },
  {
   "cell_type": "code",
   "execution_count": 13,
   "metadata": {},
   "outputs": [
    {
     "data": {
      "text/plain": [
       "0.7304504753584287"
      ]
     },
     "execution_count": 13,
     "metadata": {},
     "output_type": "execute_result"
    }
   ],
   "source": [
    "cite[cite.target.isin(super_cited)].shape[0] / cite.shape[0]"
   ]
  },
  {
   "cell_type": "code",
   "execution_count": 14,
   "metadata": {},
   "outputs": [
    {
     "data": {
      "text/plain": [
       "4111"
      ]
     },
     "execution_count": 14,
     "metadata": {},
     "output_type": "execute_result"
    }
   ],
   "source": [
    "len(super_cited)"
   ]
  },
  {
   "cell_type": "code",
   "execution_count": 15,
   "metadata": {},
   "outputs": [
    {
     "data": {
      "text/html": [
       "<div>\n",
       "<style scoped>\n",
       "    .dataframe tbody tr th:only-of-type {\n",
       "        vertical-align: middle;\n",
       "    }\n",
       "\n",
       "    .dataframe tbody tr th {\n",
       "        vertical-align: top;\n",
       "    }\n",
       "\n",
       "    .dataframe thead th {\n",
       "        text-align: right;\n",
       "    }\n",
       "</style>\n",
       "<table border=\"1\" class=\"dataframe\">\n",
       "  <thead>\n",
       "    <tr style=\"text-align: right;\">\n",
       "      <th></th>\n",
       "      <th>paper</th>\n",
       "      <th>target</th>\n",
       "      <th>t_year</th>\n",
       "      <th>t_journal</th>\n",
       "      <th>source</th>\n",
       "      <th>s_year</th>\n",
       "      <th>s_journal</th>\n",
       "      <th>Short-Id_x</th>\n",
       "      <th>gender</th>\n",
       "      <th>Short-Id_y</th>\n",
       "      <th>gender_s</th>\n",
       "    </tr>\n",
       "  </thead>\n",
       "  <tbody>\n",
       "    <tr>\n",
       "      <th>0</th>\n",
       "      <td>repec:aag:wpaper:v:22:y:2018:i:1:p:180-203</td>\n",
       "      <td>pal66</td>\n",
       "      <td>2018.0</td>\n",
       "      <td>repec:aag:wpaper</td>\n",
       "      <td>pmc90</td>\n",
       "      <td>2019.0</td>\n",
       "      <td>repec:gam:jsusta</td>\n",
       "      <td>pal66</td>\n",
       "      <td>male</td>\n",
       "      <td>pmc90</td>\n",
       "      <td>male</td>\n",
       "    </tr>\n",
       "    <tr>\n",
       "      <th>1</th>\n",
       "      <td>repec:aag:wpaper:v:22:y:2018:i:1:p:180-203</td>\n",
       "      <td>pmc90</td>\n",
       "      <td>2018.0</td>\n",
       "      <td>repec:aag:wpaper</td>\n",
       "      <td>pal66</td>\n",
       "      <td>2019.0</td>\n",
       "      <td>repec:gam:jsusta</td>\n",
       "      <td>pmc90</td>\n",
       "      <td>male</td>\n",
       "      <td>pal66</td>\n",
       "      <td>male</td>\n",
       "    </tr>\n",
       "    <tr>\n",
       "      <th>3</th>\n",
       "      <td>repec:abz:journl:y:2015:id:26</td>\n",
       "      <td>pba1182</td>\n",
       "      <td>2015.0</td>\n",
       "      <td>repec:abz:journl</td>\n",
       "      <td>pze104</td>\n",
       "      <td>2016.0</td>\n",
       "      <td>repec:abz:journl</td>\n",
       "      <td>pba1182</td>\n",
       "      <td>female</td>\n",
       "      <td>pze104</td>\n",
       "      <td>male</td>\n",
       "    </tr>\n",
       "    <tr>\n",
       "      <th>4</th>\n",
       "      <td>repec:abz:journl:y:2015:id:26</td>\n",
       "      <td>pze104</td>\n",
       "      <td>2015.0</td>\n",
       "      <td>repec:abz:journl</td>\n",
       "      <td>pba1182</td>\n",
       "      <td>2016.0</td>\n",
       "      <td>repec:abz:journl</td>\n",
       "      <td>pze104</td>\n",
       "      <td>male</td>\n",
       "      <td>pba1182</td>\n",
       "      <td>female</td>\n",
       "    </tr>\n",
       "    <tr>\n",
       "      <th>5</th>\n",
       "      <td>repec:acb:agenda:v:10:y:2003:i:1:p:27-41</td>\n",
       "      <td>pfi172</td>\n",
       "      <td>2003.0</td>\n",
       "      <td>repec:acb:agenda</td>\n",
       "      <td>pwh34</td>\n",
       "      <td>2010.0</td>\n",
       "      <td>repec:bla:ecorec</td>\n",
       "      <td>pfi172</td>\n",
       "      <td>male</td>\n",
       "      <td>pwh34</td>\n",
       "      <td>male</td>\n",
       "    </tr>\n",
       "  </tbody>\n",
       "</table>\n",
       "</div>"
      ],
      "text/plain": [
       "                                        paper   target  t_year  \\\n",
       "0  repec:aag:wpaper:v:22:y:2018:i:1:p:180-203    pal66  2018.0   \n",
       "1  repec:aag:wpaper:v:22:y:2018:i:1:p:180-203    pmc90  2018.0   \n",
       "3               repec:abz:journl:y:2015:id:26  pba1182  2015.0   \n",
       "4               repec:abz:journl:y:2015:id:26   pze104  2015.0   \n",
       "5    repec:acb:agenda:v:10:y:2003:i:1:p:27-41   pfi172  2003.0   \n",
       "\n",
       "          t_journal   source  s_year         s_journal Short-Id_x  gender  \\\n",
       "0  repec:aag:wpaper    pmc90  2019.0  repec:gam:jsusta      pal66    male   \n",
       "1  repec:aag:wpaper    pal66  2019.0  repec:gam:jsusta      pmc90    male   \n",
       "3  repec:abz:journl   pze104  2016.0  repec:abz:journl    pba1182  female   \n",
       "4  repec:abz:journl  pba1182  2016.0  repec:abz:journl     pze104    male   \n",
       "5  repec:acb:agenda    pwh34  2010.0  repec:bla:ecorec     pfi172    male   \n",
       "\n",
       "  Short-Id_y gender_s  \n",
       "0      pmc90     male  \n",
       "1      pal66     male  \n",
       "3     pze104     male  \n",
       "4    pba1182   female  \n",
       "5      pwh34     male  "
      ]
     },
     "execution_count": 15,
     "metadata": {},
     "output_type": "execute_result"
    }
   ],
   "source": [
    "cite.head()"
   ]
  },
  {
   "cell_type": "code",
   "execution_count": 16,
   "metadata": {},
   "outputs": [],
   "source": [
    "cite = cite.drop(['Short-Id_x', 'Short-Id_y'], axis=1)"
   ]
  },
  {
   "cell_type": "code",
   "execution_count": 17,
   "metadata": {},
   "outputs": [],
   "source": [
    "cite = pd.merge(cite, people[['Short-Id', 'group']].rename(columns={'Short-Id': 'target',\n",
    "                                                     'group': 'group_t'}),\n",
    "         how='left',\n",
    "         on='target')"
   ]
  },
  {
   "cell_type": "code",
   "execution_count": 18,
   "metadata": {},
   "outputs": [],
   "source": [
    "cite = pd.merge(cite, people[['Short-Id', 'group']].rename(columns={'Short-Id': 'source',\n",
    "                                                     'group': 'group_s'}),\n",
    "         how='left',\n",
    "         on='source')"
   ]
  },
  {
   "cell_type": "code",
   "execution_count": 19,
   "metadata": {},
   "outputs": [],
   "source": [
    "cite['super_cited_t'] = False\n",
    "cite['super_cited_s'] = False"
   ]
  },
  {
   "cell_type": "code",
   "execution_count": 20,
   "metadata": {},
   "outputs": [],
   "source": [
    "cite.loc[cite.target.isin(super_cited), 'super_cited_t'] = True"
   ]
  },
  {
   "cell_type": "code",
   "execution_count": 21,
   "metadata": {},
   "outputs": [],
   "source": [
    "cite.loc[cite.source.isin(super_cited), 'super_cited_s'] = True"
   ]
  },
  {
   "cell_type": "code",
   "execution_count": 22,
   "metadata": {},
   "outputs": [],
   "source": [
    "cite.to_csv('../data/processed/cites_2.csv', index=False)"
   ]
  },
  {
   "cell_type": "markdown",
   "metadata": {},
   "source": [
    "# Yearly evolution in super-cited researchers"
   ]
  },
  {
   "cell_type": "code",
   "execution_count": 23,
   "metadata": {},
   "outputs": [
    {
     "data": {
      "image/png": "[encoded data removed]",
      "text/plain": [
       "<Figure size 432x288 with 1 Axes>"
      ]
     },
     "metadata": {},
     "output_type": "display_data"
    }
   ],
   "source": [
    "cite['s_year'] = cite['s_year'].astype(int).astype(str)\n",
    "\n",
    "Y = cite['s_year'].value_counts()\n",
    "\n",
    "with sns.axes_style(\"white\"):\n",
    "    sns.barplot(x=Y.index, y=Y.values/1000, color='gray')\n",
    "plt.xticks(rotation=90)\n",
    "plt.ylabel(\"Cites (Thousands)\")\n",
    "plt.xlabel(\"Year\")\n",
    "plt.tight_layout()\n",
    "plt.savefig('../figures/citation_distribution.png', dpi=300);"
   ]
  },
  {
   "cell_type": "code",
   "execution_count": 39,
   "metadata": {},
   "outputs": [],
   "source": [
    "scs = []\n",
    "years = []\n",
    "super_cited = []\n",
    "for year in [2000, 2003] + list(range(2005, 2020)):\n",
    "    years.append(year)\n",
    "    if year == 2000:\n",
    "        chunk = cite[cite.t_year <= year]\n",
    "    elif year == 2003:\n",
    "        chunk = cite[(cite.t_year > 2000) & (cite.t_year <= 2003)]\n",
    "    elif year == 2005:\n",
    "        chunk = cite[(cite.t_year > 2003) & (cite.t_year <= 2005)]\n",
    "    else:\n",
    "        chunk = cite[cite.t_year == year]\n",
    "    G_year = nx.from_pandas_edgelist(chunk,\n",
    "                                     source=\"source\",\n",
    "                                     target=\"target\",\n",
    "                                     create_using=nx.DiGraph)\n",
    "    degree = pd.DataFrame(G_year.in_degree(), columns=[\"author\", \"degree\"])\n",
    "    mu = degree.degree.mean()\n",
    "    r = degree.degree.quantile(.75) - degree.degree.quantile(.25)\n",
    "    scited = degree[degree.degree >= mu + 1.5 * r].author.unique()\n",
    "    super_cited.append(scited)\n",
    "    prop_f = all_people[all_people['Short-Id'].isin(scited)].gender.value_counts(normalize=True).loc['female']\n",
    "    scs.append(prop_f)\n",
    "df = pd.DataFrame({\"Female proportion\": scs, \"Year\": years})"
   ]
  },
  {
   "cell_type": "code",
   "execution_count": 40,
   "metadata": {},
   "outputs": [],
   "source": [
    "df['Year'] = df['Year'].astype(str)"
   ]
  },
  {
   "cell_type": "code",
   "execution_count": 41,
   "metadata": {},
   "outputs": [
    {
     "data": {
      "text/html": [
       "<div>\n",
       "<style scoped>\n",
       "    .dataframe tbody tr th:only-of-type {\n",
       "        vertical-align: middle;\n",
       "    }\n",
       "\n",
       "    .dataframe tbody tr th {\n",
       "        vertical-align: top;\n",
       "    }\n",
       "\n",
       "    .dataframe thead th {\n",
       "        text-align: right;\n",
       "    }\n",
       "</style>\n",
       "<table border=\"1\" class=\"dataframe\">\n",
       "  <thead>\n",
       "    <tr style=\"text-align: right;\">\n",
       "      <th></th>\n",
       "      <th>Female proportion</th>\n",
       "      <th>Year</th>\n",
       "    </tr>\n",
       "  </thead>\n",
       "  <tbody>\n",
       "    <tr>\n",
       "      <th>0</th>\n",
       "      <td>0.107898</td>\n",
       "      <td>2000</td>\n",
       "    </tr>\n",
       "    <tr>\n",
       "      <th>1</th>\n",
       "      <td>0.135417</td>\n",
       "      <td>2003</td>\n",
       "    </tr>\n",
       "    <tr>\n",
       "      <th>2</th>\n",
       "      <td>0.152044</td>\n",
       "      <td>2005</td>\n",
       "    </tr>\n",
       "    <tr>\n",
       "      <th>3</th>\n",
       "      <td>0.149546</td>\n",
       "      <td>2006</td>\n",
       "    </tr>\n",
       "    <tr>\n",
       "      <th>4</th>\n",
       "      <td>0.147813</td>\n",
       "      <td>2007</td>\n",
       "    </tr>\n",
       "    <tr>\n",
       "      <th>5</th>\n",
       "      <td>0.167776</td>\n",
       "      <td>2008</td>\n",
       "    </tr>\n",
       "    <tr>\n",
       "      <th>6</th>\n",
       "      <td>0.164991</td>\n",
       "      <td>2009</td>\n",
       "    </tr>\n",
       "    <tr>\n",
       "      <th>7</th>\n",
       "      <td>0.170986</td>\n",
       "      <td>2010</td>\n",
       "    </tr>\n",
       "    <tr>\n",
       "      <th>8</th>\n",
       "      <td>0.164720</td>\n",
       "      <td>2011</td>\n",
       "    </tr>\n",
       "    <tr>\n",
       "      <th>9</th>\n",
       "      <td>0.153397</td>\n",
       "      <td>2012</td>\n",
       "    </tr>\n",
       "    <tr>\n",
       "      <th>10</th>\n",
       "      <td>0.177674</td>\n",
       "      <td>2013</td>\n",
       "    </tr>\n",
       "    <tr>\n",
       "      <th>11</th>\n",
       "      <td>0.156267</td>\n",
       "      <td>2014</td>\n",
       "    </tr>\n",
       "    <tr>\n",
       "      <th>12</th>\n",
       "      <td>0.176367</td>\n",
       "      <td>2015</td>\n",
       "    </tr>\n",
       "    <tr>\n",
       "      <th>13</th>\n",
       "      <td>0.169608</td>\n",
       "      <td>2016</td>\n",
       "    </tr>\n",
       "    <tr>\n",
       "      <th>14</th>\n",
       "      <td>0.155505</td>\n",
       "      <td>2017</td>\n",
       "    </tr>\n",
       "    <tr>\n",
       "      <th>15</th>\n",
       "      <td>0.160878</td>\n",
       "      <td>2018</td>\n",
       "    </tr>\n",
       "    <tr>\n",
       "      <th>16</th>\n",
       "      <td>0.169492</td>\n",
       "      <td>2019</td>\n",
       "    </tr>\n",
       "  </tbody>\n",
       "</table>\n",
       "</div>"
      ],
      "text/plain": [
       "    Female proportion  Year\n",
       "0            0.107898  2000\n",
       "1            0.135417  2003\n",
       "2            0.152044  2005\n",
       "3            0.149546  2006\n",
       "4            0.147813  2007\n",
       "5            0.167776  2008\n",
       "6            0.164991  2009\n",
       "7            0.170986  2010\n",
       "8            0.164720  2011\n",
       "9            0.153397  2012\n",
       "10           0.177674  2013\n",
       "11           0.156267  2014\n",
       "12           0.176367  2015\n",
       "13           0.169608  2016\n",
       "14           0.155505  2017\n",
       "15           0.160878  2018\n",
       "16           0.169492  2019"
      ]
     },
     "execution_count": 41,
     "metadata": {},
     "output_type": "execute_result"
    }
   ],
   "source": [
    "df"
   ]
  },
  {
   "cell_type": "code",
   "execution_count": 26,
   "metadata": {},
   "outputs": [
    {
     "data": {
      "image/png": "[encoded data removed]",
      "text/plain": [
       "<Figure size 432x288 with 1 Axes>"
      ]
     },
     "metadata": {},
     "output_type": "display_data"
    }
   ],
   "source": [
    "with sns.axes_style('white'):\n",
    "    sns.lineplot(x=\"Year\", y=\"Female proportion\", data=df, marker=\"o\", color=\"gray\")\n",
    "plt.xticks(rotation=90);\n",
    "plt.ylim([0.06, 0.18])\n",
    "plt.tight_layout()\n",
    "plt.savefig('../figures/female_proportion_target.png', dpi=300);"
   ]
  },
  {
   "cell_type": "code",
   "execution_count": 27,
   "metadata": {},
   "outputs": [],
   "source": [
    "cite[\"s_year\"] = cite[\"s_year\"].astype(int)"
   ]
  },
  {
   "cell_type": "code",
   "execution_count": 28,
   "metadata": {},
   "outputs": [],
   "source": [
    "scs = []\n",
    "years = []\n",
    "super_cited = []\n",
    "for year in [2000, 2003] + list(range(2005, 2020)):\n",
    "    years.append(year)\n",
    "    if year == 2000:\n",
    "        chunk = cite[cite.s_year <= year]\n",
    "    elif year == 2003:\n",
    "        chunk = cite[(cite.s_year > 2000) & (cite.s_year <= 2003)]\n",
    "    elif year == 2005:\n",
    "        chunk = cite[(cite.s_year > 2003) & (cite.s_year <= 2005)]\n",
    "    else:\n",
    "        chunk = cite[cite.s_year == year]\n",
    "    G_year = nx.from_pandas_edgelist(chunk,\n",
    "                                     source=\"source\",\n",
    "                                     target=\"target\",\n",
    "                                     create_using=nx.DiGraph)\n",
    "    degree = pd.DataFrame(G_year.in_degree(), columns=[\"author\", \"degree\"])\n",
    "    mu = degree.degree.mean()\n",
    "    r = degree.degree.quantile(.75) - degree.degree.quantile(.25)\n",
    "    scited = degree[degree.degree >= mu + 1.5 * r].author.unique()\n",
    "    super_cited.append(scited)\n",
    "    prop_f = all_people[all_people['Short-Id'].isin(scited)].gender.value_counts(normalize=True).loc['female']\n",
    "    scs.append(prop_f)\n",
    "df = pd.DataFrame({\"Female proportion\": scs, \"Year\": years})"
   ]
  },
  {
   "cell_type": "code",
   "execution_count": 29,
   "metadata": {},
   "outputs": [],
   "source": [
    "df['Year'] = df['Year'].astype(str)"
   ]
  },
  {
   "cell_type": "code",
   "execution_count": 21,
   "metadata": {},
   "outputs": [
    {
     "data": {
      "image/png": "[encoded data removed]",
      "text/plain": [
       "<Figure size 432x288 with 1 Axes>"
      ]
     },
     "metadata": {},
     "output_type": "display_data"
    }
   ],
   "source": [
    "with sns.axes_style('white'):\n",
    "    sns.lineplot(x=\"Year\", y=\"Female proportion\", data=df, marker=\"o\", color=\"gray\")\n",
    "plt.xticks(rotation=90);\n",
    "plt.ylim([0.06, 0.18])\n",
    "plt.tight_layout()\n",
    "plt.savefig('../figures/female_proportion_source.png', dpi=300);"
   ]
  },
  {
   "cell_type": "markdown",
   "metadata": {},
   "source": [
    "## Yearly mean number of papers"
   ]
  },
  {
   "cell_type": "code",
   "execution_count": 22,
   "metadata": {},
   "outputs": [],
   "source": [
    "article = pd.read_csv(\"../data/processed/article.csv\")"
   ]
  },
  {
   "cell_type": "code",
   "execution_count": 23,
   "metadata": {},
   "outputs": [],
   "source": [
    "mean_arts = []\n",
    "years = []\n",
    "gender = []\n",
    "for year in list(range(1990, 2020)):\n",
    "    chunk = article[article.year == year]\n",
    "    narts = chunk.groupby(['Short-Id', 'gender']).size().rename('n').reset_index()\n",
    "    mean_arts.append(narts[narts.gender=='female'].n.mean())\n",
    "    gender.append('Female')\n",
    "    mean_arts.append(narts[narts.gender=='male'].n.mean())\n",
    "    gender.append('Male')\n",
    "    years.extend([year, year])\n",
    "df = pd.DataFrame({\"Productivity\": mean_arts, \"Year\": years, \"Gender\": gender})"
   ]
  },
  {
   "cell_type": "code",
   "execution_count": 24,
   "metadata": {},
   "outputs": [],
   "source": [
    "df['Year'] = df['Year'].astype(str)"
   ]
  },
  {
   "cell_type": "code",
   "execution_count": 25,
   "metadata": {},
   "outputs": [
    {
     "data": {
      "image/png": "[encoded data removed]",
      "text/plain": [
       "<Figure size 432x288 with 1 Axes>"
      ]
     },
     "metadata": {},
     "output_type": "display_data"
    }
   ],
   "source": [
    "with sns.axes_style(\"white\"):\n",
    "    sns.lineplot(x='Year', y=\"Productivity\", hue=\"Gender\", data=df, marker=\"o\",\n",
    "                 hue_order=['Male', 'Female'])\n",
    "plt.xticks(rotation=90)\n",
    "plt.tight_layout()\n",
    "plt.savefig(\"../figures/productivity_gender.png\", dpi=300)\n",
    "# plt.ylim([1, 3])"
   ]
  },
  {
   "cell_type": "markdown",
   "metadata": {},
   "source": [
    "## Impact per gender\n",
    "\n",
    "Impact is defined as the mean number of cites received by paper 2 years prior."
   ]
  },
  {
   "cell_type": "code",
   "execution_count": 26,
   "metadata": {},
   "outputs": [],
   "source": [
    "cites_per_year = papers.groupby(['target', 's_year']).size().rename('n').reset_index()"
   ]
  },
  {
   "cell_type": "code",
   "execution_count": 27,
   "metadata": {},
   "outputs": [],
   "source": [
    "cites_per_author = pd.merge(cites_per_year,\n",
    "         cite[['paper', 'target', 'gender', 't_year']].rename(columns={\"target\": 'author'}).drop_duplicates(),\n",
    "         left_on=\"target\",\n",
    "         right_on=\"paper\")"
   ]
  },
  {
   "cell_type": "code",
   "execution_count": 28,
   "metadata": {},
   "outputs": [],
   "source": [
    "years = []\n",
    "impact = []\n",
    "gender = []\n",
    "for year in list(range(1992, 2020)):\n",
    "    chunk = cites_per_author[(cites_per_author.t_year==year-2) & (cites_per_author.s_year==year)]\n",
    "    gens = chunk.groupby('gender').n.mean()\n",
    "    impact.append(gens.loc['female'])\n",
    "    gender.append('female')\n",
    "    impact.append(gens.loc['male'])\n",
    "    gender.append('male')\n",
    "    years.extend([year, year])\n",
    "df = pd.DataFrame({'Impact': impact, 'Gender': gender, 'Year': years})"
   ]
  },
  {
   "cell_type": "code",
   "execution_count": 29,
   "metadata": {},
   "outputs": [],
   "source": [
    "df['Year'] = df['Year'].astype(str)"
   ]
  },
  {
   "cell_type": "code",
   "execution_count": 30,
   "metadata": {},
   "outputs": [
    {
     "data": {
      "image/png": "[encoded data removed]",
      "text/plain": [
       "<Figure size 432x288 with 1 Axes>"
      ]
     },
     "metadata": {},
     "output_type": "display_data"
    }
   ],
   "source": [
    "with sns.axes_style('white'):\n",
    "    sns.lineplot(x='Year', y=\"Impact\", hue=\"Gender\", data=df, marker=\"o\",\n",
    "                 hue_order=['male', 'female'])\n",
    "plt.xticks(rotation=90)\n",
    "plt.tight_layout()\n",
    "plt.savefig(\"../figures/impact_per_gender.png\", dpi=300)"
   ]
  },
  {
   "cell_type": "markdown",
   "metadata": {},
   "source": [
    "## Without the super-cited"
   ]
  },
  {
   "cell_type": "code",
   "execution_count": 36,
   "metadata": {},
   "outputs": [],
   "source": [
    "years = []\n",
    "super_cited = []\n",
    "for year in list(range(1990, 2020)):\n",
    "    years.append(year)\n",
    "    chunk = cite[cite.s_year == year]\n",
    "    G_year = nx.from_pandas_edgelist(chunk,\n",
    "                                     source=\"source\",\n",
    "                                     target=\"target\",\n",
    "                                     create_using=nx.DiGraph)\n",
    "    degree = pd.DataFrame(G_year.in_degree(), columns=[\"author\", \"degree\"])\n",
    "    mu = degree.degree.mean()\n",
    "    r = degree.degree.quantile(.75) - degree.degree.quantile(.25)\n",
    "    scited = degree[degree.degree >= mu + 1.5 * r].author.unique()\n",
    "    super_cited.append(scited)"
   ]
  },
  {
   "cell_type": "markdown",
   "metadata": {},
   "source": [
    "### Productivity"
   ]
  },
  {
   "cell_type": "code",
   "execution_count": 40,
   "metadata": {},
   "outputs": [],
   "source": [
    "mean_arts = []\n",
    "years = []\n",
    "gender = []\n",
    "for i, year in enumerate(list(range(1990, 2020))):\n",
    "    chunk = article[(article.year == year) & (~article['Short-Id'].isin(super_cited[i]))]\n",
    "    narts = chunk.groupby(['Short-Id', 'gender']).size().rename('n').reset_index()\n",
    "    mean_arts.append(narts[narts.gender=='female'].n.mean())\n",
    "    gender.append('Female')\n",
    "    mean_arts.append(narts[narts.gender=='male'].n.mean())\n",
    "    gender.append('Male')\n",
    "    years.extend([year, year])\n",
    "df = pd.DataFrame({\"Productivity\": mean_arts, \"Year\": years, \"Gender\": gender})"
   ]
  },
  {
   "cell_type": "code",
   "execution_count": 41,
   "metadata": {},
   "outputs": [],
   "source": [
    "df['Year'] = df['Year'].astype(str)"
   ]
  },
  {
   "cell_type": "code",
   "execution_count": 42,
   "metadata": {},
   "outputs": [
    {
     "data": {
      "image/png": "[encoded data removed]",
      "text/plain": [
       "<Figure size 432x288 with 1 Axes>"
      ]
     },
     "metadata": {},
     "output_type": "display_data"
    }
   ],
   "source": [
    "with sns.axes_style(\"white\"):\n",
    "    sns.lineplot(x='Year', y=\"Productivity\", hue=\"Gender\", data=df, marker=\"o\",\n",
    "                 hue_order=['Male', 'Female'])\n",
    "plt.xticks(rotation=90)\n",
    "plt.tight_layout()\n",
    "plt.savefig(\"../figures/productivity_gender_without_super_cited.png\", dpi=300)\n",
    "# plt.ylim([1, 3])"
   ]
  },
  {
   "cell_type": "markdown",
   "metadata": {},
   "source": [
    "### Impact"
   ]
  },
  {
   "cell_type": "code",
   "execution_count": null,
   "metadata": {},
   "outputs": [],
   "source": [
    "years = []\n",
    "super_cited = []\n",
    "for year in list(range(1992, 2020)):\n",
    "    years.append(year)\n",
    "    chunk = cite[cite.s_year == year]\n",
    "    G_year = nx.from_pandas_edgelist(chunk,\n",
    "                                     source=\"source\",\n",
    "                                     target=\"target\",\n",
    "                                     create_using=nx.DiGraph)\n",
    "    degree = pd.DataFrame(G_year.in_degree(), columns=[\"author\", \"degree\"])\n",
    "    mu = degree.degree.mean()\n",
    "    r = degree.degree.quantile(.75) - degree.degree.quantile(.25)\n",
    "    scited = degree[degree.degree >= mu + 1.5 * r].author.unique()\n",
    "    super_cited.append(scited)"
   ]
  },
  {
   "cell_type": "code",
   "execution_count": 32,
   "metadata": {},
   "outputs": [],
   "source": [
    "years = []\n",
    "impact = []\n",
    "gender = []\n",
    "for i, year in enumerate(list(range(1992, 2020))):\n",
    "    chunk = cites_per_author[(cites_per_author.t_year==year-2) & (cites_per_author.s_year==year) & (\n",
    "        ~cites_per_author.author.isin(super_cited[i]))]\n",
    "    gens = chunk.groupby('gender').n.mean()\n",
    "    impact.append(gens.loc['female'])\n",
    "    gender.append('female')\n",
    "    impact.append(gens.loc['male'])\n",
    "    gender.append('male')\n",
    "    years.extend([year, year])\n",
    "df = pd.DataFrame({'Impact': impact, 'Gender': gender, 'Year': years})"
   ]
  },
  {
   "cell_type": "code",
   "execution_count": 33,
   "metadata": {},
   "outputs": [],
   "source": [
    "df['Year'] = df['Year'].astype(str)"
   ]
  },
  {
   "cell_type": "code",
   "execution_count": 34,
   "metadata": {},
   "outputs": [
    {
     "data": {
      "image/png": "[encoded data removed]",
      "text/plain": [
       "<Figure size 432x288 with 1 Axes>"
      ]
     },
     "metadata": {},
     "output_type": "display_data"
    }
   ],
   "source": [
    "with sns.axes_style('white'):\n",
    "    sns.lineplot(x='Year', y=\"Impact\", hue=\"Gender\", data=df, marker=\"o\",\n",
    "                 hue_order=['male', 'female'])\n",
    "plt.xticks(rotation=90)\n",
    "plt.tight_layout()\n",
    "plt.savefig(\"../figures/impact_per_gender_without_super_cited.png\", dpi=300)"
   ]
  },
  {
   "cell_type": "markdown",
   "metadata": {},
   "source": [
    "## Bias towards women"
   ]
  }
 ],
 "metadata": {
  "kernelspec": {
   "display_name": "Python 3",
   "language": "python",
   "name": "python3"
  },
  "language_info": {
   "codemirror_mode": {
    "name": "ipython",
    "version": 3
   },
   "file_extension": ".py",
   "mimetype": "text/x-python",
   "name": "python",
   "nbconvert_exporter": "python",
   "pygments_lexer": "ipython3",
   "version": "3.8.5"
  }
 },
 "nbformat": 4,
 "nbformat_minor": 4
}
