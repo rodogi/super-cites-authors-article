{
 "cells": [
  {
   "cell_type": "markdown",
   "metadata": {},
   "source": [
    "# Article, its date and its journal\n",
    "\n",
    "In this jupyter notebook, we want to add the date and the journal for each article we have.\n",
    "To do this, we ran two different scripts previously to obtain journal and date information:\n",
    "\n",
    "- `article_information.py`\n",
    "- `journals.py`\n",
    "\n",
    "What we need now is to append this new information to our already created `article.csv` file."
   ]
  },
  {
   "cell_type": "code",
   "execution_count": 1,
   "metadata": {},
   "outputs": [],
   "source": [
    "import pandas as pd"
   ]
  },
  {
   "cell_type": "code",
   "execution_count": 2,
   "metadata": {},
   "outputs": [
    {
     "name": "stderr",
     "output_type": "stream",
     "text": [
      "/home/rdora/.local/lib/python3.6/site-packages/IPython/core/interactiveshell.py:3063: DtypeWarning: Columns (2,3,5) have mixed types.Specify dtype option on import or set low_memory=False.\n",
      "  interactivity=interactivity, compiler=compiler, result=result)\n"
     ]
    }
   ],
   "source": [
    "art = pd.read_csv('/home/rdora/femec/data/article.csv')\n",
    "art_supp = pd.read_csv('/home/rdora/femec/data/articles_supp.csv')\n",
    "jnls = pd.read_csv('/home/rdora/femec/data/journals.csv')"
   ]
  },
  {
   "cell_type": "markdown",
   "metadata": {},
   "source": [
    "We have tons of data, so we need to be careful as how we add it all together. To begin with, we need to deal with the repeated ids we have on some databases, particularly in the `art_supp` and the `art` data bases.\n",
    "\n",
    "The goal here, is to have, for the maximum number of articles in `art`, its date, title and journal."
   ]
  },
  {
   "cell_type": "markdown",
   "metadata": {},
   "source": [
    "## First peak and unique articles"
   ]
  },
  {
   "cell_type": "code",
   "execution_count": 3,
   "metadata": {},
   "outputs": [],
   "source": [
    "art_supp['handle'] = art_supp.handle.str.lower()"
   ]
  },
  {
   "cell_type": "code",
   "execution_count": 4,
   "metadata": {},
   "outputs": [
    {
     "name": "stdout",
     "output_type": "stream",
     "text": [
      "<class 'pandas.core.frame.DataFrame'>\n",
      "RangeIndex: 2193480 entries, 0 to 2193479\n",
      "Data columns (total 6 columns):\n",
      " #   Column   Non-Null Count    Dtype \n",
      "---  ------   --------------    ----- \n",
      " 0   handle   2192682 non-null  object\n",
      " 1   title    2180375 non-null  object\n",
      " 2   year     2176892 non-null  object\n",
      " 3   month    1391186 non-null  object\n",
      " 4   jhandle  2192682 non-null  object\n",
      " 5   jname    1536847 non-null  object\n",
      "dtypes: object(6)\n",
      "memory usage: 100.4+ MB\n"
     ]
    }
   ],
   "source": [
    "art_supp.info(null_counts=True)"
   ]
  },
  {
   "cell_type": "code",
   "execution_count": 5,
   "metadata": {},
   "outputs": [
    {
     "data": {
      "text/plain": [
       "handle     2099360\n",
       "title      1969762\n",
       "year           965\n",
       "month          857\n",
       "jhandle       4330\n",
       "jname         3754\n",
       "dtype: int64"
      ]
     },
     "execution_count": 5,
     "metadata": {},
     "output_type": "execute_result"
    }
   ],
   "source": [
    "art_supp.nunique()"
   ]
  },
  {
   "cell_type": "code",
   "execution_count": 6,
   "metadata": {},
   "outputs": [],
   "source": [
    "art.rename(columns={'Item-Id': 'handle'}, inplace=True)\n",
    "uart = art[art['Item-Type']=='article'].handle.unique()"
   ]
  },
  {
   "cell_type": "code",
   "execution_count": 7,
   "metadata": {},
   "outputs": [
    {
     "name": "stdout",
     "output_type": "stream",
     "text": [
      "There are 489,091 unique articles\n"
     ]
    }
   ],
   "source": [
    "print(f\"There are {len(uart):,} unique articles\")"
   ]
  },
  {
   "cell_type": "code",
   "execution_count": 8,
   "metadata": {},
   "outputs": [],
   "source": [
    "uart = pd.DataFrame({'handle': uart})"
   ]
  },
  {
   "cell_type": "markdown",
   "metadata": {},
   "source": [
    "## 1. Removing missing data"
   ]
  },
  {
   "cell_type": "code",
   "execution_count": 9,
   "metadata": {},
   "outputs": [],
   "source": [
    "art_supp_cp = art_supp.dropna(subset=['year', 'jname', 'handle'])"
   ]
  },
  {
   "cell_type": "code",
   "execution_count": 10,
   "metadata": {},
   "outputs": [
    {
     "name": "stdout",
     "output_type": "stream",
     "text": [
      "<class 'pandas.core.frame.DataFrame'>\n",
      "Int64Index: 1534104 entries, 1 to 2193478\n",
      "Data columns (total 6 columns):\n",
      " #   Column   Non-Null Count    Dtype \n",
      "---  ------   --------------    ----- \n",
      " 0   handle   1534104 non-null  object\n",
      " 1   title    1529557 non-null  object\n",
      " 2   year     1534104 non-null  object\n",
      " 3   month    1083685 non-null  object\n",
      " 4   jhandle  1534104 non-null  object\n",
      " 5   jname    1534104 non-null  object\n",
      "dtypes: object(6)\n",
      "memory usage: 81.9+ MB\n"
     ]
    }
   ],
   "source": [
    "art_supp_cp.info(null_counts=True)"
   ]
  },
  {
   "cell_type": "code",
   "execution_count": 11,
   "metadata": {},
   "outputs": [
    {
     "data": {
      "text/plain": [
       "handle     1450517\n",
       "title      1365641\n",
       "year           787\n",
       "month          773\n",
       "jhandle       3838\n",
       "jname         3740\n",
       "dtype: int64"
      ]
     },
     "execution_count": 11,
     "metadata": {},
     "output_type": "execute_result"
    }
   ],
   "source": [
    "art_supp_cp.nunique()"
   ]
  },
  {
   "cell_type": "code",
   "execution_count": 12,
   "metadata": {},
   "outputs": [],
   "source": [
    "merge1 = pd.merge(uart, art_supp_cp, on='handle', how='left')"
   ]
  },
  {
   "cell_type": "code",
   "execution_count": 13,
   "metadata": {},
   "outputs": [
    {
     "name": "stdout",
     "output_type": "stream",
     "text": [
      "<class 'pandas.core.frame.DataFrame'>\n",
      "Int64Index: 500675 entries, 0 to 500674\n",
      "Data columns (total 6 columns):\n",
      " #   Column   Non-Null Count   Dtype \n",
      "---  ------   --------------   ----- \n",
      " 0   handle   500675 non-null  object\n",
      " 1   title    329811 non-null  object\n",
      " 2   year     331160 non-null  object\n",
      " 3   month    238936 non-null  object\n",
      " 4   jhandle  331160 non-null  object\n",
      " 5   jname    331160 non-null  object\n",
      "dtypes: object(6)\n",
      "memory usage: 26.7+ MB\n"
     ]
    }
   ],
   "source": [
    "merge1.info(null_counts=True)"
   ]
  },
  {
   "cell_type": "code",
   "execution_count": 14,
   "metadata": {},
   "outputs": [
    {
     "data": {
      "text/plain": [
       "handle     489091\n",
       "title      304309\n",
       "year          213\n",
       "month         533\n",
       "jhandle      2732\n",
       "jname        2824\n",
       "dtype: int64"
      ]
     },
     "execution_count": 14,
     "metadata": {},
     "output_type": "execute_result"
    }
   ],
   "source": [
    "merge1.nunique()"
   ]
  },
  {
   "cell_type": "code",
   "execution_count": 15,
   "metadata": {},
   "outputs": [
    {
     "data": {
      "text/html": [
       "<div>\n",
       "<style scoped>\n",
       "    .dataframe tbody tr th:only-of-type {\n",
       "        vertical-align: middle;\n",
       "    }\n",
       "\n",
       "    .dataframe tbody tr th {\n",
       "        vertical-align: top;\n",
       "    }\n",
       "\n",
       "    .dataframe thead th {\n",
       "        text-align: right;\n",
       "    }\n",
       "</style>\n",
       "<table border=\"1\" class=\"dataframe\">\n",
       "  <thead>\n",
       "    <tr style=\"text-align: right;\">\n",
       "      <th></th>\n",
       "      <th>handle</th>\n",
       "      <th>title</th>\n",
       "      <th>year</th>\n",
       "      <th>month</th>\n",
       "      <th>jhandle</th>\n",
       "      <th>jname</th>\n",
       "    </tr>\n",
       "  </thead>\n",
       "  <tbody>\n",
       "    <tr>\n",
       "      <th>0</th>\n",
       "      <td>repec:oup:jafrec:v:13:y:2004:i:02:p:ii1-ii14</td>\n",
       "      <td>Africa and the World Economy</td>\n",
       "      <td>2004</td>\n",
       "      <td>December</td>\n",
       "      <td>RePEc:oup:jafrec</td>\n",
       "      <td>Journal of African Economies</td>\n",
       "    </tr>\n",
       "    <tr>\n",
       "      <th>1</th>\n",
       "      <td>repec:eee:wdevel:v:31:y:2003:i:1:p:107-130</td>\n",
       "      <td>NaN</td>\n",
       "      <td>NaN</td>\n",
       "      <td>NaN</td>\n",
       "      <td>NaN</td>\n",
       "      <td>NaN</td>\n",
       "    </tr>\n",
       "    <tr>\n",
       "      <th>2</th>\n",
       "      <td>repec:eee:wdevel:v:28:y:2000:i:2:p:381-400</td>\n",
       "      <td>NaN</td>\n",
       "      <td>NaN</td>\n",
       "      <td>NaN</td>\n",
       "      <td>NaN</td>\n",
       "      <td>NaN</td>\n",
       "    </tr>\n",
       "    <tr>\n",
       "      <th>3</th>\n",
       "      <td>repec:eee:reveco:v:13:y:2004:i:3:p:325-340</td>\n",
       "      <td>NaN</td>\n",
       "      <td>NaN</td>\n",
       "      <td>NaN</td>\n",
       "      <td>NaN</td>\n",
       "      <td>NaN</td>\n",
       "    </tr>\n",
       "    <tr>\n",
       "      <th>4</th>\n",
       "      <td>repec:taf:jdevst:v:38:y:2001:i:2:p:27-56</td>\n",
       "      <td>Is Africa a Net Creditor? New Estimates of Cap...</td>\n",
       "      <td>2001</td>\n",
       "      <td>NaN</td>\n",
       "      <td>RePEc:taf:jdevst</td>\n",
       "      <td>Journal of Development Studies</td>\n",
       "    </tr>\n",
       "  </tbody>\n",
       "</table>\n",
       "</div>"
      ],
      "text/plain": [
       "                                         handle  \\\n",
       "0  repec:oup:jafrec:v:13:y:2004:i:02:p:ii1-ii14   \n",
       "1    repec:eee:wdevel:v:31:y:2003:i:1:p:107-130   \n",
       "2    repec:eee:wdevel:v:28:y:2000:i:2:p:381-400   \n",
       "3    repec:eee:reveco:v:13:y:2004:i:3:p:325-340   \n",
       "4      repec:taf:jdevst:v:38:y:2001:i:2:p:27-56   \n",
       "\n",
       "                                               title  year     month  \\\n",
       "0                       Africa and the World Economy  2004  December   \n",
       "1                                                NaN   NaN       NaN   \n",
       "2                                                NaN   NaN       NaN   \n",
       "3                                                NaN   NaN       NaN   \n",
       "4  Is Africa a Net Creditor? New Estimates of Cap...  2001       NaN   \n",
       "\n",
       "            jhandle                           jname  \n",
       "0  RePEc:oup:jafrec    Journal of African Economies  \n",
       "1               NaN                             NaN  \n",
       "2               NaN                             NaN  \n",
       "3               NaN                             NaN  \n",
       "4  RePEc:taf:jdevst  Journal of Development Studies  "
      ]
     },
     "execution_count": 15,
     "metadata": {},
     "output_type": "execute_result"
    }
   ],
   "source": [
    "merge1.head()"
   ]
  },
  {
   "cell_type": "code",
   "execution_count": 16,
   "metadata": {},
   "outputs": [
    {
     "name": "stdout",
     "output_type": "stream",
     "text": [
      "<class 'pandas.core.frame.DataFrame'>\n",
      "Int64Index: 500675 entries, 0 to 500674\n",
      "Data columns (total 6 columns):\n",
      " #   Column   Non-Null Count   Dtype \n",
      "---  ------   --------------   ----- \n",
      " 0   handle   500675 non-null  object\n",
      " 1   title    329811 non-null  object\n",
      " 2   year     331160 non-null  object\n",
      " 3   month    238936 non-null  object\n",
      " 4   jhandle  331160 non-null  object\n",
      " 5   jname    331160 non-null  object\n",
      "dtypes: object(6)\n",
      "memory usage: 26.7+ MB\n"
     ]
    }
   ],
   "source": [
    "merge1.info()"
   ]
  },
  {
   "cell_type": "code",
   "execution_count": 17,
   "metadata": {},
   "outputs": [
    {
     "data": {
      "text/html": [
       "<div>\n",
       "<style scoped>\n",
       "    .dataframe tbody tr th:only-of-type {\n",
       "        vertical-align: middle;\n",
       "    }\n",
       "\n",
       "    .dataframe tbody tr th {\n",
       "        vertical-align: top;\n",
       "    }\n",
       "\n",
       "    .dataframe thead th {\n",
       "        text-align: right;\n",
       "    }\n",
       "</style>\n",
       "<table border=\"1\" class=\"dataframe\">\n",
       "  <thead>\n",
       "    <tr style=\"text-align: right;\">\n",
       "      <th></th>\n",
       "      <th>handle</th>\n",
       "      <th>title</th>\n",
       "      <th>year</th>\n",
       "      <th>month</th>\n",
       "      <th>jhandle</th>\n",
       "      <th>jname</th>\n",
       "    </tr>\n",
       "  </thead>\n",
       "  <tbody>\n",
       "  </tbody>\n",
       "</table>\n",
       "</div>"
      ],
      "text/plain": [
       "Empty DataFrame\n",
       "Columns: [handle, title, year, month, jhandle, jname]\n",
       "Index: []"
      ]
     },
     "execution_count": 17,
     "metadata": {},
     "output_type": "execute_result"
    }
   ],
   "source": [
    "art_supp_cp[art_supp_cp.handle=='repec:eee:reveco:v:13:y:2004:i:3:p:325-340']"
   ]
  },
  {
   "cell_type": "markdown",
   "metadata": {},
   "source": [
    "## 2 Get journal and year from repec handle"
   ]
  },
  {
   "cell_type": "code",
   "execution_count": 18,
   "metadata": {},
   "outputs": [],
   "source": [
    "import re\n",
    "import datetime\n",
    "import matplotlib.pyplot as plt\n",
    "import seaborn as sns"
   ]
  },
  {
   "cell_type": "code",
   "execution_count": 19,
   "metadata": {},
   "outputs": [],
   "source": [
    "def get_year(handle):\n",
    "    reyear = re.compile(r'(?<=:y:)[0-9]+')\n",
    "    s = handle.strip().split(':')\n",
    "    if reyear.search(handle):\n",
    "        year = int(reyear.search(handle).group())\n",
    "        if 1900 > year or year > 2020:\n",
    "            year = None\n",
    "        elif datetime.date(1900, 1, 1) > datetime.date(year, 1, 1) > datetime.date(2020, 12, 1):\n",
    "            year = None\n",
    "    else:\n",
    "        year = None\n",
    "    \n",
    "    return year"
   ]
  },
  {
   "cell_type": "code",
   "execution_count": 20,
   "metadata": {},
   "outputs": [],
   "source": [
    "def get_journal(handle):\n",
    "    reyear = re.compile(r'(?<=:y:)[0-9]+')\n",
    "    s = handle.strip().split(':')\n",
    "    if len(s) >= 3:\n",
    "        handle_journal = ':'.join(s[:3])\n",
    "    else:\n",
    "        handle_journal = None\n",
    "    \n",
    "    return handle_journal"
   ]
  },
  {
   "cell_type": "code",
   "execution_count": 21,
   "metadata": {},
   "outputs": [],
   "source": [
    "uart['year'] = uart['handle'].apply(get_year)\n",
    "uart['journal'] = uart['handle'].apply(get_journal)"
   ]
  },
  {
   "cell_type": "code",
   "execution_count": 22,
   "metadata": {},
   "outputs": [
    {
     "name": "stdout",
     "output_type": "stream",
     "text": [
      "<class 'pandas.core.frame.DataFrame'>\n",
      "RangeIndex: 489091 entries, 0 to 489090\n",
      "Data columns (total 3 columns):\n",
      " #   Column   Non-Null Count   Dtype  \n",
      "---  ------   --------------   -----  \n",
      " 0   handle   489091 non-null  object \n",
      " 1   year     423246 non-null  float64\n",
      " 2   journal  489091 non-null  object \n",
      "dtypes: float64(1), object(2)\n",
      "memory usage: 11.2+ MB\n"
     ]
    }
   ],
   "source": [
    "uart.info(null_counts=True)"
   ]
  },
  {
   "cell_type": "code",
   "execution_count": 23,
   "metadata": {},
   "outputs": [
    {
     "data": {
      "text/plain": [
       "2013.0    21496\n",
       "2014.0    21100\n",
       "2012.0    20913\n",
       "2015.0    20826\n",
       "2016.0    20507\n",
       "          ...  \n",
       "1928.0        2\n",
       "1929.0        1\n",
       "1927.0        1\n",
       "1926.0        1\n",
       "1918.0        1\n",
       "Name: year, Length: 96, dtype: int64"
      ]
     },
     "execution_count": 23,
     "metadata": {},
     "output_type": "execute_result"
    }
   ],
   "source": [
    "uart.year.value_counts()"
   ]
  },
  {
   "cell_type": "code",
   "execution_count": 24,
   "metadata": {},
   "outputs": [],
   "source": [
    "jnls.rename(columns={'handle': 'journal'}, inplace=True)"
   ]
  },
  {
   "cell_type": "code",
   "execution_count": 25,
   "metadata": {},
   "outputs": [],
   "source": [
    "jnls.journal = jnls.journal.str.lower()"
   ]
  },
  {
   "cell_type": "code",
   "execution_count": 26,
   "metadata": {},
   "outputs": [],
   "source": [
    "jnls = jnls[jnls.name.notna()]"
   ]
  },
  {
   "cell_type": "code",
   "execution_count": 27,
   "metadata": {},
   "outputs": [],
   "source": [
    "jnls = jnls.drop_duplicates(subset=['journal'])"
   ]
  },
  {
   "cell_type": "code",
   "execution_count": 28,
   "metadata": {},
   "outputs": [],
   "source": [
    "merge2 = pd.merge(uart, jnls, on='journal', how='left').drop('type', axis=1)"
   ]
  },
  {
   "cell_type": "code",
   "execution_count": 29,
   "metadata": {},
   "outputs": [
    {
     "data": {
      "text/html": [
       "<div>\n",
       "<style scoped>\n",
       "    .dataframe tbody tr th:only-of-type {\n",
       "        vertical-align: middle;\n",
       "    }\n",
       "\n",
       "    .dataframe tbody tr th {\n",
       "        vertical-align: top;\n",
       "    }\n",
       "\n",
       "    .dataframe thead th {\n",
       "        text-align: right;\n",
       "    }\n",
       "</style>\n",
       "<table border=\"1\" class=\"dataframe\">\n",
       "  <thead>\n",
       "    <tr style=\"text-align: right;\">\n",
       "      <th></th>\n",
       "      <th>handle</th>\n",
       "      <th>year</th>\n",
       "      <th>journal</th>\n",
       "      <th>name</th>\n",
       "    </tr>\n",
       "  </thead>\n",
       "  <tbody>\n",
       "    <tr>\n",
       "      <th>0</th>\n",
       "      <td>repec:oup:jafrec:v:13:y:2004:i:02:p:ii1-ii14</td>\n",
       "      <td>2004.0</td>\n",
       "      <td>repec:oup:jafrec</td>\n",
       "      <td>Journal of African Economies</td>\n",
       "    </tr>\n",
       "    <tr>\n",
       "      <th>1</th>\n",
       "      <td>repec:eee:wdevel:v:31:y:2003:i:1:p:107-130</td>\n",
       "      <td>2003.0</td>\n",
       "      <td>repec:eee:wdevel</td>\n",
       "      <td>World Development</td>\n",
       "    </tr>\n",
       "    <tr>\n",
       "      <th>2</th>\n",
       "      <td>repec:eee:wdevel:v:28:y:2000:i:2:p:381-400</td>\n",
       "      <td>2000.0</td>\n",
       "      <td>repec:eee:wdevel</td>\n",
       "      <td>World Development</td>\n",
       "    </tr>\n",
       "    <tr>\n",
       "      <th>3</th>\n",
       "      <td>repec:eee:reveco:v:13:y:2004:i:3:p:325-340</td>\n",
       "      <td>2004.0</td>\n",
       "      <td>repec:eee:reveco</td>\n",
       "      <td>International Review of Economics &amp; Finance</td>\n",
       "    </tr>\n",
       "    <tr>\n",
       "      <th>4</th>\n",
       "      <td>repec:taf:jdevst:v:38:y:2001:i:2:p:27-56</td>\n",
       "      <td>2001.0</td>\n",
       "      <td>repec:taf:jdevst</td>\n",
       "      <td>Journal of Development Studies</td>\n",
       "    </tr>\n",
       "  </tbody>\n",
       "</table>\n",
       "</div>"
      ],
      "text/plain": [
       "                                         handle    year           journal  \\\n",
       "0  repec:oup:jafrec:v:13:y:2004:i:02:p:ii1-ii14  2004.0  repec:oup:jafrec   \n",
       "1    repec:eee:wdevel:v:31:y:2003:i:1:p:107-130  2003.0  repec:eee:wdevel   \n",
       "2    repec:eee:wdevel:v:28:y:2000:i:2:p:381-400  2000.0  repec:eee:wdevel   \n",
       "3    repec:eee:reveco:v:13:y:2004:i:3:p:325-340  2004.0  repec:eee:reveco   \n",
       "4      repec:taf:jdevst:v:38:y:2001:i:2:p:27-56  2001.0  repec:taf:jdevst   \n",
       "\n",
       "                                          name  \n",
       "0                 Journal of African Economies  \n",
       "1                            World Development  \n",
       "2                            World Development  \n",
       "3  International Review of Economics & Finance  \n",
       "4               Journal of Development Studies  "
      ]
     },
     "execution_count": 29,
     "metadata": {},
     "output_type": "execute_result"
    }
   ],
   "source": [
    "merge2.head()"
   ]
  },
  {
   "cell_type": "markdown",
   "metadata": {},
   "source": [
    "## 3 Complete missing information obtained in 2"
   ]
  },
  {
   "cell_type": "code",
   "execution_count": 30,
   "metadata": {},
   "outputs": [],
   "source": [
    "iyear = merge2[merge2.year.isna()].index\n",
    "myears = merge2[merge2.year.isna()]['handle'].unique()"
   ]
  },
  {
   "cell_type": "code",
   "execution_count": 31,
   "metadata": {},
   "outputs": [],
   "source": [
    "asup = art_supp_cp[art_supp_cp.handle.isin(myears)]"
   ]
  },
  {
   "cell_type": "code",
   "execution_count": 32,
   "metadata": {},
   "outputs": [],
   "source": [
    "def remove_hyphen(year):\n",
    "    y = year.split('-')\n",
    "    \n",
    "    return y[0]"
   ]
  },
  {
   "cell_type": "code",
   "execution_count": 33,
   "metadata": {},
   "outputs": [
    {
     "name": "stderr",
     "output_type": "stream",
     "text": [
      "/home/rdora/.local/lib/python3.6/site-packages/pandas/core/generic.py:5303: SettingWithCopyWarning: \n",
      "A value is trying to be set on a copy of a slice from a DataFrame.\n",
      "Try using .loc[row_indexer,col_indexer] = value instead\n",
      "\n",
      "See the caveats in the documentation: https://pandas.pydata.org/pandas-docs/stable/user_guide/indexing.html#returning-a-view-versus-a-copy\n",
      "  self[name] = value\n"
     ]
    }
   ],
   "source": [
    "asup.year = asup.year.astype(str)"
   ]
  },
  {
   "cell_type": "code",
   "execution_count": 34,
   "metadata": {},
   "outputs": [],
   "source": [
    "asup.year = asup.year.apply(remove_hyphen)\n",
    "\n",
    "asup.year = asup.year.replace({\n",
    "    '2011.0': '2011',\n",
    "    '2010.0': '2010',\n",
    "    '2002/2003': '2002'})\n",
    "\n",
    "asup = asup[asup.year != 'Forthcoming']"
   ]
  },
  {
   "cell_type": "code",
   "execution_count": 37,
   "metadata": {},
   "outputs": [],
   "source": [
    "for year in asup.year.unique():\n",
    "    try:\n",
    "        int(year)\n",
    "    except ValueError:\n",
    "        print(year)"
   ]
  },
  {
   "cell_type": "code",
   "execution_count": 38,
   "metadata": {},
   "outputs": [],
   "source": [
    "asup.year = asup.year.astype(int)"
   ]
  },
  {
   "cell_type": "code",
   "execution_count": 39,
   "metadata": {},
   "outputs": [
    {
     "name": "stdout",
     "output_type": "stream",
     "text": [
      "65845\n"
     ]
    }
   ],
   "source": [
    "print(len(myears))"
   ]
  },
  {
   "cell_type": "code",
   "execution_count": 40,
   "metadata": {},
   "outputs": [],
   "source": [
    "asup = asup[(asup.year >= 1900) & (asup.year < 2021)]"
   ]
  },
  {
   "cell_type": "code",
   "execution_count": 41,
   "metadata": {},
   "outputs": [],
   "source": [
    "asup = asup.drop_duplicates(subset=['handle'])"
   ]
  },
  {
   "cell_type": "code",
   "execution_count": 42,
   "metadata": {},
   "outputs": [
    {
     "data": {
      "text/plain": [
       "handle     40833\n",
       "title      38620\n",
       "year          68\n",
       "month        207\n",
       "jhandle       24\n",
       "jname        671\n",
       "dtype: int64"
      ]
     },
     "execution_count": 42,
     "metadata": {},
     "output_type": "execute_result"
    }
   ],
   "source": [
    "asup.nunique()"
   ]
  },
  {
   "cell_type": "code",
   "execution_count": 43,
   "metadata": {},
   "outputs": [
    {
     "name": "stdout",
     "output_type": "stream",
     "text": [
      "<class 'pandas.core.frame.DataFrame'>\n",
      "Int64Index: 40833 entries, 7992 to 2175371\n",
      "Data columns (total 6 columns):\n",
      " #   Column   Non-Null Count  Dtype \n",
      "---  ------   --------------  ----- \n",
      " 0   handle   40833 non-null  object\n",
      " 1   title    40831 non-null  object\n",
      " 2   year     40833 non-null  int64 \n",
      " 3   month    9569 non-null   object\n",
      " 4   jhandle  40833 non-null  object\n",
      " 5   jname    40833 non-null  object\n",
      "dtypes: int64(1), object(5)\n",
      "memory usage: 2.2+ MB\n"
     ]
    }
   ],
   "source": [
    "asup.info()"
   ]
  },
  {
   "cell_type": "code",
   "execution_count": 44,
   "metadata": {},
   "outputs": [],
   "source": [
    "asup = asup[['handle', 'year']]"
   ]
  },
  {
   "cell_type": "code",
   "execution_count": 45,
   "metadata": {},
   "outputs": [],
   "source": [
    "merge3 = pd.merge(merge2[merge2.handle.isin(myears)].drop('year', axis=1),\n",
    "                 asup, on='handle', how='left')"
   ]
  },
  {
   "cell_type": "code",
   "execution_count": 46,
   "metadata": {},
   "outputs": [],
   "source": [
    "merge3 = pd.concat([merge2.drop(iyear), merge3])"
   ]
  },
  {
   "cell_type": "code",
   "execution_count": 47,
   "metadata": {},
   "outputs": [
    {
     "name": "stdout",
     "output_type": "stream",
     "text": [
      "<class 'pandas.core.frame.DataFrame'>\n",
      "Int64Index: 489091 entries, 0 to 65844\n",
      "Data columns (total 4 columns):\n",
      " #   Column   Non-Null Count   Dtype  \n",
      "---  ------   --------------   -----  \n",
      " 0   handle   489091 non-null  object \n",
      " 1   year     464079 non-null  float64\n",
      " 2   journal  489091 non-null  object \n",
      " 3   name     488243 non-null  object \n",
      "dtypes: float64(1), object(3)\n",
      "memory usage: 18.7+ MB\n"
     ]
    }
   ],
   "source": [
    "merge3.info()"
   ]
  },
  {
   "cell_type": "code",
   "execution_count": 48,
   "metadata": {},
   "outputs": [
    {
     "data": {
      "text/plain": [
       "array(['repec:fce:ofcrev', 'repec:ieu:journl', 'repec:uwe:journl',\n",
       "       'repec:sae:ecolab', 'repec:rau:homkmg', 'repec:srs:journl',\n",
       "       'repec:ura:ecregj', 'repec:csb:stintr', 'repec:eyd:eyjrnl',\n",
       "       'repec:ccp:journl', 'repec:mth:ifb888', 'repec:scn:0000mi',\n",
       "       'repec:bpd:articl', 'repec:sae:emecst', 'repec:gig:jaaktu',\n",
       "       'repec:kse:modern', 'repec:sae:crnind', 'repec:cos:jpaper',\n",
       "       'repec:sae:ijcgvn', 'repec:gig:joupla', 'repec:mth:csbm88',\n",
       "       'repec:mth:ijhr88', 'repec:wsd:irgpim', 'repec:pab:journl',\n",
       "       'repec:iik:journl', 'repec:kse:chasop', 'repec:cnc:journl',\n",
       "       'repec:nbp:journl', 'repec:env:journl', 'repec:fis:journl',\n",
       "       'repec:epf:easopt', 'repec:rnp:artcls', 'repec:onl:scimod'],\n",
       "      dtype=object)"
      ]
     },
     "execution_count": 48,
     "metadata": {},
     "output_type": "execute_result"
    }
   ],
   "source": [
    "merge3[merge3.name.isna()].journal.unique()"
   ]
  },
  {
   "cell_type": "code",
   "execution_count": 49,
   "metadata": {},
   "outputs": [
    {
     "data": {
      "text/html": [
       "<div>\n",
       "<style scoped>\n",
       "    .dataframe tbody tr th:only-of-type {\n",
       "        vertical-align: middle;\n",
       "    }\n",
       "\n",
       "    .dataframe tbody tr th {\n",
       "        vertical-align: top;\n",
       "    }\n",
       "\n",
       "    .dataframe thead th {\n",
       "        text-align: right;\n",
       "    }\n",
       "</style>\n",
       "<table border=\"1\" class=\"dataframe\">\n",
       "  <thead>\n",
       "    <tr style=\"text-align: right;\">\n",
       "      <th></th>\n",
       "      <th>journal</th>\n",
       "      <th>name</th>\n",
       "      <th>type</th>\n",
       "    </tr>\n",
       "  </thead>\n",
       "  <tbody>\n",
       "  </tbody>\n",
       "</table>\n",
       "</div>"
      ],
      "text/plain": [
       "Empty DataFrame\n",
       "Columns: [journal, name, type]\n",
       "Index: []"
      ]
     },
     "execution_count": 49,
     "metadata": {},
     "output_type": "execute_result"
    }
   ],
   "source": [
    "jnls[jnls.journal == 'repec:mth:csbm88']"
   ]
  },
  {
   "cell_type": "markdown",
   "metadata": {},
   "source": [
    "## Get missing information from `art_supp`"
   ]
  },
  {
   "cell_type": "code",
   "execution_count": 50,
   "metadata": {},
   "outputs": [],
   "source": [
    "missing_journals = merge3[merge3.name.isna()].journal.unique()\n",
    "missing_years = merge3[merge3.year.isna()].handle.unique()"
   ]
  },
  {
   "cell_type": "code",
   "execution_count": 51,
   "metadata": {},
   "outputs": [],
   "source": [
    "art_supp.jhandle = art_supp.jhandle.str.lower()"
   ]
  },
  {
   "cell_type": "code",
   "execution_count": 52,
   "metadata": {},
   "outputs": [],
   "source": [
    "art_supp = art_supp.rename(columns={'jhandle': 'journal',\n",
    "                                    'jname': 'name'})"
   ]
  },
  {
   "cell_type": "code",
   "execution_count": 53,
   "metadata": {},
   "outputs": [],
   "source": [
    "asup_j = art_supp[art_supp.journal.isin(missing_journals)][['journal', 'name']].dropna().drop_duplicates(subset='journal')"
   ]
  },
  {
   "cell_type": "code",
   "execution_count": 54,
   "metadata": {},
   "outputs": [],
   "source": [
    "m3_j = pd.merge(merge3[merge3.name.isna()].drop('name', axis=1), asup_j,\n",
    "               on='journal', how='left')"
   ]
  },
  {
   "cell_type": "code",
   "execution_count": 55,
   "metadata": {},
   "outputs": [],
   "source": [
    "merge4 = pd.concat([merge3[merge3.name.notna()], m3_j])"
   ]
  },
  {
   "cell_type": "code",
   "execution_count": 56,
   "metadata": {},
   "outputs": [
    {
     "name": "stdout",
     "output_type": "stream",
     "text": [
      "<class 'pandas.core.frame.DataFrame'>\n",
      "Int64Index: 489091 entries, 0 to 847\n",
      "Data columns (total 4 columns):\n",
      " #   Column   Non-Null Count   Dtype  \n",
      "---  ------   --------------   -----  \n",
      " 0   handle   489091 non-null  object \n",
      " 1   year     464079 non-null  float64\n",
      " 2   journal  489091 non-null  object \n",
      " 3   name     488601 non-null  object \n",
      "dtypes: float64(1), object(3)\n",
      "memory usage: 18.7+ MB\n"
     ]
    }
   ],
   "source": [
    "merge4.info()"
   ]
  },
  {
   "cell_type": "code",
   "execution_count": 57,
   "metadata": {},
   "outputs": [],
   "source": [
    "asup_y = art_supp[art_supp.handle.isin(missing_years)][['handle', 'year']].dropna().drop_duplicates(subset='handle')"
   ]
  },
  {
   "cell_type": "code",
   "execution_count": 72,
   "metadata": {},
   "outputs": [],
   "source": [
    "asup_y.year = asup_y.year.astype(str)"
   ]
  },
  {
   "cell_type": "code",
   "execution_count": 74,
   "metadata": {},
   "outputs": [],
   "source": [
    "asup_y.year = asup_y.year.apply(remove_hyphen)\n",
    "\n",
    "asup_y.year = asup_y.year.replace({\n",
    "    '2011.0': '2011',\n",
    "    '2010.0': '2010',\n",
    "    '2002/2003': '2002'})\n",
    "\n",
    "asup_y = asup_y[asup_y.year != 'Forthcoming']\n",
    "asup_y = asup_y[asup_y.year != '285']"
   ]
  },
  {
   "cell_type": "code",
   "execution_count": 75,
   "metadata": {},
   "outputs": [],
   "source": [
    "for year in asup_y.year.unique():\n",
    "    try:\n",
    "        int(year)\n",
    "    except ValueError:\n",
    "        print(year)"
   ]
  },
  {
   "cell_type": "code",
   "execution_count": 76,
   "metadata": {},
   "outputs": [],
   "source": [
    "m4_y = pd.merge(merge4[merge4.year.isna()].drop('year', axis=1), asup_y,\n",
    "               on='handle', how='left')"
   ]
  },
  {
   "cell_type": "code",
   "execution_count": 77,
   "metadata": {},
   "outputs": [],
   "source": [
    "merge5 = pd.concat([merge4[merge4.year.notna()], m4_y])"
   ]
  },
  {
   "cell_type": "code",
   "execution_count": 78,
   "metadata": {},
   "outputs": [
    {
     "name": "stdout",
     "output_type": "stream",
     "text": [
      "<class 'pandas.core.frame.DataFrame'>\n",
      "Int64Index: 489091 entries, 0 to 25011\n",
      "Data columns (total 4 columns):\n",
      " #   Column   Non-Null Count   Dtype \n",
      "---  ------   --------------   ----- \n",
      " 0   handle   489091 non-null  object\n",
      " 1   year     487746 non-null  object\n",
      " 2   journal  489091 non-null  object\n",
      " 3   name     488601 non-null  object\n",
      "dtypes: object(4)\n",
      "memory usage: 18.7+ MB\n"
     ]
    }
   ],
   "source": [
    "merge5.info()"
   ]
  },
  {
   "cell_type": "markdown",
   "metadata": {},
   "source": [
    "## Add title to articles"
   ]
  },
  {
   "cell_type": "code",
   "execution_count": 79,
   "metadata": {},
   "outputs": [
    {
     "data": {
      "text/html": [
       "<div>\n",
       "<style scoped>\n",
       "    .dataframe tbody tr th:only-of-type {\n",
       "        vertical-align: middle;\n",
       "    }\n",
       "\n",
       "    .dataframe tbody tr th {\n",
       "        vertical-align: top;\n",
       "    }\n",
       "\n",
       "    .dataframe thead th {\n",
       "        text-align: right;\n",
       "    }\n",
       "</style>\n",
       "<table border=\"1\" class=\"dataframe\">\n",
       "  <thead>\n",
       "    <tr style=\"text-align: right;\">\n",
       "      <th></th>\n",
       "      <th>handle</th>\n",
       "      <th>title</th>\n",
       "      <th>year</th>\n",
       "      <th>month</th>\n",
       "      <th>journal</th>\n",
       "      <th>name</th>\n",
       "    </tr>\n",
       "  </thead>\n",
       "  <tbody>\n",
       "    <tr>\n",
       "      <th>0</th>\n",
       "      <td>repec:bok:journl</td>\n",
       "      <td>NaN</td>\n",
       "      <td>NaN</td>\n",
       "      <td>NaN</td>\n",
       "      <td>repec</td>\n",
       "      <td>NaN</td>\n",
       "    </tr>\n",
       "    <tr>\n",
       "      <th>1</th>\n",
       "      <td>repec:bok:journl:v:24:y:2018:i:4:p:1-36</td>\n",
       "      <td>Monetary Policy and Corporate Investment</td>\n",
       "      <td>2018</td>\n",
       "      <td>December</td>\n",
       "      <td>repec:bok:journl</td>\n",
       "      <td>Economic Analysis (Quarterly)</td>\n",
       "    </tr>\n",
       "    <tr>\n",
       "      <th>2</th>\n",
       "      <td>repec:bok:journl:v:19:y:2013:i:4:p:47-86</td>\n",
       "      <td>Estimating the Neutral Real Interest Rate (NRI...</td>\n",
       "      <td>2013</td>\n",
       "      <td>December</td>\n",
       "      <td>repec:bok:journl</td>\n",
       "      <td>Economic Analysis (Quarterly)</td>\n",
       "    </tr>\n",
       "    <tr>\n",
       "      <th>3</th>\n",
       "      <td>repec:bok:journl:v:18:y:2012:i:1:p:1-29</td>\n",
       "      <td>Oil Price Shocks and the Macroeconomic Activity</td>\n",
       "      <td>2012</td>\n",
       "      <td>March</td>\n",
       "      <td>repec:bok:journl</td>\n",
       "      <td>Economic Analysis (Quarterly)</td>\n",
       "    </tr>\n",
       "    <tr>\n",
       "      <th>4</th>\n",
       "      <td>repec:bok:journl:v:21:y:2015:i:1:p:65-100</td>\n",
       "      <td>Nominal Wage Contracts, Search Frictions and t...</td>\n",
       "      <td>2015</td>\n",
       "      <td>March</td>\n",
       "      <td>repec:bok:journl</td>\n",
       "      <td>Economic Analysis (Quarterly)</td>\n",
       "    </tr>\n",
       "  </tbody>\n",
       "</table>\n",
       "</div>"
      ],
      "text/plain": [
       "                                      handle  \\\n",
       "0                           repec:bok:journl   \n",
       "1    repec:bok:journl:v:24:y:2018:i:4:p:1-36   \n",
       "2   repec:bok:journl:v:19:y:2013:i:4:p:47-86   \n",
       "3    repec:bok:journl:v:18:y:2012:i:1:p:1-29   \n",
       "4  repec:bok:journl:v:21:y:2015:i:1:p:65-100   \n",
       "\n",
       "                                               title  year     month  \\\n",
       "0                                                NaN   NaN       NaN   \n",
       "1           Monetary Policy and Corporate Investment  2018  December   \n",
       "2  Estimating the Neutral Real Interest Rate (NRI...  2013  December   \n",
       "3    Oil Price Shocks and the Macroeconomic Activity  2012     March   \n",
       "4  Nominal Wage Contracts, Search Frictions and t...  2015     March   \n",
       "\n",
       "            journal                           name  \n",
       "0             repec                            NaN  \n",
       "1  repec:bok:journl  Economic Analysis (Quarterly)  \n",
       "2  repec:bok:journl  Economic Analysis (Quarterly)  \n",
       "3  repec:bok:journl  Economic Analysis (Quarterly)  \n",
       "4  repec:bok:journl  Economic Analysis (Quarterly)  "
      ]
     },
     "execution_count": 79,
     "metadata": {},
     "output_type": "execute_result"
    }
   ],
   "source": [
    "art_supp.head()"
   ]
  },
  {
   "cell_type": "code",
   "execution_count": 80,
   "metadata": {},
   "outputs": [],
   "source": [
    "asup_t = art_supp[['handle', 'title']].dropna().drop_duplicates(subset='handle')"
   ]
  },
  {
   "cell_type": "code",
   "execution_count": 81,
   "metadata": {},
   "outputs": [],
   "source": [
    "merge6 = pd.merge(merge5, asup_t, on='handle', how='left')"
   ]
  },
  {
   "cell_type": "code",
   "execution_count": 82,
   "metadata": {},
   "outputs": [
    {
     "name": "stdout",
     "output_type": "stream",
     "text": [
      "<class 'pandas.core.frame.DataFrame'>\n",
      "Int64Index: 489091 entries, 0 to 489090\n",
      "Data columns (total 5 columns):\n",
      " #   Column   Non-Null Count   Dtype \n",
      "---  ------   --------------   ----- \n",
      " 0   handle   489091 non-null  object\n",
      " 1   year     487746 non-null  object\n",
      " 2   journal  489091 non-null  object\n",
      " 3   name     488601 non-null  object\n",
      " 4   title    484413 non-null  object\n",
      "dtypes: object(5)\n",
      "memory usage: 22.4+ MB\n"
     ]
    }
   ],
   "source": [
    "merge6.info()"
   ]
  },
  {
   "cell_type": "code",
   "execution_count": 96,
   "metadata": {},
   "outputs": [],
   "source": [
    "merge6.to_csv('/home/rdora/femec/data/processed/unique_articles.csv', index=False)"
   ]
  },
  {
   "cell_type": "code",
   "execution_count": 95,
   "metadata": {},
   "outputs": [
    {
     "data": {
      "text/html": [
       "<div>\n",
       "<style scoped>\n",
       "    .dataframe tbody tr th:only-of-type {\n",
       "        vertical-align: middle;\n",
       "    }\n",
       "\n",
       "    .dataframe tbody tr th {\n",
       "        vertical-align: top;\n",
       "    }\n",
       "\n",
       "    .dataframe thead th {\n",
       "        text-align: right;\n",
       "    }\n",
       "</style>\n",
       "<table border=\"1\" class=\"dataframe\">\n",
       "  <thead>\n",
       "    <tr style=\"text-align: right;\">\n",
       "      <th></th>\n",
       "      <th>handle</th>\n",
       "      <th>year</th>\n",
       "      <th>journal</th>\n",
       "      <th>name</th>\n",
       "      <th>title</th>\n",
       "    </tr>\n",
       "  </thead>\n",
       "  <tbody>\n",
       "    <tr>\n",
       "      <th>0</th>\n",
       "      <td>repec:oup:jafrec:v:13:y:2004:i:02:p:ii1-ii14</td>\n",
       "      <td>2004</td>\n",
       "      <td>repec:oup:jafrec</td>\n",
       "      <td>Journal of African Economies</td>\n",
       "      <td>Africa and the World Economy</td>\n",
       "    </tr>\n",
       "    <tr>\n",
       "      <th>1</th>\n",
       "      <td>repec:eee:wdevel:v:31:y:2003:i:1:p:107-130</td>\n",
       "      <td>2003</td>\n",
       "      <td>repec:eee:wdevel</td>\n",
       "      <td>World Development</td>\n",
       "      <td>Public Debts and Private Assets</td>\n",
       "    </tr>\n",
       "    <tr>\n",
       "      <th>2</th>\n",
       "      <td>repec:eee:wdevel:v:28:y:2000:i:2:p:381-400</td>\n",
       "      <td>2000</td>\n",
       "      <td>repec:eee:wdevel</td>\n",
       "      <td>World Development</td>\n",
       "      <td>Financial Determinants of Domestic Investment ...</td>\n",
       "    </tr>\n",
       "    <tr>\n",
       "      <th>3</th>\n",
       "      <td>repec:eee:reveco:v:13:y:2004:i:3:p:325-340</td>\n",
       "      <td>2004</td>\n",
       "      <td>repec:eee:reveco</td>\n",
       "      <td>International Review of Economics &amp; Finance</td>\n",
       "      <td>Additionality of debt relief and debt forgiven...</td>\n",
       "    </tr>\n",
       "    <tr>\n",
       "      <th>4</th>\n",
       "      <td>repec:taf:jdevst:v:38:y:2001:i:2:p:27-56</td>\n",
       "      <td>2001</td>\n",
       "      <td>repec:taf:jdevst</td>\n",
       "      <td>Journal of Development Studies</td>\n",
       "      <td>Is Africa a Net Creditor? New Estimates of Cap...</td>\n",
       "    </tr>\n",
       "  </tbody>\n",
       "</table>\n",
       "</div>"
      ],
      "text/plain": [
       "                                         handle  year           journal  \\\n",
       "0  repec:oup:jafrec:v:13:y:2004:i:02:p:ii1-ii14  2004  repec:oup:jafrec   \n",
       "1    repec:eee:wdevel:v:31:y:2003:i:1:p:107-130  2003  repec:eee:wdevel   \n",
       "2    repec:eee:wdevel:v:28:y:2000:i:2:p:381-400  2000  repec:eee:wdevel   \n",
       "3    repec:eee:reveco:v:13:y:2004:i:3:p:325-340  2004  repec:eee:reveco   \n",
       "4      repec:taf:jdevst:v:38:y:2001:i:2:p:27-56  2001  repec:taf:jdevst   \n",
       "\n",
       "                                          name  \\\n",
       "0                 Journal of African Economies   \n",
       "1                            World Development   \n",
       "2                            World Development   \n",
       "3  International Review of Economics & Finance   \n",
       "4               Journal of Development Studies   \n",
       "\n",
       "                                               title  \n",
       "0                       Africa and the World Economy  \n",
       "1                    Public Debts and Private Assets  \n",
       "2  Financial Determinants of Domestic Investment ...  \n",
       "3  Additionality of debt relief and debt forgiven...  \n",
       "4  Is Africa a Net Creditor? New Estimates of Cap...  "
      ]
     },
     "execution_count": 95,
     "metadata": {},
     "output_type": "execute_result"
    }
   ],
   "source": [
    "merge6.head()"
   ]
  },
  {
   "cell_type": "markdown",
   "metadata": {},
   "source": [
    "## Add information to article"
   ]
  },
  {
   "cell_type": "code",
   "execution_count": 89,
   "metadata": {},
   "outputs": [],
   "source": [
    "art = art[art['Item-Type']=='article'].drop('Item-Type', axis=1)"
   ]
  },
  {
   "cell_type": "code",
   "execution_count": 91,
   "metadata": {},
   "outputs": [],
   "source": [
    "merge7 = pd.merge(art, merge6, on='handle', how='left')"
   ]
  },
  {
   "cell_type": "code",
   "execution_count": 93,
   "metadata": {},
   "outputs": [
    {
     "data": {
      "text/html": [
       "<div>\n",
       "<style scoped>\n",
       "    .dataframe tbody tr th:only-of-type {\n",
       "        vertical-align: middle;\n",
       "    }\n",
       "\n",
       "    .dataframe tbody tr th {\n",
       "        vertical-align: top;\n",
       "    }\n",
       "\n",
       "    .dataframe thead th {\n",
       "        text-align: right;\n",
       "    }\n",
       "</style>\n",
       "<table border=\"1\" class=\"dataframe\">\n",
       "  <thead>\n",
       "    <tr style=\"text-align: right;\">\n",
       "      <th></th>\n",
       "      <th>Author-Handle</th>\n",
       "      <th>Short-Id</th>\n",
       "      <th>handle</th>\n",
       "      <th>year</th>\n",
       "      <th>journal</th>\n",
       "      <th>name</th>\n",
       "      <th>title</th>\n",
       "    </tr>\n",
       "  </thead>\n",
       "  <tbody>\n",
       "    <tr>\n",
       "      <th>0</th>\n",
       "      <td>repec:per:2004-04-21:leonce_ndikumana</td>\n",
       "      <td>pnd1</td>\n",
       "      <td>repec:oup:jafrec:v:13:y:2004:i:02:p:ii1-ii14</td>\n",
       "      <td>2004</td>\n",
       "      <td>repec:oup:jafrec</td>\n",
       "      <td>Journal of African Economies</td>\n",
       "      <td>Africa and the World Economy</td>\n",
       "    </tr>\n",
       "    <tr>\n",
       "      <th>1</th>\n",
       "      <td>repec:per:2004-04-21:leonce_ndikumana</td>\n",
       "      <td>pnd1</td>\n",
       "      <td>repec:eee:wdevel:v:31:y:2003:i:1:p:107-130</td>\n",
       "      <td>2003</td>\n",
       "      <td>repec:eee:wdevel</td>\n",
       "      <td>World Development</td>\n",
       "      <td>Public Debts and Private Assets</td>\n",
       "    </tr>\n",
       "    <tr>\n",
       "      <th>2</th>\n",
       "      <td>repec:per:2004-04-21:leonce_ndikumana</td>\n",
       "      <td>pnd1</td>\n",
       "      <td>repec:eee:wdevel:v:28:y:2000:i:2:p:381-400</td>\n",
       "      <td>2000</td>\n",
       "      <td>repec:eee:wdevel</td>\n",
       "      <td>World Development</td>\n",
       "      <td>Financial Determinants of Domestic Investment ...</td>\n",
       "    </tr>\n",
       "    <tr>\n",
       "      <th>3</th>\n",
       "      <td>repec:per:2004-04-21:leonce_ndikumana</td>\n",
       "      <td>pnd1</td>\n",
       "      <td>repec:eee:reveco:v:13:y:2004:i:3:p:325-340</td>\n",
       "      <td>2004</td>\n",
       "      <td>repec:eee:reveco</td>\n",
       "      <td>International Review of Economics &amp; Finance</td>\n",
       "      <td>Additionality of debt relief and debt forgiven...</td>\n",
       "    </tr>\n",
       "    <tr>\n",
       "      <th>4</th>\n",
       "      <td>repec:per:2004-04-21:leonce_ndikumana</td>\n",
       "      <td>pnd1</td>\n",
       "      <td>repec:taf:jdevst:v:38:y:2001:i:2:p:27-56</td>\n",
       "      <td>2001</td>\n",
       "      <td>repec:taf:jdevst</td>\n",
       "      <td>Journal of Development Studies</td>\n",
       "      <td>Is Africa a Net Creditor? New Estimates of Cap...</td>\n",
       "    </tr>\n",
       "  </tbody>\n",
       "</table>\n",
       "</div>"
      ],
      "text/plain": [
       "                           Author-Handle Short-Id  \\\n",
       "0  repec:per:2004-04-21:leonce_ndikumana     pnd1   \n",
       "1  repec:per:2004-04-21:leonce_ndikumana     pnd1   \n",
       "2  repec:per:2004-04-21:leonce_ndikumana     pnd1   \n",
       "3  repec:per:2004-04-21:leonce_ndikumana     pnd1   \n",
       "4  repec:per:2004-04-21:leonce_ndikumana     pnd1   \n",
       "\n",
       "                                         handle  year           journal  \\\n",
       "0  repec:oup:jafrec:v:13:y:2004:i:02:p:ii1-ii14  2004  repec:oup:jafrec   \n",
       "1    repec:eee:wdevel:v:31:y:2003:i:1:p:107-130  2003  repec:eee:wdevel   \n",
       "2    repec:eee:wdevel:v:28:y:2000:i:2:p:381-400  2000  repec:eee:wdevel   \n",
       "3    repec:eee:reveco:v:13:y:2004:i:3:p:325-340  2004  repec:eee:reveco   \n",
       "4      repec:taf:jdevst:v:38:y:2001:i:2:p:27-56  2001  repec:taf:jdevst   \n",
       "\n",
       "                                          name  \\\n",
       "0                 Journal of African Economies   \n",
       "1                            World Development   \n",
       "2                            World Development   \n",
       "3  International Review of Economics & Finance   \n",
       "4               Journal of Development Studies   \n",
       "\n",
       "                                               title  \n",
       "0                       Africa and the World Economy  \n",
       "1                    Public Debts and Private Assets  \n",
       "2  Financial Determinants of Domestic Investment ...  \n",
       "3  Additionality of debt relief and debt forgiven...  \n",
       "4  Is Africa a Net Creditor? New Estimates of Cap...  "
      ]
     },
     "execution_count": 93,
     "metadata": {},
     "output_type": "execute_result"
    }
   ],
   "source": [
    "merge7.head()"
   ]
  },
  {
   "cell_type": "code",
   "execution_count": 92,
   "metadata": {},
   "outputs": [
    {
     "name": "stdout",
     "output_type": "stream",
     "text": [
      "<class 'pandas.core.frame.DataFrame'>\n",
      "Int64Index: 673580 entries, 0 to 673579\n",
      "Data columns (total 7 columns):\n",
      " #   Column         Non-Null Count   Dtype \n",
      "---  ------         --------------   ----- \n",
      " 0   Author-Handle  673580 non-null  object\n",
      " 1   Short-Id       673580 non-null  object\n",
      " 2   handle         673580 non-null  object\n",
      " 3   year           671907 non-null  object\n",
      " 4   journal        673580 non-null  object\n",
      " 5   name           673007 non-null  object\n",
      " 6   title          667755 non-null  object\n",
      "dtypes: object(7)\n",
      "memory usage: 41.1+ MB\n"
     ]
    }
   ],
   "source": [
    "merge7.info()"
   ]
  },
  {
   "cell_type": "code",
   "execution_count": 97,
   "metadata": {},
   "outputs": [],
   "source": [
    "merge7.to_csv('/home/rdora/femec/data/processed/article.csv', index=False)"
   ]
  },
  {
   "cell_type": "code",
   "execution_count": 98,
   "metadata": {},
   "outputs": [
    {
     "data": {
      "text/html": [
       "<div>\n",
       "<style scoped>\n",
       "    .dataframe tbody tr th:only-of-type {\n",
       "        vertical-align: middle;\n",
       "    }\n",
       "\n",
       "    .dataframe tbody tr th {\n",
       "        vertical-align: top;\n",
       "    }\n",
       "\n",
       "    .dataframe thead th {\n",
       "        text-align: right;\n",
       "    }\n",
       "</style>\n",
       "<table border=\"1\" class=\"dataframe\">\n",
       "  <thead>\n",
       "    <tr style=\"text-align: right;\">\n",
       "      <th></th>\n",
       "      <th>Author-Handle</th>\n",
       "      <th>Short-Id</th>\n",
       "      <th>handle</th>\n",
       "      <th>year</th>\n",
       "      <th>journal</th>\n",
       "      <th>name</th>\n",
       "      <th>title</th>\n",
       "    </tr>\n",
       "  </thead>\n",
       "  <tbody>\n",
       "    <tr>\n",
       "      <th>0</th>\n",
       "      <td>repec:per:2004-04-21:leonce_ndikumana</td>\n",
       "      <td>pnd1</td>\n",
       "      <td>repec:oup:jafrec:v:13:y:2004:i:02:p:ii1-ii14</td>\n",
       "      <td>2004</td>\n",
       "      <td>repec:oup:jafrec</td>\n",
       "      <td>Journal of African Economies</td>\n",
       "      <td>Africa and the World Economy</td>\n",
       "    </tr>\n",
       "    <tr>\n",
       "      <th>1</th>\n",
       "      <td>repec:per:2004-04-21:leonce_ndikumana</td>\n",
       "      <td>pnd1</td>\n",
       "      <td>repec:eee:wdevel:v:31:y:2003:i:1:p:107-130</td>\n",
       "      <td>2003</td>\n",
       "      <td>repec:eee:wdevel</td>\n",
       "      <td>World Development</td>\n",
       "      <td>Public Debts and Private Assets</td>\n",
       "    </tr>\n",
       "    <tr>\n",
       "      <th>2</th>\n",
       "      <td>repec:per:2004-04-21:leonce_ndikumana</td>\n",
       "      <td>pnd1</td>\n",
       "      <td>repec:eee:wdevel:v:28:y:2000:i:2:p:381-400</td>\n",
       "      <td>2000</td>\n",
       "      <td>repec:eee:wdevel</td>\n",
       "      <td>World Development</td>\n",
       "      <td>Financial Determinants of Domestic Investment ...</td>\n",
       "    </tr>\n",
       "    <tr>\n",
       "      <th>3</th>\n",
       "      <td>repec:per:2004-04-21:leonce_ndikumana</td>\n",
       "      <td>pnd1</td>\n",
       "      <td>repec:eee:reveco:v:13:y:2004:i:3:p:325-340</td>\n",
       "      <td>2004</td>\n",
       "      <td>repec:eee:reveco</td>\n",
       "      <td>International Review of Economics &amp; Finance</td>\n",
       "      <td>Additionality of debt relief and debt forgiven...</td>\n",
       "    </tr>\n",
       "    <tr>\n",
       "      <th>4</th>\n",
       "      <td>repec:per:2004-04-21:leonce_ndikumana</td>\n",
       "      <td>pnd1</td>\n",
       "      <td>repec:taf:jdevst:v:38:y:2001:i:2:p:27-56</td>\n",
       "      <td>2001</td>\n",
       "      <td>repec:taf:jdevst</td>\n",
       "      <td>Journal of Development Studies</td>\n",
       "      <td>Is Africa a Net Creditor? New Estimates of Cap...</td>\n",
       "    </tr>\n",
       "  </tbody>\n",
       "</table>\n",
       "</div>"
      ],
      "text/plain": [
       "                           Author-Handle Short-Id  \\\n",
       "0  repec:per:2004-04-21:leonce_ndikumana     pnd1   \n",
       "1  repec:per:2004-04-21:leonce_ndikumana     pnd1   \n",
       "2  repec:per:2004-04-21:leonce_ndikumana     pnd1   \n",
       "3  repec:per:2004-04-21:leonce_ndikumana     pnd1   \n",
       "4  repec:per:2004-04-21:leonce_ndikumana     pnd1   \n",
       "\n",
       "                                         handle  year           journal  \\\n",
       "0  repec:oup:jafrec:v:13:y:2004:i:02:p:ii1-ii14  2004  repec:oup:jafrec   \n",
       "1    repec:eee:wdevel:v:31:y:2003:i:1:p:107-130  2003  repec:eee:wdevel   \n",
       "2    repec:eee:wdevel:v:28:y:2000:i:2:p:381-400  2000  repec:eee:wdevel   \n",
       "3    repec:eee:reveco:v:13:y:2004:i:3:p:325-340  2004  repec:eee:reveco   \n",
       "4      repec:taf:jdevst:v:38:y:2001:i:2:p:27-56  2001  repec:taf:jdevst   \n",
       "\n",
       "                                          name  \\\n",
       "0                 Journal of African Economies   \n",
       "1                            World Development   \n",
       "2                            World Development   \n",
       "3  International Review of Economics & Finance   \n",
       "4               Journal of Development Studies   \n",
       "\n",
       "                                               title  \n",
       "0                       Africa and the World Economy  \n",
       "1                    Public Debts and Private Assets  \n",
       "2  Financial Determinants of Domestic Investment ...  \n",
       "3  Additionality of debt relief and debt forgiven...  \n",
       "4  Is Africa a Net Creditor? New Estimates of Cap...  "
      ]
     },
     "execution_count": 98,
     "metadata": {},
     "output_type": "execute_result"
    }
   ],
   "source": [
    "merge7.head()"
   ]
  }
 ],
 "metadata": {
  "kernelspec": {
   "display_name": "Python 3",
   "language": "python",
   "name": "python3"
  },
  "language_info": {
   "codemirror_mode": {
    "name": "ipython",
    "version": 3
   },
   "file_extension": ".py",
   "mimetype": "text/x-python",
   "name": "python",
   "nbconvert_exporter": "python",
   "pygments_lexer": "ipython3",
   "version": "3.6.9"
  }
 },
 "nbformat": 4,
 "nbformat_minor": 4
}
