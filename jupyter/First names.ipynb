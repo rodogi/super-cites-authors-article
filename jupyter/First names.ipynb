{
 "cells": [
  {
   "cell_type": "markdown",
   "metadata": {},
   "source": [
    "# Get first names and their gender"
   ]
  },
  {
   "cell_type": "code",
   "execution_count": 16,
   "metadata": {},
   "outputs": [],
   "source": [
    "import requests\n",
    "import pandas as pd"
   ]
  },
  {
   "cell_type": "code",
   "execution_count": 2,
   "metadata": {},
   "outputs": [],
   "source": [
    "AUTH = \"../data/author.csv\"\n",
    "auth = pd.read_csv(AUTH)"
   ]
  },
  {
   "cell_type": "markdown",
   "metadata": {},
   "source": [
    "## A little of text pre-processing"
   ]
  },
  {
   "cell_type": "code",
   "execution_count": 11,
   "metadata": {},
   "outputs": [],
   "source": [
    "auth = auth[~auth['Name-First'].isna()]"
   ]
  },
  {
   "cell_type": "code",
   "execution_count": 6,
   "metadata": {},
   "outputs": [
    {
     "data": {
      "text/plain": [
       "0          Nei\n",
       "1    NDIKUMANA\n",
       "2       Ndukwe\n",
       "3        North\n",
       "4     Nicodano\n",
       "Name: Name-Last, dtype: object"
      ]
     },
     "execution_count": 6,
     "metadata": {},
     "output_type": "execute_result"
    }
   ],
   "source": [
    "auth['Name-Last'].head()"
   ]
  },
  {
   "cell_type": "code",
   "execution_count": 5,
   "metadata": {},
   "outputs": [
    {
     "data": {
      "text/plain": [
       "0     Stephen\n",
       "1      LEONCE\n",
       "2    Obiageri\n",
       "3    Douglass\n",
       "4    Giovanna\n",
       "Name: Name-First, dtype: object"
      ]
     },
     "execution_count": 5,
     "metadata": {},
     "output_type": "execute_result"
    }
   ],
   "source": [
    "auth['Name-First'].head()"
   ]
  },
  {
   "cell_type": "code",
   "execution_count": 12,
   "metadata": {},
   "outputs": [],
   "source": [
    "auth['first_name'] = auth['Name-First'].apply(lambda x: x.lower())"
   ]
  },
  {
   "cell_type": "code",
   "execution_count": 15,
   "metadata": {},
   "outputs": [],
   "source": [
    "unames = auth['first_name'].unique()"
   ]
  },
  {
   "cell_type": "code",
   "execution_count": 46,
   "metadata": {},
   "outputs": [],
   "source": [
    "np.savetxt('../data/unique_names.txt', unames, delimiter='\\n', fmt='%s')"
   ]
  },
  {
   "cell_type": "code",
   "execution_count": 52,
   "metadata": {},
   "outputs": [],
   "source": [
    "with open('../data/unique_names.txt') as f:\n",
    "    names = f.read().splitlines()"
   ]
  },
  {
   "cell_type": "code",
   "execution_count": 47,
   "metadata": {},
   "outputs": [
    {
     "name": "stdout",
     "output_type": "stream",
     "text": [
      "stephen\r\n",
      "leonce\r\n",
      "obiageri\r\n",
      "douglass\r\n",
      "giovanna\r\n",
      "matthias\r\n",
      "george\r\n",
      "mike\r\n",
      "hector\r\n",
      "frank\r\n"
     ]
    }
   ],
   "source": [
    "!head ../data/unique_names.txt"
   ]
  },
  {
   "cell_type": "markdown",
   "metadata": {},
   "source": [
    "## Using gender.io API"
   ]
  },
  {
   "cell_type": "code",
   "execution_count": 17,
   "metadata": {},
   "outputs": [],
   "source": [
    "url =  \"https://genderapi.io/api/\"\n",
    "key = \"5ebaef77756fae0f880a3702\""
   ]
  },
  {
   "cell_type": "code",
   "execution_count": 18,
   "metadata": {},
   "outputs": [],
   "source": [
    "params = {'name': 'michael',\n",
    "         'key': key}\n",
    "res = requests.get(url, params=params)"
   ]
  },
  {
   "cell_type": "code",
   "execution_count": 20,
   "metadata": {},
   "outputs": [],
   "source": [
    "params = {'name': 'rodrigo',\n",
    "         'key': key}\n",
    "res2 = requests.get(url, params=params)"
   ]
  },
  {
   "cell_type": "code",
   "execution_count": 36,
   "metadata": {},
   "outputs": [
    {
     "data": {
      "text/plain": [
       "{'name': 'rodrigo', 'key': '5ebaef77756fae0f880a3702'}"
      ]
     },
     "execution_count": 36,
     "metadata": {},
     "output_type": "execute_result"
    }
   ],
   "source": [
    "params"
   ]
  },
  {
   "cell_type": "code",
   "execution_count": 41,
   "metadata": {},
   "outputs": [
    {
     "name": "stdout",
     "output_type": "stream",
     "text": [
      "CPU times: user 665 ms, sys: 508 µs, total: 666 ms\n",
      "Wall time: 11.7 s\n"
     ]
    }
   ],
   "source": [
    "%%time\n",
    "data = []\n",
    "for name in unames[:30]:\n",
    "    params['name'] = name\n",
    "    res = requests.get(url, params=params)\n",
    "    vals = [res.json()[k] for k in header]\n",
    "    data.append(vals)\n",
    "df = pd.DataFrame(data, columns=header)"
   ]
  },
  {
   "cell_type": "code",
   "execution_count": 43,
   "metadata": {},
   "outputs": [
    {
     "data": {
      "text/plain": [
       "694.5"
      ]
     },
     "execution_count": 43,
     "metadata": {},
     "output_type": "execute_result"
    }
   ],
   "source": [
    "len(unames) / 30"
   ]
  },
  {
   "cell_type": "code",
   "execution_count": 44,
   "metadata": {},
   "outputs": [
    {
     "data": {
      "text/plain": [
       "135.32999999999998"
      ]
     },
     "execution_count": 44,
     "metadata": {},
     "output_type": "execute_result"
    }
   ],
   "source": [
    "(11.7 * 694) / 60"
   ]
  },
  {
   "cell_type": "code",
   "execution_count": 42,
   "metadata": {},
   "outputs": [
    {
     "data": {
      "text/html": [
       "<div>\n",
       "<style scoped>\n",
       "    .dataframe tbody tr th:only-of-type {\n",
       "        vertical-align: middle;\n",
       "    }\n",
       "\n",
       "    .dataframe tbody tr th {\n",
       "        vertical-align: top;\n",
       "    }\n",
       "\n",
       "    .dataframe thead th {\n",
       "        text-align: right;\n",
       "    }\n",
       "</style>\n",
       "<table border=\"1\" class=\"dataframe\">\n",
       "  <thead>\n",
       "    <tr style=\"text-align: right;\">\n",
       "      <th></th>\n",
       "      <th>name</th>\n",
       "      <th>q</th>\n",
       "      <th>gender</th>\n",
       "      <th>total_names</th>\n",
       "      <th>probability</th>\n",
       "      <th>country</th>\n",
       "    </tr>\n",
       "  </thead>\n",
       "  <tbody>\n",
       "    <tr>\n",
       "      <th>0</th>\n",
       "      <td>stephen</td>\n",
       "      <td>stephen</td>\n",
       "      <td>male</td>\n",
       "      <td>26583</td>\n",
       "      <td>100</td>\n",
       "      <td>US</td>\n",
       "    </tr>\n",
       "    <tr>\n",
       "      <th>1</th>\n",
       "      <td>leonce</td>\n",
       "      <td>leonce</td>\n",
       "      <td>male</td>\n",
       "      <td>21</td>\n",
       "      <td>95</td>\n",
       "      <td>US</td>\n",
       "    </tr>\n",
       "    <tr>\n",
       "      <th>2</th>\n",
       "      <td>obiageri</td>\n",
       "      <td>obiageri</td>\n",
       "      <td>female</td>\n",
       "      <td>2</td>\n",
       "      <td>100</td>\n",
       "      <td>US</td>\n",
       "    </tr>\n",
       "    <tr>\n",
       "      <th>3</th>\n",
       "      <td>douglass</td>\n",
       "      <td>douglass</td>\n",
       "      <td>male</td>\n",
       "      <td>62</td>\n",
       "      <td>98</td>\n",
       "      <td>US</td>\n",
       "    </tr>\n",
       "    <tr>\n",
       "      <th>4</th>\n",
       "      <td>giovanna</td>\n",
       "      <td>giovanna</td>\n",
       "      <td>female</td>\n",
       "      <td>7655</td>\n",
       "      <td>99</td>\n",
       "      <td>BR</td>\n",
       "    </tr>\n",
       "    <tr>\n",
       "      <th>5</th>\n",
       "      <td>matthias</td>\n",
       "      <td>matthias</td>\n",
       "      <td>male</td>\n",
       "      <td>4995</td>\n",
       "      <td>100</td>\n",
       "      <td>BE</td>\n",
       "    </tr>\n",
       "    <tr>\n",
       "      <th>6</th>\n",
       "      <td>george</td>\n",
       "      <td>george</td>\n",
       "      <td>male</td>\n",
       "      <td>32044</td>\n",
       "      <td>99</td>\n",
       "      <td>US</td>\n",
       "    </tr>\n",
       "    <tr>\n",
       "      <th>7</th>\n",
       "      <td>mike</td>\n",
       "      <td>mike</td>\n",
       "      <td>male</td>\n",
       "      <td>83242</td>\n",
       "      <td>99</td>\n",
       "      <td>US</td>\n",
       "    </tr>\n",
       "    <tr>\n",
       "      <th>8</th>\n",
       "      <td>hector</td>\n",
       "      <td>hector</td>\n",
       "      <td>male</td>\n",
       "      <td>15607</td>\n",
       "      <td>100</td>\n",
       "      <td>MX</td>\n",
       "    </tr>\n",
       "    <tr>\n",
       "      <th>9</th>\n",
       "      <td>frank</td>\n",
       "      <td>frank</td>\n",
       "      <td>male</td>\n",
       "      <td>24039</td>\n",
       "      <td>99</td>\n",
       "      <td>US</td>\n",
       "    </tr>\n",
       "    <tr>\n",
       "      <th>10</th>\n",
       "      <td>rabia</td>\n",
       "      <td>rabia</td>\n",
       "      <td>female</td>\n",
       "      <td>30045</td>\n",
       "      <td>99</td>\n",
       "      <td>TR</td>\n",
       "    </tr>\n",
       "    <tr>\n",
       "      <th>11</th>\n",
       "      <td>trilce</td>\n",
       "      <td>trilce</td>\n",
       "      <td>female</td>\n",
       "      <td>12</td>\n",
       "      <td>100</td>\n",
       "      <td>MX</td>\n",
       "    </tr>\n",
       "    <tr>\n",
       "      <th>12</th>\n",
       "      <td>shunya</td>\n",
       "      <td>shunya</td>\n",
       "      <td>male</td>\n",
       "      <td>81</td>\n",
       "      <td>93</td>\n",
       "      <td>JP</td>\n",
       "    </tr>\n",
       "    <tr>\n",
       "      <th>13</th>\n",
       "      <td>volker</td>\n",
       "      <td>volker</td>\n",
       "      <td>male</td>\n",
       "      <td>533</td>\n",
       "      <td>100</td>\n",
       "      <td>DE</td>\n",
       "    </tr>\n",
       "    <tr>\n",
       "      <th>14</th>\n",
       "      <td>tatiana</td>\n",
       "      <td>tatiana</td>\n",
       "      <td>female</td>\n",
       "      <td>19892</td>\n",
       "      <td>100</td>\n",
       "      <td>BR</td>\n",
       "    </tr>\n",
       "    <tr>\n",
       "      <th>15</th>\n",
       "      <td>alexandra</td>\n",
       "      <td>alexandra</td>\n",
       "      <td>female</td>\n",
       "      <td>30039</td>\n",
       "      <td>99</td>\n",
       "      <td>US</td>\n",
       "    </tr>\n",
       "    <tr>\n",
       "      <th>16</th>\n",
       "      <td>dmitry</td>\n",
       "      <td>dmitry</td>\n",
       "      <td>male</td>\n",
       "      <td>14820</td>\n",
       "      <td>100</td>\n",
       "      <td>RU</td>\n",
       "    </tr>\n",
       "    <tr>\n",
       "      <th>17</th>\n",
       "      <td>huy</td>\n",
       "      <td>huy</td>\n",
       "      <td>male</td>\n",
       "      <td>1082</td>\n",
       "      <td>97</td>\n",
       "      <td>VN</td>\n",
       "    </tr>\n",
       "    <tr>\n",
       "      <th>18</th>\n",
       "      <td>hassan</td>\n",
       "      <td>hassan</td>\n",
       "      <td>male</td>\n",
       "      <td>7879</td>\n",
       "      <td>99</td>\n",
       "      <td>US</td>\n",
       "    </tr>\n",
       "    <tr>\n",
       "      <th>19</th>\n",
       "      <td>andras</td>\n",
       "      <td>andras</td>\n",
       "      <td>male</td>\n",
       "      <td>572</td>\n",
       "      <td>98</td>\n",
       "      <td>HU</td>\n",
       "    </tr>\n",
       "    <tr>\n",
       "      <th>20</th>\n",
       "      <td>ulf</td>\n",
       "      <td>ulf</td>\n",
       "      <td>male</td>\n",
       "      <td>377</td>\n",
       "      <td>99</td>\n",
       "      <td>DE</td>\n",
       "    </tr>\n",
       "    <tr>\n",
       "      <th>21</th>\n",
       "      <td>mitchell</td>\n",
       "      <td>mitchell</td>\n",
       "      <td>male</td>\n",
       "      <td>3872</td>\n",
       "      <td>98</td>\n",
       "      <td>US</td>\n",
       "    </tr>\n",
       "    <tr>\n",
       "      <th>22</th>\n",
       "      <td>konstantin</td>\n",
       "      <td>konstantin</td>\n",
       "      <td>male</td>\n",
       "      <td>5806</td>\n",
       "      <td>100</td>\n",
       "      <td>RU</td>\n",
       "    </tr>\n",
       "    <tr>\n",
       "      <th>23</th>\n",
       "      <td>salvatore</td>\n",
       "      <td>salvatore</td>\n",
       "      <td>male</td>\n",
       "      <td>3352</td>\n",
       "      <td>99</td>\n",
       "      <td>IT</td>\n",
       "    </tr>\n",
       "    <tr>\n",
       "      <th>24</th>\n",
       "      <td>mohamad</td>\n",
       "      <td>mohamad</td>\n",
       "      <td>male</td>\n",
       "      <td>13667</td>\n",
       "      <td>99</td>\n",
       "      <td>MY</td>\n",
       "    </tr>\n",
       "    <tr>\n",
       "      <th>25</th>\n",
       "      <td>jonas</td>\n",
       "      <td>jonas</td>\n",
       "      <td>male</td>\n",
       "      <td>10374</td>\n",
       "      <td>100</td>\n",
       "      <td>BR</td>\n",
       "    </tr>\n",
       "    <tr>\n",
       "      <th>26</th>\n",
       "      <td>alexander</td>\n",
       "      <td>alexander</td>\n",
       "      <td>male</td>\n",
       "      <td>37463</td>\n",
       "      <td>99</td>\n",
       "      <td>RU</td>\n",
       "    </tr>\n",
       "    <tr>\n",
       "      <th>27</th>\n",
       "      <td>yoshinori</td>\n",
       "      <td>yoshinori</td>\n",
       "      <td>male</td>\n",
       "      <td>460</td>\n",
       "      <td>100</td>\n",
       "      <td>JP</td>\n",
       "    </tr>\n",
       "    <tr>\n",
       "      <th>28</th>\n",
       "      <td>thirukumaran</td>\n",
       "      <td>thirukumaran</td>\n",
       "      <td>male</td>\n",
       "      <td>5</td>\n",
       "      <td>100</td>\n",
       "      <td>MY</td>\n",
       "    </tr>\n",
       "    <tr>\n",
       "      <th>29</th>\n",
       "      <td>eleanya</td>\n",
       "      <td>eleanya</td>\n",
       "      <td>male</td>\n",
       "      <td>1</td>\n",
       "      <td>100</td>\n",
       "      <td>US</td>\n",
       "    </tr>\n",
       "  </tbody>\n",
       "</table>\n",
       "</div>"
      ],
      "text/plain": [
       "            name             q  gender  total_names  probability country\n",
       "0        stephen       stephen    male        26583          100      US\n",
       "1         leonce        leonce    male           21           95      US\n",
       "2       obiageri      obiageri  female            2          100      US\n",
       "3       douglass      douglass    male           62           98      US\n",
       "4       giovanna      giovanna  female         7655           99      BR\n",
       "5       matthias      matthias    male         4995          100      BE\n",
       "6         george        george    male        32044           99      US\n",
       "7           mike          mike    male        83242           99      US\n",
       "8         hector        hector    male        15607          100      MX\n",
       "9          frank         frank    male        24039           99      US\n",
       "10         rabia         rabia  female        30045           99      TR\n",
       "11        trilce        trilce  female           12          100      MX\n",
       "12        shunya        shunya    male           81           93      JP\n",
       "13        volker        volker    male          533          100      DE\n",
       "14       tatiana       tatiana  female        19892          100      BR\n",
       "15     alexandra     alexandra  female        30039           99      US\n",
       "16        dmitry        dmitry    male        14820          100      RU\n",
       "17           huy           huy    male         1082           97      VN\n",
       "18        hassan        hassan    male         7879           99      US\n",
       "19        andras        andras    male          572           98      HU\n",
       "20           ulf           ulf    male          377           99      DE\n",
       "21      mitchell      mitchell    male         3872           98      US\n",
       "22    konstantin    konstantin    male         5806          100      RU\n",
       "23     salvatore     salvatore    male         3352           99      IT\n",
       "24       mohamad       mohamad    male        13667           99      MY\n",
       "25         jonas         jonas    male        10374          100      BR\n",
       "26     alexander     alexander    male        37463           99      RU\n",
       "27     yoshinori     yoshinori    male          460          100      JP\n",
       "28  thirukumaran  thirukumaran    male            5          100      MY\n",
       "29       eleanya       eleanya    male            1          100      US"
      ]
     },
     "execution_count": 42,
     "metadata": {},
     "output_type": "execute_result"
    }
   ],
   "source": [
    "df"
   ]
  }
 ],
 "metadata": {
  "kernelspec": {
   "display_name": "Python 3",
   "language": "python",
   "name": "python3"
  },
  "language_info": {
   "codemirror_mode": {
    "name": "ipython",
    "version": 3
   },
   "file_extension": ".py",
   "mimetype": "text/x-python",
   "name": "python",
   "nbconvert_exporter": "python",
   "pygments_lexer": "ipython3",
   "version": "3.6.9"
  }
 },
 "nbformat": 4,
 "nbformat_minor": 4
}
