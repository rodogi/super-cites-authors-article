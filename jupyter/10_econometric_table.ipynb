{
 "cells": [
  {
   "cell_type": "code",
   "execution_count": 1,
   "metadata": {},
   "outputs": [],
   "source": [
    "import pandas as pd\n",
    "import networkx as nx\n",
    "import numpy as np\n",
    "import seaborn as sns\n",
    "import matplotlib.pyplot as plt"
   ]
  },
  {
   "cell_type": "markdown",
   "metadata": {},
   "source": [
    "### Citation table\n",
    "\n",
    "We take cites from 1990 to 2019 avoiding self-cites."
   ]
  },
  {
   "cell_type": "code",
   "execution_count": 4,
   "metadata": {},
   "outputs": [],
   "source": [
    "cite = pd.read_csv(\"../data/processed/cites.csv\")\n",
    "\n",
    "cite = cite[(cite.t_year >= 1990) & (cite.t_year < 2020)]\n",
    "cite = cite[(cite.s_year >= 1990) & (cite.s_year < 2020)]\n",
    "\n",
    "cite = cite[cite.target != cite.source]"
   ]
  },
  {
   "cell_type": "code",
   "execution_count": 5,
   "metadata": {},
   "outputs": [],
   "source": [
    "papers = pd.read_csv(\"../data/processed/adjacency_papers.csv\")\n",
    "\n",
    "papers = papers[(papers.t_year >= 1990) & (papers.t_year < 2020)]\n",
    "papers = papers[(papers.s_year >= 1990) & (papers.s_year < 2020)]\n",
    "\n",
    "papers = papers[papers.target != papers.source]"
   ]
  },
  {
   "cell_type": "code",
   "execution_count": 6,
   "metadata": {},
   "outputs": [],
   "source": [
    "cite['s_year'] = cite['s_year'].astype(int).astype(str)"
   ]
  },
  {
   "cell_type": "markdown",
   "metadata": {},
   "source": [
    "### Authors table\n",
    "\n",
    "There are two author tables: \n",
    "\n",
    "1. One with the comparable groups A and B (`people`) and \n",
    "2. the one with the all the authors found in the RePEc repository (`all_people`)."
   ]
  },
  {
   "cell_type": "code",
   "execution_count": 7,
   "metadata": {},
   "outputs": [],
   "source": [
    "people = pd.read_csv(\"../data/processed/network_people.csv\")\n",
    "all_people = pd.read_csv(\"../data/processed/people.csv\")"
   ]
  },
  {
   "cell_type": "markdown",
   "metadata": {},
   "source": [
    "# Base 1\n",
    "\n",
    "Una base de datos en que el índice sea autor-paper con:\n",
    "   - Año de publicación\n",
    "   - Citas por año (excluir auto-citas)\n",
    "   - co-autores\n",
    "   - Gender"
   ]
  },
  {
   "cell_type": "code",
   "execution_count": 15,
   "metadata": {},
   "outputs": [],
   "source": [
    "pivot= pd.pivot_table(cite.groupby(['paper', 'target', 't_year']).s_year.value_counts().rename('N').reset_index(),\n",
    "         index=['paper', 'target', 't_year'],\n",
    "         columns='s_year',\n",
    "         values='N').reset_index()"
   ]
  },
  {
   "cell_type": "code",
   "execution_count": 16,
   "metadata": {},
   "outputs": [],
   "source": [
    "years = pivot['t_year'].values\n",
    "\n",
    "H = pivot.loc[:, '1990':].fillna(0).values\n",
    "\n",
    "M = np.empty((H.shape))\n",
    "\n",
    "M[:] = np.nan\n",
    "\n",
    "indices = {y: int(y) - 1990 for y in set(years)}"
   ]
  },
  {
   "cell_type": "code",
   "execution_count": 17,
   "metadata": {},
   "outputs": [],
   "source": [
    "for i, y in enumerate(years):\n",
    "    for j, x in enumerate(range(indices[y], 30)):\n",
    "        M[i][j] = H[i][x]"
   ]
  },
  {
   "cell_type": "code",
   "execution_count": 18,
   "metadata": {},
   "outputs": [],
   "source": [
    "pivot.loc[:, '1990':] = M"
   ]
  },
  {
   "cell_type": "code",
   "execution_count": 19,
   "metadata": {},
   "outputs": [],
   "source": [
    "pivot.columns = ['paper', 'author', 'year_0'] + [f\"cites_year_{i}\" for i in range(30)] "
   ]
  },
  {
   "cell_type": "code",
   "execution_count": null,
   "metadata": {},
   "outputs": [],
   "source": [
    "pivot.to_csv(\"../data/econometry/base_1.csv\", index=False)"
   ]
  },
  {
   "cell_type": "code",
   "execution_count": 104,
   "metadata": {},
   "outputs": [
    {
     "name": "stdout",
     "output_type": "stream",
     "text": [
      "<class 'pandas.core.frame.DataFrame'>\n",
      "RangeIndex: 329285 entries, 0 to 329284\n",
      "Data columns (total 33 columns):\n",
      " #   Column         Non-Null Count   Dtype  \n",
      "---  ------         --------------   -----  \n",
      " 0   paper          329285 non-null  object \n",
      " 1   author         329285 non-null  object \n",
      " 2   year_0         329285 non-null  float64\n",
      " 3   cites_year_0   329285 non-null  float64\n",
      " 4   cites_year_1   327777 non-null  float64\n",
      " 5   cites_year_2   321573 non-null  float64\n",
      " 6   cites_year_3   310766 non-null  float64\n",
      " 7   cites_year_4   296565 non-null  float64\n",
      " 8   cites_year_5   279252 non-null  float64\n",
      " 9   cites_year_6   259755 non-null  float64\n",
      " 10  cites_year_7   239044 non-null  float64\n",
      " 11  cites_year_8   219174 non-null  float64\n",
      " 12  cites_year_9   199306 non-null  float64\n",
      " 13  cites_year_10  180067 non-null  float64\n",
      " 14  cites_year_11  161716 non-null  float64\n",
      " 15  cites_year_12  143921 non-null  float64\n",
      " 16  cites_year_13  127944 non-null  float64\n",
      " 17  cites_year_14  113422 non-null  float64\n",
      " 18  cites_year_15  100184 non-null  float64\n",
      " 19  cites_year_16  87838 non-null   float64\n",
      " 20  cites_year_17  76553 non-null   float64\n",
      " 21  cites_year_18  66689 non-null   float64\n",
      " 22  cites_year_19  57649 non-null   float64\n",
      " 23  cites_year_20  49684 non-null   float64\n",
      " 24  cites_year_21  42255 non-null   float64\n",
      " 25  cites_year_22  35377 non-null   float64\n",
      " 26  cites_year_23  29120 non-null   float64\n",
      " 27  cites_year_24  23485 non-null   float64\n",
      " 28  cites_year_25  18694 non-null   float64\n",
      " 29  cites_year_26  14194 non-null   float64\n",
      " 30  cites_year_27  10181 non-null   float64\n",
      " 31  cites_year_28  6491 non-null    float64\n",
      " 32  cites_year_29  3114 non-null    float64\n",
      "dtypes: float64(31), object(2)\n",
      "memory usage: 82.9+ MB\n"
     ]
    }
   ],
   "source": [
    "pivot.info()"
   ]
  },
  {
   "cell_type": "code",
   "execution_count": 20,
   "metadata": {},
   "outputs": [],
   "source": [
    "co = cite.groupby('paper').target.unique()"
   ]
  },
  {
   "cell_type": "code",
   "execution_count": 21,
   "metadata": {},
   "outputs": [],
   "source": [
    "co = co.reset_index()"
   ]
  },
  {
   "cell_type": "code",
   "execution_count": 22,
   "metadata": {},
   "outputs": [],
   "source": [
    "co['size'] = co.target.apply(len)"
   ]
  },
  {
   "cell_type": "code",
   "execution_count": 23,
   "metadata": {},
   "outputs": [],
   "source": [
    "M = np.empty((co.shape[0], co['size'].max()), dtype='U20')"
   ]
  },
  {
   "cell_type": "code",
   "execution_count": 24,
   "metadata": {},
   "outputs": [],
   "source": [
    "M[:] = np.nan"
   ]
  },
  {
   "cell_type": "code",
   "execution_count": 27,
   "metadata": {},
   "outputs": [],
   "source": [
    "authors = co.target.values"
   ]
  },
  {
   "cell_type": "code",
   "execution_count": 28,
   "metadata": {},
   "outputs": [],
   "source": [
    "for i, aths in enumerate(authors):\n",
    "    for j in range(len(aths)):\n",
    "        M[i][j] = aths[j]"
   ]
  },
  {
   "cell_type": "code",
   "execution_count": 29,
   "metadata": {},
   "outputs": [],
   "source": [
    "nco = pd.DataFrame(np.concatenate([co[['paper']].values, M], axis=1))"
   ]
  },
  {
   "cell_type": "code",
   "execution_count": 30,
   "metadata": {},
   "outputs": [],
   "source": [
    "nco.columns = ['paper'] + [f\"co_author_{i+1}\" for i in range(co['size'].max())]"
   ]
  },
  {
   "cell_type": "code",
   "execution_count": 31,
   "metadata": {},
   "outputs": [],
   "source": [
    "nco = nco.replace('nan', np.nan)"
   ]
  },
  {
   "cell_type": "code",
   "execution_count": null,
   "metadata": {},
   "outputs": [],
   "source": [
    "nco.to_csv(\"../data/econometry/base_1_co_autores.csv\", index=False)"
   ]
  },
  {
   "cell_type": "code",
   "execution_count": 105,
   "metadata": {},
   "outputs": [
    {
     "name": "stdout",
     "output_type": "stream",
     "text": [
      "<class 'pandas.core.frame.DataFrame'>\n",
      "RangeIndex: 215987 entries, 0 to 215986\n",
      "Data columns (total 18 columns):\n",
      " #   Column        Non-Null Count   Dtype \n",
      "---  ------        --------------   ----- \n",
      " 0   paper         215987 non-null  object\n",
      " 1   co_author_1   215987 non-null  object\n",
      " 2   co_author_2   88872 non-null   object\n",
      " 3   co_author_3   20325 non-null   object\n",
      " 4   co_author_4   2900 non-null    object\n",
      " 5   co_author_5   555 non-null     object\n",
      " 6   co_author_6   220 non-null     object\n",
      " 7   co_author_7   125 non-null     object\n",
      " 8   co_author_8   82 non-null      object\n",
      " 9   co_author_9   64 non-null      object\n",
      " 10  co_author_10  44 non-null      object\n",
      " 11  co_author_11  32 non-null      object\n",
      " 12  co_author_12  26 non-null      object\n",
      " 13  co_author_13  17 non-null      object\n",
      " 14  co_author_14  16 non-null      object\n",
      " 15  co_author_15  10 non-null      object\n",
      " 16  co_author_16  8 non-null       object\n",
      " 17  co_author_17  2 non-null       object\n",
      "dtypes: object(18)\n",
      "memory usage: 29.7+ MB\n"
     ]
    }
   ],
   "source": [
    "nco.info()"
   ]
  },
  {
   "cell_type": "markdown",
   "metadata": {},
   "source": [
    "# Base 2\n",
    "\n",
    "Por autor y por año $t$:\n",
    "\n",
    "   - Gender of author\n",
    "   - Degree in $t$\n",
    "   - Closeness in $t$\n",
    "   - Betweenness centralities in $t$\n",
    "   - Number of coauthors in $t$"
   ]
  },
  {
   "cell_type": "code",
   "execution_count": 33,
   "metadata": {},
   "outputs": [],
   "source": [
    "cotor = pd.read_csv(\"../data/processed/co_author.csv\")"
   ]
  },
  {
   "cell_type": "code",
   "execution_count": 34,
   "metadata": {},
   "outputs": [],
   "source": [
    "cotor = pd.merge(cotor,\n",
    "               all_people[['Short-Id', 'gender']],\n",
    "               left_on='author1',\n",
    "               right_on='Short-Id',\n",
    "               how='left')\n",
    "cotor = pd.merge(cotor,\n",
    "               all_people[['Short-Id', 'gender']],\n",
    "               left_on='author2',\n",
    "               right_on='Short-Id',\n",
    "               suffixes=[\"_1\", \"_2\"],\n",
    "               how='left')"
   ]
  },
  {
   "cell_type": "code",
   "execution_count": 35,
   "metadata": {},
   "outputs": [],
   "source": [
    "cotor = cotor.dropna(subset=['gender_1', 'gender_2'])"
   ]
  },
  {
   "cell_type": "code",
   "execution_count": 36,
   "metadata": {},
   "outputs": [],
   "source": [
    "cotor = cotor[(cotor.year >= 1990) & (cotor.year < 2020)]\n",
    "cotor = cotor[(cotor.year >= 1990) & (cotor.year < 2020)]"
   ]
  },
  {
   "cell_type": "code",
   "execution_count": 37,
   "metadata": {},
   "outputs": [],
   "source": [
    "graphs = []\n",
    "for y in sorted(cotor.year.unique()):\n",
    "    chunk = cotor[cotor.year==y]\n",
    "    A = chunk.groupby(['author1', 'author2']).size().rename('weight').reset_index()\n",
    "    G = nx.from_pandas_edgelist(A,\n",
    "                                source='author1',\n",
    "                                target='author2',\n",
    "                                edge_attr='weight')\n",
    "    graphs.append(G)"
   ]
  },
  {
   "cell_type": "code",
   "execution_count": 38,
   "metadata": {},
   "outputs": [],
   "source": [
    "A = cotor.groupby(['author1', 'author2']).size().rename('weight').reset_index()\n",
    "\n",
    "G = nx.from_pandas_edgelist(A,\n",
    "                            source='author1',\n",
    "                            target='author2',\n",
    "                            edge_attr='weight')"
   ]
  },
  {
   "cell_type": "code",
   "execution_count": 39,
   "metadata": {},
   "outputs": [],
   "source": [
    "nodes = list(G)"
   ]
  },
  {
   "cell_type": "code",
   "execution_count": 40,
   "metadata": {},
   "outputs": [],
   "source": [
    "years = sorted(cotor.year.unique())"
   ]
  },
  {
   "cell_type": "code",
   "execution_count": 71,
   "metadata": {},
   "outputs": [
    {
     "name": "stdout",
     "output_type": "stream",
     "text": [
      "0\n",
      "1\n",
      "2\n",
      "3\n",
      "4\n",
      "5\n",
      "6\n",
      "7\n",
      "8\n",
      "9\n",
      "10\n",
      "11\n",
      "12\n",
      "13\n",
      "14\n",
      "15\n",
      "16\n",
      "17\n",
      "18\n",
      "19\n",
      "20\n",
      "21\n",
      "22\n",
      "23\n",
      "24\n",
      "25\n",
      "26\n",
      "27\n",
      "28\n",
      "29\n"
     ]
    }
   ],
   "source": [
    "#degs = []\n",
    "#wdegs = []\n",
    "bets = []\n",
    "clos = []\n",
    "for i, G in enumerate(graphs):\n",
    "    print(i)\n",
    "    #degs.append(pd.DataFrame(G.degree, columns=['author', 'co_authors']))\n",
    "    #wdegs.append(pd.DataFrame(G.degree(weight='weight'), columns=['author', 'collaborations']))\n",
    "    bets.append(pd.DataFrame(nx.betweenness_centrality(G).items(), columns=['author', 'betweenness']))\n",
    "    clos.append(pd.DataFrame(nx.closeness_centrality(G).items(), columns=['author', 'closeness']))"
   ]
  },
  {
   "cell_type": "code",
   "execution_count": 72,
   "metadata": {},
   "outputs": [],
   "source": [
    "for i, deg in enumerate(degs):\n",
    "    deg['year'] = years[i]\n",
    "    wdegs[i]['year'] = years[i]\n",
    "    bets[i]['year'] = years[i]\n",
    "    clos[i]['year'] = years[i]"
   ]
  },
  {
   "cell_type": "code",
   "execution_count": 73,
   "metadata": {},
   "outputs": [],
   "source": [
    "df_deg = pd.concat(degs)"
   ]
  },
  {
   "cell_type": "code",
   "execution_count": 74,
   "metadata": {},
   "outputs": [],
   "source": [
    "df_wdeg = pd.concat(wdegs)"
   ]
  },
  {
   "cell_type": "code",
   "execution_count": 75,
   "metadata": {},
   "outputs": [],
   "source": [
    "df_bets = pd.concat(bets)"
   ]
  },
  {
   "cell_type": "code",
   "execution_count": 76,
   "metadata": {},
   "outputs": [],
   "source": [
    "df_clos = pd.concat(clos)"
   ]
  },
  {
   "cell_type": "code",
   "execution_count": 86,
   "metadata": {},
   "outputs": [],
   "source": [
    "df = pd.merge(df_deg, df_wdeg)"
   ]
  },
  {
   "cell_type": "code",
   "execution_count": 87,
   "metadata": {},
   "outputs": [],
   "source": [
    "df = pd.merge(df, df_bets)"
   ]
  },
  {
   "cell_type": "code",
   "execution_count": 89,
   "metadata": {},
   "outputs": [],
   "source": [
    "df = pd.merge(df, df_clos)"
   ]
  },
  {
   "cell_type": "code",
   "execution_count": 96,
   "metadata": {},
   "outputs": [],
   "source": [
    "df = pd.merge(df, all_people[['Short-Id', 'gender']], how=\"left\", left_on=\"author\", right_on=\"Short-Id\")"
   ]
  },
  {
   "cell_type": "code",
   "execution_count": 98,
   "metadata": {},
   "outputs": [],
   "source": [
    "df = df.drop('Short-Id', axis=1)"
   ]
  },
  {
   "cell_type": "code",
   "execution_count": 103,
   "metadata": {},
   "outputs": [],
   "source": [
    "df.to_csv(\"../data/econometry/base_2.csv\", index=False)"
   ]
  }
 ],
 "metadata": {
  "kernelspec": {
   "display_name": "Python 3",
   "language": "python",
   "name": "python3"
  },
  "language_info": {
   "codemirror_mode": {
    "name": "ipython",
    "version": 3
   },
   "file_extension": ".py",
   "mimetype": "text/x-python",
   "name": "python",
   "nbconvert_exporter": "python",
   "pygments_lexer": "ipython3",
   "version": "3.8.5"
  }
 },
 "nbformat": 4,
 "nbformat_minor": 4
}
