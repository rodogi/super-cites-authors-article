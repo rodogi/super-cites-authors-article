{
 "cells": [
  {
   "cell_type": "markdown",
   "metadata": {
    "slideshow": {
     "slide_type": "slide"
    }
   },
   "source": [
    "# Femec\n",
    "\n",
    "Julio 2020"
   ]
  },
  {
   "cell_type": "code",
   "execution_count": 1,
   "metadata": {
    "slideshow": {
     "slide_type": "skip"
    }
   },
   "outputs": [],
   "source": [
    "import pandas as pd\n",
    "import numpy as np\n",
    "import networkx as nx\n",
    "import seaborn as sns\n",
    "import matplotlib.pyplot as plt"
   ]
  },
  {
   "cell_type": "markdown",
   "metadata": {
    "slideshow": {
     "slide_type": "slide"
    }
   },
   "source": [
    "## Red de citas"
   ]
  },
  {
   "cell_type": "code",
   "execution_count": 2,
   "metadata": {
    "slideshow": {
     "slide_type": "slide"
    }
   },
   "outputs": [],
   "source": [
    "cite = pd.read_csv(\"../data/processed/cites.csv\")\n",
    "\n",
    "cite = cite[(cite.t_year >= 1990) & (cite.t_year < 2020)]"
   ]
  },
  {
   "cell_type": "markdown",
   "metadata": {
    "slideshow": {
     "slide_type": "slide"
    }
   },
   "source": [
    "### Grupos de investigadores\n",
    "\n",
    "Por número de citas $n$ de las investigadoras.\n",
    "\n",
    "- Grupo A: Investigadores promedio:\n",
    "    \n",
    "    - Citas $n > q1$ y $n < q3$, donde $q1$ y $q3$ son el primer y tercer cuartil.\n",
    "    \n",
    "    \n",
    "- Grupo B: Investigadores sobresalientes\n",
    "\n",
    "    - Citas $n > \\mu + 1.5(q3 - q1)$, dónde $\\mu$ es el promedio de citas de mujeres."
   ]
  },
  {
   "cell_type": "markdown",
   "metadata": {
    "slideshow": {
     "slide_type": "slide"
    }
   },
   "source": [
    "## Números\n",
    "\n",
    "- A: 3778 investigadoras\n",
    "- B: 796\n",
    "\n",
    "Para tomar los grupos masculinos respectivos usamos muestreo estratificado (por deciles)."
   ]
  },
  {
   "cell_type": "code",
   "execution_count": 3,
   "metadata": {
    "slideshow": {
     "slide_type": "skip"
    }
   },
   "outputs": [],
   "source": [
    "people = pd.read_csv(\"../data/processed/network_people.csv\")\n",
    "all_people = pd.read_csv(\"../data/processed/people.csv\")"
   ]
  },
  {
   "cell_type": "code",
   "execution_count": 4,
   "metadata": {
    "slideshow": {
     "slide_type": "skip"
    }
   },
   "outputs": [],
   "source": [
    "# Overall network\n",
    "G_i = nx.from_pandas_edgelist(cite, source=\"source\",\n",
    "                            target=\"target\",\n",
    "                            create_using=nx.DiGraph)\n",
    "G_i.remove_edges_from(nx.selfloop_edges(G_i))"
   ]
  },
  {
   "cell_type": "code",
   "execution_count": 66,
   "metadata": {},
   "outputs": [
    {
     "data": {
      "text/plain": [
       "2975736"
      ]
     },
     "execution_count": 66,
     "metadata": {},
     "output_type": "execute_result"
    }
   ],
   "source": [
    "len(G_i.edges)"
   ]
  },
  {
   "cell_type": "code",
   "execution_count": 5,
   "metadata": {
    "slideshow": {
     "slide_type": "skip"
    }
   },
   "outputs": [],
   "source": [
    "# Add genders to the overall network\n",
    "genders = dict(zip(all_people['Short-Id'], all_people['gender']))\n",
    "\n",
    "nx.set_node_attributes(G_i, genders, name=\"gender\")"
   ]
  },
  {
   "cell_type": "code",
   "execution_count": 6,
   "metadata": {
    "slideshow": {
     "slide_type": "skip"
    }
   },
   "outputs": [],
   "source": [
    "# Create the 4 sets of people, two genders on each group\n",
    "\n",
    "A_m = people[(people.group=='A') & (people.gender=='male')]['Short-Id'].values\n",
    "A_f = people[(people.group=='A') & (people.gender=='female')]['Short-Id'].values\n",
    "B_m = people[(people.group=='B') & (people.gender=='male')]['Short-Id'].values\n",
    "B_f = people[(people.group=='B') & (people.gender=='female')]['Short-Id'].values"
   ]
  },
  {
   "cell_type": "markdown",
   "metadata": {
    "slideshow": {
     "slide_type": "slide"
    }
   },
   "source": [
    "## Aristas en la red de citas"
   ]
  },
  {
   "cell_type": "code",
   "execution_count": 7,
   "metadata": {
    "slideshow": {
     "slide_type": "slide"
    }
   },
   "outputs": [
    {
     "name": "stdout",
     "output_type": "stream",
     "text": [
      "In-degree:\n",
      "A total: 120,095  Mujeres: 60,502  Hombres: 59,593\n",
      "B total: 275,968  Mujeres: 140,739  Hombres: 135,229\n",
      "\n"
     ]
    }
   ],
   "source": [
    "print(\"In-degree:\\n\"\n",
    "      f\"A total: {sum(dict(G_i.in_degree(np.concatenate([A_m, A_f]))).values()):,}\"\n",
    "      f\"  Mujeres: {sum(dict(G_i.in_degree(A_f)).values()):,}\"\n",
    "      f\"  Hombres: {sum(dict(G_i.in_degree(A_m)).values()):,}\\n\"\n",
    "      f\"B total: {sum(dict(G_i.in_degree(np.concatenate([B_m, B_f]))).values()):,}\"\n",
    "      f\"  Mujeres: {sum(dict(G_i.in_degree(B_f)).values()):,}\"\n",
    "      f\"  Hombres: {sum(dict(G_i.in_degree(B_m)).values()):,}\\n\")"
   ]
  },
  {
   "cell_type": "code",
   "execution_count": 8,
   "metadata": {
    "slideshow": {
     "slide_type": "slide"
    }
   },
   "outputs": [
    {
     "name": "stdout",
     "output_type": "stream",
     "text": [
      "Out-degree:\n",
      "A total: 370,847  Mujeres: 179,866  Hombres: 190,981\n",
      "B total: 205,306  Mujeres: 97,159  Hombres: 108,147\n",
      "\n"
     ]
    }
   ],
   "source": [
    "print(\"Out-degree:\\n\"\n",
    "      f\"A total: {sum(dict(G_i.out_degree(np.concatenate([A_m, A_f]))).values()):,}\"\n",
    "      f\"  Mujeres: {sum(dict(G_i.out_degree(A_f)).values()):,}\"\n",
    "      f\"  Hombres: {sum(dict(G_i.out_degree(A_m)).values()):,}\\n\"\n",
    "      f\"B total: {sum(dict(G_i.out_degree(np.concatenate([B_m, B_f]))).values()):,}\"\n",
    "      f\"  Mujeres: {sum(dict(G_i.out_degree(B_f)).values()):,}\"\n",
    "      f\"  Hombres: {sum(dict(G_i.out_degree(B_m)).values()):,}\\n\")"
   ]
  },
  {
   "cell_type": "code",
   "execution_count": 9,
   "metadata": {
    "slideshow": {
     "slide_type": "slide"
    }
   },
   "outputs": [
    {
     "name": "stdout",
     "output_type": "stream",
     "text": [
      "Auto-citas:\n",
      "A total: 0  Mujeres: 0  Hombres: 0\n",
      "B total: 0  Mujeres: 0  Hombres: 0\n",
      "\n"
     ]
    }
   ],
   "source": [
    "print(\"Auto-citas:\\n\"\n",
    "      f\"A total: {sum([1 for x in nx.selfloop_edges(G_i) if x[0] in np.concatenate([A_m, A_f])]):,}\"\n",
    "      f\"  Mujeres: {sum([1 for x in nx.selfloop_edges(G_i) if x[0] in A_f]):,}\"\n",
    "      f\"  Hombres: {sum([1 for x in nx.selfloop_edges(G_i) if x[0] in A_m]):,}\\n\"\n",
    "      f\"B total: {sum([1 for x in nx.selfloop_edges(G_i) if x[0] in np.concatenate([B_m, B_f])]):,}\"\n",
    "      f\"  Mujeres: {sum([1 for x in nx.selfloop_edges(G_i) if x[0] in B_f]):,}\"\n",
    "      f\"  Hombres: {sum([1 for x in nx.selfloop_edges(G_i) if x[0] in B_m]):,}\\n\")"
   ]
  },
  {
   "cell_type": "markdown",
   "metadata": {
    "slideshow": {
     "slide_type": "slide"
    }
   },
   "source": [
    "## Procedencia de las citas\n",
    "\n",
    "Fuera de las auto-citas."
   ]
  },
  {
   "cell_type": "code",
   "execution_count": 10,
   "metadata": {
    "slideshow": {
     "slide_type": "skip"
    }
   },
   "outputs": [],
   "source": [
    "G_i.remove_edges_from(nx.selfloop_edges(G_i))"
   ]
  },
  {
   "cell_type": "markdown",
   "metadata": {
    "slideshow": {
     "slide_type": "slide"
    }
   },
   "source": [
    "### Grupo A\n",
    "\n",
    "Citas recibidas"
   ]
  },
  {
   "cell_type": "code",
   "execution_count": 11,
   "metadata": {
    "slideshow": {
     "slide_type": "skip"
    }
   },
   "outputs": [],
   "source": [
    "mujeres = [u for u, v in G_i.in_edges(A_f)]\n",
    "hombres = [u for u, v in G_i.in_edges(A_m)]"
   ]
  },
  {
   "cell_type": "code",
   "execution_count": 12,
   "metadata": {
    "slideshow": {
     "slide_type": "skip"
    }
   },
   "outputs": [],
   "source": [
    "p_m = [genders[n] for n in mujeres if n in genders]\n",
    "p_h = [genders[n] for n in hombres if n in genders]\n",
    "\n",
    "p_m = sum([1 for n in p_m if n == 'female']) / len(p_m)\n",
    "p_h = sum([1 for n in p_h if n == 'female']) / len(p_h)"
   ]
  },
  {
   "cell_type": "code",
   "execution_count": 13,
   "metadata": {
    "slideshow": {
     "slide_type": "slide"
    }
   },
   "outputs": [
    {
     "name": "stdout",
     "output_type": "stream",
     "text": [
      "Grupo A\n",
      "Proporción de citas de mujeres a:\n",
      "Mujeres 0.22    Hombres 0.18\n"
     ]
    }
   ],
   "source": [
    "print(f\"Grupo A\\n\"\n",
    "      \"Proporción de citas de mujeres a:\\n\"\n",
    "      f\"Mujeres {p_m:.2}\"\n",
    "      f\"    Hombres {p_h:.2}\")"
   ]
  },
  {
   "cell_type": "markdown",
   "metadata": {
    "slideshow": {
     "slide_type": "slide"
    }
   },
   "source": [
    "Citas emitidas"
   ]
  },
  {
   "cell_type": "code",
   "execution_count": 14,
   "metadata": {
    "slideshow": {
     "slide_type": "skip"
    }
   },
   "outputs": [],
   "source": [
    "mujeres = [v for u, v in G_i.out_edges(A_f)]\n",
    "hombres = [v for u, v in G_i.out_edges(A_m)]"
   ]
  },
  {
   "cell_type": "code",
   "execution_count": 15,
   "metadata": {
    "slideshow": {
     "slide_type": "skip"
    }
   },
   "outputs": [],
   "source": [
    "p_m = [genders[n] for n in mujeres if n in genders]\n",
    "p_h = [genders[n] for n in hombres if n in genders]\n",
    "\n",
    "p_m = sum([1 for n in p_m if n == 'female']) / len(p_m)\n",
    "p_h = sum([1 for n in p_h if n == 'female']) / len(p_h)"
   ]
  },
  {
   "cell_type": "code",
   "execution_count": 16,
   "metadata": {
    "slideshow": {
     "slide_type": "slide"
    }
   },
   "outputs": [
    {
     "name": "stdout",
     "output_type": "stream",
     "text": [
      "Grupo A\n",
      "Proporción de citas a mujeres de:\n",
      "Mujeres 0.16    Hombres 0.13\n"
     ]
    }
   ],
   "source": [
    "print(f\"Grupo A\\n\"\n",
    "      \"Proporción de citas a mujeres de:\\n\"\n",
    "      f\"Mujeres {p_m:.2}\"\n",
    "      f\"    Hombres {p_h:.2}\")"
   ]
  },
  {
   "cell_type": "markdown",
   "metadata": {
    "slideshow": {
     "slide_type": "slide"
    }
   },
   "source": [
    "Al parecer hay un sesgo hacia citar hombres en el grupo A."
   ]
  },
  {
   "cell_type": "markdown",
   "metadata": {
    "slideshow": {
     "slide_type": "slide"
    }
   },
   "source": [
    "### Grupo B"
   ]
  },
  {
   "cell_type": "code",
   "execution_count": 17,
   "metadata": {
    "slideshow": {
     "slide_type": "skip"
    }
   },
   "outputs": [],
   "source": [
    "mujeres = [u for u, v in G_i.in_edges(B_f)]\n",
    "hombres = [u for u, v in G_i.in_edges(B_m)]"
   ]
  },
  {
   "cell_type": "code",
   "execution_count": 18,
   "metadata": {
    "slideshow": {
     "slide_type": "skip"
    }
   },
   "outputs": [],
   "source": [
    "p_m = [genders[n] for n in mujeres if n in genders]\n",
    "p_h = [genders[n] for n in hombres if n in genders]\n",
    "\n",
    "p_m = sum([1 for n in p_m if n == 'female']) / len(p_m)\n",
    "p_h = sum([1 for n in p_h if n == 'female']) / len(p_h)"
   ]
  },
  {
   "cell_type": "code",
   "execution_count": 19,
   "metadata": {
    "slideshow": {
     "slide_type": "slide"
    }
   },
   "outputs": [
    {
     "name": "stdout",
     "output_type": "stream",
     "text": [
      "Grupo B\n",
      "Proporción de citas de mujeres a:\n",
      "Mujeres 0.21    Hombres 0.17\n"
     ]
    }
   ],
   "source": [
    "print(f\"Grupo B\\n\"\n",
    "      \"Proporción de citas de mujeres a:\\n\"\n",
    "      f\"Mujeres {p_m:.2}\"\n",
    "      f\"    Hombres {p_h:.2}\")"
   ]
  },
  {
   "cell_type": "markdown",
   "metadata": {
    "slideshow": {
     "slide_type": "slide"
    }
   },
   "source": [
    "Citas emitidas"
   ]
  },
  {
   "cell_type": "code",
   "execution_count": 20,
   "metadata": {
    "slideshow": {
     "slide_type": "skip"
    }
   },
   "outputs": [],
   "source": [
    "mujeres = [v for u, v in G_i.out_edges(B_f)]\n",
    "hombres = [v for u, v in G_i.out_edges(B_m)]"
   ]
  },
  {
   "cell_type": "code",
   "execution_count": 21,
   "metadata": {
    "slideshow": {
     "slide_type": "skip"
    }
   },
   "outputs": [],
   "source": [
    "p_m = [genders[n] for n in mujeres if n in genders]\n",
    "p_h = [genders[n] for n in hombres if n in genders]\n",
    "\n",
    "p_m = sum([1 for n in p_m if n == 'female']) / len(p_m)\n",
    "p_h = sum([1 for n in p_h if n == 'female']) / len(p_h)"
   ]
  },
  {
   "cell_type": "code",
   "execution_count": 22,
   "metadata": {
    "slideshow": {
     "slide_type": "slide"
    }
   },
   "outputs": [
    {
     "name": "stdout",
     "output_type": "stream",
     "text": [
      "Grupo B\n",
      "Proporción de citas a mujeres de:\n",
      "Mujeres 0.15    Hombres 0.13\n"
     ]
    }
   ],
   "source": [
    "print(f\"Grupo B\\n\"\n",
    "      \"Proporción de citas a mujeres de:\\n\"\n",
    "      f\"Mujeres {p_m:.2}\"\n",
    "      f\"    Hombres {p_h:.2}\")"
   ]
  },
  {
   "cell_type": "markdown",
   "metadata": {
    "slideshow": {
     "slide_type": "slide"
    }
   },
   "source": [
    "Sigue habiendo el mismo sesgo en el grupo B. ¿Tal vez son los mismos?"
   ]
  },
  {
   "cell_type": "markdown",
   "metadata": {
    "slideshow": {
     "slide_type": "slide"
    }
   },
   "source": [
    "## Assortativity\n",
    "\n",
    "Assortativity de género: ¿qué tan mezcladas están las citas?"
   ]
  },
  {
   "cell_type": "code",
   "execution_count": 23,
   "metadata": {
    "slideshow": {
     "slide_type": "skip"
    }
   },
   "outputs": [],
   "source": [
    "G_A = nx.subgraph(G_i, nbunch=np.concatenate([A_m, A_f])).copy()\n",
    "G_B = nx.subgraph(G_i, nbunch=np.concatenate([B_m, B_f])).copy()"
   ]
  },
  {
   "cell_type": "code",
   "execution_count": 24,
   "metadata": {
    "slideshow": {
     "slide_type": "slide"
    }
   },
   "outputs": [
    {
     "name": "stdout",
     "output_type": "stream",
     "text": [
      "Assortativity por género\n",
      "Grupo A: 0.072    Grupo B: 0.058\n"
     ]
    }
   ],
   "source": [
    "print(\"Assortativity por género\\n\"\n",
    "      f\"Grupo A: {nx.attribute_assortativity_coefficient(G_A, 'gender'):.2}\"\n",
    "      f\"    Grupo B: {nx.attribute_assortativity_coefficient(G_B, 'gender'):.2}\")"
   ]
  },
  {
   "cell_type": "markdown",
   "metadata": {
    "slideshow": {
     "slide_type": "slide"
    }
   },
   "source": [
    "Hay una mezcla parecida en ambos grupos. No se puede decir que hay un sesgo."
   ]
  },
  {
   "cell_type": "markdown",
   "metadata": {
    "slideshow": {
     "slide_type": "slide"
    }
   },
   "source": [
    "### Red de co-autores"
   ]
  },
  {
   "cell_type": "code",
   "execution_count": 25,
   "metadata": {
    "slideshow": {
     "slide_type": "skip"
    }
   },
   "outputs": [],
   "source": [
    "work = pd.read_csv(\"../data/processed/co_author.csv\")"
   ]
  },
  {
   "cell_type": "code",
   "execution_count": 26,
   "metadata": {
    "slideshow": {
     "slide_type": "skip"
    }
   },
   "outputs": [],
   "source": [
    "work = work[(work.year >= 1990) & (work.year < 2020)]"
   ]
  },
  {
   "cell_type": "code",
   "execution_count": 27,
   "metadata": {
    "slideshow": {
     "slide_type": "skip"
    }
   },
   "outputs": [],
   "source": [
    "G = nx.from_pandas_edgelist(work,\n",
    "                            source='author1',\n",
    "                            target='author2')"
   ]
  },
  {
   "cell_type": "code",
   "execution_count": 28,
   "metadata": {
    "slideshow": {
     "slide_type": "skip"
    }
   },
   "outputs": [],
   "source": [
    "nx.set_node_attributes(G, genders, name=\"gender\")"
   ]
  },
  {
   "cell_type": "code",
   "execution_count": 29,
   "metadata": {
    "slideshow": {
     "slide_type": "skip"
    }
   },
   "outputs": [],
   "source": [
    "G_A = nx.subgraph(G, nbunch=np.concatenate([A_m, A_f])).copy()\n",
    "G_B = nx.subgraph(G, nbunch=np.concatenate([B_m, B_f])).copy()"
   ]
  },
  {
   "cell_type": "code",
   "execution_count": 30,
   "metadata": {
    "slideshow": {
     "slide_type": "slide"
    }
   },
   "outputs": [
    {
     "name": "stdout",
     "output_type": "stream",
     "text": [
      "Assortativity por género\n",
      "Grupo A: 0.13    Grupo B: 0.16\n"
     ]
    }
   ],
   "source": [
    "print(\"Assortativity por género\\n\"\n",
    "      f\"Grupo A: {nx.attribute_assortativity_coefficient(G_A, 'gender'):.2}\"\n",
    "      f\"    Grupo B: {nx.attribute_assortativity_coefficient(G_B, 'gender'):.2}\")"
   ]
  },
  {
   "cell_type": "markdown",
   "metadata": {
    "slideshow": {
     "slide_type": "slide"
    }
   },
   "source": [
    "El sesgo en la red de co-autores se diluye en la red de citas de cada grupo. Sin embargo existe un sesgo creado por un tercer grupo en la red de citas."
   ]
  },
  {
   "cell_type": "markdown",
   "metadata": {
    "slideshow": {
     "slide_type": "slide"
    }
   },
   "source": [
    "## Género en la de co-autores"
   ]
  },
  {
   "cell_type": "markdown",
   "metadata": {
    "slideshow": {
     "slide_type": "slide"
    }
   },
   "source": [
    "### Grupo A"
   ]
  },
  {
   "cell_type": "code",
   "execution_count": 31,
   "metadata": {
    "slideshow": {
     "slide_type": "skip"
    }
   },
   "outputs": [],
   "source": [
    "mujeres = [v for u, v in G.edges(A_f)]\n",
    "hombres = [v for u, v in G.edges(A_m)]"
   ]
  },
  {
   "cell_type": "code",
   "execution_count": 32,
   "metadata": {
    "slideshow": {
     "slide_type": "skip"
    }
   },
   "outputs": [],
   "source": [
    "p_m = [genders[n] for n in mujeres if n in genders]\n",
    "p_h = [genders[n] for n in hombres if n in genders]\n",
    "\n",
    "p_m = sum([1 for n in p_m if n == 'female']) / len(p_m)\n",
    "p_h = sum([1 for n in p_h if n == 'female']) / len(p_h)"
   ]
  },
  {
   "cell_type": "code",
   "execution_count": 33,
   "metadata": {
    "slideshow": {
     "slide_type": "slide"
    }
   },
   "outputs": [
    {
     "name": "stdout",
     "output_type": "stream",
     "text": [
      "Grupo A\n",
      "Proporción de colaborador mujer con:\n",
      "Mujeres 0.24    Hombres 0.19\n"
     ]
    }
   ],
   "source": [
    "print(f\"Grupo A\\n\"\n",
    "      \"Proporción de colaborador mujer con:\\n\"\n",
    "      f\"Mujeres {p_m:.2}\"\n",
    "      f\"    Hombres {p_h:.2}\")"
   ]
  },
  {
   "cell_type": "markdown",
   "metadata": {
    "slideshow": {
     "slide_type": "slide"
    }
   },
   "source": [
    "### Grupo B"
   ]
  },
  {
   "cell_type": "code",
   "execution_count": 34,
   "metadata": {
    "slideshow": {
     "slide_type": "skip"
    }
   },
   "outputs": [],
   "source": [
    "mujeres = [v for u, v in G.edges(B_f)]\n",
    "hombres = [v for u, v in G.edges(B_m)]"
   ]
  },
  {
   "cell_type": "code",
   "execution_count": 35,
   "metadata": {
    "slideshow": {
     "slide_type": "skip"
    }
   },
   "outputs": [],
   "source": [
    "p_m = [genders[n] for n in mujeres if n in genders]\n",
    "p_h = [genders[n] for n in hombres if n in genders]\n",
    "\n",
    "p_m = sum([1 for n in p_m if n == 'female']) / len(p_m)\n",
    "p_h = sum([1 for n in p_h if n == 'female']) / len(p_h)"
   ]
  },
  {
   "cell_type": "code",
   "execution_count": 36,
   "metadata": {
    "slideshow": {
     "slide_type": "slide"
    }
   },
   "outputs": [
    {
     "name": "stdout",
     "output_type": "stream",
     "text": [
      "Grupo B\n",
      "Proporción de colaborador mujer con:\n",
      "Mujeres 0.22    Hombres 0.16\n"
     ]
    }
   ],
   "source": [
    "print(f\"Grupo B\\n\"\n",
    "      \"Proporción de colaborador mujer con:\\n\"\n",
    "      f\"Mujeres {p_m:.2}\"\n",
    "      f\"    Hombres {p_h:.2}\")"
   ]
  },
  {
   "cell_type": "markdown",
   "metadata": {
    "slideshow": {
     "slide_type": "slide"
    }
   },
   "source": [
    "También bajan las colaboraciones con mujeres en el grupo B."
   ]
  },
  {
   "cell_type": "markdown",
   "metadata": {
    "slideshow": {
     "slide_type": "slide"
    }
   },
   "source": [
    "### Centralización\n",
    "\n",
    "Main core y hubs."
   ]
  },
  {
   "cell_type": "code",
   "execution_count": 37,
   "metadata": {
    "slideshow": {
     "slide_type": "slide"
    }
   },
   "outputs": [
    {
     "data": {
      "text/plain": [
       "165"
      ]
     },
     "execution_count": 37,
     "metadata": {},
     "output_type": "execute_result"
    }
   ],
   "source": [
    "main = nx.k_core(G_i)\n",
    "\n",
    "min(dict(main.degree).values())"
   ]
  },
  {
   "cell_type": "code",
   "execution_count": 38,
   "metadata": {
    "slideshow": {
     "slide_type": "slide"
    }
   },
   "outputs": [
    {
     "data": {
      "text/plain": [
       "18"
      ]
     },
     "execution_count": 38,
     "metadata": {},
     "output_type": "execute_result"
    }
   ],
   "source": [
    "main_ca = nx.k_core(G)\n",
    "\n",
    "min(dict(main_ca.degree).values())"
   ]
  },
  {
   "cell_type": "code",
   "execution_count": 39,
   "metadata": {
    "slideshow": {
     "slide_type": "skip"
    }
   },
   "outputs": [],
   "source": [
    "core_nodes = list(main.nodes)\n",
    "\n",
    "p = [genders[n] for n in core_nodes if n in genders]\n",
    "p = sum([1 for n in p if n == 'female']) / len(p)"
   ]
  },
  {
   "cell_type": "code",
   "execution_count": 68,
   "metadata": {},
   "outputs": [],
   "source": [
    "mujeres = [genders[n] for n in G_i.nodes if (n in genders) and (genders[n]==\"female\")]"
   ]
  },
  {
   "cell_type": "code",
   "execution_count": 71,
   "metadata": {},
   "outputs": [],
   "source": [
    "hombres = [genders[n] for n in G_i.nodes if (n in genders) and (genders[n]==\"male\")]"
   ]
  },
  {
   "cell_type": "code",
   "execution_count": 40,
   "metadata": {
    "slideshow": {
     "slide_type": "skip"
    }
   },
   "outputs": [],
   "source": [
    "mujeres = [genders[n] for n in G_i.nodes if n in genders]\n",
    "mujeres = sum([1 for n in mujeres if n == 'female']) / len(mujeres)"
   ]
  },
  {
   "cell_type": "code",
   "execution_count": 41,
   "metadata": {
    "slideshow": {
     "slide_type": "slide"
    }
   },
   "outputs": [
    {
     "name": "stdout",
     "output_type": "stream",
     "text": [
      "Proporción de mujeres en red de citas: 0.24\n",
      "Proporción de mujeres en main core de citas: 0.11\n"
     ]
    }
   ],
   "source": [
    "print(f\"Proporción de mujeres en red de citas: {mujeres:.2}\")\n",
    "print(f\"Proporción de mujeres en main core de citas: {p:.2}\")"
   ]
  },
  {
   "cell_type": "code",
   "execution_count": 42,
   "metadata": {
    "slideshow": {
     "slide_type": "skip"
    }
   },
   "outputs": [],
   "source": [
    "core_nodes = list(main_ca.nodes)\n",
    "\n",
    "p = [genders[n] for n in core_nodes if n in genders]\n",
    "p = sum([1 for n in p if n == 'female']) / len(p)"
   ]
  },
  {
   "cell_type": "code",
   "execution_count": 43,
   "metadata": {
    "slideshow": {
     "slide_type": "skip"
    }
   },
   "outputs": [],
   "source": [
    "mujeres = [genders[n] for n in G.nodes if n in genders]\n",
    "mujeres = sum([1 for n in mujeres if n == 'female']) / len(mujeres)"
   ]
  },
  {
   "cell_type": "code",
   "execution_count": 44,
   "metadata": {
    "slideshow": {
     "slide_type": "slide"
    }
   },
   "outputs": [
    {
     "name": "stdout",
     "output_type": "stream",
     "text": [
      "Proporción de mujeres en red de co-autores: 0.24\n",
      "Proporción de mujeres en main core de co-autores: 0.17\n"
     ]
    }
   ],
   "source": [
    "print(f\"Proporción de mujeres en red de co-autores: {mujeres:.2}\")\n",
    "print(f\"Proporción de mujeres en main core de co-autores: {p:.2}\")"
   ]
  },
  {
   "cell_type": "markdown",
   "metadata": {
    "slideshow": {
     "slide_type": "slide"
    }
   },
   "source": [
    "### Proporciones de aristas hacia el main core"
   ]
  },
  {
   "cell_type": "code",
   "execution_count": 45,
   "metadata": {
    "slideshow": {
     "slide_type": "slide"
    }
   },
   "outputs": [
    {
     "name": "stdout",
     "output_type": "stream",
     "text": [
      "El main core de la red de citas tiene 19 nodos\n",
      "Son el 0.04% de todos los nodos\n"
     ]
    }
   ],
   "source": [
    "print(f\"El main core de la red de citas tiene {len(core_nodes):,} nodos\")\n",
    "print(f\"Son el {len(core_nodes) / len(G_i):.2%} de todos los nodos\")"
   ]
  },
  {
   "cell_type": "code",
   "execution_count": 46,
   "metadata": {
    "slideshow": {
     "slide_type": "skip"
    }
   },
   "outputs": [],
   "source": [
    "citas_A = [v for u, v in G_i.out_edges(np.concatenate([A_m, A_f]))]\n",
    "p = sum([1 for n in citas_A if n in core_nodes]) / len(citas_A)"
   ]
  },
  {
   "cell_type": "code",
   "execution_count": 47,
   "metadata": {
    "slideshow": {
     "slide_type": "slide"
    }
   },
   "outputs": [
    {
     "name": "stdout",
     "output_type": "stream",
     "text": [
      "Grupo A\n",
      "Proporción de aristas que van al core 0.00061\n"
     ]
    }
   ],
   "source": [
    "print(\"Grupo A\\n\"\n",
    "      f\"Proporción de aristas que van al core {p:.2}\")"
   ]
  },
  {
   "cell_type": "code",
   "execution_count": 48,
   "metadata": {
    "slideshow": {
     "slide_type": "skip"
    }
   },
   "outputs": [],
   "source": [
    "m_A = [v for u, v in G_i.out_edges(A_f)]\n",
    "p_m = sum([1 for n in m_A if n in core_nodes]) / len(m_A)"
   ]
  },
  {
   "cell_type": "code",
   "execution_count": 49,
   "metadata": {
    "slideshow": {
     "slide_type": "skip"
    }
   },
   "outputs": [],
   "source": [
    "h_A = [v for u, v in G_i.out_edges(A_m)]\n",
    "p_h = sum([1 for n in h_A if n in core_nodes]) / len(h_A)"
   ]
  },
  {
   "cell_type": "code",
   "execution_count": 50,
   "metadata": {
    "slideshow": {
     "slide_type": "slide"
    }
   },
   "outputs": [
    {
     "name": "stdout",
     "output_type": "stream",
     "text": [
      "Proporción de aristas hacia el core de:\n",
      "Mujeres: 0.00054     Hombres: 0.00069\n"
     ]
    }
   ],
   "source": [
    "print(f\"Proporción de aristas hacia el core de:\\n\"\n",
    "      f\"Mujeres: {p_m:.2}\"\n",
    "      f\"     Hombres: {p_h:.2}\")"
   ]
  },
  {
   "cell_type": "code",
   "execution_count": 51,
   "metadata": {
    "slideshow": {
     "slide_type": "skip"
    }
   },
   "outputs": [],
   "source": [
    "citas_B = [v for u, v in G_i.out_edges(np.concatenate([B_m, B_f]))]\n",
    "p = sum([1 for n in citas_B if n in core_nodes]) / len(citas_B)"
   ]
  },
  {
   "cell_type": "code",
   "execution_count": 52,
   "metadata": {
    "slideshow": {
     "slide_type": "slide"
    }
   },
   "outputs": [
    {
     "name": "stdout",
     "output_type": "stream",
     "text": [
      "Grupo B\n",
      "Proporción de aristas que van al core 0.00041\n"
     ]
    }
   ],
   "source": [
    "print(\"Grupo B\\n\"\n",
    "      f\"Proporción de aristas que van al core {p:.2}\")"
   ]
  },
  {
   "cell_type": "code",
   "execution_count": 53,
   "metadata": {
    "slideshow": {
     "slide_type": "skip"
    }
   },
   "outputs": [],
   "source": [
    "m_A = [v for u, v in G_i.out_edges(B_f)]\n",
    "p_m = sum([1 for n in m_A if n in core_nodes]) / len(m_A)"
   ]
  },
  {
   "cell_type": "code",
   "execution_count": 54,
   "metadata": {
    "slideshow": {
     "slide_type": "skip"
    }
   },
   "outputs": [],
   "source": [
    "h_A = [v for u, v in G_i.out_edges(B_m)]\n",
    "p_h = sum([1 for n in h_A if n in core_nodes]) / len(h_A)"
   ]
  },
  {
   "cell_type": "code",
   "execution_count": 55,
   "metadata": {
    "slideshow": {
     "slide_type": "slide"
    }
   },
   "outputs": [
    {
     "name": "stdout",
     "output_type": "stream",
     "text": [
      "Proporción de aristas hacia el core de:\n",
      "Mujeres: 0.00021     Hombres: 0.0006\n"
     ]
    }
   ],
   "source": [
    "print(f\"Proporción de aristas hacia el core de:\\n\"\n",
    "      f\"Mujeres: {p_m:.2}\"\n",
    "      f\"     Hombres: {p_h:.2}\")"
   ]
  },
  {
   "cell_type": "markdown",
   "metadata": {
    "slideshow": {
     "slide_type": "slide"
    }
   },
   "source": [
    "### Desde la red de co-autores"
   ]
  },
  {
   "cell_type": "code",
   "execution_count": 56,
   "metadata": {
    "slideshow": {
     "slide_type": "skip"
    }
   },
   "outputs": [],
   "source": [
    "ca_A = [v for u, v in G.edges(np.concatenate([A_m, A_f]))]\n",
    "p = sum([1 for n in ca_A if n in core_nodes]) / len(ca_A)"
   ]
  },
  {
   "cell_type": "code",
   "execution_count": 57,
   "metadata": {
    "slideshow": {
     "slide_type": "slide"
    }
   },
   "outputs": [
    {
     "name": "stdout",
     "output_type": "stream",
     "text": [
      "Grupo A\n",
      "Proporción de aristas que van al core 0.0038\n"
     ]
    }
   ],
   "source": [
    "print(\"Grupo A\\n\"\n",
    "      f\"Proporción de aristas que van al core {p:.2}\")"
   ]
  },
  {
   "cell_type": "code",
   "execution_count": 58,
   "metadata": {
    "slideshow": {
     "slide_type": "skip"
    }
   },
   "outputs": [],
   "source": [
    "m_A = [v for u, v in G.edges(A_f)]\n",
    "p_m = sum([1 for n in m_A if n in core_nodes]) / len(m_A)"
   ]
  },
  {
   "cell_type": "code",
   "execution_count": 59,
   "metadata": {
    "slideshow": {
     "slide_type": "skip"
    }
   },
   "outputs": [],
   "source": [
    "h_A = [v for u, v in G.edges(A_m)]\n",
    "p_h = sum([1 for n in h_A if n in core_nodes]) / len(h_A)"
   ]
  },
  {
   "cell_type": "code",
   "execution_count": 60,
   "metadata": {
    "slideshow": {
     "slide_type": "slide"
    }
   },
   "outputs": [
    {
     "name": "stdout",
     "output_type": "stream",
     "text": [
      "Proporción de aristas hacia el core de:\n",
      "Mujeres: 0.0037     Hombres: 0.0037\n"
     ]
    }
   ],
   "source": [
    "print(f\"Proporción de aristas hacia el core de:\\n\"\n",
    "      f\"Mujeres: {p_m:.2}\"\n",
    "      f\"     Hombres: {p_h:.2}\")"
   ]
  },
  {
   "cell_type": "code",
   "execution_count": 61,
   "metadata": {
    "slideshow": {
     "slide_type": "skip"
    }
   },
   "outputs": [],
   "source": [
    "ca_B = [v for u, v in G.edges(np.concatenate([B_m, B_f]))]\n",
    "p = sum([1 for n in ca_B if n in core_nodes]) / len(ca_B)"
   ]
  },
  {
   "cell_type": "code",
   "execution_count": 62,
   "metadata": {
    "slideshow": {
     "slide_type": "slide"
    }
   },
   "outputs": [
    {
     "name": "stdout",
     "output_type": "stream",
     "text": [
      "Grupo B\n",
      "Proporción de aristas que van al core 0.0035\n"
     ]
    }
   ],
   "source": [
    "print(\"Grupo B\\n\"\n",
    "      f\"Proporción de aristas que van al core {p:.2}\")"
   ]
  },
  {
   "cell_type": "code",
   "execution_count": 63,
   "metadata": {
    "slideshow": {
     "slide_type": "skip"
    }
   },
   "outputs": [],
   "source": [
    "m_A = [v for u, v in G.edges(B_f)]\n",
    "p_m = sum([1 for n in m_A if n in core_nodes]) / len(m_A)"
   ]
  },
  {
   "cell_type": "code",
   "execution_count": 64,
   "metadata": {
    "slideshow": {
     "slide_type": "skip"
    }
   },
   "outputs": [],
   "source": [
    "h_A = [v for u, v in G.edges(B_m)]\n",
    "p_h = sum([1 for n in h_A if n in core_nodes]) / len(h_A)"
   ]
  },
  {
   "cell_type": "code",
   "execution_count": 65,
   "metadata": {
    "slideshow": {
     "slide_type": "slide"
    }
   },
   "outputs": [
    {
     "name": "stdout",
     "output_type": "stream",
     "text": [
      "Proporción de aristas hacia el core de:\n",
      "Mujeres: 0.0     Hombres: 0.0064\n"
     ]
    }
   ],
   "source": [
    "print(f\"Proporción de aristas hacia el core de:\\n\"\n",
    "      f\"Mujeres: {p_m:.2}\"\n",
    "      f\"     Hombres: {p_h:.2}\")"
   ]
  }
 ],
 "metadata": {
  "celltoolbar": "Slideshow",
  "kernelspec": {
   "display_name": "Python 3",
   "language": "python",
   "name": "python3"
  },
  "language_info": {
   "codemirror_mode": {
    "name": "ipython",
    "version": 3
   },
   "file_extension": ".py",
   "mimetype": "text/x-python",
   "name": "python",
   "nbconvert_exporter": "python",
   "pygments_lexer": "ipython3",
   "version": "3.6.9"
  }
 },
 "nbformat": 4,
 "nbformat_minor": 4
}
