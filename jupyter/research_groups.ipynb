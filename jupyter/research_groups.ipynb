{
 "cells": [
  {
   "cell_type": "code",
   "execution_count": 12,
   "metadata": {},
   "outputs": [],
   "source": [
    "import pandas as pd\n",
    "import networkx as nx\n",
    "import numpy as np\n",
    "import seaborn as sns; sns.set(style='darkgrid')\n",
    "from scipy import stats\n",
    "from os.path import join\n",
    "from numpy.random import choice"
   ]
  },
  {
   "cell_type": "markdown",
   "metadata": {},
   "source": [
    "# Choose two groups of males and females to compare\n",
    "\n",
    "An analysis of three decades: 1990--2019\n",
    "\n",
    "\n",
    "We are interested in comparing the topological differences between male and females in two networks:\n",
    "\n",
    "1. Co-author network\n",
    "2. Citation network\n",
    "\n",
    "Two cases: most cited and average cited."
   ]
  },
  {
   "cell_type": "code",
   "execution_count": 13,
   "metadata": {},
   "outputs": [],
   "source": [
    "cite = pd.read_csv(\"../data/processed/cites.csv\")\n",
    "\n",
    "cite = cite[(cite.t_year >= 1990) & (cite.t_year < 2020)]\n",
    "cite = cite[(cite.s_year >= 1990) & (cite.s_year < 2020)]\n",
    "\n",
    "cite = cite[cite.target != cite.source]"
   ]
  },
  {
   "cell_type": "code",
   "execution_count": 14,
   "metadata": {},
   "outputs": [],
   "source": [
    "people = pd.read_csv(\"../data/processed/people.csv\")"
   ]
  },
  {
   "cell_type": "code",
   "execution_count": 15,
   "metadata": {},
   "outputs": [],
   "source": [
    "# Add target gender and source gender\n",
    "cite = pd.merge(cite,\n",
    "                people.set_index(\"Short-Id\"),\n",
    "                how='left',\n",
    "                left_on=\"target\",\n",
    "                right_index=True)\n",
    "\n",
    "cite = pd.merge(cite,\n",
    "                people.set_index(\"Short-Id\"),\n",
    "                how=\"left\",\n",
    "                left_on=\"source\",\n",
    "                right_index=True,\n",
    "                suffixes=(\"_t\", \"_s\"))"
   ]
  },
  {
   "cell_type": "code",
   "execution_count": 16,
   "metadata": {},
   "outputs": [],
   "source": [
    "# Get cites per person and add it to the people table\n",
    "cite_t = (cite\n",
    "          .groupby('target')\n",
    "          .size()\n",
    "          .rename(\"cites\"))\n",
    "\n",
    "people = pd.merge(people,\n",
    "                  cite_t,\n",
    "                  left_on=\"Short-Id\",\n",
    "                  right_index=True,\n",
    "                  how=\"left\")"
   ]
  },
  {
   "cell_type": "code",
   "execution_count": 17,
   "metadata": {},
   "outputs": [],
   "source": [
    "# Some people are not in the citation network\n",
    "# We'll remove them\n",
    "people = people[people.cites.notna()]"
   ]
  },
  {
   "cell_type": "code",
   "execution_count": 18,
   "metadata": {},
   "outputs": [],
   "source": [
    "cite = cite[cite.gender_t.notna()]\n",
    "cite = cite[cite.gender_s.notna()]"
   ]
  },
  {
   "cell_type": "markdown",
   "metadata": {},
   "source": [
    "## Research groups\n",
    "\n",
    "We take as reference two groups of female researchers:\n",
    "\n",
    "1) Successful: Outliers in terms of citations\n",
    "\n",
    "2) Average: Inter-quartile researchers in terms of citations"
   ]
  },
  {
   "cell_type": "code",
   "execution_count": 19,
   "metadata": {},
   "outputs": [],
   "source": [
    "femec = people[people.gender=='female']"
   ]
  },
  {
   "cell_type": "code",
   "execution_count": 20,
   "metadata": {},
   "outputs": [],
   "source": [
    "X_f = femec.cites\n",
    "q1, q2, q3 = X_f.quantile([0.25, 0.5, 0.75])\n",
    "mu = X_f.mean()\n",
    "# Inter quartile\n",
    "qr = (q3 - q1)\n",
    "X_f = X_f[(X_f >= q1) & (X_f <= q3)]\n",
    "# Group A\n",
    "femec_avg = femec[femec.cites.between(q1, q3, inclusive=True)]\n",
    "# Group B, outliers are mean + 1.5 interquartile range\n",
    "X_f_top = people[people.gender=='female'].cites\n",
    "X_f_top = X_f_top[(X_f_top > mu + (1.5 * qr))]\n",
    "# Group B\n",
    "femec_top = femec[femec.cites > mu + (1.5 * qr)]"
   ]
  },
  {
   "cell_type": "code",
   "execution_count": 21,
   "metadata": {},
   "outputs": [
    {
     "name": "stdout",
     "output_type": "stream",
     "text": [
      "Group B\n"
     ]
    },
    {
     "data": {
      "text/plain": [
       "count     770.000000\n",
       "mean      450.893506\n",
       "std       568.552630\n",
       "min       153.000000\n",
       "25%       198.000000\n",
       "50%       268.500000\n",
       "75%       459.750000\n",
       "max      7294.000000\n",
       "Name: cites, dtype: float64"
      ]
     },
     "execution_count": 21,
     "metadata": {},
     "output_type": "execute_result"
    }
   ],
   "source": [
    "print(\"Group B\")\n",
    "X_f_top.describe()"
   ]
  },
  {
   "cell_type": "code",
   "execution_count": 22,
   "metadata": {},
   "outputs": [
    {
     "name": "stdout",
     "output_type": "stream",
     "text": [
      "Group A\n"
     ]
    },
    {
     "data": {
      "text/plain": [
       "count    3971.000000\n",
       "mean       19.619239\n",
       "std        14.715456\n",
       "min         4.000000\n",
       "25%         7.000000\n",
       "50%        15.000000\n",
       "75%        29.000000\n",
       "max        58.000000\n",
       "Name: cites, dtype: float64"
      ]
     },
     "execution_count": 22,
     "metadata": {},
     "output_type": "execute_result"
    }
   ],
   "source": [
    "print(\"Group A\")\n",
    "X_f.describe()"
   ]
  },
  {
   "cell_type": "markdown",
   "metadata": {},
   "source": [
    "## Let's now take a same-size sample for male researchers\n",
    "\n",
    "To be able to compare between genders we need:\n",
    "- A stratified sample as the range of citations in both groups is too large.\n",
    "\n",
    "In order to take a stratified sample, we divide the citation group of female researchers in deciles and get a similar number of male researchers on each decile."
   ]
  },
  {
   "cell_type": "code",
   "execution_count": 23,
   "metadata": {},
   "outputs": [],
   "source": [
    "malec = people[people.gender=='male']\n",
    "# Get males in the overall citation range of group A\n",
    "malec_avg = malec[malec.cites.isin(X_f.unique())]\n",
    "# Males in the overall citation range of group B\n",
    "malec_top = malec[malec.cites.isin(X_f_top.unique())]"
   ]
  },
  {
   "cell_type": "code",
   "execution_count": 24,
   "metadata": {},
   "outputs": [],
   "source": [
    "malec = people[people.gender=='male']\n",
    "# Get males in the overall citation range of group A\n",
    "malec_avg = malec[malec.cites.isin(X_f.unique())]\n",
    "# Males in the overall citation range of group B\n",
    "malec_top = malec[malec.cites.isin(X_f_top.unique())]\n",
    "# Add category in group A\n",
    "# Deciles\n",
    "avg_deciles = pd.qcut(femec_avg.cites,\n",
    "                               retbins=True,\n",
    "                               q=10,\n",
    "                               labels=range(1, 11))\n",
    "top_deciles = pd.qcut(femec_top.cites,\n",
    "                               retbins=True,\n",
    "                               q=10,\n",
    "                               labels=range(1, 11))\n",
    "femec_avg = (femec_avg\n",
    "             .assign(q=pd.qcut(femec_avg.cites,\n",
    "                               q=10,\n",
    "                               labels=range(1, 11)).values))\n",
    "# Add category in group B\n",
    "femec_top = (femec_top\n",
    "             .assign(q=pd.qcut(femec_top.cites,\n",
    "                               q=10,\n",
    "                               labels=range(1, 11)).values))\n",
    "# Using the same deciles or bins, compute the classification\n",
    "# of males to stratify data\n",
    "malec_avg = (malec_avg\n",
    "             .assign(q=pd.cut(malec_avg.cites,\n",
    "                               bins=avg_deciles[1],\n",
    "                               include_lowest=True,\n",
    "                               labels=range(1, 11)).values))\n",
    "malec_top = (malec_top\n",
    "             .assign(q=pd.cut(malec_top.cites,\n",
    "                               bins=top_deciles[1],\n",
    "                               include_lowest=True,\n",
    "                               labels=range(1, 11)).values))"
   ]
  },
  {
   "cell_type": "code",
   "execution_count": 25,
   "metadata": {},
   "outputs": [
    {
     "data": {
      "text/plain": [
       "2     83\n",
       "9     78\n",
       "6     78\n",
       "8     77\n",
       "4     77\n",
       "1     77\n",
       "10    76\n",
       "7     76\n",
       "5     75\n",
       "3     73\n",
       "Name: q, dtype: int64"
      ]
     },
     "execution_count": 25,
     "metadata": {},
     "output_type": "execute_result"
    }
   ],
   "source": [
    "femec_top.q.value_counts()"
   ]
  },
  {
   "cell_type": "code",
   "execution_count": 26,
   "metadata": {},
   "outputs": [],
   "source": [
    "vals = femec_avg.q.value_counts()"
   ]
  },
  {
   "cell_type": "code",
   "execution_count": 27,
   "metadata": {},
   "outputs": [],
   "source": [
    "np.random.seed(42)\n",
    "choices = []\n",
    "for i, v in vals.iteritems():\n",
    "    chunk = malec_avg[malec_avg.q==i]\n",
    "    choices.extend(choice(chunk['Short-Id'], size=v, replace=False))"
   ]
  },
  {
   "cell_type": "code",
   "execution_count": 28,
   "metadata": {},
   "outputs": [],
   "source": [
    "malec_avg = malec_avg[malec_avg['Short-Id'].isin(choices)]"
   ]
  },
  {
   "cell_type": "code",
   "execution_count": 29,
   "metadata": {},
   "outputs": [
    {
     "data": {
      "text/plain": [
       "77801.0"
      ]
     },
     "execution_count": 29,
     "metadata": {},
     "output_type": "execute_result"
    }
   ],
   "source": [
    "malec_avg.cites.sum()"
   ]
  },
  {
   "cell_type": "code",
   "execution_count": 30,
   "metadata": {},
   "outputs": [
    {
     "data": {
      "text/plain": [
       "77908.0"
      ]
     },
     "execution_count": 30,
     "metadata": {},
     "output_type": "execute_result"
    }
   ],
   "source": [
    "femec_avg.cites.sum()"
   ]
  },
  {
   "cell_type": "code",
   "execution_count": 31,
   "metadata": {},
   "outputs": [
    {
     "data": {
      "text/html": [
       "<div>\n",
       "<style scoped>\n",
       "    .dataframe tbody tr th:only-of-type {\n",
       "        vertical-align: middle;\n",
       "    }\n",
       "\n",
       "    .dataframe tbody tr th {\n",
       "        vertical-align: top;\n",
       "    }\n",
       "\n",
       "    .dataframe thead th {\n",
       "        text-align: right;\n",
       "    }\n",
       "</style>\n",
       "<table border=\"1\" class=\"dataframe\">\n",
       "  <thead>\n",
       "    <tr style=\"text-align: right;\">\n",
       "      <th></th>\n",
       "      <th>cites</th>\n",
       "    </tr>\n",
       "  </thead>\n",
       "  <tbody>\n",
       "    <tr>\n",
       "      <th>count</th>\n",
       "      <td>3971.000000</td>\n",
       "    </tr>\n",
       "    <tr>\n",
       "      <th>mean</th>\n",
       "      <td>19.592294</td>\n",
       "    </tr>\n",
       "    <tr>\n",
       "      <th>std</th>\n",
       "      <td>14.675850</td>\n",
       "    </tr>\n",
       "    <tr>\n",
       "      <th>min</th>\n",
       "      <td>4.000000</td>\n",
       "    </tr>\n",
       "    <tr>\n",
       "      <th>25%</th>\n",
       "      <td>7.000000</td>\n",
       "    </tr>\n",
       "    <tr>\n",
       "      <th>50%</th>\n",
       "      <td>15.000000</td>\n",
       "    </tr>\n",
       "    <tr>\n",
       "      <th>75%</th>\n",
       "      <td>28.000000</td>\n",
       "    </tr>\n",
       "    <tr>\n",
       "      <th>max</th>\n",
       "      <td>58.000000</td>\n",
       "    </tr>\n",
       "  </tbody>\n",
       "</table>\n",
       "</div>"
      ],
      "text/plain": [
       "             cites\n",
       "count  3971.000000\n",
       "mean     19.592294\n",
       "std      14.675850\n",
       "min       4.000000\n",
       "25%       7.000000\n",
       "50%      15.000000\n",
       "75%      28.000000\n",
       "max      58.000000"
      ]
     },
     "execution_count": 31,
     "metadata": {},
     "output_type": "execute_result"
    }
   ],
   "source": [
    "malec_avg.describe()"
   ]
  },
  {
   "cell_type": "code",
   "execution_count": 32,
   "metadata": {},
   "outputs": [
    {
     "data": {
      "text/html": [
       "<div>\n",
       "<style scoped>\n",
       "    .dataframe tbody tr th:only-of-type {\n",
       "        vertical-align: middle;\n",
       "    }\n",
       "\n",
       "    .dataframe tbody tr th {\n",
       "        vertical-align: top;\n",
       "    }\n",
       "\n",
       "    .dataframe thead th {\n",
       "        text-align: right;\n",
       "    }\n",
       "</style>\n",
       "<table border=\"1\" class=\"dataframe\">\n",
       "  <thead>\n",
       "    <tr style=\"text-align: right;\">\n",
       "      <th></th>\n",
       "      <th>cites</th>\n",
       "    </tr>\n",
       "  </thead>\n",
       "  <tbody>\n",
       "    <tr>\n",
       "      <th>count</th>\n",
       "      <td>3971.000000</td>\n",
       "    </tr>\n",
       "    <tr>\n",
       "      <th>mean</th>\n",
       "      <td>19.619239</td>\n",
       "    </tr>\n",
       "    <tr>\n",
       "      <th>std</th>\n",
       "      <td>14.715456</td>\n",
       "    </tr>\n",
       "    <tr>\n",
       "      <th>min</th>\n",
       "      <td>4.000000</td>\n",
       "    </tr>\n",
       "    <tr>\n",
       "      <th>25%</th>\n",
       "      <td>7.000000</td>\n",
       "    </tr>\n",
       "    <tr>\n",
       "      <th>50%</th>\n",
       "      <td>15.000000</td>\n",
       "    </tr>\n",
       "    <tr>\n",
       "      <th>75%</th>\n",
       "      <td>29.000000</td>\n",
       "    </tr>\n",
       "    <tr>\n",
       "      <th>max</th>\n",
       "      <td>58.000000</td>\n",
       "    </tr>\n",
       "  </tbody>\n",
       "</table>\n",
       "</div>"
      ],
      "text/plain": [
       "             cites\n",
       "count  3971.000000\n",
       "mean     19.619239\n",
       "std      14.715456\n",
       "min       4.000000\n",
       "25%       7.000000\n",
       "50%      15.000000\n",
       "75%      29.000000\n",
       "max      58.000000"
      ]
     },
     "execution_count": 32,
     "metadata": {},
     "output_type": "execute_result"
    }
   ],
   "source": [
    "femec_avg.describe()"
   ]
  },
  {
   "cell_type": "code",
   "execution_count": 33,
   "metadata": {},
   "outputs": [
    {
     "data": {
      "text/plain": [
       "2     83\n",
       "9     78\n",
       "6     78\n",
       "8     77\n",
       "4     77\n",
       "1     77\n",
       "10    76\n",
       "7     76\n",
       "5     75\n",
       "3     73\n",
       "Name: q, dtype: int64"
      ]
     },
     "execution_count": 33,
     "metadata": {},
     "output_type": "execute_result"
    }
   ],
   "source": [
    "femec_top.q.value_counts()"
   ]
  },
  {
   "cell_type": "code",
   "execution_count": 34,
   "metadata": {},
   "outputs": [
    {
     "data": {
      "text/plain": [
       "6     402\n",
       "1     397\n",
       "2     384\n",
       "4     368\n",
       "5     356\n",
       "7     340\n",
       "3     310\n",
       "8     284\n",
       "9     167\n",
       "10     45\n",
       "Name: q, dtype: int64"
      ]
     },
     "execution_count": 34,
     "metadata": {},
     "output_type": "execute_result"
    }
   ],
   "source": [
    "malec_top.q.value_counts()"
   ]
  },
  {
   "cell_type": "code",
   "execution_count": 35,
   "metadata": {},
   "outputs": [
    {
     "data": {
      "text/plain": [
       "(116       1\n",
       " 327      10\n",
       " 515       1\n",
       " 602       5\n",
       " 626      10\n",
       "          ..\n",
       " 58298     9\n",
       " 58352     1\n",
       " 58354     6\n",
       " 58430    10\n",
       " 58484     9\n",
       " Name: cites, Length: 770, dtype: category\n",
       " Categories (10, int64): [1 < 2 < 3 < 4 ... 7 < 8 < 9 < 10],\n",
       " array([ 153. ,  168.9,  187. ,  208. ,  235. ,  268.5,  324. ,  396.6,\n",
       "         517.2,  867. , 7294. ]))"
      ]
     },
     "execution_count": 35,
     "metadata": {},
     "output_type": "execute_result"
    }
   ],
   "source": [
    "top_deciles"
   ]
  },
  {
   "cell_type": "markdown",
   "metadata": {},
   "source": [
    "### Malec Top\n",
    "\n",
    "Because the distribution of female researchers with  more than 874.5 is very heterogeneous, we'll drop this category."
   ]
  },
  {
   "cell_type": "code",
   "execution_count": 36,
   "metadata": {},
   "outputs": [],
   "source": [
    "femec_top = femec_top[femec_top.q != 10]\n",
    "malec_top = malec_top[malec_top.q != 10]"
   ]
  },
  {
   "cell_type": "code",
   "execution_count": 37,
   "metadata": {},
   "outputs": [],
   "source": [
    "vals = femec_top.q.value_counts()\n",
    "\n",
    "choices = []\n",
    "for i, v in vals.iteritems():\n",
    "    chunk = malec_top[malec_top.q==i]\n",
    "    if v <= chunk.shape[0]:\n",
    "        choices.extend(choice(chunk['Short-Id'], size=v, replace=False))\n",
    "    else:\n",
    "        choices.extend(list(chunk['Short-Id'].values))\n",
    "\n",
    "malec_top = malec_top[malec_top['Short-Id'].isin(choices)]"
   ]
  },
  {
   "cell_type": "code",
   "execution_count": 38,
   "metadata": {},
   "outputs": [
    {
     "data": {
      "text/plain": [
       "211526.0"
      ]
     },
     "execution_count": 38,
     "metadata": {},
     "output_type": "execute_result"
    }
   ],
   "source": [
    "malec_top.cites.sum()"
   ]
  },
  {
   "cell_type": "code",
   "execution_count": 39,
   "metadata": {},
   "outputs": [
    {
     "data": {
      "text/plain": [
       "214860.0"
      ]
     },
     "execution_count": 39,
     "metadata": {},
     "output_type": "execute_result"
    }
   ],
   "source": [
    "femec_top.cites.sum()"
   ]
  },
  {
   "cell_type": "code",
   "execution_count": 40,
   "metadata": {},
   "outputs": [],
   "source": [
    "femec_avg['group'] = 'A'\n",
    "malec_avg['group'] = 'A'\n",
    "femec_top['group'] = 'B'\n",
    "malec_top['group'] = 'B'"
   ]
  },
  {
   "cell_type": "code",
   "execution_count": 41,
   "metadata": {},
   "outputs": [],
   "source": [
    "people_2 = pd.concat([femec_avg,\n",
    "                      malec_avg,\n",
    "                      femec_top,\n",
    "                      malec_top])"
   ]
  },
  {
   "cell_type": "code",
   "execution_count": 42,
   "metadata": {},
   "outputs": [],
   "source": [
    "people_2.to_csv(\"../data/processed/network_people.csv\", index=False)"
   ]
  }
 ],
 "metadata": {
  "kernelspec": {
   "display_name": "Python 3",
   "language": "python",
   "name": "python3"
  },
  "language_info": {
   "codemirror_mode": {
    "name": "ipython",
    "version": 3
   },
   "file_extension": ".py",
   "mimetype": "text/x-python",
   "name": "python",
   "nbconvert_exporter": "python",
   "pygments_lexer": "ipython3",
   "version": "3.8.5"
  }
 },
 "nbformat": 4,
 "nbformat_minor": 4
}
