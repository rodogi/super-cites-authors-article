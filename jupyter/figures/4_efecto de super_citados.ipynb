{
 "cells": [
  {
   "cell_type": "markdown",
   "metadata": {},
   "source": [
    "# Idea de la figura\n",
    "\n",
    "Mostrar como la colaboración con una persona super-citada tiene un efecto en tu carrera a corto y largo plazo.\n",
    "\n",
    "El estudio es para el periodo 1990--2019 y se hará por género.\n",
    "\n",
    "La tabla principal debe tener, para cada autor y año, donde el año 0 es el año de colaboración con un super citado:\n",
    "\n",
    " - Número de citas recibidas\n",
    " - Número de artículos publicados\n",
    "\n",
    "Además, necesitamos el género del autor."
   ]
  },
  {
   "cell_type": "code",
   "execution_count": 1,
   "metadata": {},
   "outputs": [],
   "source": [
    "import pandas as pd\n",
    "import numpy as np\n",
    "import seaborn as sns\n",
    "import matplotlib.pyplot as plt"
   ]
  },
  {
   "cell_type": "code",
   "execution_count": 2,
   "metadata": {},
   "outputs": [],
   "source": [
    "import networkx as nx"
   ]
  },
  {
   "cell_type": "code",
   "execution_count": 3,
   "metadata": {},
   "outputs": [],
   "source": [
    "tex_fonts = {\n",
    "    # Use LaTeX to write all text\n",
    "    \"text.usetex\": True,\n",
    "    \"font.family\": \"serif\",\n",
    "    # Use 10pt font in plots, to match 10pt font in document\n",
    "    \"axes.labelsize\": 10,\n",
    "    \"font.size\": 10,\n",
    "    # Make the legend/label fonts a little smaller\n",
    "    \"legend.fontsize\": 8,\n",
    "    \"xtick.labelsize\": 8,\n",
    "    \"ytick.labelsize\": 8\n",
    "}\n",
    "\n",
    "plt.rcParams.update(tex_fonts)"
   ]
  },
  {
   "cell_type": "code",
   "execution_count": 4,
   "metadata": {},
   "outputs": [],
   "source": [
    "# Female, male\n",
    "colors = ['#5175bc', '#d23a47']"
   ]
  },
  {
   "cell_type": "code",
   "execution_count": 5,
   "metadata": {},
   "outputs": [],
   "source": [
    "def set_size(width, fraction=1):\n",
    "    \"\"\"Set figure dimensions to avoid scaling in LaTeX.\n",
    "\n",
    "    Parameters\n",
    "    ----------\n",
    "    width: float\n",
    "            Document textwidth or columnwidth in pts\n",
    "    fraction: float, optional\n",
    "            Fraction of the width which you wish the figure to occupy\n",
    "\n",
    "    Returns\n",
    "    -------\n",
    "    fig_dim: tuple\n",
    "            Dimensions of figure in inches\n",
    "    \"\"\"\n",
    "    # Width of figure (in pts)\n",
    "    fig_width_pt = width * fraction\n",
    "\n",
    "    # Convert from pt to inches\n",
    "    inches_per_pt = 1 / 72.27\n",
    "\n",
    "    # Golden ratio to set aesthetic figure height\n",
    "    # https://disq.us/p/2940ij3\n",
    "    golden_ratio = (5**.5 - 1) / 2\n",
    "\n",
    "    # Figure width in inches\n",
    "    fig_width_in = fig_width_pt * inches_per_pt\n",
    "    # Figure height in inches\n",
    "    fig_height_in = fig_width_in * golden_ratio\n",
    "\n",
    "    fig_dim = (fig_width_in, fig_height_in)\n",
    "\n",
    "    return fig_dim"
   ]
  },
  {
   "cell_type": "markdown",
   "metadata": {},
   "source": [
    "# Load tables"
   ]
  },
  {
   "cell_type": "code",
   "execution_count": 6,
   "metadata": {},
   "outputs": [],
   "source": [
    "cite = pd.read_csv('../../data/processed/cites_2.csv')"
   ]
  },
  {
   "cell_type": "code",
   "execution_count": 7,
   "metadata": {},
   "outputs": [],
   "source": [
    "colab = pd.read_csv('../../data/processed/co_author_2.csv')"
   ]
  },
  {
   "cell_type": "code",
   "execution_count": 8,
   "metadata": {},
   "outputs": [],
   "source": [
    "article = pd.read_csv('../../data/econometry/base_1_todos.csv')"
   ]
  },
  {
   "cell_type": "code",
   "execution_count": 9,
   "metadata": {},
   "outputs": [],
   "source": [
    "colab = colab[colab.year.between(1990, 2019)]"
   ]
  },
  {
   "cell_type": "markdown",
   "metadata": {},
   "source": [
    "## Super cited"
   ]
  },
  {
   "cell_type": "code",
   "execution_count": 10,
   "metadata": {},
   "outputs": [],
   "source": [
    "years = []\n",
    "super_cited = []\n",
    "for year in [2000, 2003] + list(range(2005, 2020)):\n",
    "    years.append(year)\n",
    "    if year == 2000:\n",
    "        chunk = cite[cite.s_year <= year]\n",
    "    elif year == 2003:\n",
    "        chunk = cite[(cite.s_year > 2000) & (cite.s_year <= 2003)]\n",
    "    elif year == 2005:\n",
    "        chunk = cite[(cite.s_year > 2003) & (cite.s_year <= 2005)]\n",
    "    else:\n",
    "        chunk = cite[cite.s_year == year]\n",
    "    G_year = nx.from_pandas_edgelist(chunk,\n",
    "                                     source=\"source\",\n",
    "                                     target=\"target\",\n",
    "                                     create_using=nx.DiGraph)\n",
    "    degree = pd.DataFrame(G_year.in_degree(), columns=[\"author\", \"degree\"])\n",
    "    mu = degree.degree.mean()\n",
    "    r = degree.degree.quantile(.75) - degree.degree.quantile(.25)\n",
    "    scited = degree[degree.degree >= mu + 1.5 * r].author.unique()\n",
    "    super_cited.append(set(scited))"
   ]
  },
  {
   "cell_type": "code",
   "execution_count": 11,
   "metadata": {},
   "outputs": [],
   "source": [
    "cauthors = set(cite.target.unique())\n",
    "aauthors = set(article['Short-Id'].unique())\n",
    "coauthors = set(colab.author1.unique()) | set(colab.author2.unique())"
   ]
  },
  {
   "cell_type": "code",
   "execution_count": 12,
   "metadata": {},
   "outputs": [],
   "source": [
    "three = cauthors & aauthors & coauthors"
   ]
  },
  {
   "cell_type": "code",
   "execution_count": 13,
   "metadata": {},
   "outputs": [],
   "source": [
    "data = []\n",
    "years = []\n",
    "neighbors = []\n",
    "for i, year in enumerate([2000, 2003] + list(range(2005, 2020))):\n",
    "    if year == 2000:\n",
    "        chunk = cite[cite.s_year <= year]\n",
    "    elif year == 2003:\n",
    "        chunk = cite[(cite.s_year > 2000) & (cite.s_year <= 2003)]\n",
    "    elif year == 2005:\n",
    "        chunk = cite[(cite.s_year > 2003) & (cite.s_year <= 2005)]\n",
    "    else:\n",
    "        chunk = cite[cite.s_year == year]\n",
    "    G_year = nx.from_pandas_edgelist(chunk,\n",
    "                                     source=\"source\",\n",
    "                                     target=\"target\",\n",
    "                                     create_using=nx.DiGraph)\n",
    "    n = []\n",
    "    for sc in super_cited[i]:\n",
    "        if sc in G_year:\n",
    "            n.extend(list(G_year[sc]))\n",
    "    n = set(n)\n",
    "    if i == 0:\n",
    "        n = n - super_cited[i]\n",
    "    else:\n",
    "        for j in range(0, i+1):\n",
    "            n = n - super_cited[j]\n",
    "    neighbors.append(n)\n",
    "    years.append(year)"
   ]
  },
  {
   "cell_type": "code",
   "execution_count": 14,
   "metadata": {},
   "outputs": [],
   "source": [
    "first = dict()\n",
    "for i, batch in enumerate(neighbors):\n",
    "    for n in batch:\n",
    "        if n not in first:\n",
    "            first[n] = years[i]"
   ]
  },
  {
   "cell_type": "code",
   "execution_count": 15,
   "metadata": {},
   "outputs": [],
   "source": [
    "df = pd.DataFrame(first.items(), columns=['author', 'year_colab'])"
   ]
  },
  {
   "cell_type": "code",
   "execution_count": 16,
   "metadata": {},
   "outputs": [],
   "source": [
    "app = article.groupby('Short-Id').year.first().rename('first_article').reset_index().rename(columns={'Short-Id': 'author'})"
   ]
  },
  {
   "cell_type": "code",
   "execution_count": 17,
   "metadata": {},
   "outputs": [],
   "source": [
    "df = pd.merge(df, app, how='left')"
   ]
  },
  {
   "cell_type": "code",
   "execution_count": 18,
   "metadata": {},
   "outputs": [],
   "source": [
    "df = df[df.year_colab >= df.first_article]"
   ]
  },
  {
   "cell_type": "markdown",
   "metadata": {},
   "source": [
    "## Add cites per year\n",
    "\n",
    "Podemos saltarnos esta parte."
   ]
  },
  {
   "cell_type": "code",
   "execution_count": 19,
   "metadata": {},
   "outputs": [
    {
     "name": "stdout",
     "output_type": "stream",
     "text": [
      "0\n",
      "1000\n",
      "2000\n",
      "3000\n",
      "4000\n",
      "5000\n",
      "6000\n",
      "7000\n",
      "8000\n",
      "9000\n",
      "10000\n",
      "11000\n",
      "12000\n",
      "13000\n",
      "14000\n",
      "15000\n",
      "16000\n",
      "17000\n",
      "18000\n",
      "19000\n",
      "20000\n",
      "21000\n"
     ]
    }
   ],
   "source": [
    "data = []\n",
    "for i, author in enumerate(first):\n",
    "    chunk = cite[cite.target==author]\n",
    "    line = [author]\n",
    "    y = first[author]\n",
    "    array = np.empty(21,)\n",
    "    array[:] = np.nan\n",
    "    for j, year in enumerate(range(y - 10, y + 11)):\n",
    "        c = chunk[(chunk.s_year == year)].shape[0]\n",
    "        if c != 0:\n",
    "            array[j] = c\n",
    "    line.extend(list(array))\n",
    "    data.append(line)\n",
    "    if i % 1000 == 0:\n",
    "        print(i)"
   ]
  },
  {
   "cell_type": "code",
   "execution_count": 21,
   "metadata": {},
   "outputs": [],
   "source": [
    "df_2 = pd.DataFrame(data, columns=['author'] + [f't{x}' for x in range(-10, 11)])"
   ]
  },
  {
   "cell_type": "code",
   "execution_count": 22,
   "metadata": {},
   "outputs": [],
   "source": [
    "df_2.to_csv('../../data/evolution_cites.csv', index=False)"
   ]
  },
  {
   "cell_type": "code",
   "execution_count": 23,
   "metadata": {},
   "outputs": [],
   "source": [
    "df_melt = pd.melt(df_2, id_vars='author')"
   ]
  },
  {
   "cell_type": "code",
   "execution_count": 24,
   "metadata": {},
   "outputs": [
    {
     "data": {
      "image/png": "[encoded data removed]",
      "text/plain": [
       "<Figure size 343.711x212.425 with 1 Axes>"
      ]
     },
     "metadata": {
      "needs_background": "light"
     },
     "output_type": "display_data"
    }
   ],
   "source": [
    "width = 345\n",
    "fig, ax = plt.subplots(1, 1, figsize=set_size(width, fraction=1))\n",
    "\n",
    "g = sns.boxplot(x='variable', y='value', data=df_melt, fliersize=0, color='gray', ax=ax)\n",
    "g.set_ylim(-5, 35)\n",
    "g.set_ylabel('Cites')\n",
    "g.set_xlabel('Year from first colaboration with SCG');\n",
    "fig.savefig('../../figures/evol_colab_scg.pdf')"
   ]
  },
  {
   "cell_type": "code",
   "execution_count": 25,
   "metadata": {},
   "outputs": [
    {
     "name": "stdout",
     "output_type": "stream",
     "text": [
      "0\n",
      "1000\n",
      "2000\n",
      "3000\n",
      "4000\n",
      "5000\n",
      "6000\n",
      "7000\n",
      "8000\n",
      "9000\n",
      "10000\n",
      "11000\n",
      "12000\n",
      "13000\n",
      "14000\n",
      "15000\n",
      "16000\n",
      "17000\n",
      "18000\n",
      "19000\n",
      "20000\n",
      "21000\n"
     ]
    }
   ],
   "source": [
    "data_2 = []\n",
    "for i, author in enumerate(first):\n",
    "    chunk = article[article['Short-Id']==author]\n",
    "    line = [author]\n",
    "    y = first[author]\n",
    "    array = np.empty(21,)\n",
    "    array[:] = np.nan\n",
    "    for j, year in enumerate(range(y - 10, y + 11)):\n",
    "        c = chunk[(chunk.year == year)].shape[0]\n",
    "        if c != 0:\n",
    "            array[j] = c\n",
    "    line.extend(list(array))\n",
    "    data_2.append(line)\n",
    "    if i % 1000 == 0:\n",
    "        print(i)"
   ]
  },
  {
   "cell_type": "code",
   "execution_count": 26,
   "metadata": {},
   "outputs": [],
   "source": [
    "df_3 = pd.DataFrame(data_2, columns=['author'] + [f't{x}' for x in range(-10, 11)])"
   ]
  },
  {
   "cell_type": "code",
   "execution_count": 27,
   "metadata": {},
   "outputs": [],
   "source": [
    "df_3.to_csv('../../data/evolution_articles.csv', index=False)"
   ]
  },
  {
   "cell_type": "code",
   "execution_count": 28,
   "metadata": {},
   "outputs": [],
   "source": [
    "df_melt = pd.melt(df_3, id_vars='author')"
   ]
  },
  {
   "cell_type": "code",
   "execution_count": 29,
   "metadata": {},
   "outputs": [
    {
     "data": {
      "image/png": "[encoded data removed]",
      "text/plain": [
       "<Figure size 343.711x212.425 with 1 Axes>"
      ]
     },
     "metadata": {
      "needs_background": "light"
     },
     "output_type": "display_data"
    }
   ],
   "source": [
    "width = 345\n",
    "fig, ax = plt.subplots(1, 1, figsize=set_size(width, fraction=1))\n",
    "\n",
    "g = sns.boxplot(x='variable', y='value', data=df_melt, fliersize=0, color='gray', ax=ax)\n",
    "g.set_ylim(-5, 10)\n",
    "g.set_ylabel('Articles')\n",
    "g.set_xlabel('Year from first colaboration with SCG');\n",
    "fig.savefig('../../figures/evol_colab_scg_articles.pdf')"
   ]
  }
 ],
 "metadata": {
  "kernelspec": {
   "display_name": "Python 3",
   "language": "python",
   "name": "python3"
  },
  "language_info": {
   "codemirror_mode": {
    "name": "ipython",
    "version": 3
   },
   "file_extension": ".py",
   "mimetype": "text/x-python",
   "name": "python",
   "nbconvert_exporter": "python",
   "pygments_lexer": "ipython3",
   "version": "3.8.5"
  }
 },
 "nbformat": 4,
 "nbformat_minor": 4
}
