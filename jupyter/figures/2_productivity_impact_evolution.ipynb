{
 "cells": [
  {
   "cell_type": "markdown",
   "metadata": {},
   "source": [
    "# Figure 2\n",
    "\n",
    "- Productivity and impact difference between male and female researchers\n",
    "- Evolution of the super-cited club"
   ]
  },
  {
   "cell_type": "code",
   "execution_count": 1,
   "metadata": {},
   "outputs": [
    {
     "data": {
      "text/plain": [
       "0.7310924369747899"
      ]
     },
     "execution_count": 1,
     "metadata": {},
     "output_type": "execute_result"
    }
   ],
   "source": [
    "2.61 / 3.57"
   ]
  },
  {
   "cell_type": "code",
   "execution_count": 2,
   "metadata": {},
   "outputs": [],
   "source": [
    "import pandas as pd\n",
    "import seaborn as sns\n",
    "import matplotlib.pyplot as plt\n",
    "import numpy as np\n",
    "import graph_tool as gt"
   ]
  },
  {
   "cell_type": "code",
   "execution_count": 3,
   "metadata": {},
   "outputs": [],
   "source": [
    "import networkx as nx"
   ]
  },
  {
   "cell_type": "code",
   "execution_count": 4,
   "metadata": {},
   "outputs": [],
   "source": [
    "# Female, male\n",
    "colors = ['#5175bc', '#d23a47']"
   ]
  },
  {
   "cell_type": "code",
   "execution_count": 5,
   "metadata": {},
   "outputs": [],
   "source": [
    "tex_fonts = {\n",
    "    # Use LaTeX to write all text\n",
    "    \"text.usetex\": True,\n",
    "    \"font.family\": \"serif\",\n",
    "    # Use 10pt font in plots, to match 10pt font in document\n",
    "    \"axes.labelsize\": 10,\n",
    "    \"font.size\": 10,\n",
    "    # Make the legend/label fonts a little smaller\n",
    "    \"legend.fontsize\": 8,\n",
    "    \"xtick.labelsize\": 8,\n",
    "    \"ytick.labelsize\": 8\n",
    "}\n",
    "\n",
    "plt.rcParams.update(tex_fonts)"
   ]
  },
  {
   "cell_type": "code",
   "execution_count": 6,
   "metadata": {},
   "outputs": [],
   "source": [
    "def set_size(width, fraction=1):\n",
    "    \"\"\"Set figure dimensions to avoid scaling in LaTeX.\n",
    "\n",
    "    Parameters\n",
    "    ----------\n",
    "    width: float\n",
    "            Document textwidth or columnwidth in pts\n",
    "    fraction: float, optional\n",
    "            Fraction of the width which you wish the figure to occupy\n",
    "\n",
    "    Returns\n",
    "    -------\n",
    "    fig_dim: tuple\n",
    "            Dimensions of figure in inches\n",
    "    \"\"\"\n",
    "    # Width of figure (in pts)\n",
    "    fig_width_pt = width * fraction\n",
    "\n",
    "    # Convert from pt to inches\n",
    "    inches_per_pt = 1 / 72.27\n",
    "\n",
    "    # Golden ratio to set aesthetic figure height\n",
    "    # https://disq.us/p/2940ij3\n",
    "    golden_ratio = (5**.5 - 1) / 2\n",
    "\n",
    "    # Figure width in inches\n",
    "    fig_width_in = fig_width_pt * inches_per_pt\n",
    "    # Figure height in inches\n",
    "    fig_height_in = fig_width_in * golden_ratio\n",
    "\n",
    "    fig_dim = (fig_width_in, fig_height_in)\n",
    "\n",
    "    return fig_dim"
   ]
  },
  {
   "cell_type": "markdown",
   "metadata": {},
   "source": [
    "## Tables"
   ]
  },
  {
   "cell_type": "code",
   "execution_count": 7,
   "metadata": {},
   "outputs": [],
   "source": [
    "articles = pd.read_csv(\"../../data/econometry/base_1_todos.csv\")"
   ]
  },
  {
   "cell_type": "code",
   "execution_count": 8,
   "metadata": {},
   "outputs": [],
   "source": [
    "articles = articles[(articles.year >= 1990) & (articles.year < 2020)]"
   ]
  },
  {
   "cell_type": "code",
   "execution_count": 9,
   "metadata": {},
   "outputs": [
    {
     "data": {
      "text/plain": [
       "445849"
      ]
     },
     "execution_count": 9,
     "metadata": {},
     "output_type": "execute_result"
    }
   ],
   "source": [
    "articles['Item-Id'].nunique()"
   ]
  },
  {
   "cell_type": "code",
   "execution_count": 10,
   "metadata": {},
   "outputs": [],
   "source": [
    "cite = pd.read_csv(\"../../data/processed/cites_2.csv\")"
   ]
  },
  {
   "cell_type": "code",
   "execution_count": 11,
   "metadata": {},
   "outputs": [
    {
     "data": {
      "text/plain": [
       "185948"
      ]
     },
     "execution_count": 11,
     "metadata": {},
     "output_type": "execute_result"
    }
   ],
   "source": [
    "cite['paper'].nunique()"
   ]
  },
  {
   "cell_type": "code",
   "execution_count": 12,
   "metadata": {},
   "outputs": [],
   "source": [
    "all_people = pd.read_csv('../../data/processed/people.csv')"
   ]
  },
  {
   "cell_type": "markdown",
   "metadata": {},
   "source": [
    "# Productivity\n",
    "\n",
    "- Mean number of papers per year"
   ]
  },
  {
   "cell_type": "code",
   "execution_count": 13,
   "metadata": {},
   "outputs": [],
   "source": [
    "super_cited = cite[cite.super_cited_t==True]['target'].unique()"
   ]
  },
  {
   "cell_type": "code",
   "execution_count": 14,
   "metadata": {},
   "outputs": [],
   "source": [
    "prod = articles.groupby(['Author-Handle', 'gender', 'year']).size().rename('N').reset_index()\n",
    "\n",
    "prod = prod.groupby(['year', 'gender']).mean().reset_index()"
   ]
  },
  {
   "cell_type": "code",
   "execution_count": 15,
   "metadata": {},
   "outputs": [],
   "source": [
    "prod_sc = articles[~articles['Short-Id'].isin(super_cited)].groupby(['Author-Handle', 'gender', 'year']).size().rename('N').reset_index()\n",
    "\n",
    "prod_sc = prod_sc.groupby(['year', 'gender']).mean().reset_index()"
   ]
  },
  {
   "cell_type": "code",
   "execution_count": 16,
   "metadata": {},
   "outputs": [
    {
     "data": {
      "image/png": "[encoded data removed]",
      "text/plain": [
       "<Figure size 343.711x212.425 with 2 Axes>"
      ]
     },
     "metadata": {
      "needs_background": "light"
     },
     "output_type": "display_data"
    }
   ],
   "source": [
    "width = 345\n",
    "fig, axs = plt.subplots(1, 2, figsize=set_size(width, fraction=1), sharey=True)\n",
    "\n",
    "with sns.color_palette(colors):\n",
    "    sns.lineplot(x='year', hue='gender', y='N', data=prod, hue_order=['female', 'male'], marker=\"o\", ax=axs[0],\n",
    "                legend=False)\n",
    "    g = sns.lineplot(x='year', hue='gender', y='N', data=prod_sc, hue_order=['female', 'male'], marker=\"o\", ax=axs[1],\n",
    "                legend=True)\n",
    "axs[1].set_ylabel('')\n",
    "axs[0].set_xlabel('Year')\n",
    "axs[0].set_title('With SCG')\n",
    "axs[1].set_xlabel('Year')\n",
    "axs[1].set_title('Without SCG')\n",
    "\n",
    "g.legend(frameon=False)\n",
    "\n",
    "axs[0].set_ylabel('Productivity');\n",
    "fig.savefig('../../figures/productivity.pdf')"
   ]
  },
  {
   "cell_type": "code",
   "execution_count": 17,
   "metadata": {},
   "outputs": [],
   "source": [
    "ticks = axs[0].get_xticks()"
   ]
  },
  {
   "cell_type": "code",
   "execution_count": 18,
   "metadata": {},
   "outputs": [],
   "source": [
    "lims = axs[0].get_xlim()"
   ]
  },
  {
   "cell_type": "code",
   "execution_count": 19,
   "metadata": {},
   "outputs": [],
   "source": [
    "prod_sc = prod_sc.rename(columns={'N': 'N_sc'})"
   ]
  },
  {
   "cell_type": "code",
   "execution_count": 20,
   "metadata": {},
   "outputs": [],
   "source": [
    "pro = pd.merge(prod, prod_sc)"
   ]
  },
  {
   "cell_type": "code",
   "execution_count": 21,
   "metadata": {},
   "outputs": [
    {
     "data": {
      "text/html": [
       "<div>\n",
       "<style scoped>\n",
       "    .dataframe tbody tr th:only-of-type {\n",
       "        vertical-align: middle;\n",
       "    }\n",
       "\n",
       "    .dataframe tbody tr th {\n",
       "        vertical-align: top;\n",
       "    }\n",
       "\n",
       "    .dataframe thead th {\n",
       "        text-align: right;\n",
       "    }\n",
       "</style>\n",
       "<table border=\"1\" class=\"dataframe\">\n",
       "  <thead>\n",
       "    <tr style=\"text-align: right;\">\n",
       "      <th></th>\n",
       "      <th>year</th>\n",
       "      <th>N</th>\n",
       "      <th>N_sc</th>\n",
       "    </tr>\n",
       "    <tr>\n",
       "      <th>gender</th>\n",
       "      <th></th>\n",
       "      <th></th>\n",
       "      <th></th>\n",
       "    </tr>\n",
       "  </thead>\n",
       "  <tbody>\n",
       "    <tr>\n",
       "      <th>female</th>\n",
       "      <td>2004.5</td>\n",
       "      <td>1.618073</td>\n",
       "      <td>1.530497</td>\n",
       "    </tr>\n",
       "    <tr>\n",
       "      <th>male</th>\n",
       "      <td>2004.5</td>\n",
       "      <td>1.906954</td>\n",
       "      <td>1.665456</td>\n",
       "    </tr>\n",
       "  </tbody>\n",
       "</table>\n",
       "</div>"
      ],
      "text/plain": [
       "          year         N      N_sc\n",
       "gender                            \n",
       "female  2004.5  1.618073  1.530497\n",
       "male    2004.5  1.906954  1.665456"
      ]
     },
     "execution_count": 21,
     "metadata": {},
     "output_type": "execute_result"
    }
   ],
   "source": [
    "pro.groupby('gender').mean()"
   ]
  },
  {
   "cell_type": "markdown",
   "metadata": {},
   "source": [
    "## Impact\n",
    "\n",
    "- Mean number of cites of papers two years prior"
   ]
  },
  {
   "cell_type": "code",
   "execution_count": 22,
   "metadata": {},
   "outputs": [],
   "source": [
    "dfs = []\n",
    "for year in sorted(cite['t_year'].unique())[:-2]:\n",
    "    chunk = cite[(cite.t_year==year) & (cite.s_year==year + 2)]\n",
    "    chunk = chunk.groupby(['target', 'gender', 's_year']).size().rename('impact').reset_index()\n",
    "    chunk = chunk.groupby(['gender', 's_year']).impact.mean().reset_index()\n",
    "    dfs.append(chunk)\n",
    "impact = pd.concat(dfs)"
   ]
  },
  {
   "cell_type": "code",
   "execution_count": 23,
   "metadata": {},
   "outputs": [],
   "source": [
    "dfs = []\n",
    "for year in sorted(cite['t_year'].unique())[:-2]:\n",
    "    chunk = cite[(cite.super_cited_t==False) & (cite.t_year==year) & (cite.s_year==year + 2)]\n",
    "    chunk = chunk.groupby(['target', 'gender', 's_year']).size().rename('impact').reset_index()\n",
    "    chunk = chunk.groupby(['gender', 's_year']).impact.mean().reset_index()\n",
    "    dfs.append(chunk)\n",
    "impact_sc = pd.concat(dfs)"
   ]
  },
  {
   "cell_type": "code",
   "execution_count": 24,
   "metadata": {},
   "outputs": [
    {
     "data": {
      "text/plain": [
       "array([1990., 2000., 2010., 2020.])"
      ]
     },
     "execution_count": 24,
     "metadata": {},
     "output_type": "execute_result"
    }
   ],
   "source": [
    "ticks[1:-1]"
   ]
  },
  {
   "cell_type": "code",
   "execution_count": 25,
   "metadata": {},
   "outputs": [
    {
     "data": {
      "image/png": "[encoded data removed]",
      "text/plain": [
       "<Figure size 343.711x212.425 with 2 Axes>"
      ]
     },
     "metadata": {
      "needs_background": "light"
     },
     "output_type": "display_data"
    }
   ],
   "source": [
    "width = 345\n",
    "fig, axs = plt.subplots(1, 2, figsize=set_size(width, fraction=1), sharey=True)\n",
    "\n",
    "with sns.color_palette(colors):\n",
    "    sns.lineplot(x='s_year', hue='gender', y='impact', data=impact, hue_order=['female', 'male'],\n",
    "                 marker=\"o\", ax=axs[0], legend=False)\n",
    "    g = sns.lineplot(x='s_year', hue='gender', y='impact', data=impact_sc, hue_order=['female', 'male'],\n",
    "                 marker=\"o\", ax=axs[1], legend=True)\n",
    "axs[1].set_ylabel('')\n",
    "axs[0].set_xlabel('Year')\n",
    "axs[0].set_title('With SCG')\n",
    "axs[0].set_xlim(lims)\n",
    "axs[0].set_xticks(ticks[1:-1])\n",
    "axs[1].set_xlim(lims)\n",
    "\n",
    "axs[1].set_xlabel('Year')\n",
    "axs[1].set_title('Without SCG')\n",
    "axs[0].set_ylabel('Impact');\n",
    "\n",
    "g.legend(frameon=False)\n",
    "\n",
    "\n",
    "fig.savefig('../../figures/impact.pdf')"
   ]
  },
  {
   "cell_type": "code",
   "execution_count": 26,
   "metadata": {},
   "outputs": [],
   "source": [
    "impact_sc = impact_sc.rename(columns={'impact': 'impact_sc'})"
   ]
  },
  {
   "cell_type": "code",
   "execution_count": 27,
   "metadata": {},
   "outputs": [],
   "source": [
    "imp = pd.merge(impact, impact_sc)"
   ]
  },
  {
   "cell_type": "code",
   "execution_count": 28,
   "metadata": {},
   "outputs": [
    {
     "data": {
      "text/html": [
       "<div>\n",
       "<style scoped>\n",
       "    .dataframe tbody tr th:only-of-type {\n",
       "        vertical-align: middle;\n",
       "    }\n",
       "\n",
       "    .dataframe tbody tr th {\n",
       "        vertical-align: top;\n",
       "    }\n",
       "\n",
       "    .dataframe thead th {\n",
       "        text-align: right;\n",
       "    }\n",
       "</style>\n",
       "<table border=\"1\" class=\"dataframe\">\n",
       "  <thead>\n",
       "    <tr style=\"text-align: right;\">\n",
       "      <th></th>\n",
       "      <th>s_year</th>\n",
       "      <th>impact</th>\n",
       "      <th>impact_sc</th>\n",
       "    </tr>\n",
       "    <tr>\n",
       "      <th>gender</th>\n",
       "      <th></th>\n",
       "      <th></th>\n",
       "      <th></th>\n",
       "    </tr>\n",
       "  </thead>\n",
       "  <tbody>\n",
       "    <tr>\n",
       "      <th>female</th>\n",
       "      <td>2005.5</td>\n",
       "      <td>2.666656</td>\n",
       "      <td>2.072243</td>\n",
       "    </tr>\n",
       "    <tr>\n",
       "      <th>male</th>\n",
       "      <td>2005.5</td>\n",
       "      <td>3.073076</td>\n",
       "      <td>2.119997</td>\n",
       "    </tr>\n",
       "  </tbody>\n",
       "</table>\n",
       "</div>"
      ],
      "text/plain": [
       "        s_year    impact  impact_sc\n",
       "gender                             \n",
       "female  2005.5  2.666656   2.072243\n",
       "male    2005.5  3.073076   2.119997"
      ]
     },
     "execution_count": 28,
     "metadata": {},
     "output_type": "execute_result"
    }
   ],
   "source": [
    "imp.groupby('gender').mean()"
   ]
  },
  {
   "cell_type": "code",
   "execution_count": 29,
   "metadata": {},
   "outputs": [
    {
     "data": {
      "text/plain": [
       "16.466355846774192"
      ]
     },
     "execution_count": 29,
     "metadata": {},
     "output_type": "execute_result"
    }
   ],
   "source": [
    "cite[cite.group_t=='A'].groupby('target').size().mean()"
   ]
  },
  {
   "cell_type": "code",
   "execution_count": 30,
   "metadata": {},
   "outputs": [
    {
     "data": {
      "text/plain": [
       "256.98919308357347"
      ]
     },
     "execution_count": 30,
     "metadata": {},
     "output_type": "execute_result"
    }
   ],
   "source": [
    "cite[cite.group_t=='B'].groupby('target').size().mean()"
   ]
  },
  {
   "cell_type": "markdown",
   "metadata": {},
   "source": [
    "# Evolution of the gender distribution of the super cited group"
   ]
  },
  {
   "cell_type": "code",
   "execution_count": 31,
   "metadata": {},
   "outputs": [],
   "source": [
    "scs = []\n",
    "years = []\n",
    "super_cited = []\n",
    "for year in cite.t_year.unique():\n",
    "    chunk = cite[cite.t_year==year]\n",
    "    G_year = nx.from_pandas_edgelist(chunk,\n",
    "                                     source=\"source\",\n",
    "                                     target=\"target\",\n",
    "                                     create_using=nx.DiGraph)\n",
    "    degree = pd.DataFrame(G_year.in_degree(), columns=[\"author\", \"degree\"])\n",
    "    mu = degree.degree.mean()\n",
    "    r = degree.degree.quantile(.75) - degree.degree.quantile(.25)\n",
    "    scited = degree[degree.degree >= mu + 1.5 * r].author.unique()\n",
    "    super_cited.append(scited)\n",
    "    prop_f = all_people[all_people['Short-Id'].isin(scited)].gender.value_counts(normalize=True).loc['female']\n",
    "    scs.append(prop_f)\n",
    "    years.append(year)\n",
    "df = pd.DataFrame({\"Female proportion\": scs, \"Year\": years})"
   ]
  },
  {
   "cell_type": "code",
   "execution_count": 32,
   "metadata": {},
   "outputs": [
    {
     "data": {
      "image/png": "[encoded data removed]",
      "text/plain": [
       "<Figure size 343.711x212.425 with 1 Axes>"
      ]
     },
     "metadata": {
      "needs_background": "light"
     },
     "output_type": "display_data"
    }
   ],
   "source": [
    "width = 345\n",
    "fig, ax = plt.subplots(1, 1, figsize=set_size(width, fraction=1), sharey=True)\n",
    "\n",
    "g = sns.lineplot(x='Year', y=\"Female proportion\", data=df, marker=\"o\")\n",
    "g.set_ylabel(\"Female proportion in SCG\");\n",
    "fig.savefig(\"../../figures/female_proportion_scg.pdf\")"
   ]
  }
 ],
 "metadata": {
  "kernelspec": {
   "display_name": "Python 3",
   "language": "python",
   "name": "python3"
  },
  "language_info": {
   "codemirror_mode": {
    "name": "ipython",
    "version": 3
   },
   "file_extension": ".py",
   "mimetype": "text/x-python",
   "name": "python",
   "nbconvert_exporter": "python",
   "pygments_lexer": "ipython3",
   "version": "3.8.5"
  }
 },
 "nbformat": 4,
 "nbformat_minor": 4
}
