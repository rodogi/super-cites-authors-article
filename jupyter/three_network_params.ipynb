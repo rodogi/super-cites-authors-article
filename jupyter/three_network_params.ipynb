{
 "cells": [
  {
   "cell_type": "code",
   "execution_count": 1,
   "metadata": {},
   "outputs": [],
   "source": [
    "import pandas as pd\n",
    "import numpy as np\n",
    "import networkx as nx"
   ]
  },
  {
   "cell_type": "code",
   "execution_count": 2,
   "metadata": {},
   "outputs": [],
   "source": [
    "cotor = pd.read_csv('../data/processed/co_author_2.csv')"
   ]
  },
  {
   "cell_type": "code",
   "execution_count": 8,
   "metadata": {},
   "outputs": [],
   "source": [
    "article = pd.read_csv('../data/econometry/base_1_todos.csv')"
   ]
  },
  {
   "cell_type": "code",
   "execution_count": 26,
   "metadata": {},
   "outputs": [],
   "source": [
    "cite = pd.read_csv('../data/processed/cites.csv')"
   ]
  },
  {
   "cell_type": "code",
   "execution_count": 12,
   "metadata": {},
   "outputs": [],
   "source": [
    "first = article.groupby('Short-Id').year.first().reset_index()"
   ]
  },
  {
   "cell_type": "code",
   "execution_count": 15,
   "metadata": {},
   "outputs": [],
   "source": [
    "first = first.dropna()"
   ]
  },
  {
   "cell_type": "code",
   "execution_count": 21,
   "metadata": {},
   "outputs": [],
   "source": [
    "graphs = {}\n",
    "for y in sorted(cotor.year.unique()):\n",
    "    chunk = cotor[cotor.year==y].groupby(['author1', 'author2']).size().rename('weight').reset_index()\n",
    "    graphs[y] = nx.from_pandas_edgelist(chunk, source='author1', target='author2', edge_attr='weight')"
   ]
  },
  {
   "cell_type": "code",
   "execution_count": 31,
   "metadata": {},
   "outputs": [],
   "source": [
    "super_cited = {}\n",
    "for y in sorted(cotor.year.unique()):\n",
    "    chunk = cite[cite.s_year==y]\n",
    "    chunk = chunk.groupby('source').size().rename('cites').reset_index()\n",
    "    sc = chunk[chunk.cites >= chunk.cites.mean() + 1.5 * (\n",
    "        chunk.cites.quantile(.75) - chunk.cites.quantile(.25))].source.unique()\n",
    "    super_cited[y] = sc"
   ]
  },
  {
   "cell_type": "code",
   "execution_count": 38,
   "metadata": {},
   "outputs": [],
   "source": [
    "if set([]):\n",
    "    print(8)"
   ]
  },
  {
   "cell_type": "code",
   "execution_count": 82,
   "metadata": {},
   "outputs": [],
   "source": [
    "first = first[first.year.isin(cotor.year.unique())]"
   ]
  },
  {
   "cell_type": "code",
   "execution_count": 78,
   "metadata": {},
   "outputs": [],
   "source": [
    "data = []\n",
    "for row in first.iterrows():\n",
    "    author = row[1]['Short-Id']\n",
    "    y = int(row[1]['year'])\n",
    "    colabs = []\n",
    "    inters = []\n",
    "    flag = np.nan\n",
    "    for year in range(y, min(y+3, 2019)):\n",
    "        if year in graphs:\n",
    "            if author in graphs[year]:\n",
    "                if flag != 1:\n",
    "                    flag = 0\n",
    "                colabs.append(graphs[year].degree(author))\n",
    "                inters.append(graphs[year].degree(author, weight='weight'))\n",
    "                if set(super_cited[year]) & set(list(graphs[year].neighbors(author))):\n",
    "                    flag = 1\n",
    "    data.append([author, y, np.mean(colabs), np.mean(inters), flag])"
   ]
  },
  {
   "cell_type": "code",
   "execution_count": 79,
   "metadata": {},
   "outputs": [],
   "source": [
    "three = pd.DataFrame(data, columns=['Short-Id', 'year', 'colaborators', 'interactions', 'super_cited_colab'])"
   ]
  },
  {
   "cell_type": "code",
   "execution_count": 86,
   "metadata": {},
   "outputs": [],
   "source": [
    "three = three.dropna()"
   ]
  },
  {
   "cell_type": "code",
   "execution_count": 88,
   "metadata": {},
   "outputs": [],
   "source": [
    "three.to_csv('../data/econometry/three_variables.csv', index=False)"
   ]
  },
  {
   "cell_type": "code",
   "execution_count": 89,
   "metadata": {},
   "outputs": [
    {
     "data": {
      "text/html": [
       "<div>\n",
       "<style scoped>\n",
       "    .dataframe tbody tr th:only-of-type {\n",
       "        vertical-align: middle;\n",
       "    }\n",
       "\n",
       "    .dataframe tbody tr th {\n",
       "        vertical-align: top;\n",
       "    }\n",
       "\n",
       "    .dataframe thead th {\n",
       "        text-align: right;\n",
       "    }\n",
       "</style>\n",
       "<table border=\"1\" class=\"dataframe\">\n",
       "  <thead>\n",
       "    <tr style=\"text-align: right;\">\n",
       "      <th></th>\n",
       "      <th>Short-Id</th>\n",
       "      <th>year</th>\n",
       "      <th>colaborators</th>\n",
       "      <th>interactions</th>\n",
       "      <th>super_cited_colab</th>\n",
       "    </tr>\n",
       "  </thead>\n",
       "  <tbody>\n",
       "    <tr>\n",
       "      <th>2</th>\n",
       "      <td>paa11</td>\n",
       "      <td>2003</td>\n",
       "      <td>2.0</td>\n",
       "      <td>2.0</td>\n",
       "      <td>0.0</td>\n",
       "    </tr>\n",
       "    <tr>\n",
       "      <th>4</th>\n",
       "      <td>paa13</td>\n",
       "      <td>2004</td>\n",
       "      <td>3.0</td>\n",
       "      <td>4.0</td>\n",
       "      <td>1.0</td>\n",
       "    </tr>\n",
       "    <tr>\n",
       "      <th>5</th>\n",
       "      <td>paa2</td>\n",
       "      <td>2004</td>\n",
       "      <td>1.0</td>\n",
       "      <td>1.5</td>\n",
       "      <td>0.0</td>\n",
       "    </tr>\n",
       "    <tr>\n",
       "      <th>7</th>\n",
       "      <td>paa22</td>\n",
       "      <td>2012</td>\n",
       "      <td>1.0</td>\n",
       "      <td>1.0</td>\n",
       "      <td>0.0</td>\n",
       "    </tr>\n",
       "    <tr>\n",
       "      <th>9</th>\n",
       "      <td>paa25</td>\n",
       "      <td>2015</td>\n",
       "      <td>1.0</td>\n",
       "      <td>1.0</td>\n",
       "      <td>0.0</td>\n",
       "    </tr>\n",
       "  </tbody>\n",
       "</table>\n",
       "</div>"
      ],
      "text/plain": [
       "  Short-Id  year  colaborators  interactions  super_cited_colab\n",
       "2    paa11  2003           2.0           2.0                0.0\n",
       "4    paa13  2004           3.0           4.0                1.0\n",
       "5     paa2  2004           1.0           1.5                0.0\n",
       "7    paa22  2012           1.0           1.0                0.0\n",
       "9    paa25  2015           1.0           1.0                0.0"
      ]
     },
     "execution_count": 89,
     "metadata": {},
     "output_type": "execute_result"
    }
   ],
   "source": [
    "three.head()"
   ]
  },
  {
   "cell_type": "code",
   "execution_count": 87,
   "metadata": {},
   "outputs": [
    {
     "name": "stdout",
     "output_type": "stream",
     "text": [
      "<class 'pandas.core.frame.DataFrame'>\n",
      "Int64Index: 30989 entries, 2 to 50666\n",
      "Data columns (total 5 columns):\n",
      " #   Column             Non-Null Count  Dtype  \n",
      "---  ------             --------------  -----  \n",
      " 0   Short-Id           30989 non-null  object \n",
      " 1   year               30989 non-null  int64  \n",
      " 2   colaborators       30989 non-null  float64\n",
      " 3   interactions       30989 non-null  float64\n",
      " 4   super_cited_colab  30989 non-null  float64\n",
      "dtypes: float64(3), int64(1), object(1)\n",
      "memory usage: 1.4+ MB\n"
     ]
    }
   ],
   "source": [
    "three.info()"
   ]
  }
 ],
 "metadata": {
  "kernelspec": {
   "display_name": "Python 3",
   "language": "python",
   "name": "python3"
  },
  "language_info": {
   "codemirror_mode": {
    "name": "ipython",
    "version": 3
   },
   "file_extension": ".py",
   "mimetype": "text/x-python",
   "name": "python",
   "nbconvert_exporter": "python",
   "pygments_lexer": "ipython3",
   "version": "3.8.5"
  }
 },
 "nbformat": 4,
 "nbformat_minor": 4
}
